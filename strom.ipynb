{
 "cells": [
  {
   "cell_type": "markdown",
   "metadata": {},
   "source": [
    "# Klasifikácia rozhodovacím stromom"
   ]
  },
  {
   "cell_type": "code",
   "execution_count": 1,
   "metadata": {},
   "outputs": [],
   "source": [
    "from sklearn import tree\n",
    "import pandas as pd\n",
    "import numpy as np\n",
    "import random as rnd\n",
    "import seaborn\n",
    "import matplotlib.pyplot as plt\n",
    "%matplotlib inline\n",
    "\n",
    "from sklearn.tree import DecisionTreeClassifier\n",
    "from sklearn.model_selection import GridSearchCV\n",
    "import graphviz \n",
    "\n",
    "pd.set_option('display.max_columns', 50)"
   ]
  },
  {
   "cell_type": "code",
   "execution_count": 2,
   "metadata": {},
   "outputs": [],
   "source": [
    "train_data = pd.read_csv('data/train_predspracovane.csv')\n",
    "test_data = pd.read_csv('data/test_predspracovane.csv')"
   ]
  },
  {
   "cell_type": "markdown",
   "metadata": {},
   "source": [
    "Do funkcie pre predspracovanie sme zabudli vložiť riadok kódu, kde sa vymazával stĺpec date_of_birth. Urobíme teda túto poslednú úpravu teraz."
   ]
  },
  {
   "cell_type": "code",
   "execution_count": 3,
   "metadata": {},
   "outputs": [],
   "source": [
    "train_data = train_data.drop('id', axis=1)\n",
    "test_data = test_data.drop('id', axis=1)"
   ]
  },
  {
   "cell_type": "markdown",
   "metadata": {},
   "source": [
    "Rozvinuli sme hodnoty kategorických atribútov do vlastných stĺpcov podľa One Hot Encoding, takže rozhodovací strom bude môcť pracovať aj s nimi."
   ]
  },
  {
   "cell_type": "code",
   "execution_count": 4,
   "metadata": {},
   "outputs": [],
   "source": [
    "tree_train_data = train_data.drop('test', axis=1)\n",
    "tree_train_data = pd.get_dummies(tree_train_data, columns=tree_train_data.columns[tree_train_data.dtypes == np.object], dummy_na=True)\n",
    "tree_train_target = train_data.test.copy()\n",
    "\n",
    "tree_test_data = test_data.drop('test', axis=1)\n",
    "tree_test_data = pd.get_dummies(tree_test_data, columns=tree_test_data.columns[tree_test_data.dtypes == np.object], dummy_na=True)\n",
    "tree_test_target = test_data.test.copy()"
   ]
  },
  {
   "cell_type": "markdown",
   "metadata": {},
   "source": [
    "Transformovali sme klasifikovaný atribút na binárny, aby sme mohli pre optimalizáciu rozhodovacieho stromu použiť metriku f1."
   ]
  },
  {
   "cell_type": "code",
   "execution_count": 5,
   "metadata": {},
   "outputs": [],
   "source": [
    "def bintransform(target):\n",
    "    ret = []\n",
    "    for i in range(len(target)):\n",
    "        if (target.iloc[i] == 'discordant'):\n",
    "            ret.append(1)\n",
    "        else:\n",
    "            ret.append(0)\n",
    "    return ret\n",
    "            \n",
    "tree_train_target = bintransform(tree_train_target)\n",
    "tree_test_target = bintransform(tree_test_target)"
   ]
  },
  {
   "cell_type": "markdown",
   "metadata": {},
   "source": [
    "Zahodili sme stĺpce vyjadrujúce tie hodnoty kategorických atribútov, ktoré sa nevyskytovali v trénovacom dátovom súbore, takže na základe nich nebolo možné klasifikovať a boli zbytočné."
   ]
  },
  {
   "cell_type": "code",
   "execution_count": 6,
   "metadata": {
    "scrolled": true
   },
   "outputs": [],
   "source": [
    "toDrop = []\n",
    "for attr in tree_test_data.columns:\n",
    "    if attr not in tree_train_data.columns:\n",
    "        toDrop.append(attr)\n",
    "\n",
    "tree_test_data = tree_test_data.drop(toDrop, axis=1)"
   ]
  },
  {
   "cell_type": "markdown",
   "metadata": {},
   "source": [
    "A do testovacích dát sme pre zmenu doplnili stĺpce vyjadrujúce tie hodnoty kategorických atribútov, ktoré sa nevyskytovali v testovacom dátovom súbore."
   ]
  },
  {
   "cell_type": "code",
   "execution_count": 7,
   "metadata": {},
   "outputs": [],
   "source": [
    "for attr in tree_train_data.columns:\n",
    "    if attr not in tree_test_data.columns:\n",
    "        tree_test_data[attr] = 0"
   ]
  },
  {
   "cell_type": "markdown",
   "metadata": {},
   "source": [
    "# 1 Hľadanie optimálneho stromu"
   ]
  },
  {
   "cell_type": "markdown",
   "metadata": {},
   "source": [
    "Vytvorili sme rozhodovací strom a pokúsili sa nájsť optimálne hodnoty hyperparametrov, takže môžeme náš strom optimalizovať najviac ako to je možné."
   ]
  },
  {
   "cell_type": "code",
   "execution_count": 8,
   "metadata": {},
   "outputs": [],
   "source": [
    "cv_params={'criterion': ['gini', 'entropy'], 'min_samples_leaf':range(1, 10), 'min_samples_split':[0.000001, 0.1, 0.2, 0.3], 'max_depth':list(range(1, train_data.shape[1])), 'class_weight':[\"balanced\", None]}   \n",
    "\n",
    "tree_classifier = DecisionTreeClassifier\n",
    "ind_params = {'random_state': 0}\n",
    "optimization = GridSearchCV(tree_classifier(**ind_params), \n",
    "                            cv_params, \n",
    "                             scoring = 'f1', cv = 10, n_jobs = -1, verbose=True)"
   ]
  },
  {
   "cell_type": "code",
   "execution_count": 9,
   "metadata": {},
   "outputs": [
    {
     "name": "stdout",
     "output_type": "stream",
     "text": [
      "Fitting 10 folds for each of 5616 candidates, totalling 56160 fits\n"
     ]
    },
    {
     "name": "stderr",
     "output_type": "stream",
     "text": [
      "[Parallel(n_jobs=-1)]: Done  78 tasks      | elapsed:    3.1s\n",
      "[Parallel(n_jobs=-1)]: Done 1278 tasks      | elapsed:   11.8s\n",
      "[Parallel(n_jobs=-1)]: Done 3278 tasks      | elapsed:   25.7s\n",
      "[Parallel(n_jobs=-1)]: Done 6078 tasks      | elapsed:   44.8s\n",
      "[Parallel(n_jobs=-1)]: Done 9678 tasks      | elapsed:  1.2min\n",
      "[Parallel(n_jobs=-1)]: Done 14078 tasks      | elapsed:  1.8min\n",
      "[Parallel(n_jobs=-1)]: Done 19278 tasks      | elapsed:  2.5min\n",
      "[Parallel(n_jobs=-1)]: Done 25278 tasks      | elapsed:  3.3min\n",
      "[Parallel(n_jobs=-1)]: Done 32078 tasks      | elapsed:  4.1min\n",
      "[Parallel(n_jobs=-1)]: Done 39678 tasks      | elapsed:  5.1min\n",
      "[Parallel(n_jobs=-1)]: Done 48078 tasks      | elapsed:  6.2min\n",
      "[Parallel(n_jobs=-1)]: Done 56160 out of 56160 | elapsed:  7.1min finished\n"
     ]
    },
    {
     "data": {
      "text/plain": [
       "GridSearchCV(cv=10, error_score='raise',\n",
       "       estimator=DecisionTreeClassifier(class_weight=None, criterion='gini', max_depth=None,\n",
       "            max_features=None, max_leaf_nodes=None,\n",
       "            min_impurity_decrease=0.0, min_impurity_split=None,\n",
       "            min_samples_leaf=1, min_samples_split=2,\n",
       "            min_weight_fraction_leaf=0.0, presort=False, random_state=0,\n",
       "            splitter='best'),\n",
       "       fit_params=None, iid=True, n_jobs=-1,\n",
       "       param_grid={'criterion': ['gini', 'entropy'], 'min_samples_leaf': range(1, 10), 'min_samples_split': [1e-06, 0.1, 0.2, 0.3], 'max_depth': [1, 2, 3, 4, 5, 6, 7, 8, 9, 10, 11, 12, 13, 14, 15, 16, 17, 18, 19, 20, 21, 22, 23, 24, 25, 26, 27, 28, 29, 30, 31, 32, 33, 34, 35, 36, 37, 38, 39], 'class_weight': ['balanced', None]},\n",
       "       pre_dispatch='2*n_jobs', refit=True, return_train_score='warn',\n",
       "       scoring='f1', verbose=True)"
      ]
     },
     "execution_count": 9,
     "metadata": {},
     "output_type": "execute_result"
    }
   ],
   "source": [
    "optimization.fit(tree_train_data, tree_train_target)"
   ]
  },
  {
   "cell_type": "markdown",
   "metadata": {},
   "source": [
    "Zistili sme najlepšiu kombináciu hyperparametrov pre naše dáta. Tieto použijeme pri trénovaní nášho rozhodovacieho stromu."
   ]
  },
  {
   "cell_type": "code",
   "execution_count": 10,
   "metadata": {
    "scrolled": true
   },
   "outputs": [
    {
     "name": "stderr",
     "output_type": "stream",
     "text": [
      "C:\\Anaconda3\\lib\\site-packages\\sklearn\\model_selection\\_search.py:761: DeprecationWarning: The grid_scores_ attribute was deprecated in version 0.18 in favor of the more elaborate cv_results_ attribute. The grid_scores_ attribute will not be available from 0.20\n",
      "  DeprecationWarning)\n"
     ]
    },
    {
     "data": {
      "text/plain": [
       "[mean: 0.72377, std: 0.13889, params: {'class_weight': None, 'criterion': 'entropy', 'max_depth': 7, 'min_samples_leaf': 3, 'min_samples_split': 1e-06},\n",
       " mean: 0.70606, std: 0.13487, params: {'class_weight': None, 'criterion': 'entropy', 'max_depth': 5, 'min_samples_leaf': 3, 'min_samples_split': 1e-06},\n",
       " mean: 0.69925, std: 0.12488, params: {'class_weight': None, 'criterion': 'entropy', 'max_depth': 9, 'min_samples_leaf': 3, 'min_samples_split': 1e-06},\n",
       " mean: 0.69925, std: 0.12488, params: {'class_weight': None, 'criterion': 'entropy', 'max_depth': 10, 'min_samples_leaf': 3, 'min_samples_split': 1e-06},\n",
       " mean: 0.69925, std: 0.12488, params: {'class_weight': None, 'criterion': 'entropy', 'max_depth': 11, 'min_samples_leaf': 3, 'min_samples_split': 1e-06}]"
      ]
     },
     "execution_count": 10,
     "metadata": {},
     "output_type": "execute_result"
    }
   ],
   "source": [
    "sorted(optimization.grid_scores_, key=lambda x: x.mean_validation_score, reverse=True)[:5]"
   ]
  },
  {
   "cell_type": "markdown",
   "metadata": {},
   "source": [
    "Natrénovali sme si strom podľa zistenej najoptimálnejšej kombinácie hyperparametrov."
   ]
  },
  {
   "cell_type": "code",
   "execution_count": 11,
   "metadata": {},
   "outputs": [],
   "source": [
    "tree_classifier = DecisionTreeClassifier(criterion='entropy', max_depth=7, class_weight=None, min_samples_leaf= 3, min_samples_split= 1e-06)\n",
    "tree_classifier = tree_classifier.fit(tree_train_data, tree_train_target)"
   ]
  },
  {
   "cell_type": "markdown",
   "metadata": {},
   "source": [
    "Strom sme si nechali vizualizovať, aby sme zistili, na akých pravidlách je založený a či tieto pravidlá nejak súvisia s našimi zisteniami v časti exploratívnej analýzy."
   ]
  },
  {
   "cell_type": "code",
   "execution_count": 12,
   "metadata": {},
   "outputs": [],
   "source": [
    "tree.export_graphviz(tree_classifier, feature_names=tree_train_data.columns, filled=True, class_names='test',  out_file='strom_e7n3.dot')"
   ]
  },
  {
   "cell_type": "markdown",
   "metadata": {},
   "source": [
    "<img src=\"strom_e7n3.png\">"
   ]
  },
  {
   "cell_type": "markdown",
   "metadata": {},
   "source": [
    "Vytvorili sme si funkciu, ktorá pre nás vytvorí pravdivostnú tabuľku pre výsledky jednotlivých rozhodovacích stromov, ktorá nám pomôže vyhodnotiť ich výsledky."
   ]
  },
  {
   "cell_type": "code",
   "execution_count": 13,
   "metadata": {},
   "outputs": [],
   "source": [
    "def pravdivost(real, pred, otocena=False):\n",
    "    com = pd.DataFrame()\n",
    "    com['real'] = real\n",
    "    com['pred'] = pred\n",
    "    \n",
    "    total = len(real)\n",
    "    tp = 0\n",
    "    tIe = 0\n",
    "    tIIe = 0\n",
    "    tn = 0\n",
    "    if  not otocena:\n",
    "        for i in range(len(real)):\n",
    "            if (pred[i] == 1 and real[i] == 1):\n",
    "                tp = tp + 1\n",
    "            if (pred[i] == 1 and real[i] == 0):\n",
    "                tIe = tIe + 1\n",
    "            if (pred[i] == 0 and real[i] == 1):\n",
    "                tIIe = tIIe + 1\n",
    "            if (pred[i] == 0 and real[i] == 0):\n",
    "                tn = tn + 1\n",
    "    else:\n",
    "        for i in range(len(real)):\n",
    "            if (pred[i] == 0 and real[i] == 0):\n",
    "                tp = tp + 1\n",
    "            if (pred[i] == 0 and real[i] == 1):\n",
    "                tIe = tIe + 1\n",
    "            if (pred[i] == 1 and real[i] == 0):\n",
    "                tIIe = tIIe + 1\n",
    "            if (pred[i] == 1 and real[i] == 1):\n",
    "                tn = tn + 1\n",
    "        \n",
    "    print(64*'═')\n",
    "    print('║{:<20}║{:<20}|{:<20}║'.format('', 'Prediction positive', 'Prediction negative'))\n",
    "    print(64*'═')\n",
    "    print('║{:<20}║{:<20.2f}|{:<20.2f}║'.format('Condition positive', tp, tIIe))\n",
    "    print(64*'═')\n",
    "    print('║{:<20}║{:<20.2f}|{:<20.2f}║'.format('Condition negative', tIe, tn))\n",
    "    print(64*'═')\n",
    "        \n",
    "    print(\"Accuracy: \", (tp + tn) / total if total != 0 else 0)\n",
    "    print(\"Precision: \",  tp / (tp + tIe) if tp + tIe != 0 else 0)\n",
    "    print(\"Recall: \", tp / (tp + tIIe) if tp + tIIe != 0 else 0)"
   ]
  },
  {
   "cell_type": "markdown",
   "metadata": {},
   "source": [
    "Overili sme si presnosť klasifikátora pre predikovanie pozitívnych testov.\n",
    "\n",
    "Zistili sme, že výsledky pre predikovanie negatínej triedy sú síce dobré, ale pre predikovanie pozitívneho veľmi zlé.Podľa tabuľky je možné pozorovať, že omnoho častejšie sa klasifikátor pri predikovaní pozitívneho testu mýli, ako má pravdu. Jeho použíteľnosť pre predikovanie pozitívneho testu v testovacom súbore je teda veľmi zlá."
   ]
  },
  {
   "cell_type": "code",
   "execution_count": 14,
   "metadata": {
    "scrolled": true
   },
   "outputs": [
    {
     "name": "stdout",
     "output_type": "stream",
     "text": [
      "════════════════════════════════════════════════════════════════\n",
      "║                    ║Prediction positive |Prediction negative ║\n",
      "════════════════════════════════════════════════════════════════\n",
      "║Condition positive  ║39.00               |6.00                ║\n",
      "════════════════════════════════════════════════════════════════\n",
      "║Condition negative  ║5.00                |2750.00             ║\n",
      "════════════════════════════════════════════════════════════════\n",
      "Accuracy:  0.9960714285714286\n",
      "Precision:  0.8863636363636364\n",
      "Recall:  0.8666666666666667\n"
     ]
    }
   ],
   "source": [
    "tree_prediction = tree_classifier.predict(tree_train_data)\n",
    "pravdivost(tree_train_target, tree_prediction)"
   ]
  },
  {
   "cell_type": "code",
   "execution_count": 15,
   "metadata": {
    "scrolled": true
   },
   "outputs": [
    {
     "name": "stdout",
     "output_type": "stream",
     "text": [
      "════════════════════════════════════════════════════════════════\n",
      "║                    ║Prediction positive |Prediction negative ║\n",
      "════════════════════════════════════════════════════════════════\n",
      "║Condition positive  ║1.00                |12.00               ║\n",
      "════════════════════════════════════════════════════════════════\n",
      "║Condition negative  ║16.00               |943.00              ║\n",
      "════════════════════════════════════════════════════════════════\n",
      "Accuracy:  0.9711934156378601\n",
      "Precision:  0.058823529411764705\n",
      "Recall:  0.07692307692307693\n"
     ]
    }
   ],
   "source": [
    "tree_prediction = tree_classifier.predict(tree_test_data)\n",
    "pravdivost(tree_test_target, tree_prediction)"
   ]
  },
  {
   "cell_type": "markdown",
   "metadata": {},
   "source": [
    "Pre nás je zaujímavé hlavne správne predikovanie pozitívnych testov. Tieto značia, že subjekt môže mať danú chorobu a preto je pre nás dôležitejšie vedieť identifikovať čo najviac takýchto prípadov ako presnejšie predikovanie zdravých ľudí. Ak je zdravý človek mylne označovaný za chorého, nič závažného sa nestane. Ak je ale chorý považovaný za zdravého, môže ho to stáť život.\n",
    "\n",
    "Klasifikátor v aktuálnom stave nedosahuje z tohto hľadiska dobré výsledky. Pokúsime sa teda ešte upraviť ručne niektoré hyperparametre a natrénovať strom znova."
   ]
  },
  {
   "cell_type": "markdown",
   "metadata": {},
   "source": [
    "Vyskúšame nastaviť vyvažovanie tried pri klasifikácii, keďže v našom súbore sú triedy nevyvážené."
   ]
  },
  {
   "cell_type": "code",
   "execution_count": 16,
   "metadata": {
    "scrolled": true
   },
   "outputs": [
    {
     "name": "stdout",
     "output_type": "stream",
     "text": [
      "2755 45\n"
     ]
    }
   ],
   "source": [
    "print(len(train_data[train_data.test == 'negative']), len(train_data[train_data.test == 'discordant']))"
   ]
  },
  {
   "cell_type": "markdown",
   "metadata": {},
   "source": [
    "Klasifikácia sa mierne zlepšila z pohľadu správne predikovaných pozitívnych tried. Značí to teda, že sa najskôr GridSearchCV nesanží optimalizovať na také výsledky, aké by sme chceli my."
   ]
  },
  {
   "cell_type": "code",
   "execution_count": 17,
   "metadata": {
    "scrolled": true
   },
   "outputs": [
    {
     "name": "stdout",
     "output_type": "stream",
     "text": [
      "════════════════════════════════════════════════════════════════\n",
      "║                    ║Prediction positive |Prediction negative ║\n",
      "════════════════════════════════════════════════════════════════\n",
      "║Condition positive  ║45.00               |0.00                ║\n",
      "════════════════════════════════════════════════════════════════\n",
      "║Condition negative  ║23.00               |2732.00             ║\n",
      "════════════════════════════════════════════════════════════════\n",
      "Accuracy:  0.9917857142857143\n",
      "Precision:  0.6617647058823529\n",
      "Recall:  1.0\n",
      "════════════════════════════════════════════════════════════════\n",
      "║                    ║Prediction positive |Prediction negative ║\n",
      "════════════════════════════════════════════════════════════════\n",
      "║Condition positive  ║3.00                |10.00               ║\n",
      "════════════════════════════════════════════════════════════════\n",
      "║Condition negative  ║37.00               |922.00              ║\n",
      "════════════════════════════════════════════════════════════════\n",
      "Accuracy:  0.9516460905349794\n",
      "Precision:  0.075\n",
      "Recall:  0.23076923076923078\n"
     ]
    }
   ],
   "source": [
    "tree_classifier = DecisionTreeClassifier(criterion='entropy', max_depth=7, class_weight='balanced', min_samples_leaf= 3, min_samples_split= 1e-06)\n",
    "tree_classifier = tree_classifier.fit(tree_train_data, tree_train_target)\n",
    "tree_prediction = tree_classifier.predict(tree_train_data)\n",
    "pravdivost(tree_train_target, tree_prediction)\n",
    "tree_prediction = tree_classifier.predict(tree_test_data)\n",
    "pravdivost(tree_test_target, tree_prediction)"
   ]
  },
  {
   "cell_type": "markdown",
   "metadata": {},
   "source": [
    "Vyskúšame teda použiť optimalizovať na metriku recall, ktorá by mala znižovať chybu 2. stupňa, ktorej sa chceme vyvarovať."
   ]
  },
  {
   "cell_type": "code",
   "execution_count": 18,
   "metadata": {},
   "outputs": [],
   "source": [
    "cv_params={'criterion': ['gini', 'entropy'], 'min_samples_leaf':range(1, 10), 'min_samples_split':[0.000001, 0.1, 0.2, 0.3], 'max_depth':list(range(1, train_data.shape[1])), 'class_weight':[\"balanced\", None]}            \n",
    "\n",
    "tree_classifier_recall = DecisionTreeClassifier\n",
    "ind_params = {'random_state': 0}\n",
    "optimization = GridSearchCV(tree_classifier_recall(**ind_params), \n",
    "                            cv_params, \n",
    "                             scoring = 'recall', cv = 10, n_jobs = -1, verbose=True)"
   ]
  },
  {
   "cell_type": "code",
   "execution_count": 19,
   "metadata": {},
   "outputs": [
    {
     "name": "stdout",
     "output_type": "stream",
     "text": [
      "Fitting 10 folds for each of 5616 candidates, totalling 56160 fits\n"
     ]
    },
    {
     "name": "stderr",
     "output_type": "stream",
     "text": [
      "[Parallel(n_jobs=-1)]: Done  50 tasks      | elapsed:    7.7s\n",
      "[Parallel(n_jobs=-1)]: Done 1850 tasks      | elapsed:   19.7s\n",
      "[Parallel(n_jobs=-1)]: Done 4850 tasks      | elapsed:   42.1s\n",
      "[Parallel(n_jobs=-1)]: Done 9050 tasks      | elapsed:  1.2min\n",
      "[Parallel(n_jobs=-1)]: Done 14450 tasks      | elapsed:  1.8min\n",
      "[Parallel(n_jobs=-1)]: Done 21050 tasks      | elapsed:  2.6min\n",
      "[Parallel(n_jobs=-1)]: Done 28850 tasks      | elapsed:  3.5min\n",
      "[Parallel(n_jobs=-1)]: Done 37850 tasks      | elapsed:  4.6min\n",
      "[Parallel(n_jobs=-1)]: Done 48050 tasks      | elapsed:  5.9min\n",
      "[Parallel(n_jobs=-1)]: Done 56160 out of 56160 | elapsed:  6.9min finished\n"
     ]
    },
    {
     "data": {
      "text/plain": [
       "GridSearchCV(cv=10, error_score='raise',\n",
       "       estimator=DecisionTreeClassifier(class_weight=None, criterion='gini', max_depth=None,\n",
       "            max_features=None, max_leaf_nodes=None,\n",
       "            min_impurity_decrease=0.0, min_impurity_split=None,\n",
       "            min_samples_leaf=1, min_samples_split=2,\n",
       "            min_weight_fraction_leaf=0.0, presort=False, random_state=0,\n",
       "            splitter='best'),\n",
       "       fit_params=None, iid=True, n_jobs=-1,\n",
       "       param_grid={'criterion': ['gini', 'entropy'], 'min_samples_leaf': range(1, 10), 'min_samples_split': [1e-06, 0.1, 0.2, 0.3], 'max_depth': [1, 2, 3, 4, 5, 6, 7, 8, 9, 10, 11, 12, 13, 14, 15, 16, 17, 18, 19, 20, 21, 22, 23, 24, 25, 26, 27, 28, 29, 30, 31, 32, 33, 34, 35, 36, 37, 38, 39], 'class_weight': ['balanced', None]},\n",
       "       pre_dispatch='2*n_jobs', refit=True, return_train_score='warn',\n",
       "       scoring='recall', verbose=True)"
      ]
     },
     "execution_count": 19,
     "metadata": {},
     "output_type": "execute_result"
    }
   ],
   "source": [
    "optimization.fit(tree_train_data, tree_train_target)"
   ]
  },
  {
   "cell_type": "code",
   "execution_count": 20,
   "metadata": {
    "scrolled": true
   },
   "outputs": [
    {
     "name": "stderr",
     "output_type": "stream",
     "text": [
      "C:\\Anaconda3\\lib\\site-packages\\sklearn\\model_selection\\_search.py:761: DeprecationWarning: The grid_scores_ attribute was deprecated in version 0.18 in favor of the more elaborate cv_results_ attribute. The grid_scores_ attribute will not be available from 0.20\n",
      "  DeprecationWarning)\n"
     ]
    },
    {
     "data": {
      "text/plain": [
       "[mean: 0.93011, std: 0.15524, params: {'class_weight': 'balanced', 'criterion': 'gini', 'max_depth': 2, 'min_samples_leaf': 1, 'min_samples_split': 0.1},\n",
       " mean: 0.93011, std: 0.15524, params: {'class_weight': 'balanced', 'criterion': 'gini', 'max_depth': 2, 'min_samples_leaf': 1, 'min_samples_split': 0.2},\n",
       " mean: 0.93011, std: 0.15524, params: {'class_weight': 'balanced', 'criterion': 'gini', 'max_depth': 2, 'min_samples_leaf': 1, 'min_samples_split': 0.3},\n",
       " mean: 0.93011, std: 0.15524, params: {'class_weight': 'balanced', 'criterion': 'gini', 'max_depth': 2, 'min_samples_leaf': 2, 'min_samples_split': 0.1},\n",
       " mean: 0.93011, std: 0.15524, params: {'class_weight': 'balanced', 'criterion': 'gini', 'max_depth': 2, 'min_samples_leaf': 2, 'min_samples_split': 0.2}]"
      ]
     },
     "execution_count": 20,
     "metadata": {},
     "output_type": "execute_result"
    }
   ],
   "source": [
    "sorted(optimization.grid_scores_, key=lambda x: x.mean_validation_score, reverse=True)[:5]"
   ]
  },
  {
   "cell_type": "code",
   "execution_count": 21,
   "metadata": {},
   "outputs": [],
   "source": [
    "tree_classifier_recall = DecisionTreeClassifier(criterion='gini', max_depth=2, class_weight='balanced', min_samples_leaf= 1, min_samples_split= 0.1)\n",
    "tree_classifier_recall = tree_classifier_recall.fit(tree_train_data, tree_train_target)"
   ]
  },
  {
   "cell_type": "markdown",
   "metadata": {},
   "source": [
    "Pozreli sme sa, ako sa zmenili rozhodovacie pravidlá."
   ]
  },
  {
   "cell_type": "code",
   "execution_count": 23,
   "metadata": {},
   "outputs": [],
   "source": [
    "tree.export_graphviz(tree_classifier_recall, feature_names=tree_train_data.columns, filled=True, class_names='test',  out_file='strom_g2b1.dot')"
   ]
  },
  {
   "cell_type": "markdown",
   "metadata": {},
   "source": [
    "<img src=\"strom_g2b1.png\">"
   ]
  },
  {
   "cell_type": "markdown",
   "metadata": {},
   "source": [
    "Výsledky na nám podarilo výrazne zlepšiť. Pri trénovacom súbore už nebola dosiahnutá žiadna chyba 2.stupňa, čo sme si želali. Pri testovacom súbore výsledky síce nie sú tie najoptimálnejšie, ale aj tu už je badateľné zlepšenie, ktoré robí strom aspoň použiteľným."
   ]
  },
  {
   "cell_type": "code",
   "execution_count": 24,
   "metadata": {},
   "outputs": [
    {
     "name": "stdout",
     "output_type": "stream",
     "text": [
      "════════════════════════════════════════════════════════════════\n",
      "║                    ║Prediction positive |Prediction negative ║\n",
      "════════════════════════════════════════════════════════════════\n",
      "║Condition positive  ║45.00               |0.00                ║\n",
      "════════════════════════════════════════════════════════════════\n",
      "║Condition negative  ║23.00               |2732.00             ║\n",
      "════════════════════════════════════════════════════════════════\n",
      "Accuracy:  0.9917857142857143\n",
      "Precision:  0.6617647058823529\n",
      "Recall:  1.0\n"
     ]
    }
   ],
   "source": [
    "tree_recall_prediction = tree_classifier.predict(tree_train_data)\n",
    "pravdivost(tree_train_target, tree_recall_prediction)"
   ]
  },
  {
   "cell_type": "markdown",
   "metadata": {},
   "source": [
    "S ňou sme ale lepšie výsledky nezískali."
   ]
  },
  {
   "cell_type": "code",
   "execution_count": 25,
   "metadata": {},
   "outputs": [
    {
     "name": "stdout",
     "output_type": "stream",
     "text": [
      "════════════════════════════════════════════════════════════════\n",
      "║                    ║Prediction positive |Prediction negative ║\n",
      "════════════════════════════════════════════════════════════════\n",
      "║Condition positive  ║8.00                |5.00                ║\n",
      "════════════════════════════════════════════════════════════════\n",
      "║Condition negative  ║75.00               |884.00              ║\n",
      "════════════════════════════════════════════════════════════════\n",
      "Accuracy:  0.9176954732510288\n",
      "Precision:  0.0963855421686747\n",
      "Recall:  0.6153846153846154\n"
     ]
    }
   ],
   "source": [
    "tree_recall_prediction = tree_classifier_recall.predict(tree_test_data)\n",
    "pravdivost(tree_test_target, tree_recall_prediction)"
   ]
  },
  {
   "cell_type": "markdown",
   "metadata": {},
   "source": [
    "Ako posledný pokus o zlepšenie výsledkov pre pozitívnu predikciu sa pokúsime využiť pozorovanie, že pri niektorých stĺpoch je pri pozitívnom teste menšia odchýľka ich hodnôt od priemeru stĺpca ako pri negatívnom teste."
   ]
  },
  {
   "cell_type": "code",
   "execution_count": 26,
   "metadata": {},
   "outputs": [],
   "source": [
    "def addDeviation(data):\n",
    "    aug = data.copy()\n",
    "    for col in ['TSH', 'T3', 'TT4', 'T4U', 'fnlwgt', 'FTI']:\n",
    "        mn = data[col].mean()\n",
    "        new = col + '_deviation'\n",
    "        aug[new] = 0 \n",
    "        for i in range(len(data[col])):\n",
    "            aug.loc[i, new] = abs(data[col][i] - mn)\n",
    "    return aug"
   ]
  },
  {
   "cell_type": "markdown",
   "metadata": {},
   "source": [
    "Upravíme teda dátové súbory."
   ]
  },
  {
   "cell_type": "code",
   "execution_count": 27,
   "metadata": {},
   "outputs": [],
   "source": [
    "dev_train_data = addDeviation(tree_train_data)\n",
    "dev_test_data = addDeviation(tree_test_data)"
   ]
  },
  {
   "cell_type": "code",
   "execution_count": 28,
   "metadata": {},
   "outputs": [
    {
     "data": {
      "text/html": [
       "<div>\n",
       "<style scoped>\n",
       "    .dataframe tbody tr th:only-of-type {\n",
       "        vertical-align: middle;\n",
       "    }\n",
       "\n",
       "    .dataframe tbody tr th {\n",
       "        vertical-align: top;\n",
       "    }\n",
       "\n",
       "    .dataframe thead th {\n",
       "        text-align: right;\n",
       "    }\n",
       "</style>\n",
       "<table border=\"1\" class=\"dataframe\">\n",
       "  <thead>\n",
       "    <tr style=\"text-align: right;\">\n",
       "      <th></th>\n",
       "      <th>age</th>\n",
       "      <th>TSH</th>\n",
       "      <th>T3</th>\n",
       "      <th>TT4</th>\n",
       "      <th>T4U</th>\n",
       "      <th>fnlwgt</th>\n",
       "      <th>education-num</th>\n",
       "      <th>hours-per-week</th>\n",
       "      <th>FTI</th>\n",
       "      <th>birth_year</th>\n",
       "      <th>birth_month</th>\n",
       "      <th>on thyroxine_f</th>\n",
       "      <th>on thyroxine_t</th>\n",
       "      <th>on thyroxine_nan</th>\n",
       "      <th>query on thyroxine_f</th>\n",
       "      <th>query on thyroxine_t</th>\n",
       "      <th>query on thyroxine_nan</th>\n",
       "      <th>pregnant_f</th>\n",
       "      <th>pregnant_t</th>\n",
       "      <th>pregnant_nan</th>\n",
       "      <th>thyroid surgery_f</th>\n",
       "      <th>thyroid surgery_t</th>\n",
       "      <th>thyroid surgery_nan</th>\n",
       "      <th>I131 treatment_f</th>\n",
       "      <th>I131 treatment_t</th>\n",
       "      <th>...</th>\n",
       "      <th>on antithyroid medication_f</th>\n",
       "      <th>on antithyroid medication_t</th>\n",
       "      <th>on antithyroid medication_nan</th>\n",
       "      <th>sick_f</th>\n",
       "      <th>sick_t</th>\n",
       "      <th>sick_nan</th>\n",
       "      <th>T4U measured_f</th>\n",
       "      <th>T4U measured_t</th>\n",
       "      <th>T4U measured_nan</th>\n",
       "      <th>psych_f</th>\n",
       "      <th>psych_t</th>\n",
       "      <th>psych_nan</th>\n",
       "      <th>query hypothyroid_f</th>\n",
       "      <th>query hypothyroid_t</th>\n",
       "      <th>query hypothyroid_nan</th>\n",
       "      <th>yield_gain</th>\n",
       "      <th>yield_loss</th>\n",
       "      <th>yield_none</th>\n",
       "      <th>yield_nan</th>\n",
       "      <th>TSH_deviation</th>\n",
       "      <th>T3_deviation</th>\n",
       "      <th>TT4_deviation</th>\n",
       "      <th>T4U_deviation</th>\n",
       "      <th>fnlwgt_deviation</th>\n",
       "      <th>FTI_deviation</th>\n",
       "    </tr>\n",
       "  </thead>\n",
       "  <tbody>\n",
       "    <tr>\n",
       "      <th>0</th>\n",
       "      <td>82.0</td>\n",
       "      <td>0.813772</td>\n",
       "      <td>1.0</td>\n",
       "      <td>68.0</td>\n",
       "      <td>0.77</td>\n",
       "      <td>365.447207</td>\n",
       "      <td>11.0</td>\n",
       "      <td>40.0</td>\n",
       "      <td>88.0</td>\n",
       "      <td>1935.0</td>\n",
       "      <td>5.0</td>\n",
       "      <td>1</td>\n",
       "      <td>0</td>\n",
       "      <td>0</td>\n",
       "      <td>1</td>\n",
       "      <td>0</td>\n",
       "      <td>0</td>\n",
       "      <td>1</td>\n",
       "      <td>0</td>\n",
       "      <td>0</td>\n",
       "      <td>1</td>\n",
       "      <td>0</td>\n",
       "      <td>0</td>\n",
       "      <td>1</td>\n",
       "      <td>0</td>\n",
       "      <td>...</td>\n",
       "      <td>1</td>\n",
       "      <td>0</td>\n",
       "      <td>0</td>\n",
       "      <td>1</td>\n",
       "      <td>0</td>\n",
       "      <td>0</td>\n",
       "      <td>0</td>\n",
       "      <td>1</td>\n",
       "      <td>0</td>\n",
       "      <td>1</td>\n",
       "      <td>0</td>\n",
       "      <td>0</td>\n",
       "      <td>1</td>\n",
       "      <td>0</td>\n",
       "      <td>0</td>\n",
       "      <td>0</td>\n",
       "      <td>0</td>\n",
       "      <td>1</td>\n",
       "      <td>0</td>\n",
       "      <td>0.667723</td>\n",
       "      <td>1.024966</td>\n",
       "      <td>41.132816</td>\n",
       "      <td>0.225006</td>\n",
       "      <td>29.803774</td>\n",
       "      <td>22.429851</td>\n",
       "    </tr>\n",
       "    <tr>\n",
       "      <th>1</th>\n",
       "      <td>50.0</td>\n",
       "      <td>5.172593</td>\n",
       "      <td>0.5</td>\n",
       "      <td>22.0</td>\n",
       "      <td>1.12</td>\n",
       "      <td>402.661130</td>\n",
       "      <td>13.0</td>\n",
       "      <td>35.0</td>\n",
       "      <td>19.0</td>\n",
       "      <td>1967.0</td>\n",
       "      <td>8.0</td>\n",
       "      <td>1</td>\n",
       "      <td>0</td>\n",
       "      <td>0</td>\n",
       "      <td>1</td>\n",
       "      <td>0</td>\n",
       "      <td>0</td>\n",
       "      <td>1</td>\n",
       "      <td>0</td>\n",
       "      <td>0</td>\n",
       "      <td>0</td>\n",
       "      <td>1</td>\n",
       "      <td>0</td>\n",
       "      <td>1</td>\n",
       "      <td>0</td>\n",
       "      <td>...</td>\n",
       "      <td>1</td>\n",
       "      <td>0</td>\n",
       "      <td>0</td>\n",
       "      <td>1</td>\n",
       "      <td>0</td>\n",
       "      <td>0</td>\n",
       "      <td>0</td>\n",
       "      <td>1</td>\n",
       "      <td>0</td>\n",
       "      <td>1</td>\n",
       "      <td>0</td>\n",
       "      <td>0</td>\n",
       "      <td>1</td>\n",
       "      <td>0</td>\n",
       "      <td>0</td>\n",
       "      <td>0</td>\n",
       "      <td>0</td>\n",
       "      <td>1</td>\n",
       "      <td>0</td>\n",
       "      <td>5.026544</td>\n",
       "      <td>1.524966</td>\n",
       "      <td>87.132816</td>\n",
       "      <td>0.124994</td>\n",
       "      <td>7.410149</td>\n",
       "      <td>91.429851</td>\n",
       "    </tr>\n",
       "    <tr>\n",
       "      <th>2</th>\n",
       "      <td>41.0</td>\n",
       "      <td>0.341027</td>\n",
       "      <td>2.0</td>\n",
       "      <td>99.0</td>\n",
       "      <td>0.96</td>\n",
       "      <td>318.259586</td>\n",
       "      <td>10.0</td>\n",
       "      <td>50.0</td>\n",
       "      <td>104.0</td>\n",
       "      <td>1976.0</td>\n",
       "      <td>5.0</td>\n",
       "      <td>1</td>\n",
       "      <td>0</td>\n",
       "      <td>0</td>\n",
       "      <td>1</td>\n",
       "      <td>0</td>\n",
       "      <td>0</td>\n",
       "      <td>1</td>\n",
       "      <td>0</td>\n",
       "      <td>0</td>\n",
       "      <td>1</td>\n",
       "      <td>0</td>\n",
       "      <td>0</td>\n",
       "      <td>1</td>\n",
       "      <td>0</td>\n",
       "      <td>...</td>\n",
       "      <td>1</td>\n",
       "      <td>0</td>\n",
       "      <td>0</td>\n",
       "      <td>1</td>\n",
       "      <td>0</td>\n",
       "      <td>0</td>\n",
       "      <td>0</td>\n",
       "      <td>1</td>\n",
       "      <td>0</td>\n",
       "      <td>1</td>\n",
       "      <td>0</td>\n",
       "      <td>0</td>\n",
       "      <td>1</td>\n",
       "      <td>0</td>\n",
       "      <td>0</td>\n",
       "      <td>0</td>\n",
       "      <td>0</td>\n",
       "      <td>1</td>\n",
       "      <td>0</td>\n",
       "      <td>0.194978</td>\n",
       "      <td>0.024966</td>\n",
       "      <td>10.132816</td>\n",
       "      <td>0.035006</td>\n",
       "      <td>76.991395</td>\n",
       "      <td>6.429851</td>\n",
       "    </tr>\n",
       "    <tr>\n",
       "      <th>3</th>\n",
       "      <td>73.0</td>\n",
       "      <td>-0.351650</td>\n",
       "      <td>2.0</td>\n",
       "      <td>116.0</td>\n",
       "      <td>0.99</td>\n",
       "      <td>483.595580</td>\n",
       "      <td>9.0</td>\n",
       "      <td>25.0</td>\n",
       "      <td>117.0</td>\n",
       "      <td>1944.0</td>\n",
       "      <td>10.0</td>\n",
       "      <td>1</td>\n",
       "      <td>0</td>\n",
       "      <td>0</td>\n",
       "      <td>1</td>\n",
       "      <td>0</td>\n",
       "      <td>0</td>\n",
       "      <td>1</td>\n",
       "      <td>0</td>\n",
       "      <td>0</td>\n",
       "      <td>1</td>\n",
       "      <td>0</td>\n",
       "      <td>0</td>\n",
       "      <td>1</td>\n",
       "      <td>0</td>\n",
       "      <td>...</td>\n",
       "      <td>1</td>\n",
       "      <td>0</td>\n",
       "      <td>0</td>\n",
       "      <td>1</td>\n",
       "      <td>0</td>\n",
       "      <td>0</td>\n",
       "      <td>0</td>\n",
       "      <td>1</td>\n",
       "      <td>0</td>\n",
       "      <td>1</td>\n",
       "      <td>0</td>\n",
       "      <td>0</td>\n",
       "      <td>1</td>\n",
       "      <td>0</td>\n",
       "      <td>0</td>\n",
       "      <td>0</td>\n",
       "      <td>0</td>\n",
       "      <td>1</td>\n",
       "      <td>0</td>\n",
       "      <td>0.497699</td>\n",
       "      <td>0.024966</td>\n",
       "      <td>6.867184</td>\n",
       "      <td>0.005006</td>\n",
       "      <td>88.344599</td>\n",
       "      <td>6.570149</td>\n",
       "    </tr>\n",
       "    <tr>\n",
       "      <th>4</th>\n",
       "      <td>64.0</td>\n",
       "      <td>0.712661</td>\n",
       "      <td>1.8</td>\n",
       "      <td>80.0</td>\n",
       "      <td>0.91</td>\n",
       "      <td>550.637942</td>\n",
       "      <td>10.0</td>\n",
       "      <td>60.0</td>\n",
       "      <td>88.0</td>\n",
       "      <td>1953.0</td>\n",
       "      <td>5.0</td>\n",
       "      <td>1</td>\n",
       "      <td>0</td>\n",
       "      <td>0</td>\n",
       "      <td>1</td>\n",
       "      <td>0</td>\n",
       "      <td>0</td>\n",
       "      <td>1</td>\n",
       "      <td>0</td>\n",
       "      <td>0</td>\n",
       "      <td>1</td>\n",
       "      <td>0</td>\n",
       "      <td>0</td>\n",
       "      <td>1</td>\n",
       "      <td>0</td>\n",
       "      <td>...</td>\n",
       "      <td>1</td>\n",
       "      <td>0</td>\n",
       "      <td>0</td>\n",
       "      <td>1</td>\n",
       "      <td>0</td>\n",
       "      <td>0</td>\n",
       "      <td>0</td>\n",
       "      <td>1</td>\n",
       "      <td>0</td>\n",
       "      <td>1</td>\n",
       "      <td>0</td>\n",
       "      <td>0</td>\n",
       "      <td>1</td>\n",
       "      <td>0</td>\n",
       "      <td>0</td>\n",
       "      <td>0</td>\n",
       "      <td>0</td>\n",
       "      <td>1</td>\n",
       "      <td>0</td>\n",
       "      <td>0.566613</td>\n",
       "      <td>0.224966</td>\n",
       "      <td>29.132816</td>\n",
       "      <td>0.085006</td>\n",
       "      <td>155.386960</td>\n",
       "      <td>22.429851</td>\n",
       "    </tr>\n",
       "  </tbody>\n",
       "</table>\n",
       "<p>5 rows × 167 columns</p>\n",
       "</div>"
      ],
      "text/plain": [
       "    age       TSH   T3    TT4   T4U      fnlwgt  education-num  \\\n",
       "0  82.0  0.813772  1.0   68.0  0.77  365.447207           11.0   \n",
       "1  50.0  5.172593  0.5   22.0  1.12  402.661130           13.0   \n",
       "2  41.0  0.341027  2.0   99.0  0.96  318.259586           10.0   \n",
       "3  73.0 -0.351650  2.0  116.0  0.99  483.595580            9.0   \n",
       "4  64.0  0.712661  1.8   80.0  0.91  550.637942           10.0   \n",
       "\n",
       "   hours-per-week    FTI  birth_year  birth_month  on thyroxine_f  \\\n",
       "0            40.0   88.0      1935.0          5.0               1   \n",
       "1            35.0   19.0      1967.0          8.0               1   \n",
       "2            50.0  104.0      1976.0          5.0               1   \n",
       "3            25.0  117.0      1944.0         10.0               1   \n",
       "4            60.0   88.0      1953.0          5.0               1   \n",
       "\n",
       "   on thyroxine_t  on thyroxine_nan  query on thyroxine_f  \\\n",
       "0               0                 0                     1   \n",
       "1               0                 0                     1   \n",
       "2               0                 0                     1   \n",
       "3               0                 0                     1   \n",
       "4               0                 0                     1   \n",
       "\n",
       "   query on thyroxine_t  query on thyroxine_nan  pregnant_f  pregnant_t  \\\n",
       "0                     0                       0           1           0   \n",
       "1                     0                       0           1           0   \n",
       "2                     0                       0           1           0   \n",
       "3                     0                       0           1           0   \n",
       "4                     0                       0           1           0   \n",
       "\n",
       "   pregnant_nan  thyroid surgery_f  thyroid surgery_t  thyroid surgery_nan  \\\n",
       "0             0                  1                  0                    0   \n",
       "1             0                  0                  1                    0   \n",
       "2             0                  1                  0                    0   \n",
       "3             0                  1                  0                    0   \n",
       "4             0                  1                  0                    0   \n",
       "\n",
       "   I131 treatment_f  I131 treatment_t      ...        \\\n",
       "0                 1                 0      ...         \n",
       "1                 1                 0      ...         \n",
       "2                 1                 0      ...         \n",
       "3                 1                 0      ...         \n",
       "4                 1                 0      ...         \n",
       "\n",
       "   on antithyroid medication_f  on antithyroid medication_t  \\\n",
       "0                            1                            0   \n",
       "1                            1                            0   \n",
       "2                            1                            0   \n",
       "3                            1                            0   \n",
       "4                            1                            0   \n",
       "\n",
       "   on antithyroid medication_nan  sick_f  sick_t  sick_nan  T4U measured_f  \\\n",
       "0                              0       1       0         0               0   \n",
       "1                              0       1       0         0               0   \n",
       "2                              0       1       0         0               0   \n",
       "3                              0       1       0         0               0   \n",
       "4                              0       1       0         0               0   \n",
       "\n",
       "   T4U measured_t  T4U measured_nan  psych_f  psych_t  psych_nan  \\\n",
       "0               1                 0        1        0          0   \n",
       "1               1                 0        1        0          0   \n",
       "2               1                 0        1        0          0   \n",
       "3               1                 0        1        0          0   \n",
       "4               1                 0        1        0          0   \n",
       "\n",
       "   query hypothyroid_f  query hypothyroid_t  query hypothyroid_nan  \\\n",
       "0                    1                    0                      0   \n",
       "1                    1                    0                      0   \n",
       "2                    1                    0                      0   \n",
       "3                    1                    0                      0   \n",
       "4                    1                    0                      0   \n",
       "\n",
       "   yield_gain  yield_loss  yield_none  yield_nan  TSH_deviation  T3_deviation  \\\n",
       "0           0           0           1          0       0.667723      1.024966   \n",
       "1           0           0           1          0       5.026544      1.524966   \n",
       "2           0           0           1          0       0.194978      0.024966   \n",
       "3           0           0           1          0       0.497699      0.024966   \n",
       "4           0           0           1          0       0.566613      0.224966   \n",
       "\n",
       "   TT4_deviation  T4U_deviation  fnlwgt_deviation  FTI_deviation  \n",
       "0      41.132816       0.225006         29.803774      22.429851  \n",
       "1      87.132816       0.124994          7.410149      91.429851  \n",
       "2      10.132816       0.035006         76.991395       6.429851  \n",
       "3       6.867184       0.005006         88.344599       6.570149  \n",
       "4      29.132816       0.085006        155.386960      22.429851  \n",
       "\n",
       "[5 rows x 167 columns]"
      ]
     },
     "execution_count": 28,
     "metadata": {},
     "output_type": "execute_result"
    }
   ],
   "source": [
    "dev_train_data.head()"
   ]
  },
  {
   "cell_type": "markdown",
   "metadata": {},
   "source": [
    "Použijeme optimalizáciu pre recall."
   ]
  },
  {
   "cell_type": "code",
   "execution_count": 31,
   "metadata": {},
   "outputs": [],
   "source": [
    "cv_params={'criterion': ['gini', 'entropy'], 'min_samples_leaf':range(1, 10), 'min_samples_split':[0.000001, 0.1, 0.2, 0.3], 'max_depth':list(range(1, train_data.shape[1])), 'class_weight':[\"balanced\", None]}            \n",
    "\n",
    "tree_classifier_dev = DecisionTreeClassifier\n",
    "ind_params = {'random_state': 0}\n",
    "optimization = GridSearchCV(tree_classifier_dev(**ind_params), \n",
    "                            cv_params, \n",
    "                             scoring = 'recall', cv = 10, n_jobs = -1, verbose=True)"
   ]
  },
  {
   "cell_type": "code",
   "execution_count": 32,
   "metadata": {},
   "outputs": [
    {
     "name": "stdout",
     "output_type": "stream",
     "text": [
      "Fitting 10 folds for each of 5616 candidates, totalling 56160 fits\n"
     ]
    },
    {
     "name": "stderr",
     "output_type": "stream",
     "text": [
      "[Parallel(n_jobs=-1)]: Done  85 tasks      | elapsed:    2.8s\n",
      "[Parallel(n_jobs=-1)]: Done 1285 tasks      | elapsed:   11.7s\n",
      "[Parallel(n_jobs=-1)]: Done 3285 tasks      | elapsed:   28.0s\n",
      "[Parallel(n_jobs=-1)]: Done 6085 tasks      | elapsed:   51.6s\n",
      "[Parallel(n_jobs=-1)]: Done 9685 tasks      | elapsed:  1.4min\n",
      "[Parallel(n_jobs=-1)]: Done 14085 tasks      | elapsed:  2.0min\n",
      "[Parallel(n_jobs=-1)]: Done 19285 tasks      | elapsed:  2.8min\n",
      "[Parallel(n_jobs=-1)]: Done 25285 tasks      | elapsed:  3.5min\n",
      "[Parallel(n_jobs=-1)]: Done 32085 tasks      | elapsed:  4.4min\n",
      "[Parallel(n_jobs=-1)]: Done 39685 tasks      | elapsed:  5.5min\n",
      "[Parallel(n_jobs=-1)]: Done 48085 tasks      | elapsed:  6.6min\n",
      "[Parallel(n_jobs=-1)]: Done 56160 out of 56160 | elapsed:  7.6min finished\n"
     ]
    },
    {
     "data": {
      "text/plain": [
       "GridSearchCV(cv=10, error_score='raise',\n",
       "       estimator=DecisionTreeClassifier(class_weight=None, criterion='gini', max_depth=None,\n",
       "            max_features=None, max_leaf_nodes=None,\n",
       "            min_impurity_decrease=0.0, min_impurity_split=None,\n",
       "            min_samples_leaf=1, min_samples_split=2,\n",
       "            min_weight_fraction_leaf=0.0, presort=False, random_state=0,\n",
       "            splitter='best'),\n",
       "       fit_params=None, iid=True, n_jobs=-1,\n",
       "       param_grid={'criterion': ['gini', 'entropy'], 'min_samples_leaf': range(1, 10), 'min_samples_split': [1e-06, 0.1, 0.2, 0.3], 'max_depth': [1, 2, 3, 4, 5, 6, 7, 8, 9, 10, 11, 12, 13, 14, 15, 16, 17, 18, 19, 20, 21, 22, 23, 24, 25, 26, 27, 28, 29, 30, 31, 32, 33, 34, 35, 36, 37, 38, 39], 'class_weight': ['balanced', None]},\n",
       "       pre_dispatch='2*n_jobs', refit=True, return_train_score='warn',\n",
       "       scoring='recall', verbose=True)"
      ]
     },
     "execution_count": 32,
     "metadata": {},
     "output_type": "execute_result"
    }
   ],
   "source": [
    "optimization.fit(dev_train_data, tree_train_target)"
   ]
  },
  {
   "cell_type": "code",
   "execution_count": 33,
   "metadata": {},
   "outputs": [
    {
     "name": "stderr",
     "output_type": "stream",
     "text": [
      "C:\\Anaconda3\\lib\\site-packages\\sklearn\\model_selection\\_search.py:761: DeprecationWarning: The grid_scores_ attribute was deprecated in version 0.18 in favor of the more elaborate cv_results_ attribute. The grid_scores_ attribute will not be available from 0.20\n",
      "  DeprecationWarning)\n"
     ]
    },
    {
     "data": {
      "text/plain": [
       "[mean: 0.93011, std: 0.15524, params: {'class_weight': 'balanced', 'criterion': 'gini', 'max_depth': 2, 'min_samples_leaf': 1, 'min_samples_split': 0.1},\n",
       " mean: 0.93011, std: 0.15524, params: {'class_weight': 'balanced', 'criterion': 'gini', 'max_depth': 2, 'min_samples_leaf': 1, 'min_samples_split': 0.2},\n",
       " mean: 0.93011, std: 0.15524, params: {'class_weight': 'balanced', 'criterion': 'gini', 'max_depth': 2, 'min_samples_leaf': 1, 'min_samples_split': 0.3},\n",
       " mean: 0.93011, std: 0.15524, params: {'class_weight': 'balanced', 'criterion': 'gini', 'max_depth': 2, 'min_samples_leaf': 2, 'min_samples_split': 0.1},\n",
       " mean: 0.93011, std: 0.15524, params: {'class_weight': 'balanced', 'criterion': 'gini', 'max_depth': 2, 'min_samples_leaf': 2, 'min_samples_split': 0.2}]"
      ]
     },
     "execution_count": 33,
     "metadata": {},
     "output_type": "execute_result"
    }
   ],
   "source": [
    "sorted(optimization.grid_scores_, key=lambda x: x.mean_validation_score, reverse=True)[:5]"
   ]
  },
  {
   "cell_type": "code",
   "execution_count": 34,
   "metadata": {},
   "outputs": [],
   "source": [
    "tree_classifier_dev = DecisionTreeClassifier(criterion='gini', max_depth=2, class_weight='balanced', min_samples_leaf= 1, min_samples_split= 0.1)\n",
    "tree_classifier_dev = tree_classifier_dev.fit(dev_train_data, tree_train_target)"
   ]
  },
  {
   "cell_type": "markdown",
   "metadata": {},
   "source": [
    "Pozreli sme sa, či sa zmenili rozhodovacie pravidlá."
   ]
  },
  {
   "cell_type": "code",
   "execution_count": 36,
   "metadata": {},
   "outputs": [],
   "source": [
    "tree.export_graphviz(tree_classifier_recall, feature_names=tree_train_data.columns, filled=True, class_names='test',  out_file='strom_dev_g2b1.dot')"
   ]
  },
  {
   "cell_type": "markdown",
   "metadata": {},
   "source": [
    "<img src=\"strom_dev_g2b1.png\">"
   ]
  },
  {
   "cell_type": "markdown",
   "metadata": {},
   "source": [
    "Takáto úprava ale už viac nepomohla."
   ]
  },
  {
   "cell_type": "code",
   "execution_count": 37,
   "metadata": {
    "scrolled": false
   },
   "outputs": [
    {
     "name": "stdout",
     "output_type": "stream",
     "text": [
      "════════════════════════════════════════════════════════════════\n",
      "║                    ║Prediction positive |Prediction negative ║\n",
      "════════════════════════════════════════════════════════════════\n",
      "║Condition positive  ║8.00                |5.00                ║\n",
      "════════════════════════════════════════════════════════════════\n",
      "║Condition negative  ║75.00               |884.00              ║\n",
      "════════════════════════════════════════════════════════════════\n",
      "Accuracy:  0.9176954732510288\n",
      "Precision:  0.0963855421686747\n",
      "Recall:  0.6153846153846154\n"
     ]
    }
   ],
   "source": [
    "pravdivost(tree_test_target, tree_classifier_dev.predict(dev_test_data))"
   ]
  },
  {
   "cell_type": "markdown",
   "metadata": {},
   "source": [
    "Testovali sme ďalej rôzne rozsahy jednotlivých hyperparametrov, ale nepodarilo sa nám už dosiahnúť taký istý výsledok, ako pri už uvedenej optimaliácii pomocou recall. Zdá sa, že toto je strop pre to, čo môže strom dosiahnúť."
   ]
  },
  {
   "cell_type": "markdown",
   "metadata": {},
   "source": [
    "Na základe týchto zistení sme sa teda rozhodli používať model, ktorý sme získli pri optimalizácii recall. Recall ako metrika zo svojej podstaty aj nejlepšie vystihuje, aké výsledky chceme dosiahnúť. "
   ]
  },
  {
   "cell_type": "code",
   "execution_count": 38,
   "metadata": {},
   "outputs": [],
   "source": [
    "tree_classifier_final = DecisionTreeClassifier(criterion='gini', max_depth=2, class_weight='balanced', min_samples_leaf= 1, min_samples_split= 0.1)\n",
    "tree_classifier_final = tree_classifier_final.fit(tree_train_data, tree_train_target)"
   ]
  },
  {
   "cell_type": "markdown",
   "metadata": {},
   "source": [
    "# 2 Porovnanie metód nahrádzania chýbajúcich hodnôt"
   ]
  },
  {
   "cell_type": "markdown",
   "metadata": {},
   "source": [
    "Ked už sme sa teda rozhodli, ktorý model by bol najvhodnejšie použíť, rovnaké úpravy sme vykonali aj pre dátové súbory, v ktorých sme neznáme hodnoty nahrádzali buď výlučne priemerom/mediánom, alebo lineárnou regresiou, takže sme ich mohli navzájom porovnať."
   ]
  },
  {
   "cell_type": "code",
   "execution_count": 39,
   "metadata": {},
   "outputs": [],
   "source": [
    "mean_med_data = pd.read_csv('data/train_mean_med.csv')\n",
    "lin_reg_data = pd.read_csv('data/train_linreg.csv')\n",
    "mean_med_test_data = pd.read_csv('data/test_mean_med_predspracovane.csv')\n",
    "lin_reg_test_data = pd.read_csv('data/test_linreg_predspracovane.csv')"
   ]
  },
  {
   "cell_type": "code",
   "execution_count": 40,
   "metadata": {},
   "outputs": [],
   "source": [
    "mean_med_data = mean_med_data.drop('id', axis=1)\n",
    "lin_reg_data = lin_reg_data.drop('id', axis=1)\n",
    "mean_med_test_data = mean_med_test_data.drop('id', axis=1)\n",
    "lin_reg_test_data = lin_reg_test_data.drop('id', axis=1)"
   ]
  },
  {
   "cell_type": "code",
   "execution_count": 41,
   "metadata": {},
   "outputs": [],
   "source": [
    "mean_med_target = mean_med_data.test\n",
    "mean_med_data = mean_med_data.drop('test', axis=1)\n",
    "mean_med_data = pd.get_dummies(mean_med_data, columns=mean_med_data.columns[mean_med_data.dtypes == np.object], dummy_na=True)\n",
    "\n",
    "lin_reg_target = lin_reg_data.test\n",
    "lin_reg_data = lin_reg_data.drop('test', axis=1)\n",
    "lin_reg_data = pd.get_dummies(lin_reg_data, columns=lin_reg_data.columns[lin_reg_data.dtypes == np.object], dummy_na=True)\n",
    "\n",
    "mean_med_test_target = mean_med_test_data.test\n",
    "mean_med_test_data = lin_reg_test_data.drop('test', axis=1)\n",
    "mean_med_test_data = pd.get_dummies(mean_med_test_data, columns=mean_med_test_data.columns[mean_med_test_data.dtypes == np.object], dummy_na=True)\n",
    "\n",
    "lin_reg_test_target = lin_reg_test_data.test\n",
    "lin_reg_test_data = lin_reg_test_data.drop('test', axis=1)\n",
    "lin_reg_test_data = pd.get_dummies(lin_reg_test_data, columns=lin_reg_test_data.columns[lin_reg_test_data.dtypes == np.object], dummy_na=True)"
   ]
  },
  {
   "cell_type": "code",
   "execution_count": 42,
   "metadata": {},
   "outputs": [],
   "source": [
    "toDrop = []\n",
    "for attr in mean_med_test_data.columns:\n",
    "    if attr not in mean_med_data.columns:\n",
    "        toDrop.append(attr)\n",
    "\n",
    "mean_med_test_data = mean_med_test_data.drop(toDrop, axis=1)\n",
    "\n",
    "for attr in mean_med_data.columns:\n",
    "    if attr not in mean_med_test_data.columns:\n",
    "        mean_med_test_data[attr] = 0\n",
    "        \n",
    "toDrop = []\n",
    "for attr in lin_reg_test_data.columns:\n",
    "    if attr not in lin_reg_data.columns:\n",
    "        toDrop.append(attr)\n",
    "\n",
    "lin_reg_test_data = lin_reg_test_data.drop(toDrop, axis=1)\n",
    "\n",
    "for attr in lin_reg_data.columns:\n",
    "    if attr not in lin_reg_test_data.columns:\n",
    "        lin_reg_test_data[attr] = 0"
   ]
  },
  {
   "cell_type": "code",
   "execution_count": 43,
   "metadata": {},
   "outputs": [],
   "source": [
    "mean_med_target = bintransform(mean_med_target)\n",
    "lin_reg_target = bintransform(lin_reg_target)\n",
    "mean_med_test_target = bintransform(mean_med_test_target)\n",
    "lin_reg_test_target = bintransform(lin_reg_test_target)"
   ]
  },
  {
   "cell_type": "code",
   "execution_count": 44,
   "metadata": {},
   "outputs": [],
   "source": [
    "tree_mean_med_classifier = DecisionTreeClassifier(criterion='gini', max_depth=2, class_weight='balanced', min_samples_leaf= 1, min_samples_split= 0.1)\n",
    "tree_mean_med_classifier = tree_mean_med_classifier.fit(mean_med_data, mean_med_target)\n",
    "\n",
    "tree_lin_reg_classifier = DecisionTreeClassifier(criterion='gini', max_depth=2, class_weight='balanced', min_samples_leaf= 1, min_samples_split= 0.1)\n",
    "tree_lin_reg_classifier = tree_lin_reg_classifier.fit(lin_reg_data, lin_reg_target)"
   ]
  },
  {
   "cell_type": "markdown",
   "metadata": {},
   "source": [
    "Priemer/medián dosiahol spomedzi troch stromov najhorie výsledky, lineárna regresia bola druhá najhoršie horšia, avšak rozdiel medzi priemrommediánnom a regresiou je o 1 chybu 1. stupňa. Na základe tohto teda môžeme povedať, že náš skorší úsudok o tom ,že kombinácia týchto techník bude lepšia ako každá technika zvlášť bol správny. Dané je to prevdepodobne tým, že každá technika je lepšia a horšia na inej časti dátového súboru a tak hoci sú samostatne obe takmer rovnako zlé, pri správnom skombinovaní a využitím silných stránok každej z nich je možné dosiahnúť lepší výsledok.\n",
    "\n",
    "Nutno však taktiež poznamenať, že ani jednotlivé tieto techniky sa už výrazne nelíšili od ich kominácie. Rozdiel bol v 15, resp. 16 chybách 1. stupňa."
   ]
  },
  {
   "cell_type": "code",
   "execution_count": 45,
   "metadata": {},
   "outputs": [
    {
     "name": "stdout",
     "output_type": "stream",
     "text": [
      "════════════════════════════════════════════════════════════════\n",
      "║                    ║Prediction positive |Prediction negative ║\n",
      "════════════════════════════════════════════════════════════════\n",
      "║Condition positive  ║8.00                |5.00                ║\n",
      "════════════════════════════════════════════════════════════════\n",
      "║Condition negative  ║91.00               |868.00              ║\n",
      "════════════════════════════════════════════════════════════════\n",
      "Accuracy:  0.9012345679012346\n",
      "Precision:  0.08080808080808081\n",
      "Recall:  0.6153846153846154\n"
     ]
    }
   ],
   "source": [
    "tree_mean_med_prediction = tree_mean_med_classifier.predict(mean_med_test_data)\n",
    "pravdivost(mean_med_test_target, tree_mean_med_prediction)"
   ]
  },
  {
   "cell_type": "code",
   "execution_count": 46,
   "metadata": {},
   "outputs": [
    {
     "name": "stdout",
     "output_type": "stream",
     "text": [
      "════════════════════════════════════════════════════════════════\n",
      "║                    ║Prediction positive |Prediction negative ║\n",
      "════════════════════════════════════════════════════════════════\n",
      "║Condition positive  ║8.00                |5.00                ║\n",
      "════════════════════════════════════════════════════════════════\n",
      "║Condition negative  ║90.00               |869.00              ║\n",
      "════════════════════════════════════════════════════════════════\n",
      "Accuracy:  0.9022633744855967\n",
      "Precision:  0.08163265306122448\n",
      "Recall:  0.6153846153846154\n"
     ]
    }
   ],
   "source": [
    "tree_lin_reg_prediction = tree_lin_reg_classifier.predict(lin_reg_test_data)\n",
    "pravdivost(lin_reg_test_target, tree_lin_reg_prediction)"
   ]
  },
  {
   "cell_type": "markdown",
   "metadata": {},
   "source": [
    "Nechali sme si vizualizovať všetky tri vytvorené stromy (skôr stromčeky), aby sme sa pozreli, aké rozdiely sú v ich rozhodovacích pravidlách.\n",
    "\n",
    "K žiadným zmenám už ale nedošlo. Odlišná úspešnosť klasifikácie bola očividne založná len na odlišných vstupných dátach."
   ]
  },
  {
   "cell_type": "code",
   "execution_count": 47,
   "metadata": {},
   "outputs": [],
   "source": [
    "tree.export_graphviz(tree_classifier_final, feature_names=tree_train_data.columns, filled=True, class_names='test',  out_file='strom.dot')\n",
    "tree.export_graphviz(tree_mean_med_classifier, feature_names=tree_train_data.columns, filled=True, class_names='test',  out_file='strom_priemer_median.dot') \n",
    "tree.export_graphviz(tree_lin_reg_classifier, feature_names=tree_train_data.columns, filled=True, class_names='test',  out_file='strom_linreg.dot') "
   ]
  },
  {
   "cell_type": "markdown",
   "metadata": {},
   "source": [
    "### Kominácia\n",
    "<img src=\"strom_g2b1.png\">\n",
    "\n",
    "### Priemer-medián\n",
    "<img src=\"strom_priemer_median.png\">\n",
    "\n",
    "### Lineárna regresia\n",
    "<img src=\"strom_linreg.png\">"
   ]
  },
  {
   "cell_type": "markdown",
   "metadata": {},
   "source": [
    "# 3 Pravidlá"
   ]
  },
  {
   "cell_type": "code",
   "execution_count": 48,
   "metadata": {},
   "outputs": [],
   "source": [
    "class Pravidlo:\n",
    "    def __init__(self):\n",
    "        self.popis = ''\n",
    "        self.podmienka = lambda a:True\n",
    "        self.dosledok = lambda a:True\n",
    "        \n",
    "    def __init__(self, pop, pod, dos):\n",
    "        self.popis = pop\n",
    "        self.podmienka = pod\n",
    "        self.dosledok = dos\n",
    "        \n",
    "    def over(self, data):\n",
    "        total = data.shape[0]\n",
    "        tp = data[self.podmienka(data) & self.dosledok(data)].shape[0]\n",
    "        tIe = data[self.podmienka(data) & ~self.dosledok(data)].shape[0]\n",
    "        tIIe = data[~self.podmienka(data) & self.dosledok(data)].shape[0]\n",
    "        tn =data[~self.podmienka(data) & ~self.dosledok(data)].shape[0]\n",
    "        \n",
    "        print(64*'═')\n",
    "        print('║{:<20}║{:<20}|{:<20}║'.format('', 'Prediction positive', 'Prediction negative'))\n",
    "        print(64*'═')\n",
    "        print('║{:<20}║{:<20.2f}|{:<20.2f}║'.format('Condition positive', tp, tIIe))\n",
    "        print(64*'═')\n",
    "        print('║{:<20}║{:<20.2f}|{:<20.2f}║'.format('Condition negative', tIe, tn))\n",
    "        print(64*'═')\n",
    "        \n",
    "        print(\"Accuracy: \", (tp + tn) / total if total != 0 else 0)\n",
    "        print(\"Precission: \",  tp / (tp + tIe) if tp + tIe != 0 else 0)\n",
    "        print(\"Recall: \", tp / (tp + tIIe) if tp + tIIe != 0 else 0)"
   ]
  },
  {
   "cell_type": "markdown",
   "metadata": {},
   "source": [
    "Vrátili sme sa k pravidlám, ktoré sme v predchádzajúcej časti nemali dobre riešené.\n",
    "Uvedomujúc si dôležitosť pozitívnej klasifikácie, tentokrát sme zvolili taký postup, že sme vytvárali podľa trénovacieho súboru také pravidlá, ktoré by maximalizovali detekciu pozitívnej triedy. \n",
    "\n",
    "Náš postup bol pritom taký, že sme začali s jedným pravidlom, ktoré vždy uhádlo pozitívnu triedu a na toto sme následne v snahe zvýšiť presnosť a znížiť chybu I. stupňa postupne nabaľovali ďalšie a ďalšie pravidlá, ktoré platili pre pozitívnu triedu.\n",
    "\n",
    "Pomohli sme si pritom zisteniami z prieskumnej analýzy."
   ]
  },
  {
   "cell_type": "markdown",
   "metadata": {},
   "source": [
    "Začali sme  číselnými atribútmi."
   ]
  },
  {
   "cell_type": "code",
   "execution_count": 49,
   "metadata": {},
   "outputs": [
    {
     "name": "stdout",
     "output_type": "stream",
     "text": [
      "---------------------------------------------\n",
      "\n",
      "Trénovací súbor: \n",
      "════════════════════════════════════════════════════════════════\n",
      "║                    ║Prediction positive |Prediction negative ║\n",
      "════════════════════════════════════════════════════════════════\n",
      "║Condition positive  ║45.00               |0.00                ║\n",
      "════════════════════════════════════════════════════════════════\n",
      "║Condition negative  ║2486.00             |269.00              ║\n",
      "════════════════════════════════════════════════════════════════\n",
      "Accuracy:  0.11214285714285714\n",
      "Precission:  0.017779533781114184\n",
      "Recall:  1.0\n"
     ]
    }
   ],
   "source": [
    "pravidlo = Pravidlo('all', lambda a: ((a.T4U <= 1.6) & \n",
    "                                      (a.TT4 <= 240) & \n",
    "                                      (a.T3 <= 4.1) & \n",
    "                                      (a.TSH <= 2.5) & \n",
    "                                      (a.FTI <= 205)), lambda a: a.test == 'discordant')\n",
    "\n",
    "print('---------------------------------------------\\n')\n",
    "print('Trénovací súbor: ')\n",
    "pravidlo.over(train_data)"
   ]
  },
  {
   "cell_type": "markdown",
   "metadata": {},
   "source": [
    "Potom sme pridali aj kategorické."
   ]
  },
  {
   "cell_type": "code",
   "execution_count": 52,
   "metadata": {},
   "outputs": [
    {
     "name": "stdout",
     "output_type": "stream",
     "text": [
      "---------------------------------------------\n",
      "\n",
      "Trénovací súbor: \n",
      "════════════════════════════════════════════════════════════════\n",
      "║                    ║Prediction positive |Prediction negative ║\n",
      "════════════════════════════════════════════════════════════════\n",
      "║Condition positive  ║43.00               |2.00                ║\n",
      "════════════════════════════════════════════════════════════════\n",
      "║Condition negative  ║2035.00             |720.00              ║\n",
      "════════════════════════════════════════════════════════════════\n",
      "Accuracy:  0.2725\n",
      "Precission:  0.020692974013474495\n",
      "Recall:  0.9555555555555556\n"
     ]
    }
   ],
   "source": [
    "pravidlo = Pravidlo('all', lambda a: ((a['on antithyroid medication'] == 'f') &\n",
    "                                      (a['psych'] == 'f') &(a['sick'] == 'f') &\n",
    "                                      (a['lithium'] == 'f') &\n",
    "                                      (a['goitre'] == 'f') & \n",
    "                                      (a['tumor'] == 'f') &\n",
    "                                      (a['I131 treatment'] == 'f') & \n",
    "                                      (a['thyroid surgery'] == 'f') & \n",
    "                                      (a['query on thyroxine'] == 'f') & \n",
    "                                      (a.T4U <= 1.6) & \n",
    "                                      (a.TT4 <= 240) & \n",
    "                                      (a.T3 <= 4.1) & \n",
    "                                      (a.TSH <= 2.5) &\n",
    "                                      (a.FTI <= 205)), lambda a: a.test == 'discordant')\n",
    "\n",
    "print('---------------------------------------------\\n')\n",
    "print('Trénovací súbor: ')\n",
    "pravidlo.over(train_data)\n"
   ]
  },
  {
   "cell_type": "markdown",
   "metadata": {},
   "source": [
    "Chybu 1. stupňa sme znížili približne o 25 percent. Pokúsili sa zapojiť ešte aj dolné ohraničenia pri číselných atribútoch."
   ]
  },
  {
   "cell_type": "code",
   "execution_count": 53,
   "metadata": {},
   "outputs": [
    {
     "name": "stdout",
     "output_type": "stream",
     "text": [
      "---------------------------------------------\n",
      "\n",
      "Trénovací súbor: \n",
      "════════════════════════════════════════════════════════════════\n",
      "║                    ║Prediction positive |Prediction negative ║\n",
      "════════════════════════════════════════════════════════════════\n",
      "║Condition positive  ║43.00               |2.00                ║\n",
      "════════════════════════════════════════════════════════════════\n",
      "║Condition negative  ║1791.00             |964.00              ║\n",
      "════════════════════════════════════════════════════════════════\n",
      "Accuracy:  0.35964285714285715\n",
      "Precission:  0.023446019629225736\n",
      "Recall:  0.9555555555555556\n"
     ]
    }
   ],
   "source": [
    "pravidlo = Pravidlo('all', lambda a: ((a['on antithyroid medication'] == 'f') & \n",
    "                                      (a['psych'] == 'f') &\n",
    "                                      (a['sick'] == 'f') &\n",
    "                                      (a['lithium'] == 'f') &\n",
    "                                      (a['goitre'] == 'f') & \n",
    "                                      (a['tumor'] == 'f') &\n",
    "                                      (a['I131 treatment'] == 'f') & \n",
    "                                      (a['thyroid surgery'] == 'f') & \n",
    "                                      (a['query on thyroxine'] == 'f') & \n",
    "                                      (a.T4U >= 0.75) & \n",
    "                                      (a.TT4 >= 54) & \n",
    "                                      (a.T3 >= 1.2) & \n",
    "                                      (a.TSH >= -3.86) &  \n",
    "                                      (a.FTI >= 58) &\n",
    "                                      (a.T4U <= 1.6) & \n",
    "                                      (a.TT4 <= 240) & \n",
    "                                      (a.T3 <= 4.1) & \n",
    "                                      (a.TSH <= 2.5) & \n",
    "                                      (a.FTI <= 205)), \n",
    "                    lambda a: a.test == 'discordant')\n",
    "\n",
    "print('---------------------------------------------\\n')\n",
    "print('Trénovací súbor: ')\n",
    "pravidlo.over(train_data)\n"
   ]
  },
  {
   "cell_type": "markdown",
   "metadata": {},
   "source": [
    "Takýmto spôsobom sa nám postupne podarilo znížiť chybu 1. stupňa približne na 66 percent. Viac atribútov už ale zapojiť do pravidiel nemôžeme a chyba 1. stupňa stále ostáva priveľká, preto musíme začať znižovať hranice testovania číselných atribútov. \n",
    "Začneme u tých, pri ktorých sme zistili možnú koreláciu s klasifikovaným atribútom."
   ]
  },
  {
   "cell_type": "code",
   "execution_count": 54,
   "metadata": {},
   "outputs": [
    {
     "name": "stdout",
     "output_type": "stream",
     "text": [
      "---------------------------------------------\n",
      "\n",
      "Trénovací súbor: \n",
      "════════════════════════════════════════════════════════════════\n",
      "║                    ║Prediction positive |Prediction negative ║\n",
      "════════════════════════════════════════════════════════════════\n",
      "║Condition positive  ║38.00               |7.00                ║\n",
      "════════════════════════════════════════════════════════════════\n",
      "║Condition negative  ║36.00               |2719.00             ║\n",
      "════════════════════════════════════════════════════════════════\n",
      "Accuracy:  0.9846428571428572\n",
      "Precission:  0.5135135135135135\n",
      "Recall:  0.8444444444444444\n"
     ]
    }
   ],
   "source": [
    "pravidlo = Pravidlo('all', lambda a: ((a['on antithyroid medication'] == 'f') & \n",
    "                                      (a['psych'] == 'f') &\n",
    "                                      (a['sick'] == 'f') &\n",
    "                                      (a['lithium'] == 'f') &\n",
    "                                      (a['goitre'] == 'f') & \n",
    "                                      (a['tumor'] == 'f') &\n",
    "                                      (a['I131 treatment'] == 'f') & \n",
    "                                      (a['thyroid surgery'] == 'f') & \n",
    "                                      (a['query on thyroxine'] == 'f') & \n",
    "                                      (a['on thyroxine'] == 'f') & \n",
    "                                      (a.T4U >= 0.75) & \n",
    "                                      (a.TT4 >= 124) & \n",
    "                                      (a.T3 >= 1.2) & \n",
    "                                      (a.TSH >= -3.86) &  \n",
    "                                      (a.FTI >= 150) &\n",
    "                                      (a.T4U <= 1.6) & \n",
    "                                      (a.TT4 <= 220) & \n",
    "                                      (a.T3 <= 3.0) & \n",
    "                                      (a.TSH <= 2.5) & \n",
    "                                      (a.FTI <= 205)), \n",
    "                    lambda a: a.test == 'discordant')\n",
    "\n",
    "print('---------------------------------------------\\n')\n",
    "print('Trénovací súbor: ')\n",
    "pravidlo.over(train_data)\n"
   ]
  },
  {
   "cell_type": "markdown",
   "metadata": {},
   "source": [
    "Toto sú už pravidlá, pri ktorých sa uspokojíme s ich výsledkom. Majú výbornú úroveň predikcie pre negatívnu triedu, pričom dobrá úroveň je aj pri predikovaní pozitívnej triedy. Chyba 1. bola znížená na uspokojujúcu uroveň. Znamená síce, že každé druhé predikovanie pozistívnej triedy je chybné, ale vzhľadom na predchádzajúce výsledky je to značný pokrok. Vyskúšame si teda teraz naše pravidlá na testovacom súbore."
   ]
  },
  {
   "cell_type": "code",
   "execution_count": 55,
   "metadata": {},
   "outputs": [
    {
     "name": "stdout",
     "output_type": "stream",
     "text": [
      "---------------------------------------------\n",
      "\n",
      "Testovací súbor: \n",
      "════════════════════════════════════════════════════════════════\n",
      "║                    ║Prediction positive |Prediction negative ║\n",
      "════════════════════════════════════════════════════════════════\n",
      "║Condition positive  ║3.00                |10.00               ║\n",
      "════════════════════════════════════════════════════════════════\n",
      "║Condition negative  ║9.00                |950.00              ║\n",
      "════════════════════════════════════════════════════════════════\n",
      "Accuracy:  0.9804526748971193\n",
      "Precission:  0.25\n",
      "Recall:  0.23076923076923078\n"
     ]
    }
   ],
   "source": [
    "pravidlo = Pravidlo('all', lambda a: ((a['on antithyroid medication'] == 'f') & \n",
    "                                      (a['psych'] == 'f') &\n",
    "                                      (a['sick'] == 'f') &\n",
    "                                      (a['lithium'] == 'f') &\n",
    "                                      (a['goitre'] == 'f') & \n",
    "                                      (a['tumor'] == 'f') &\n",
    "                                      (a['I131 treatment'] == 'f') & \n",
    "                                      (a['thyroid surgery'] == 'f') & \n",
    "                                      (a['query on thyroxine'] == 'f') & \n",
    "                                      (a['on thyroxine'] == 'f') & \n",
    "                                      (a.T4U >= 0.75) & \n",
    "                                      (a.TT4 >= 124) & \n",
    "                                      (a.T3 >= 1.2) & \n",
    "                                      (a.TSH >= -3.86) &  \n",
    "                                      (a.FTI >= 150) &\n",
    "                                      (a.T4U <= 1.6) & \n",
    "                                      (a.TT4 <= 220) & \n",
    "                                      (a.T3 <= 3.0) & \n",
    "                                      (a.TSH <= 2.5) & \n",
    "                                      (a.FTI <= 205)), \n",
    "                    lambda a: a.test == 'discordant')\n",
    "\n",
    "print('---------------------------------------------\\n')\n",
    "print('Testovací súbor: ')\n",
    "pravidlo.over(test_data)\n"
   ]
  },
  {
   "cell_type": "markdown",
   "metadata": {},
   "source": [
    "Pravidlá sme očividne pretrénovali. Chyby 1. aj 2. stupňa voči úspešnosti pozitívnej predikcie výrazne stúpli na úkor úspešnosti predikcie pozitívnej triedy. "
   ]
  },
  {
   "cell_type": "markdown",
   "metadata": {},
   "source": [
    "Porovnali sme si teda naše pravidlá s výsledkami stromu. Je vidieť, že strom je úspešnejší ako na trénovacom, tak aj na testovacom súbore, kde je rozdiel ešte poznateľnejší. My sme s našími pravidlami dosiahli síce menšiu chybu 1. stupnňa, ale v kontexte významu klasifikovaného atribútu je táto chyba menej podstatnejšia, ako chyba 1. stupňa."
   ]
  },
  {
   "cell_type": "code",
   "execution_count": 57,
   "metadata": {},
   "outputs": [
    {
     "name": "stdout",
     "output_type": "stream",
     "text": [
      "---------------------------------------------\n",
      "\n",
      "Trénovací súbor: \n",
      "\n",
      "***********************************************\n",
      "Naše pravidlá: \n",
      "════════════════════════════════════════════════════════════════\n",
      "║                    ║Prediction positive |Prediction negative ║\n",
      "════════════════════════════════════════════════════════════════\n",
      "║Condition positive  ║38.00               |7.00                ║\n",
      "════════════════════════════════════════════════════════════════\n",
      "║Condition negative  ║36.00               |2719.00             ║\n",
      "════════════════════════════════════════════════════════════════\n",
      "Accuracy:  0.9846428571428572\n",
      "Precission:  0.5135135135135135\n",
      "Recall:  0.8444444444444444\n",
      "\n",
      "***********************************************\n",
      "Strom: \n",
      "════════════════════════════════════════════════════════════════\n",
      "║                    ║Prediction positive |Prediction negative ║\n",
      "════════════════════════════════════════════════════════════════\n",
      "║Condition positive  ║44.00               |1.00                ║\n",
      "════════════════════════════════════════════════════════════════\n",
      "║Condition negative  ║231.00              |2524.00             ║\n",
      "════════════════════════════════════════════════════════════════\n",
      "Accuracy:  0.9171428571428571\n",
      "Precision:  0.16\n",
      "Recall:  0.9777777777777777\n",
      "\n",
      "══════════════════════════════════════════════════════════════════════════════════════════\n",
      "\n",
      "Testovací súbor: \n",
      "\n",
      "***********************************************\n",
      "Naše pravidlá: \n",
      "════════════════════════════════════════════════════════════════\n",
      "║                    ║Prediction positive |Prediction negative ║\n",
      "════════════════════════════════════════════════════════════════\n",
      "║Condition positive  ║3.00                |10.00               ║\n",
      "════════════════════════════════════════════════════════════════\n",
      "║Condition negative  ║9.00                |950.00              ║\n",
      "════════════════════════════════════════════════════════════════\n",
      "Accuracy:  0.9804526748971193\n",
      "Precission:  0.25\n",
      "Recall:  0.23076923076923078\n",
      "\n",
      "***********************************************\n",
      "Strom: \n",
      "════════════════════════════════════════════════════════════════\n",
      "║                    ║Prediction positive |Prediction negative ║\n",
      "════════════════════════════════════════════════════════════════\n",
      "║Condition positive  ║8.00                |5.00                ║\n",
      "════════════════════════════════════════════════════════════════\n",
      "║Condition negative  ║75.00               |884.00              ║\n",
      "════════════════════════════════════════════════════════════════\n",
      "Accuracy:  0.9176954732510288\n",
      "Precision:  0.0963855421686747\n",
      "Recall:  0.6153846153846154\n"
     ]
    }
   ],
   "source": [
    "print('---------------------------------------------\\n')\n",
    "print('Trénovací súbor: ')\n",
    "print('\\n***********************************************')\n",
    "print('Naše pravidlá: ')\n",
    "pravidlo.over(train_data)\n",
    "print('\\n***********************************************')\n",
    "print('Strom: ')\n",
    "tree_classifier_final_prediction = tree_classifier_final.predict(tree_train_data)\n",
    "pravdivost(tree_train_target, tree_classifier_final_prediction)\n",
    "print('\\n══════════════════════════════════════════════════════════════════════════════════════════\\n')\n",
    "print('Testovací súbor: ')\n",
    "print('\\n***********************************************')\n",
    "print('Naše pravidlá: ')\n",
    "pravidlo.over(test_data)\n",
    "print('\\n***********************************************')\n",
    "print('Strom: ')\n",
    "tree_classifier_final_prediction = tree_classifier_final.predict(tree_test_data)\n",
    "pravdivost(tree_test_target, tree_classifier_final_prediction)"
   ]
  },
  {
   "cell_type": "markdown",
   "metadata": {},
   "source": [
    "Na týchto tabuľkách je aj vidieť, že strom bol na trénovacích dátach perfektne natrénovaný na klasifikáciu pozitívnej triedy a na elimináciu chyby 2. stupňa. "
   ]
  },
  {
   "cell_type": "code",
   "execution_count": null,
   "metadata": {},
   "outputs": [],
   "source": []
  },
  {
   "cell_type": "code",
   "execution_count": null,
   "metadata": {},
   "outputs": [],
   "source": []
  }
 ],
 "metadata": {
  "kernelspec": {
   "display_name": "Python 3",
   "language": "python",
   "name": "python3"
  },
  "language_info": {
   "codemirror_mode": {
    "name": "ipython",
    "version": 3
   },
   "file_extension": ".py",
   "mimetype": "text/x-python",
   "name": "python",
   "nbconvert_exporter": "python",
   "pygments_lexer": "ipython3",
   "version": "3.6.4"
  }
 },
 "nbformat": 4,
 "nbformat_minor": 2
}
