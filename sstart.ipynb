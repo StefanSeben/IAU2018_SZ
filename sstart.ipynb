{
 "cells": [
  {
   "cell_type": "code",
   "execution_count": 1,
   "metadata": {},
   "outputs": [],
   "source": [
    "# data analysis and wrangling\n",
    "import pandas as pd\n",
    "import numpy as np\n",
    "import random as rnd\n",
    "\n",
    "# visualization\n",
    "import seaborn as sns\n",
    "import matplotlib.pyplot as plt\n",
    "%matplotlib inline\n",
    "\n",
    "pd.set_option('display.max_columns', 50)"
   ]
  },
  {
   "cell_type": "code",
   "execution_count": 9,
   "metadata": {
    "scrolled": true
   },
   "outputs": [
    {
     "data": {
      "text/html": [
       "<div>\n",
       "<style scoped>\n",
       "    .dataframe tbody tr th:only-of-type {\n",
       "        vertical-align: middle;\n",
       "    }\n",
       "\n",
       "    .dataframe tbody tr th {\n",
       "        vertical-align: top;\n",
       "    }\n",
       "\n",
       "    .dataframe thead th {\n",
       "        text-align: right;\n",
       "    }\n",
       "</style>\n",
       "<table border=\"1\" class=\"dataframe\">\n",
       "  <thead>\n",
       "    <tr style=\"text-align: right;\">\n",
       "      <th></th>\n",
       "      <th>Unnamed: 0</th>\n",
       "      <th>age</th>\n",
       "      <th>on thyroxine</th>\n",
       "      <th>query on thyroxine</th>\n",
       "      <th>pregnant</th>\n",
       "      <th>thyroid surgery</th>\n",
       "      <th>I131 treatment</th>\n",
       "      <th>lithium</th>\n",
       "      <th>goitre</th>\n",
       "      <th>tumor</th>\n",
       "      <th>hypopituitary</th>\n",
       "      <th>TSH</th>\n",
       "      <th>T3 measured</th>\n",
       "      <th>T3</th>\n",
       "      <th>TT4</th>\n",
       "      <th>T4U</th>\n",
       "      <th>FTI measured</th>\n",
       "      <th>TBG measured</th>\n",
       "      <th>TBG</th>\n",
       "      <th>referral source</th>\n",
       "      <th>class</th>\n",
       "      <th>workclass</th>\n",
       "      <th>fnlwgt</th>\n",
       "      <th>education</th>\n",
       "      <th>education-num</th>\n",
       "      <th>marital-status</th>\n",
       "      <th>occupation</th>\n",
       "      <th>relationship</th>\n",
       "      <th>race</th>\n",
       "      <th>capital-gain</th>\n",
       "      <th>capital-loss</th>\n",
       "      <th>hours-per-week</th>\n",
       "      <th>native-country</th>\n",
       "      <th>date_of_birth</th>\n",
       "      <th>medical_info</th>\n",
       "    </tr>\n",
       "  </thead>\n",
       "  <tbody>\n",
       "    <tr>\n",
       "      <th>0</th>\n",
       "      <td>0</td>\n",
       "      <td>82.0</td>\n",
       "      <td>f</td>\n",
       "      <td>f</td>\n",
       "      <td>f</td>\n",
       "      <td>f</td>\n",
       "      <td>f</td>\n",
       "      <td>f</td>\n",
       "      <td>f</td>\n",
       "      <td>f</td>\n",
       "      <td>f</td>\n",
       "      <td>2.2</td>\n",
       "      <td>t</td>\n",
       "      <td>1.0</td>\n",
       "      <td>68.0</td>\n",
       "      <td>0.77</td>\n",
       "      <td>t</td>\n",
       "      <td>f</td>\n",
       "      <td>?</td>\n",
       "      <td>SVI</td>\n",
       "      <td>negative.|991</td>\n",
       "      <td>Local-gov</td>\n",
       "      <td>141649</td>\n",
       "      <td>Assoc-voc</td>\n",
       "      <td>11</td>\n",
       "      <td>Married-civ-spouse</td>\n",
       "      <td>Protective-serv</td>\n",
       "      <td>Husband</td>\n",
       "      <td>White</td>\n",
       "      <td>0</td>\n",
       "      <td>0</td>\n",
       "      <td>40</td>\n",
       "      <td>United-States</td>\n",
       "      <td>1935-05-20 00:00:00</td>\n",
       "      <td>{'TSH measured':'t','sex':'M','query hyperthyr...</td>\n",
       "    </tr>\n",
       "    <tr>\n",
       "      <th>1</th>\n",
       "      <td>1</td>\n",
       "      <td>50.0</td>\n",
       "      <td>f</td>\n",
       "      <td>f</td>\n",
       "      <td>f</td>\n",
       "      <td>t</td>\n",
       "      <td>f</td>\n",
       "      <td>f</td>\n",
       "      <td>f</td>\n",
       "      <td>f</td>\n",
       "      <td>f</td>\n",
       "      <td>76.0</td>\n",
       "      <td>t</td>\n",
       "      <td>0.5</td>\n",
       "      <td>22.0</td>\n",
       "      <td>1.12</td>\n",
       "      <td>t</td>\n",
       "      <td>f</td>\n",
       "      <td>?</td>\n",
       "      <td>other</td>\n",
       "      <td>negative.|1685</td>\n",
       "      <td>Local-gov</td>\n",
       "      <td>177599</td>\n",
       "      <td>Bachelors</td>\n",
       "      <td>13</td>\n",
       "      <td>Divorced</td>\n",
       "      <td>Prof-specialty</td>\n",
       "      <td>Unmarried</td>\n",
       "      <td>White</td>\n",
       "      <td>0</td>\n",
       "      <td>0</td>\n",
       "      <td>35</td>\n",
       "      <td>United-States</td>\n",
       "      <td>67-08-03</td>\n",
       "      <td>{'TSH measured':'t','sex':'F','query hyperthyr...</td>\n",
       "    </tr>\n",
       "    <tr>\n",
       "      <th>2</th>\n",
       "      <td>2</td>\n",
       "      <td>41.0</td>\n",
       "      <td>f</td>\n",
       "      <td>f</td>\n",
       "      <td>f</td>\n",
       "      <td>f</td>\n",
       "      <td>f</td>\n",
       "      <td>f</td>\n",
       "      <td>f</td>\n",
       "      <td>f</td>\n",
       "      <td>f</td>\n",
       "      <td>NaN</td>\n",
       "      <td>t</td>\n",
       "      <td>2.0</td>\n",
       "      <td>99.0</td>\n",
       "      <td>0.96</td>\n",
       "      <td>t</td>\n",
       "      <td>f</td>\n",
       "      <td>?</td>\n",
       "      <td>other</td>\n",
       "      <td>negative.|3504</td>\n",
       "      <td>Self-emp-not-inc</td>\n",
       "      <td>102631</td>\n",
       "      <td>Some-college</td>\n",
       "      <td>10</td>\n",
       "      <td>Widowed</td>\n",
       "      <td>Farming-fishing</td>\n",
       "      <td>Unmarried</td>\n",
       "      <td>White</td>\n",
       "      <td>0</td>\n",
       "      <td>0</td>\n",
       "      <td>50</td>\n",
       "      <td>United-States</td>\n",
       "      <td>1976-05-02</td>\n",
       "      <td>{'TSH measured':'f','sex':'F','query hyperthyr...</td>\n",
       "    </tr>\n",
       "    <tr>\n",
       "      <th>3</th>\n",
       "      <td>3</td>\n",
       "      <td>73.0</td>\n",
       "      <td>f</td>\n",
       "      <td>f</td>\n",
       "      <td>f</td>\n",
       "      <td>f</td>\n",
       "      <td>f</td>\n",
       "      <td>f</td>\n",
       "      <td>f</td>\n",
       "      <td>f</td>\n",
       "      <td>f</td>\n",
       "      <td>0.7</td>\n",
       "      <td>t</td>\n",
       "      <td>2.0</td>\n",
       "      <td>116.0</td>\n",
       "      <td>0.99</td>\n",
       "      <td>t</td>\n",
       "      <td>f</td>\n",
       "      <td>?</td>\n",
       "      <td>other</td>\n",
       "      <td>negative.|1942</td>\n",
       "      <td>private</td>\n",
       "      <td>272338</td>\n",
       "      <td>HS-grad</td>\n",
       "      <td>9</td>\n",
       "      <td>Married-civ-spouse</td>\n",
       "      <td>Adm-clerical</td>\n",
       "      <td>Wife</td>\n",
       "      <td>White</td>\n",
       "      <td>0</td>\n",
       "      <td>0</td>\n",
       "      <td>25</td>\n",
       "      <td>United-States</td>\n",
       "      <td>44-10-08</td>\n",
       "      <td>{'TSH measured':'t','sex':'F','query hyperthyr...</td>\n",
       "    </tr>\n",
       "    <tr>\n",
       "      <th>4</th>\n",
       "      <td>4</td>\n",
       "      <td>64.0</td>\n",
       "      <td>f</td>\n",
       "      <td>f</td>\n",
       "      <td>f</td>\n",
       "      <td>f</td>\n",
       "      <td>f</td>\n",
       "      <td>f</td>\n",
       "      <td>f</td>\n",
       "      <td>f</td>\n",
       "      <td>f</td>\n",
       "      <td>2.0</td>\n",
       "      <td>t</td>\n",
       "      <td>1.8</td>\n",
       "      <td>80.0</td>\n",
       "      <td>0.91</td>\n",
       "      <td>t</td>\n",
       "      <td>f</td>\n",
       "      <td>?</td>\n",
       "      <td>SVHC</td>\n",
       "      <td>negative.|2009</td>\n",
       "      <td>Self-emp-inc</td>\n",
       "      <td>368825</td>\n",
       "      <td>Some-college</td>\n",
       "      <td>10</td>\n",
       "      <td>Married-civ-spouse</td>\n",
       "      <td>Sales</td>\n",
       "      <td>Husband</td>\n",
       "      <td>White</td>\n",
       "      <td>0</td>\n",
       "      <td>0</td>\n",
       "      <td>60</td>\n",
       "      <td>United-States</td>\n",
       "      <td>1953-05-01</td>\n",
       "      <td>{'TSH measured':'t','sex':'M','query hyperthyr...</td>\n",
       "    </tr>\n",
       "  </tbody>\n",
       "</table>\n",
       "</div>"
      ],
      "text/plain": [
       "   Unnamed: 0   age on thyroxine query on thyroxine pregnant thyroid surgery  \\\n",
       "0           0  82.0            f                  f        f               f   \n",
       "1           1  50.0            f                  f        f               t   \n",
       "2           2  41.0            f                  f        f               f   \n",
       "3           3  73.0            f                  f        f               f   \n",
       "4           4  64.0            f                  f        f               f   \n",
       "\n",
       "  I131 treatment lithium goitre tumor hypopituitary   TSH T3 measured   T3  \\\n",
       "0              f       f      f     f             f   2.2           t  1.0   \n",
       "1              f       f      f     f             f  76.0           t  0.5   \n",
       "2              f       f      f     f             f   NaN           t  2.0   \n",
       "3              f       f      f     f             f   0.7           t  2.0   \n",
       "4              f       f      f     f             f   2.0           t  1.8   \n",
       "\n",
       "     TT4   T4U FTI measured TBG measured TBG referral source           class  \\\n",
       "0   68.0  0.77            t            f   ?             SVI   negative.|991   \n",
       "1   22.0  1.12            t            f   ?           other  negative.|1685   \n",
       "2   99.0  0.96            t            f   ?           other  negative.|3504   \n",
       "3  116.0  0.99            t            f   ?           other  negative.|1942   \n",
       "4   80.0  0.91            t            f   ?            SVHC  negative.|2009   \n",
       "\n",
       "           workclass  fnlwgt      education  education-num  \\\n",
       "0          Local-gov  141649      Assoc-voc             11   \n",
       "1          Local-gov  177599      Bachelors             13   \n",
       "2   Self-emp-not-inc  102631   Some-college             10   \n",
       "3            private  272338        HS-grad              9   \n",
       "4       Self-emp-inc  368825   Some-college             10   \n",
       "\n",
       "        marital-status        occupation relationship    race  capital-gain  \\\n",
       "0   Married-civ-spouse   Protective-serv      Husband   White             0   \n",
       "1             Divorced    Prof-specialty    Unmarried   White             0   \n",
       "2              Widowed   Farming-fishing    Unmarried   White             0   \n",
       "3   Married-civ-spouse      Adm-clerical         Wife   White             0   \n",
       "4   Married-civ-spouse             Sales      Husband   White             0   \n",
       "\n",
       "   capital-loss  hours-per-week  native-country        date_of_birth  \\\n",
       "0             0              40   United-States  1935-05-20 00:00:00   \n",
       "1             0              35   United-States             67-08-03   \n",
       "2             0              50   United-States           1976-05-02   \n",
       "3             0              25   United-States             44-10-08   \n",
       "4             0              60   United-States           1953-05-01   \n",
       "\n",
       "                                        medical_info  \n",
       "0  {'TSH measured':'t','sex':'M','query hyperthyr...  \n",
       "1  {'TSH measured':'t','sex':'F','query hyperthyr...  \n",
       "2  {'TSH measured':'f','sex':'F','query hyperthyr...  \n",
       "3  {'TSH measured':'t','sex':'F','query hyperthyr...  \n",
       "4  {'TSH measured':'t','sex':'M','query hyperthyr...  "
      ]
     },
     "execution_count": 9,
     "metadata": {},
     "output_type": "execute_result"
    }
   ],
   "source": [
    "train_data = pd.read_csv('data/train.csv')\n",
    "train_data.head()"
   ]
  },
  {
   "cell_type": "code",
   "execution_count": 8,
   "metadata": {},
   "outputs": [
    {
     "name": "stdout",
     "output_type": "stream",
     "text": [
      "<class 'pandas.core.frame.DataFrame'>\n",
      "RangeIndex: 2800 entries, 0 to 2799\n",
      "Data columns (total 35 columns):\n",
      "Unnamed: 0            2800 non-null int64\n",
      "age                   2519 non-null float64\n",
      "on thyroxine          2800 non-null object\n",
      "query on thyroxine    2800 non-null object\n",
      "pregnant              2800 non-null object\n",
      "thyroid surgery       2800 non-null object\n",
      "I131 treatment        2800 non-null object\n",
      "lithium               2800 non-null object\n",
      "goitre                2800 non-null object\n",
      "tumor                 2800 non-null object\n",
      "hypopituitary         2800 non-null object\n",
      "TSH                   2516 non-null float64\n",
      "T3 measured           2800 non-null object\n",
      "T3                    2215 non-null float64\n",
      "TT4                   2451 non-null object\n",
      "T4U                   2503 non-null float64\n",
      "FTI measured          2800 non-null object\n",
      "TBG measured          2800 non-null object\n",
      "TBG                   2800 non-null object\n",
      "referral source       2800 non-null object\n",
      "class                 2800 non-null object\n",
      "workclass             2800 non-null object\n",
      "fnlwgt                2800 non-null int64\n",
      "education             2800 non-null object\n",
      "education-num         2800 non-null int64\n",
      "marital-status        2800 non-null object\n",
      "occupation            2800 non-null object\n",
      "relationship          2800 non-null object\n",
      "race                  2800 non-null object\n",
      "capital-gain          2800 non-null int64\n",
      "capital-loss          2800 non-null int64\n",
      "hours-per-week        2800 non-null int64\n",
      "native-country        2800 non-null object\n",
      "date_of_birth         2799 non-null object\n",
      "medical_info          2800 non-null object\n",
      "dtypes: float64(4), int64(6), object(25)\n",
      "memory usage: 765.7+ KB\n"
     ]
    }
   ],
   "source": [
    "train_data.info()"
   ]
  },
  {
   "cell_type": "code",
   "execution_count": 27,
   "metadata": {},
   "outputs": [
    {
     "data": {
      "text/plain": [
       "Series([], dtype: bool)"
      ]
     },
     "execution_count": 27,
     "metadata": {},
     "output_type": "execute_result"
    }
   ],
   "source": [
    "b = pd.Series(train_data['Unnamed: 0']) == pd.Series(np.arange(train_data.shape[0]))\n",
    "b[b == False]"
   ]
  },
  {
   "cell_type": "code",
   "execution_count": 33,
   "metadata": {},
   "outputs": [
    {
     "data": {
      "text/html": [
       "<div>\n",
       "<style scoped>\n",
       "    .dataframe tbody tr th:only-of-type {\n",
       "        vertical-align: middle;\n",
       "    }\n",
       "\n",
       "    .dataframe tbody tr th {\n",
       "        vertical-align: top;\n",
       "    }\n",
       "\n",
       "    .dataframe thead th {\n",
       "        text-align: right;\n",
       "    }\n",
       "</style>\n",
       "<table border=\"1\" class=\"dataframe\">\n",
       "  <thead>\n",
       "    <tr style=\"text-align: right;\">\n",
       "      <th></th>\n",
       "      <th>age</th>\n",
       "      <th>on thyroxine</th>\n",
       "      <th>query on thyroxine</th>\n",
       "      <th>pregnant</th>\n",
       "      <th>thyroid surgery</th>\n",
       "      <th>I131 treatment</th>\n",
       "      <th>lithium</th>\n",
       "      <th>goitre</th>\n",
       "      <th>tumor</th>\n",
       "      <th>hypopituitary</th>\n",
       "      <th>TSH</th>\n",
       "      <th>T3 measured</th>\n",
       "      <th>T3</th>\n",
       "      <th>TT4</th>\n",
       "      <th>T4U</th>\n",
       "      <th>FTI measured</th>\n",
       "      <th>TBG measured</th>\n",
       "      <th>TBG</th>\n",
       "      <th>referral source</th>\n",
       "      <th>class</th>\n",
       "      <th>workclass</th>\n",
       "      <th>fnlwgt</th>\n",
       "      <th>education</th>\n",
       "      <th>education-num</th>\n",
       "      <th>marital-status</th>\n",
       "      <th>occupation</th>\n",
       "      <th>relationship</th>\n",
       "      <th>race</th>\n",
       "      <th>capital-gain</th>\n",
       "      <th>capital-loss</th>\n",
       "      <th>hours-per-week</th>\n",
       "      <th>native-country</th>\n",
       "      <th>date_of_birth</th>\n",
       "      <th>TSH measured</th>\n",
       "      <th>sex</th>\n",
       "      <th>query hyperthyroid</th>\n",
       "      <th>TT4 measured</th>\n",
       "      <th>on antithyroid medication</th>\n",
       "      <th>FTI</th>\n",
       "      <th>sick</th>\n",
       "      <th>T4U measured</th>\n",
       "      <th>psych</th>\n",
       "      <th>query hypothyroid</th>\n",
       "    </tr>\n",
       "    <tr>\n",
       "      <th>id</th>\n",
       "      <th></th>\n",
       "      <th></th>\n",
       "      <th></th>\n",
       "      <th></th>\n",
       "      <th></th>\n",
       "      <th></th>\n",
       "      <th></th>\n",
       "      <th></th>\n",
       "      <th></th>\n",
       "      <th></th>\n",
       "      <th></th>\n",
       "      <th></th>\n",
       "      <th></th>\n",
       "      <th></th>\n",
       "      <th></th>\n",
       "      <th></th>\n",
       "      <th></th>\n",
       "      <th></th>\n",
       "      <th></th>\n",
       "      <th></th>\n",
       "      <th></th>\n",
       "      <th></th>\n",
       "      <th></th>\n",
       "      <th></th>\n",
       "      <th></th>\n",
       "      <th></th>\n",
       "      <th></th>\n",
       "      <th></th>\n",
       "      <th></th>\n",
       "      <th></th>\n",
       "      <th></th>\n",
       "      <th></th>\n",
       "      <th></th>\n",
       "      <th></th>\n",
       "      <th></th>\n",
       "      <th></th>\n",
       "      <th></th>\n",
       "      <th></th>\n",
       "      <th></th>\n",
       "      <th></th>\n",
       "      <th></th>\n",
       "      <th></th>\n",
       "      <th></th>\n",
       "    </tr>\n",
       "  </thead>\n",
       "  <tbody>\n",
       "    <tr>\n",
       "      <th>0</th>\n",
       "      <td>82.0</td>\n",
       "      <td>f</td>\n",
       "      <td>f</td>\n",
       "      <td>f</td>\n",
       "      <td>f</td>\n",
       "      <td>f</td>\n",
       "      <td>f</td>\n",
       "      <td>f</td>\n",
       "      <td>f</td>\n",
       "      <td>f</td>\n",
       "      <td>2.2</td>\n",
       "      <td>t</td>\n",
       "      <td>1.0</td>\n",
       "      <td>68.0</td>\n",
       "      <td>0.77</td>\n",
       "      <td>t</td>\n",
       "      <td>f</td>\n",
       "      <td>?</td>\n",
       "      <td>SVI</td>\n",
       "      <td>negative.|991</td>\n",
       "      <td>Local-gov</td>\n",
       "      <td>141649</td>\n",
       "      <td>Assoc-voc</td>\n",
       "      <td>11</td>\n",
       "      <td>Married-civ-spouse</td>\n",
       "      <td>Protective-serv</td>\n",
       "      <td>Husband</td>\n",
       "      <td>White</td>\n",
       "      <td>0</td>\n",
       "      <td>0</td>\n",
       "      <td>40</td>\n",
       "      <td>United-States</td>\n",
       "      <td>1935-05-20 00:00:00</td>\n",
       "      <td>t</td>\n",
       "      <td>M</td>\n",
       "      <td>f</td>\n",
       "      <td>t</td>\n",
       "      <td>f</td>\n",
       "      <td>88</td>\n",
       "      <td>f</td>\n",
       "      <td>t</td>\n",
       "      <td>f</td>\n",
       "      <td>f</td>\n",
       "    </tr>\n",
       "    <tr>\n",
       "      <th>1</th>\n",
       "      <td>50.0</td>\n",
       "      <td>f</td>\n",
       "      <td>f</td>\n",
       "      <td>f</td>\n",
       "      <td>t</td>\n",
       "      <td>f</td>\n",
       "      <td>f</td>\n",
       "      <td>f</td>\n",
       "      <td>f</td>\n",
       "      <td>f</td>\n",
       "      <td>76.0</td>\n",
       "      <td>t</td>\n",
       "      <td>0.5</td>\n",
       "      <td>22.0</td>\n",
       "      <td>1.12</td>\n",
       "      <td>t</td>\n",
       "      <td>f</td>\n",
       "      <td>?</td>\n",
       "      <td>other</td>\n",
       "      <td>negative.|1685</td>\n",
       "      <td>Local-gov</td>\n",
       "      <td>177599</td>\n",
       "      <td>Bachelors</td>\n",
       "      <td>13</td>\n",
       "      <td>Divorced</td>\n",
       "      <td>Prof-specialty</td>\n",
       "      <td>Unmarried</td>\n",
       "      <td>White</td>\n",
       "      <td>0</td>\n",
       "      <td>0</td>\n",
       "      <td>35</td>\n",
       "      <td>United-States</td>\n",
       "      <td>67-08-03</td>\n",
       "      <td>t</td>\n",
       "      <td>F</td>\n",
       "      <td>f</td>\n",
       "      <td>t</td>\n",
       "      <td>f</td>\n",
       "      <td>19</td>\n",
       "      <td>f</td>\n",
       "      <td>t</td>\n",
       "      <td>f</td>\n",
       "      <td>f</td>\n",
       "    </tr>\n",
       "    <tr>\n",
       "      <th>2</th>\n",
       "      <td>41.0</td>\n",
       "      <td>f</td>\n",
       "      <td>f</td>\n",
       "      <td>f</td>\n",
       "      <td>f</td>\n",
       "      <td>f</td>\n",
       "      <td>f</td>\n",
       "      <td>f</td>\n",
       "      <td>f</td>\n",
       "      <td>f</td>\n",
       "      <td>NaN</td>\n",
       "      <td>t</td>\n",
       "      <td>2.0</td>\n",
       "      <td>99.0</td>\n",
       "      <td>0.96</td>\n",
       "      <td>t</td>\n",
       "      <td>f</td>\n",
       "      <td>?</td>\n",
       "      <td>other</td>\n",
       "      <td>negative.|3504</td>\n",
       "      <td>Self-emp-not-inc</td>\n",
       "      <td>102631</td>\n",
       "      <td>Some-college</td>\n",
       "      <td>10</td>\n",
       "      <td>Widowed</td>\n",
       "      <td>Farming-fishing</td>\n",
       "      <td>Unmarried</td>\n",
       "      <td>White</td>\n",
       "      <td>0</td>\n",
       "      <td>0</td>\n",
       "      <td>50</td>\n",
       "      <td>United-States</td>\n",
       "      <td>1976-05-02</td>\n",
       "      <td>f</td>\n",
       "      <td>F</td>\n",
       "      <td>f</td>\n",
       "      <td>t</td>\n",
       "      <td>f</td>\n",
       "      <td>104</td>\n",
       "      <td>f</td>\n",
       "      <td>t</td>\n",
       "      <td>f</td>\n",
       "      <td>f</td>\n",
       "    </tr>\n",
       "    <tr>\n",
       "      <th>3</th>\n",
       "      <td>73.0</td>\n",
       "      <td>f</td>\n",
       "      <td>f</td>\n",
       "      <td>f</td>\n",
       "      <td>f</td>\n",
       "      <td>f</td>\n",
       "      <td>f</td>\n",
       "      <td>f</td>\n",
       "      <td>f</td>\n",
       "      <td>f</td>\n",
       "      <td>0.7</td>\n",
       "      <td>t</td>\n",
       "      <td>2.0</td>\n",
       "      <td>116.0</td>\n",
       "      <td>0.99</td>\n",
       "      <td>t</td>\n",
       "      <td>f</td>\n",
       "      <td>?</td>\n",
       "      <td>other</td>\n",
       "      <td>negative.|1942</td>\n",
       "      <td>private</td>\n",
       "      <td>272338</td>\n",
       "      <td>HS-grad</td>\n",
       "      <td>9</td>\n",
       "      <td>Married-civ-spouse</td>\n",
       "      <td>Adm-clerical</td>\n",
       "      <td>Wife</td>\n",
       "      <td>White</td>\n",
       "      <td>0</td>\n",
       "      <td>0</td>\n",
       "      <td>25</td>\n",
       "      <td>United-States</td>\n",
       "      <td>44-10-08</td>\n",
       "      <td>t</td>\n",
       "      <td>F</td>\n",
       "      <td>f</td>\n",
       "      <td>t</td>\n",
       "      <td>f</td>\n",
       "      <td>117</td>\n",
       "      <td>f</td>\n",
       "      <td>t</td>\n",
       "      <td>f</td>\n",
       "      <td>f</td>\n",
       "    </tr>\n",
       "    <tr>\n",
       "      <th>4</th>\n",
       "      <td>64.0</td>\n",
       "      <td>f</td>\n",
       "      <td>f</td>\n",
       "      <td>f</td>\n",
       "      <td>f</td>\n",
       "      <td>f</td>\n",
       "      <td>f</td>\n",
       "      <td>f</td>\n",
       "      <td>f</td>\n",
       "      <td>f</td>\n",
       "      <td>2.0</td>\n",
       "      <td>t</td>\n",
       "      <td>1.8</td>\n",
       "      <td>80.0</td>\n",
       "      <td>0.91</td>\n",
       "      <td>t</td>\n",
       "      <td>f</td>\n",
       "      <td>?</td>\n",
       "      <td>SVHC</td>\n",
       "      <td>negative.|2009</td>\n",
       "      <td>Self-emp-inc</td>\n",
       "      <td>368825</td>\n",
       "      <td>Some-college</td>\n",
       "      <td>10</td>\n",
       "      <td>Married-civ-spouse</td>\n",
       "      <td>Sales</td>\n",
       "      <td>Husband</td>\n",
       "      <td>White</td>\n",
       "      <td>0</td>\n",
       "      <td>0</td>\n",
       "      <td>60</td>\n",
       "      <td>United-States</td>\n",
       "      <td>1953-05-01</td>\n",
       "      <td>t</td>\n",
       "      <td>M</td>\n",
       "      <td>f</td>\n",
       "      <td>t</td>\n",
       "      <td>f</td>\n",
       "      <td>88</td>\n",
       "      <td>f</td>\n",
       "      <td>t</td>\n",
       "      <td>f</td>\n",
       "      <td>f</td>\n",
       "    </tr>\n",
       "  </tbody>\n",
       "</table>\n",
       "</div>"
      ],
      "text/plain": [
       "     age on thyroxine query on thyroxine pregnant thyroid surgery  \\\n",
       "id                                                                  \n",
       "0   82.0            f                  f        f               f   \n",
       "1   50.0            f                  f        f               t   \n",
       "2   41.0            f                  f        f               f   \n",
       "3   73.0            f                  f        f               f   \n",
       "4   64.0            f                  f        f               f   \n",
       "\n",
       "   I131 treatment lithium goitre tumor hypopituitary   TSH T3 measured   T3  \\\n",
       "id                                                                            \n",
       "0               f       f      f     f             f   2.2           t  1.0   \n",
       "1               f       f      f     f             f  76.0           t  0.5   \n",
       "2               f       f      f     f             f   NaN           t  2.0   \n",
       "3               f       f      f     f             f   0.7           t  2.0   \n",
       "4               f       f      f     f             f   2.0           t  1.8   \n",
       "\n",
       "      TT4   T4U FTI measured TBG measured TBG referral source           class  \\\n",
       "id                                                                              \n",
       "0    68.0  0.77            t            f   ?             SVI   negative.|991   \n",
       "1    22.0  1.12            t            f   ?           other  negative.|1685   \n",
       "2    99.0  0.96            t            f   ?           other  negative.|3504   \n",
       "3   116.0  0.99            t            f   ?           other  negative.|1942   \n",
       "4    80.0  0.91            t            f   ?            SVHC  negative.|2009   \n",
       "\n",
       "            workclass  fnlwgt      education  education-num  \\\n",
       "id                                                            \n",
       "0           Local-gov  141649      Assoc-voc             11   \n",
       "1           Local-gov  177599      Bachelors             13   \n",
       "2    Self-emp-not-inc  102631   Some-college             10   \n",
       "3             private  272338        HS-grad              9   \n",
       "4        Self-emp-inc  368825   Some-college             10   \n",
       "\n",
       "         marital-status        occupation relationship    race  capital-gain  \\\n",
       "id                                                                             \n",
       "0    Married-civ-spouse   Protective-serv      Husband   White             0   \n",
       "1              Divorced    Prof-specialty    Unmarried   White             0   \n",
       "2               Widowed   Farming-fishing    Unmarried   White             0   \n",
       "3    Married-civ-spouse      Adm-clerical         Wife   White             0   \n",
       "4    Married-civ-spouse             Sales      Husband   White             0   \n",
       "\n",
       "    capital-loss  hours-per-week  native-country        date_of_birth  \\\n",
       "id                                                                      \n",
       "0              0              40   United-States  1935-05-20 00:00:00   \n",
       "1              0              35   United-States             67-08-03   \n",
       "2              0              50   United-States           1976-05-02   \n",
       "3              0              25   United-States             44-10-08   \n",
       "4              0              60   United-States           1953-05-01   \n",
       "\n",
       "   TSH measured sex query hyperthyroid TT4 measured on antithyroid medication  \\\n",
       "id                                                                              \n",
       "0             t   M                  f            t                         f   \n",
       "1             t   F                  f            t                         f   \n",
       "2             f   F                  f            t                         f   \n",
       "3             t   F                  f            t                         f   \n",
       "4             t   M                  f            t                         f   \n",
       "\n",
       "    FTI sick T4U measured psych query hypothyroid  \n",
       "id                                                 \n",
       "0    88    f            t     f                 f  \n",
       "1    19    f            t     f                 f  \n",
       "2   104    f            t     f                 f  \n",
       "3   117    f            t     f                 f  \n",
       "4    88    f            t     f                 f  "
      ]
     },
     "execution_count": 33,
     "metadata": {},
     "output_type": "execute_result"
    }
   ],
   "source": [
    "train_data = train_data.set_index('Unnamed: 0')\n",
    "train_data.index.names = ['id']\n",
    "train_data.head()"
   ]
  },
  {
   "cell_type": "code",
   "execution_count": 28,
   "metadata": {},
   "outputs": [
    {
     "data": {
      "text/plain": [
       "\"{'TSH measured':'t','sex':'M','query hyperthyroid':'f','TT4 measured':'t','on antithyroid medication':'f','FTI':'88','sick':'f','T4U measured':'t','psych':'f','query hypothyroid':'f'}\""
      ]
     },
     "execution_count": 28,
     "metadata": {},
     "output_type": "execute_result"
    }
   ],
   "source": [
    "train_data['medical_info'][0]"
   ]
  },
  {
   "cell_type": "code",
   "execution_count": 30,
   "metadata": {},
   "outputs": [
    {
     "data": {
      "text/html": [
       "<div>\n",
       "<style scoped>\n",
       "    .dataframe tbody tr th:only-of-type {\n",
       "        vertical-align: middle;\n",
       "    }\n",
       "\n",
       "    .dataframe tbody tr th {\n",
       "        vertical-align: top;\n",
       "    }\n",
       "\n",
       "    .dataframe thead th {\n",
       "        text-align: right;\n",
       "    }\n",
       "</style>\n",
       "<table border=\"1\" class=\"dataframe\">\n",
       "  <thead>\n",
       "    <tr style=\"text-align: right;\">\n",
       "      <th></th>\n",
       "      <th>Unnamed: 0</th>\n",
       "      <th>age</th>\n",
       "      <th>on thyroxine</th>\n",
       "      <th>query on thyroxine</th>\n",
       "      <th>pregnant</th>\n",
       "      <th>thyroid surgery</th>\n",
       "      <th>I131 treatment</th>\n",
       "      <th>lithium</th>\n",
       "      <th>goitre</th>\n",
       "      <th>tumor</th>\n",
       "      <th>hypopituitary</th>\n",
       "      <th>TSH</th>\n",
       "      <th>T3 measured</th>\n",
       "      <th>T3</th>\n",
       "      <th>TT4</th>\n",
       "      <th>T4U</th>\n",
       "      <th>FTI measured</th>\n",
       "      <th>TBG measured</th>\n",
       "      <th>TBG</th>\n",
       "      <th>referral source</th>\n",
       "      <th>class</th>\n",
       "      <th>workclass</th>\n",
       "      <th>fnlwgt</th>\n",
       "      <th>education</th>\n",
       "      <th>education-num</th>\n",
       "      <th>marital-status</th>\n",
       "      <th>occupation</th>\n",
       "      <th>relationship</th>\n",
       "      <th>race</th>\n",
       "      <th>capital-gain</th>\n",
       "      <th>capital-loss</th>\n",
       "      <th>hours-per-week</th>\n",
       "      <th>native-country</th>\n",
       "      <th>date_of_birth</th>\n",
       "      <th>medical_info</th>\n",
       "      <th>TSH measured</th>\n",
       "      <th>sex</th>\n",
       "      <th>query hyperthyroid</th>\n",
       "      <th>TT4 measured</th>\n",
       "      <th>on antithyroid medication</th>\n",
       "      <th>FTI</th>\n",
       "      <th>sick</th>\n",
       "      <th>T4U measured</th>\n",
       "      <th>psych</th>\n",
       "      <th>query hypothyroid</th>\n",
       "    </tr>\n",
       "  </thead>\n",
       "  <tbody>\n",
       "    <tr>\n",
       "      <th>0</th>\n",
       "      <td>0</td>\n",
       "      <td>82.0</td>\n",
       "      <td>f</td>\n",
       "      <td>f</td>\n",
       "      <td>f</td>\n",
       "      <td>f</td>\n",
       "      <td>f</td>\n",
       "      <td>f</td>\n",
       "      <td>f</td>\n",
       "      <td>f</td>\n",
       "      <td>f</td>\n",
       "      <td>2.2</td>\n",
       "      <td>t</td>\n",
       "      <td>1.0</td>\n",
       "      <td>68.0</td>\n",
       "      <td>0.77</td>\n",
       "      <td>t</td>\n",
       "      <td>f</td>\n",
       "      <td>?</td>\n",
       "      <td>SVI</td>\n",
       "      <td>negative.|991</td>\n",
       "      <td>Local-gov</td>\n",
       "      <td>141649</td>\n",
       "      <td>Assoc-voc</td>\n",
       "      <td>11</td>\n",
       "      <td>Married-civ-spouse</td>\n",
       "      <td>Protective-serv</td>\n",
       "      <td>Husband</td>\n",
       "      <td>White</td>\n",
       "      <td>0</td>\n",
       "      <td>0</td>\n",
       "      <td>40</td>\n",
       "      <td>United-States</td>\n",
       "      <td>1935-05-20 00:00:00</td>\n",
       "      <td>{'TSH measured':'t','sex':'M','query hyperthyr...</td>\n",
       "      <td>NaN</td>\n",
       "      <td>NaN</td>\n",
       "      <td>NaN</td>\n",
       "      <td>NaN</td>\n",
       "      <td>NaN</td>\n",
       "      <td>NaN</td>\n",
       "      <td>NaN</td>\n",
       "      <td>NaN</td>\n",
       "      <td>NaN</td>\n",
       "      <td>NaN</td>\n",
       "    </tr>\n",
       "    <tr>\n",
       "      <th>1</th>\n",
       "      <td>1</td>\n",
       "      <td>50.0</td>\n",
       "      <td>f</td>\n",
       "      <td>f</td>\n",
       "      <td>f</td>\n",
       "      <td>t</td>\n",
       "      <td>f</td>\n",
       "      <td>f</td>\n",
       "      <td>f</td>\n",
       "      <td>f</td>\n",
       "      <td>f</td>\n",
       "      <td>76.0</td>\n",
       "      <td>t</td>\n",
       "      <td>0.5</td>\n",
       "      <td>22.0</td>\n",
       "      <td>1.12</td>\n",
       "      <td>t</td>\n",
       "      <td>f</td>\n",
       "      <td>?</td>\n",
       "      <td>other</td>\n",
       "      <td>negative.|1685</td>\n",
       "      <td>Local-gov</td>\n",
       "      <td>177599</td>\n",
       "      <td>Bachelors</td>\n",
       "      <td>13</td>\n",
       "      <td>Divorced</td>\n",
       "      <td>Prof-specialty</td>\n",
       "      <td>Unmarried</td>\n",
       "      <td>White</td>\n",
       "      <td>0</td>\n",
       "      <td>0</td>\n",
       "      <td>35</td>\n",
       "      <td>United-States</td>\n",
       "      <td>67-08-03</td>\n",
       "      <td>{'TSH measured':'t','sex':'F','query hyperthyr...</td>\n",
       "      <td>NaN</td>\n",
       "      <td>NaN</td>\n",
       "      <td>NaN</td>\n",
       "      <td>NaN</td>\n",
       "      <td>NaN</td>\n",
       "      <td>NaN</td>\n",
       "      <td>NaN</td>\n",
       "      <td>NaN</td>\n",
       "      <td>NaN</td>\n",
       "      <td>NaN</td>\n",
       "    </tr>\n",
       "    <tr>\n",
       "      <th>2</th>\n",
       "      <td>2</td>\n",
       "      <td>41.0</td>\n",
       "      <td>f</td>\n",
       "      <td>f</td>\n",
       "      <td>f</td>\n",
       "      <td>f</td>\n",
       "      <td>f</td>\n",
       "      <td>f</td>\n",
       "      <td>f</td>\n",
       "      <td>f</td>\n",
       "      <td>f</td>\n",
       "      <td>NaN</td>\n",
       "      <td>t</td>\n",
       "      <td>2.0</td>\n",
       "      <td>99.0</td>\n",
       "      <td>0.96</td>\n",
       "      <td>t</td>\n",
       "      <td>f</td>\n",
       "      <td>?</td>\n",
       "      <td>other</td>\n",
       "      <td>negative.|3504</td>\n",
       "      <td>Self-emp-not-inc</td>\n",
       "      <td>102631</td>\n",
       "      <td>Some-college</td>\n",
       "      <td>10</td>\n",
       "      <td>Widowed</td>\n",
       "      <td>Farming-fishing</td>\n",
       "      <td>Unmarried</td>\n",
       "      <td>White</td>\n",
       "      <td>0</td>\n",
       "      <td>0</td>\n",
       "      <td>50</td>\n",
       "      <td>United-States</td>\n",
       "      <td>1976-05-02</td>\n",
       "      <td>{'TSH measured':'f','sex':'F','query hyperthyr...</td>\n",
       "      <td>NaN</td>\n",
       "      <td>NaN</td>\n",
       "      <td>NaN</td>\n",
       "      <td>NaN</td>\n",
       "      <td>NaN</td>\n",
       "      <td>NaN</td>\n",
       "      <td>NaN</td>\n",
       "      <td>NaN</td>\n",
       "      <td>NaN</td>\n",
       "      <td>NaN</td>\n",
       "    </tr>\n",
       "    <tr>\n",
       "      <th>3</th>\n",
       "      <td>3</td>\n",
       "      <td>73.0</td>\n",
       "      <td>f</td>\n",
       "      <td>f</td>\n",
       "      <td>f</td>\n",
       "      <td>f</td>\n",
       "      <td>f</td>\n",
       "      <td>f</td>\n",
       "      <td>f</td>\n",
       "      <td>f</td>\n",
       "      <td>f</td>\n",
       "      <td>0.7</td>\n",
       "      <td>t</td>\n",
       "      <td>2.0</td>\n",
       "      <td>116.0</td>\n",
       "      <td>0.99</td>\n",
       "      <td>t</td>\n",
       "      <td>f</td>\n",
       "      <td>?</td>\n",
       "      <td>other</td>\n",
       "      <td>negative.|1942</td>\n",
       "      <td>private</td>\n",
       "      <td>272338</td>\n",
       "      <td>HS-grad</td>\n",
       "      <td>9</td>\n",
       "      <td>Married-civ-spouse</td>\n",
       "      <td>Adm-clerical</td>\n",
       "      <td>Wife</td>\n",
       "      <td>White</td>\n",
       "      <td>0</td>\n",
       "      <td>0</td>\n",
       "      <td>25</td>\n",
       "      <td>United-States</td>\n",
       "      <td>44-10-08</td>\n",
       "      <td>{'TSH measured':'t','sex':'F','query hyperthyr...</td>\n",
       "      <td>NaN</td>\n",
       "      <td>NaN</td>\n",
       "      <td>NaN</td>\n",
       "      <td>NaN</td>\n",
       "      <td>NaN</td>\n",
       "      <td>NaN</td>\n",
       "      <td>NaN</td>\n",
       "      <td>NaN</td>\n",
       "      <td>NaN</td>\n",
       "      <td>NaN</td>\n",
       "    </tr>\n",
       "    <tr>\n",
       "      <th>4</th>\n",
       "      <td>4</td>\n",
       "      <td>64.0</td>\n",
       "      <td>f</td>\n",
       "      <td>f</td>\n",
       "      <td>f</td>\n",
       "      <td>f</td>\n",
       "      <td>f</td>\n",
       "      <td>f</td>\n",
       "      <td>f</td>\n",
       "      <td>f</td>\n",
       "      <td>f</td>\n",
       "      <td>2.0</td>\n",
       "      <td>t</td>\n",
       "      <td>1.8</td>\n",
       "      <td>80.0</td>\n",
       "      <td>0.91</td>\n",
       "      <td>t</td>\n",
       "      <td>f</td>\n",
       "      <td>?</td>\n",
       "      <td>SVHC</td>\n",
       "      <td>negative.|2009</td>\n",
       "      <td>Self-emp-inc</td>\n",
       "      <td>368825</td>\n",
       "      <td>Some-college</td>\n",
       "      <td>10</td>\n",
       "      <td>Married-civ-spouse</td>\n",
       "      <td>Sales</td>\n",
       "      <td>Husband</td>\n",
       "      <td>White</td>\n",
       "      <td>0</td>\n",
       "      <td>0</td>\n",
       "      <td>60</td>\n",
       "      <td>United-States</td>\n",
       "      <td>1953-05-01</td>\n",
       "      <td>{'TSH measured':'t','sex':'M','query hyperthyr...</td>\n",
       "      <td>NaN</td>\n",
       "      <td>NaN</td>\n",
       "      <td>NaN</td>\n",
       "      <td>NaN</td>\n",
       "      <td>NaN</td>\n",
       "      <td>NaN</td>\n",
       "      <td>NaN</td>\n",
       "      <td>NaN</td>\n",
       "      <td>NaN</td>\n",
       "      <td>NaN</td>\n",
       "    </tr>\n",
       "  </tbody>\n",
       "</table>\n",
       "</div>"
      ],
      "text/plain": [
       "   Unnamed: 0   age on thyroxine query on thyroxine pregnant thyroid surgery  \\\n",
       "0           0  82.0            f                  f        f               f   \n",
       "1           1  50.0            f                  f        f               t   \n",
       "2           2  41.0            f                  f        f               f   \n",
       "3           3  73.0            f                  f        f               f   \n",
       "4           4  64.0            f                  f        f               f   \n",
       "\n",
       "  I131 treatment lithium goitre tumor hypopituitary   TSH T3 measured   T3  \\\n",
       "0              f       f      f     f             f   2.2           t  1.0   \n",
       "1              f       f      f     f             f  76.0           t  0.5   \n",
       "2              f       f      f     f             f   NaN           t  2.0   \n",
       "3              f       f      f     f             f   0.7           t  2.0   \n",
       "4              f       f      f     f             f   2.0           t  1.8   \n",
       "\n",
       "     TT4   T4U FTI measured TBG measured TBG referral source           class  \\\n",
       "0   68.0  0.77            t            f   ?             SVI   negative.|991   \n",
       "1   22.0  1.12            t            f   ?           other  negative.|1685   \n",
       "2   99.0  0.96            t            f   ?           other  negative.|3504   \n",
       "3  116.0  0.99            t            f   ?           other  negative.|1942   \n",
       "4   80.0  0.91            t            f   ?            SVHC  negative.|2009   \n",
       "\n",
       "           workclass  fnlwgt      education  education-num  \\\n",
       "0          Local-gov  141649      Assoc-voc             11   \n",
       "1          Local-gov  177599      Bachelors             13   \n",
       "2   Self-emp-not-inc  102631   Some-college             10   \n",
       "3            private  272338        HS-grad              9   \n",
       "4       Self-emp-inc  368825   Some-college             10   \n",
       "\n",
       "        marital-status        occupation relationship    race  capital-gain  \\\n",
       "0   Married-civ-spouse   Protective-serv      Husband   White             0   \n",
       "1             Divorced    Prof-specialty    Unmarried   White             0   \n",
       "2              Widowed   Farming-fishing    Unmarried   White             0   \n",
       "3   Married-civ-spouse      Adm-clerical         Wife   White             0   \n",
       "4   Married-civ-spouse             Sales      Husband   White             0   \n",
       "\n",
       "   capital-loss  hours-per-week  native-country        date_of_birth  \\\n",
       "0             0              40   United-States  1935-05-20 00:00:00   \n",
       "1             0              35   United-States             67-08-03   \n",
       "2             0              50   United-States           1976-05-02   \n",
       "3             0              25   United-States             44-10-08   \n",
       "4             0              60   United-States           1953-05-01   \n",
       "\n",
       "                                        medical_info  TSH measured  sex  \\\n",
       "0  {'TSH measured':'t','sex':'M','query hyperthyr...           NaN  NaN   \n",
       "1  {'TSH measured':'t','sex':'F','query hyperthyr...           NaN  NaN   \n",
       "2  {'TSH measured':'f','sex':'F','query hyperthyr...           NaN  NaN   \n",
       "3  {'TSH measured':'t','sex':'F','query hyperthyr...           NaN  NaN   \n",
       "4  {'TSH measured':'t','sex':'M','query hyperthyr...           NaN  NaN   \n",
       "\n",
       "   query hyperthyroid  TT4 measured  on antithyroid medication  FTI  sick  \\\n",
       "0                 NaN           NaN                        NaN  NaN   NaN   \n",
       "1                 NaN           NaN                        NaN  NaN   NaN   \n",
       "2                 NaN           NaN                        NaN  NaN   NaN   \n",
       "3                 NaN           NaN                        NaN  NaN   NaN   \n",
       "4                 NaN           NaN                        NaN  NaN   NaN   \n",
       "\n",
       "   T4U measured  psych  query hypothyroid  \n",
       "0           NaN    NaN                NaN  \n",
       "1           NaN    NaN                NaN  \n",
       "2           NaN    NaN                NaN  \n",
       "3           NaN    NaN                NaN  \n",
       "4           NaN    NaN                NaN  "
      ]
     },
     "execution_count": 30,
     "metadata": {},
     "output_type": "execute_result"
    }
   ],
   "source": [
    "import json\n",
    "raw = train_data.loc[1, 'medical_info']\n",
    "raw = raw.replace(\"'\", '\"')\n",
    "data = json.loads(raw)\n",
    "\n",
    "for k in data.keys():\n",
    "    train_data[k] = np.nan"
   ]
  },
  {
   "cell_type": "code",
   "execution_count": 32,
   "metadata": {},
   "outputs": [
    {
     "data": {
      "text/html": [
       "<div>\n",
       "<style scoped>\n",
       "    .dataframe tbody tr th:only-of-type {\n",
       "        vertical-align: middle;\n",
       "    }\n",
       "\n",
       "    .dataframe tbody tr th {\n",
       "        vertical-align: top;\n",
       "    }\n",
       "\n",
       "    .dataframe thead th {\n",
       "        text-align: right;\n",
       "    }\n",
       "</style>\n",
       "<table border=\"1\" class=\"dataframe\">\n",
       "  <thead>\n",
       "    <tr style=\"text-align: right;\">\n",
       "      <th></th>\n",
       "      <th>Unnamed: 0</th>\n",
       "      <th>age</th>\n",
       "      <th>on thyroxine</th>\n",
       "      <th>query on thyroxine</th>\n",
       "      <th>pregnant</th>\n",
       "      <th>thyroid surgery</th>\n",
       "      <th>I131 treatment</th>\n",
       "      <th>lithium</th>\n",
       "      <th>goitre</th>\n",
       "      <th>tumor</th>\n",
       "      <th>hypopituitary</th>\n",
       "      <th>TSH</th>\n",
       "      <th>T3 measured</th>\n",
       "      <th>T3</th>\n",
       "      <th>TT4</th>\n",
       "      <th>T4U</th>\n",
       "      <th>FTI measured</th>\n",
       "      <th>TBG measured</th>\n",
       "      <th>TBG</th>\n",
       "      <th>referral source</th>\n",
       "      <th>class</th>\n",
       "      <th>workclass</th>\n",
       "      <th>fnlwgt</th>\n",
       "      <th>education</th>\n",
       "      <th>education-num</th>\n",
       "      <th>marital-status</th>\n",
       "      <th>occupation</th>\n",
       "      <th>relationship</th>\n",
       "      <th>race</th>\n",
       "      <th>capital-gain</th>\n",
       "      <th>capital-loss</th>\n",
       "      <th>hours-per-week</th>\n",
       "      <th>native-country</th>\n",
       "      <th>date_of_birth</th>\n",
       "      <th>TSH measured</th>\n",
       "      <th>sex</th>\n",
       "      <th>query hyperthyroid</th>\n",
       "      <th>TT4 measured</th>\n",
       "      <th>on antithyroid medication</th>\n",
       "      <th>FTI</th>\n",
       "      <th>sick</th>\n",
       "      <th>T4U measured</th>\n",
       "      <th>psych</th>\n",
       "      <th>query hypothyroid</th>\n",
       "    </tr>\n",
       "  </thead>\n",
       "  <tbody>\n",
       "    <tr>\n",
       "      <th>0</th>\n",
       "      <td>0</td>\n",
       "      <td>82.0</td>\n",
       "      <td>f</td>\n",
       "      <td>f</td>\n",
       "      <td>f</td>\n",
       "      <td>f</td>\n",
       "      <td>f</td>\n",
       "      <td>f</td>\n",
       "      <td>f</td>\n",
       "      <td>f</td>\n",
       "      <td>f</td>\n",
       "      <td>2.2</td>\n",
       "      <td>t</td>\n",
       "      <td>1.0</td>\n",
       "      <td>68.0</td>\n",
       "      <td>0.77</td>\n",
       "      <td>t</td>\n",
       "      <td>f</td>\n",
       "      <td>?</td>\n",
       "      <td>SVI</td>\n",
       "      <td>negative.|991</td>\n",
       "      <td>Local-gov</td>\n",
       "      <td>141649</td>\n",
       "      <td>Assoc-voc</td>\n",
       "      <td>11</td>\n",
       "      <td>Married-civ-spouse</td>\n",
       "      <td>Protective-serv</td>\n",
       "      <td>Husband</td>\n",
       "      <td>White</td>\n",
       "      <td>0</td>\n",
       "      <td>0</td>\n",
       "      <td>40</td>\n",
       "      <td>United-States</td>\n",
       "      <td>1935-05-20 00:00:00</td>\n",
       "      <td>t</td>\n",
       "      <td>M</td>\n",
       "      <td>f</td>\n",
       "      <td>t</td>\n",
       "      <td>f</td>\n",
       "      <td>88</td>\n",
       "      <td>f</td>\n",
       "      <td>t</td>\n",
       "      <td>f</td>\n",
       "      <td>f</td>\n",
       "    </tr>\n",
       "    <tr>\n",
       "      <th>1</th>\n",
       "      <td>1</td>\n",
       "      <td>50.0</td>\n",
       "      <td>f</td>\n",
       "      <td>f</td>\n",
       "      <td>f</td>\n",
       "      <td>t</td>\n",
       "      <td>f</td>\n",
       "      <td>f</td>\n",
       "      <td>f</td>\n",
       "      <td>f</td>\n",
       "      <td>f</td>\n",
       "      <td>76.0</td>\n",
       "      <td>t</td>\n",
       "      <td>0.5</td>\n",
       "      <td>22.0</td>\n",
       "      <td>1.12</td>\n",
       "      <td>t</td>\n",
       "      <td>f</td>\n",
       "      <td>?</td>\n",
       "      <td>other</td>\n",
       "      <td>negative.|1685</td>\n",
       "      <td>Local-gov</td>\n",
       "      <td>177599</td>\n",
       "      <td>Bachelors</td>\n",
       "      <td>13</td>\n",
       "      <td>Divorced</td>\n",
       "      <td>Prof-specialty</td>\n",
       "      <td>Unmarried</td>\n",
       "      <td>White</td>\n",
       "      <td>0</td>\n",
       "      <td>0</td>\n",
       "      <td>35</td>\n",
       "      <td>United-States</td>\n",
       "      <td>67-08-03</td>\n",
       "      <td>t</td>\n",
       "      <td>F</td>\n",
       "      <td>f</td>\n",
       "      <td>t</td>\n",
       "      <td>f</td>\n",
       "      <td>19</td>\n",
       "      <td>f</td>\n",
       "      <td>t</td>\n",
       "      <td>f</td>\n",
       "      <td>f</td>\n",
       "    </tr>\n",
       "    <tr>\n",
       "      <th>2</th>\n",
       "      <td>2</td>\n",
       "      <td>41.0</td>\n",
       "      <td>f</td>\n",
       "      <td>f</td>\n",
       "      <td>f</td>\n",
       "      <td>f</td>\n",
       "      <td>f</td>\n",
       "      <td>f</td>\n",
       "      <td>f</td>\n",
       "      <td>f</td>\n",
       "      <td>f</td>\n",
       "      <td>NaN</td>\n",
       "      <td>t</td>\n",
       "      <td>2.0</td>\n",
       "      <td>99.0</td>\n",
       "      <td>0.96</td>\n",
       "      <td>t</td>\n",
       "      <td>f</td>\n",
       "      <td>?</td>\n",
       "      <td>other</td>\n",
       "      <td>negative.|3504</td>\n",
       "      <td>Self-emp-not-inc</td>\n",
       "      <td>102631</td>\n",
       "      <td>Some-college</td>\n",
       "      <td>10</td>\n",
       "      <td>Widowed</td>\n",
       "      <td>Farming-fishing</td>\n",
       "      <td>Unmarried</td>\n",
       "      <td>White</td>\n",
       "      <td>0</td>\n",
       "      <td>0</td>\n",
       "      <td>50</td>\n",
       "      <td>United-States</td>\n",
       "      <td>1976-05-02</td>\n",
       "      <td>f</td>\n",
       "      <td>F</td>\n",
       "      <td>f</td>\n",
       "      <td>t</td>\n",
       "      <td>f</td>\n",
       "      <td>104</td>\n",
       "      <td>f</td>\n",
       "      <td>t</td>\n",
       "      <td>f</td>\n",
       "      <td>f</td>\n",
       "    </tr>\n",
       "    <tr>\n",
       "      <th>3</th>\n",
       "      <td>3</td>\n",
       "      <td>73.0</td>\n",
       "      <td>f</td>\n",
       "      <td>f</td>\n",
       "      <td>f</td>\n",
       "      <td>f</td>\n",
       "      <td>f</td>\n",
       "      <td>f</td>\n",
       "      <td>f</td>\n",
       "      <td>f</td>\n",
       "      <td>f</td>\n",
       "      <td>0.7</td>\n",
       "      <td>t</td>\n",
       "      <td>2.0</td>\n",
       "      <td>116.0</td>\n",
       "      <td>0.99</td>\n",
       "      <td>t</td>\n",
       "      <td>f</td>\n",
       "      <td>?</td>\n",
       "      <td>other</td>\n",
       "      <td>negative.|1942</td>\n",
       "      <td>private</td>\n",
       "      <td>272338</td>\n",
       "      <td>HS-grad</td>\n",
       "      <td>9</td>\n",
       "      <td>Married-civ-spouse</td>\n",
       "      <td>Adm-clerical</td>\n",
       "      <td>Wife</td>\n",
       "      <td>White</td>\n",
       "      <td>0</td>\n",
       "      <td>0</td>\n",
       "      <td>25</td>\n",
       "      <td>United-States</td>\n",
       "      <td>44-10-08</td>\n",
       "      <td>t</td>\n",
       "      <td>F</td>\n",
       "      <td>f</td>\n",
       "      <td>t</td>\n",
       "      <td>f</td>\n",
       "      <td>117</td>\n",
       "      <td>f</td>\n",
       "      <td>t</td>\n",
       "      <td>f</td>\n",
       "      <td>f</td>\n",
       "    </tr>\n",
       "    <tr>\n",
       "      <th>4</th>\n",
       "      <td>4</td>\n",
       "      <td>64.0</td>\n",
       "      <td>f</td>\n",
       "      <td>f</td>\n",
       "      <td>f</td>\n",
       "      <td>f</td>\n",
       "      <td>f</td>\n",
       "      <td>f</td>\n",
       "      <td>f</td>\n",
       "      <td>f</td>\n",
       "      <td>f</td>\n",
       "      <td>2.0</td>\n",
       "      <td>t</td>\n",
       "      <td>1.8</td>\n",
       "      <td>80.0</td>\n",
       "      <td>0.91</td>\n",
       "      <td>t</td>\n",
       "      <td>f</td>\n",
       "      <td>?</td>\n",
       "      <td>SVHC</td>\n",
       "      <td>negative.|2009</td>\n",
       "      <td>Self-emp-inc</td>\n",
       "      <td>368825</td>\n",
       "      <td>Some-college</td>\n",
       "      <td>10</td>\n",
       "      <td>Married-civ-spouse</td>\n",
       "      <td>Sales</td>\n",
       "      <td>Husband</td>\n",
       "      <td>White</td>\n",
       "      <td>0</td>\n",
       "      <td>0</td>\n",
       "      <td>60</td>\n",
       "      <td>United-States</td>\n",
       "      <td>1953-05-01</td>\n",
       "      <td>t</td>\n",
       "      <td>M</td>\n",
       "      <td>f</td>\n",
       "      <td>t</td>\n",
       "      <td>f</td>\n",
       "      <td>88</td>\n",
       "      <td>f</td>\n",
       "      <td>t</td>\n",
       "      <td>f</td>\n",
       "      <td>f</td>\n",
       "    </tr>\n",
       "  </tbody>\n",
       "</table>\n",
       "</div>"
      ],
      "text/plain": [
       "   Unnamed: 0   age on thyroxine query on thyroxine pregnant thyroid surgery  \\\n",
       "0           0  82.0            f                  f        f               f   \n",
       "1           1  50.0            f                  f        f               t   \n",
       "2           2  41.0            f                  f        f               f   \n",
       "3           3  73.0            f                  f        f               f   \n",
       "4           4  64.0            f                  f        f               f   \n",
       "\n",
       "  I131 treatment lithium goitre tumor hypopituitary   TSH T3 measured   T3  \\\n",
       "0              f       f      f     f             f   2.2           t  1.0   \n",
       "1              f       f      f     f             f  76.0           t  0.5   \n",
       "2              f       f      f     f             f   NaN           t  2.0   \n",
       "3              f       f      f     f             f   0.7           t  2.0   \n",
       "4              f       f      f     f             f   2.0           t  1.8   \n",
       "\n",
       "     TT4   T4U FTI measured TBG measured TBG referral source           class  \\\n",
       "0   68.0  0.77            t            f   ?             SVI   negative.|991   \n",
       "1   22.0  1.12            t            f   ?           other  negative.|1685   \n",
       "2   99.0  0.96            t            f   ?           other  negative.|3504   \n",
       "3  116.0  0.99            t            f   ?           other  negative.|1942   \n",
       "4   80.0  0.91            t            f   ?            SVHC  negative.|2009   \n",
       "\n",
       "           workclass  fnlwgt      education  education-num  \\\n",
       "0          Local-gov  141649      Assoc-voc             11   \n",
       "1          Local-gov  177599      Bachelors             13   \n",
       "2   Self-emp-not-inc  102631   Some-college             10   \n",
       "3            private  272338        HS-grad              9   \n",
       "4       Self-emp-inc  368825   Some-college             10   \n",
       "\n",
       "        marital-status        occupation relationship    race  capital-gain  \\\n",
       "0   Married-civ-spouse   Protective-serv      Husband   White             0   \n",
       "1             Divorced    Prof-specialty    Unmarried   White             0   \n",
       "2              Widowed   Farming-fishing    Unmarried   White             0   \n",
       "3   Married-civ-spouse      Adm-clerical         Wife   White             0   \n",
       "4   Married-civ-spouse             Sales      Husband   White             0   \n",
       "\n",
       "   capital-loss  hours-per-week  native-country        date_of_birth  \\\n",
       "0             0              40   United-States  1935-05-20 00:00:00   \n",
       "1             0              35   United-States             67-08-03   \n",
       "2             0              50   United-States           1976-05-02   \n",
       "3             0              25   United-States             44-10-08   \n",
       "4             0              60   United-States           1953-05-01   \n",
       "\n",
       "  TSH measured sex query hyperthyroid TT4 measured on antithyroid medication  \\\n",
       "0            t   M                  f            t                         f   \n",
       "1            t   F                  f            t                         f   \n",
       "2            f   F                  f            t                         f   \n",
       "3            t   F                  f            t                         f   \n",
       "4            t   M                  f            t                         f   \n",
       "\n",
       "   FTI sick T4U measured psych query hypothyroid  \n",
       "0   88    f            t     f                 f  \n",
       "1   19    f            t     f                 f  \n",
       "2  104    f            t     f                 f  \n",
       "3  117    f            t     f                 f  \n",
       "4   88    f            t     f                 f  "
      ]
     },
     "execution_count": 32,
     "metadata": {},
     "output_type": "execute_result"
    }
   ],
   "source": [
    "for i in range(train_data.shape[0]):\n",
    "    raw = train_data['medical_info'][i]\n",
    "    raw = raw.replace(\"'\", '\"')\n",
    "    data = json.loads(raw)\n",
    "    for att in data.keys():\n",
    "        train_data.loc[i, att] = data[att]\n",
    "        \n",
    "train_data = train_data.drop(columns=['medical_info'])\n",
    "        \n",
    "train_data.head()"
   ]
  },
  {
   "cell_type": "code",
   "execution_count": 35,
   "metadata": {},
   "outputs": [
    {
     "data": {
      "text/html": [
       "<div>\n",
       "<style scoped>\n",
       "    .dataframe tbody tr th:only-of-type {\n",
       "        vertical-align: middle;\n",
       "    }\n",
       "\n",
       "    .dataframe tbody tr th {\n",
       "        vertical-align: top;\n",
       "    }\n",
       "\n",
       "    .dataframe thead th {\n",
       "        text-align: right;\n",
       "    }\n",
       "</style>\n",
       "<table border=\"1\" class=\"dataframe\">\n",
       "  <thead>\n",
       "    <tr style=\"text-align: right;\">\n",
       "      <th></th>\n",
       "      <th>age</th>\n",
       "      <th>TSH</th>\n",
       "      <th>T3</th>\n",
       "      <th>T4U</th>\n",
       "      <th>fnlwgt</th>\n",
       "      <th>education-num</th>\n",
       "      <th>capital-gain</th>\n",
       "      <th>capital-loss</th>\n",
       "      <th>hours-per-week</th>\n",
       "    </tr>\n",
       "  </thead>\n",
       "  <tbody>\n",
       "    <tr>\n",
       "      <th>count</th>\n",
       "      <td>2519.000000</td>\n",
       "      <td>2516.000000</td>\n",
       "      <td>2215.000000</td>\n",
       "      <td>2503.000000</td>\n",
       "      <td>2.800000e+03</td>\n",
       "      <td>2800.000000</td>\n",
       "      <td>2800.000000</td>\n",
       "      <td>2800.000000</td>\n",
       "      <td>2800.000000</td>\n",
       "    </tr>\n",
       "    <tr>\n",
       "      <th>mean</th>\n",
       "      <td>51.793569</td>\n",
       "      <td>4.672150</td>\n",
       "      <td>2.024966</td>\n",
       "      <td>0.997912</td>\n",
       "      <td>1.859808e+05</td>\n",
       "      <td>4.150714</td>\n",
       "      <td>789.960714</td>\n",
       "      <td>75.960357</td>\n",
       "      <td>38.336429</td>\n",
       "    </tr>\n",
       "    <tr>\n",
       "      <th>std</th>\n",
       "      <td>20.541137</td>\n",
       "      <td>21.449453</td>\n",
       "      <td>0.824600</td>\n",
       "      <td>0.194390</td>\n",
       "      <td>1.009371e+05</td>\n",
       "      <td>327.452340</td>\n",
       "      <td>5813.819092</td>\n",
       "      <td>374.218100</td>\n",
       "      <td>11.877622</td>\n",
       "    </tr>\n",
       "    <tr>\n",
       "      <th>min</th>\n",
       "      <td>1.000000</td>\n",
       "      <td>0.005000</td>\n",
       "      <td>0.050000</td>\n",
       "      <td>0.310000</td>\n",
       "      <td>1.939500e+04</td>\n",
       "      <td>-1600.000000</td>\n",
       "      <td>0.000000</td>\n",
       "      <td>0.000000</td>\n",
       "      <td>1.000000</td>\n",
       "    </tr>\n",
       "    <tr>\n",
       "      <th>25%</th>\n",
       "      <td>36.000000</td>\n",
       "      <td>0.440000</td>\n",
       "      <td>1.600000</td>\n",
       "      <td>0.880000</td>\n",
       "      <td>1.185510e+05</td>\n",
       "      <td>9.000000</td>\n",
       "      <td>0.000000</td>\n",
       "      <td>0.000000</td>\n",
       "      <td>35.000000</td>\n",
       "    </tr>\n",
       "    <tr>\n",
       "      <th>50%</th>\n",
       "      <td>54.000000</td>\n",
       "      <td>1.400000</td>\n",
       "      <td>2.000000</td>\n",
       "      <td>0.980000</td>\n",
       "      <td>1.772160e+05</td>\n",
       "      <td>10.000000</td>\n",
       "      <td>0.000000</td>\n",
       "      <td>0.000000</td>\n",
       "      <td>40.000000</td>\n",
       "    </tr>\n",
       "    <tr>\n",
       "      <th>75%</th>\n",
       "      <td>67.000000</td>\n",
       "      <td>2.600000</td>\n",
       "      <td>2.400000</td>\n",
       "      <td>1.080000</td>\n",
       "      <td>2.276065e+05</td>\n",
       "      <td>13.000000</td>\n",
       "      <td>0.000000</td>\n",
       "      <td>0.000000</td>\n",
       "      <td>40.000000</td>\n",
       "    </tr>\n",
       "    <tr>\n",
       "      <th>max</th>\n",
       "      <td>455.000000</td>\n",
       "      <td>478.000000</td>\n",
       "      <td>10.600000</td>\n",
       "      <td>2.120000</td>\n",
       "      <td>1.097453e+06</td>\n",
       "      <td>1500.000000</td>\n",
       "      <td>99999.000000</td>\n",
       "      <td>3683.000000</td>\n",
       "      <td>99.000000</td>\n",
       "    </tr>\n",
       "  </tbody>\n",
       "</table>\n",
       "</div>"
      ],
      "text/plain": [
       "               age          TSH           T3          T4U        fnlwgt  \\\n",
       "count  2519.000000  2516.000000  2215.000000  2503.000000  2.800000e+03   \n",
       "mean     51.793569     4.672150     2.024966     0.997912  1.859808e+05   \n",
       "std      20.541137    21.449453     0.824600     0.194390  1.009371e+05   \n",
       "min       1.000000     0.005000     0.050000     0.310000  1.939500e+04   \n",
       "25%      36.000000     0.440000     1.600000     0.880000  1.185510e+05   \n",
       "50%      54.000000     1.400000     2.000000     0.980000  1.772160e+05   \n",
       "75%      67.000000     2.600000     2.400000     1.080000  2.276065e+05   \n",
       "max     455.000000   478.000000    10.600000     2.120000  1.097453e+06   \n",
       "\n",
       "       education-num  capital-gain  capital-loss  hours-per-week  \n",
       "count    2800.000000   2800.000000   2800.000000     2800.000000  \n",
       "mean        4.150714    789.960714     75.960357       38.336429  \n",
       "std       327.452340   5813.819092    374.218100       11.877622  \n",
       "min     -1600.000000      0.000000      0.000000        1.000000  \n",
       "25%         9.000000      0.000000      0.000000       35.000000  \n",
       "50%        10.000000      0.000000      0.000000       40.000000  \n",
       "75%        13.000000      0.000000      0.000000       40.000000  \n",
       "max      1500.000000  99999.000000   3683.000000       99.000000  "
      ]
     },
     "execution_count": 35,
     "metadata": {},
     "output_type": "execute_result"
    }
   ],
   "source": [
    "train_data.describe()"
   ]
  },
  {
   "cell_type": "code",
   "execution_count": 37,
   "metadata": {},
   "outputs": [
    {
     "data": {
      "text/plain": [
       "<matplotlib.figure.Figure at 0x1c44b0d0da0>"
      ]
     },
     "execution_count": 37,
     "metadata": {},
     "output_type": "execute_result"
    },
    {
     "data": {
      "image/png": "[encoded data removed]",
      "text/plain": [
       "<matplotlib.figure.Figure at 0x1c44ab0bd30>"
      ]
     },
     "metadata": {},
     "output_type": "display_data"
    },
    {
     "data": {
      "image/png": "[encoded data removed]",
      "text/plain": [
       "<matplotlib.figure.Figure at 0x1c44b0116a0>"
      ]
     },
     "metadata": {},
     "output_type": "display_data"
    },
    {
     "data": {
      "image/png": "[encoded data removed]",
      "text/plain": [
       "<matplotlib.figure.Figure at 0x1c44b075a90>"
      ]
     },
     "metadata": {},
     "output_type": "display_data"
    },
    {
     "data": {
      "text/plain": [
       "<matplotlib.figure.Figure at 0x1c44b0d0da0>"
      ]
     },
     "metadata": {},
     "output_type": "display_data"
    }
   ],
   "source": [
    "train_data['age'].plot.box()\n",
    "plt.figure()\n",
    "train_data['age'].hist(bins=100)\n",
    "plt.figure()\n",
    "train_data['age'].hist(bins=100, range=(0,100))\n",
    "plt.figure()"
   ]
  },
  {
   "cell_type": "code",
   "execution_count": 36,
   "metadata": {},
   "outputs": [
    {
     "data": {
      "text/plain": [
       "<matplotlib.figure.Figure at 0x1c44adcc160>"
      ]
     },
     "execution_count": 36,
     "metadata": {},
     "output_type": "execute_result"
    },
    {
     "data": {
      "image/png": "[encoded data removed]",
      "text/plain": [
       "<matplotlib.figure.Figure at 0x1c44a951978>"
      ]
     },
     "metadata": {},
     "output_type": "display_data"
    },
    {
     "data": {
      "image/png": "[encoded data removed]",
      "text/plain": [
       "<matplotlib.figure.Figure at 0x1c44a951710>"
      ]
     },
     "metadata": {},
     "output_type": "display_data"
    },
    {
     "data": {
      "image/png": "[encoded data removed]",
      "text/plain": [
       "<matplotlib.figure.Figure at 0x1c44ab0bac8>"
      ]
     },
     "metadata": {},
     "output_type": "display_data"
    },
    {
     "data": {
      "text/plain": [
       "<matplotlib.figure.Figure at 0x1c44adcc160>"
      ]
     },
     "metadata": {},
     "output_type": "display_data"
    }
   ],
   "source": [
    "train_data['TSH'].plot.box()\n",
    "plt.figure()\n",
    "train_data['TSH'].hist(bins=100)\n",
    "plt.figure()\n",
    "train_data['TSH'].hist(bins=100, range=(0, 50.0))\n",
    "plt.figure()"
   ]
  },
  {
   "cell_type": "code",
   "execution_count": 38,
   "metadata": {},
   "outputs": [
    {
     "data": {
      "text/plain": [
       "<matplotlib.figure.Figure at 0x1c44b20a400>"
      ]
     },
     "execution_count": 38,
     "metadata": {},
     "output_type": "execute_result"
    },
    {
     "data": {
      "image/png": "[encoded data removed]",
      "text/plain": [
       "<matplotlib.figure.Figure at 0x1c44b0d9a20>"
      ]
     },
     "metadata": {},
     "output_type": "display_data"
    },
    {
     "data": {
      "image/png": "[encoded data removed]",
      "text/plain": [
       "<matplotlib.figure.Figure at 0x1c44b1daf28>"
      ]
     },
     "metadata": {},
     "output_type": "display_data"
    },
    {
     "data": {
      "text/plain": [
       "<matplotlib.figure.Figure at 0x1c44b20a400>"
      ]
     },
     "metadata": {},
     "output_type": "display_data"
    }
   ],
   "source": [
    "train_data['T3'].plot.box()\n",
    "plt.figure()\n",
    "train_data['T3'].hist(bins=100)\n",
    "plt.figure()"
   ]
  },
  {
   "cell_type": "code",
   "execution_count": 39,
   "metadata": {},
   "outputs": [
    {
     "data": {
      "text/plain": [
       "<matplotlib.figure.Figure at 0x1c44aaf8f28>"
      ]
     },
     "execution_count": 39,
     "metadata": {},
     "output_type": "execute_result"
    },
    {
     "data": {
      "image/png": "[encoded data removed]",
      "text/plain": [
       "<matplotlib.figure.Figure at 0x1c44b07f9e8>"
      ]
     },
     "metadata": {},
     "output_type": "display_data"
    },
    {
     "data": {
      "image/png": "[encoded data removed]",
      "text/plain": [
       "<matplotlib.figure.Figure at 0x1c44b0c4400>"
      ]
     },
     "metadata": {},
     "output_type": "display_data"
    },
    {
     "data": {
      "text/plain": [
       "<matplotlib.figure.Figure at 0x1c44aaf8f28>"
      ]
     },
     "metadata": {},
     "output_type": "display_data"
    }
   ],
   "source": [
    "train_data['T4U'].plot.box()\n",
    "plt.figure()\n",
    "train_data['T4U'].hist(bins=100)\n",
    "plt.figure()"
   ]
  },
  {
   "cell_type": "code",
   "execution_count": 95,
   "metadata": {},
   "outputs": [
    {
     "data": {
      "image/png": "[encoded data removed]",
      "text/plain": [
       "<matplotlib.figure.Figure at 0x1e3d2002f60>"
      ]
     },
     "metadata": {},
     "output_type": "display_data"
    },
    {
     "data": {
      "image/png": "[encoded data removed]",
      "text/plain": [
       "<matplotlib.figure.Figure at 0x1e3d1f90f28>"
      ]
     },
     "metadata": {},
     "output_type": "display_data"
    },
    {
     "data": {
      "text/plain": [
       "<matplotlib.figure.Figure at 0x1e3d1f6c7b8>"
      ]
     },
     "metadata": {},
     "output_type": "display_data"
    }
   ],
   "source": [
    "train_data['fnlwgt'].plot.box()\n",
    "plt.figure()\n",
    "train_data['fnlwgt'].hist(bins=100)\n",
    "plt.figure()"
   ]
  },
  {
   "cell_type": "code",
   "execution_count": 64,
   "metadata": {},
   "outputs": [
    {
     "data": {
      "text/plain": [
       "<matplotlib.axes._subplots.AxesSubplot at 0x19745280c50>"
      ]
     },
     "execution_count": 64,
     "metadata": {},
     "output_type": "execute_result"
    },
    {
     "data": {
      "image/png": "[encoded data removed]",
      "text/plain": [
       "<matplotlib.figure.Figure at 0x19744fb3438>"
      ]
     },
     "metadata": {},
     "output_type": "display_data"
    },
    {
     "data": {
      "image/png": "[encoded data removed]",
      "text/plain": [
       "<matplotlib.figure.Figure at 0x19744fcf0f0>"
      ]
     },
     "metadata": {},
     "output_type": "display_data"
    },
    {
     "data": {
      "image/png": "[encoded data removed]",
      "text/plain": [
       "<matplotlib.figure.Figure at 0x1974502b5f8>"
      ]
     },
     "metadata": {},
     "output_type": "display_data"
    },
    {
     "data": {
      "image/png": "[encoded data removed]",
      "text/plain": [
       "<matplotlib.figure.Figure at 0x1974508f390>"
      ]
     },
     "metadata": {},
     "output_type": "display_data"
    }
   ],
   "source": [
    "train_data['education-num'].plot.box()\n",
    "plt.figure();\n",
    "train_data['education-num'].hist(bins=100)\n",
    "plt.figure();\n",
    "train_data['education-num'].hist(bins=100, range=(-5, 20))\n",
    "plt.figure();\n",
    "train_data['education-num'].plot(kind=\"density\")"
   ]
  },
  {
   "cell_type": "code",
   "execution_count": 63,
   "metadata": {},
   "outputs": [
    {
     "data": {
      "text/plain": [
       "<matplotlib.axes._subplots.AxesSubplot at 0x19744f55400>"
      ]
     },
     "execution_count": 63,
     "metadata": {},
     "output_type": "execute_result"
    },
    {
     "data": {
      "image/png": "[encoded data removed]",
      "text/plain": [
       "<matplotlib.figure.Figure at 0x19743a3fc88>"
      ]
     },
     "metadata": {},
     "output_type": "display_data"
    },
    {
     "data": {
      "image/png": "[encoded data removed]",
      "text/plain": [
       "<matplotlib.figure.Figure at 0x19744be2c88>"
      ]
     },
     "metadata": {},
     "output_type": "display_data"
    },
    {
     "data": {
      "image/png": "[encoded data removed]",
      "text/plain": [
       "<matplotlib.figure.Figure at 0x19744b68908>"
      ]
     },
     "metadata": {},
     "output_type": "display_data"
    }
   ],
   "source": [
    "train_data['capital-gain'].plot.box()\n",
    "plt.figure();\n",
    "train_data['capital-gain'].hist(bins=100)\n",
    "plt.figure();\n",
    "train_data['capital-gain'].plot(kind=\"density\")\n"
   ]
  },
  {
   "cell_type": "code",
   "execution_count": 62,
   "metadata": {},
   "outputs": [
    {
     "data": {
      "text/plain": [
       "<matplotlib.axes._subplots.AxesSubplot at 0x197436f2fd0>"
      ]
     },
     "execution_count": 62,
     "metadata": {},
     "output_type": "execute_result"
    },
    {
     "data": {
      "image/png": "[encoded data removed]",
      "text/plain": [
       "<matplotlib.figure.Figure at 0x19744e2f2b0>"
      ]
     },
     "metadata": {},
     "output_type": "display_data"
    },
    {
     "data": {
      "image/png": "[encoded data removed]",
      "text/plain": [
       "<matplotlib.figure.Figure at 0x19744b693c8>"
      ]
     },
     "metadata": {},
     "output_type": "display_data"
    },
    {
     "data": {
      "image/png": "[encoded data removed]",
      "text/plain": [
       "<matplotlib.figure.Figure at 0x19744be2e48>"
      ]
     },
     "metadata": {},
     "output_type": "display_data"
    },
    {
     "data": {
      "image/png": "[encoded data removed]",
      "text/plain": [
       "<matplotlib.figure.Figure at 0x19744c3de80>"
      ]
     },
     "metadata": {},
     "output_type": "display_data"
    }
   ],
   "source": [
    "train_data['capital-loss'].plot.box()\n",
    "plt.figure();\n",
    "train_data['capital-loss'].hist(bins=100)\n",
    "plt.figure();\n",
    "train_data['capital-loss'].plot(kind=\"density\")"
   ]
  },
  {
   "cell_type": "code",
   "execution_count": 61,
   "metadata": {
    "scrolled": false
   },
   "outputs": [
    {
     "data": {
      "text/plain": [
       "<matplotlib.axes._subplots.AxesSubplot at 0x19744de7630>"
      ]
     },
     "execution_count": 61,
     "metadata": {},
     "output_type": "execute_result"
    },
    {
     "data": {
      "image/png": "[encoded data removed]",
      "text/plain": [
       "<matplotlib.figure.Figure at 0x19743b696a0>"
      ]
     },
     "metadata": {},
     "output_type": "display_data"
    },
    {
     "data": {
      "image/png": "[encoded data removed]",
      "text/plain": [
       "<matplotlib.figure.Figure at 0x19743ab1a20>"
      ]
     },
     "metadata": {},
     "output_type": "display_data"
    },
    {
     "data": {
      "image/png": "[encoded data removed]",
      "text/plain": [
       "<matplotlib.figure.Figure at 0x19744b82160>"
      ]
     },
     "metadata": {},
     "output_type": "display_data"
    }
   ],
   "source": [
    "train_data['hours-per-week'].plot.box()\n",
    "plt.figure();\n",
    "train_data['hours-per-week'].hist(bins=100)\n",
    "plt.figure();\n",
    "train_data['hours-per-week'].plot(kind=\"density\")"
   ]
  },
  {
   "cell_type": "code",
   "execution_count": 40,
   "metadata": {},
   "outputs": [
    {
     "data": {
      "text/html": [
       "<div>\n",
       "<style scoped>\n",
       "    .dataframe tbody tr th:only-of-type {\n",
       "        vertical-align: middle;\n",
       "    }\n",
       "\n",
       "    .dataframe tbody tr th {\n",
       "        vertical-align: top;\n",
       "    }\n",
       "\n",
       "    .dataframe thead th {\n",
       "        text-align: right;\n",
       "    }\n",
       "</style>\n",
       "<table border=\"1\" class=\"dataframe\">\n",
       "  <thead>\n",
       "    <tr style=\"text-align: right;\">\n",
       "      <th></th>\n",
       "      <th>on thyroxine</th>\n",
       "      <th>query on thyroxine</th>\n",
       "      <th>pregnant</th>\n",
       "      <th>thyroid surgery</th>\n",
       "      <th>I131 treatment</th>\n",
       "      <th>lithium</th>\n",
       "      <th>goitre</th>\n",
       "      <th>tumor</th>\n",
       "      <th>hypopituitary</th>\n",
       "      <th>T3 measured</th>\n",
       "      <th>TT4</th>\n",
       "      <th>FTI measured</th>\n",
       "      <th>TBG measured</th>\n",
       "      <th>TBG</th>\n",
       "      <th>referral source</th>\n",
       "      <th>class</th>\n",
       "      <th>workclass</th>\n",
       "      <th>education</th>\n",
       "      <th>marital-status</th>\n",
       "      <th>occupation</th>\n",
       "      <th>relationship</th>\n",
       "      <th>race</th>\n",
       "      <th>native-country</th>\n",
       "      <th>date_of_birth</th>\n",
       "      <th>TSH measured</th>\n",
       "      <th>sex</th>\n",
       "      <th>query hyperthyroid</th>\n",
       "      <th>TT4 measured</th>\n",
       "      <th>on antithyroid medication</th>\n",
       "      <th>FTI</th>\n",
       "      <th>sick</th>\n",
       "      <th>T4U measured</th>\n",
       "      <th>psych</th>\n",
       "      <th>query hypothyroid</th>\n",
       "    </tr>\n",
       "  </thead>\n",
       "  <tbody>\n",
       "    <tr>\n",
       "      <th>count</th>\n",
       "      <td>2800</td>\n",
       "      <td>2800</td>\n",
       "      <td>2800</td>\n",
       "      <td>2800</td>\n",
       "      <td>2800</td>\n",
       "      <td>2800</td>\n",
       "      <td>2800</td>\n",
       "      <td>2800</td>\n",
       "      <td>2800</td>\n",
       "      <td>2800</td>\n",
       "      <td>2451</td>\n",
       "      <td>2800</td>\n",
       "      <td>2800</td>\n",
       "      <td>2800</td>\n",
       "      <td>2800</td>\n",
       "      <td>2800</td>\n",
       "      <td>2800</td>\n",
       "      <td>2800</td>\n",
       "      <td>2800</td>\n",
       "      <td>2800</td>\n",
       "      <td>2800</td>\n",
       "      <td>2800</td>\n",
       "      <td>2800</td>\n",
       "      <td>2799</td>\n",
       "      <td>2800</td>\n",
       "      <td>2800</td>\n",
       "      <td>2800</td>\n",
       "      <td>2800</td>\n",
       "      <td>2800</td>\n",
       "      <td>2800</td>\n",
       "      <td>2800</td>\n",
       "      <td>2800</td>\n",
       "      <td>2800</td>\n",
       "      <td>2800</td>\n",
       "    </tr>\n",
       "    <tr>\n",
       "      <th>unique</th>\n",
       "      <td>6</td>\n",
       "      <td>2</td>\n",
       "      <td>2</td>\n",
       "      <td>2</td>\n",
       "      <td>2</td>\n",
       "      <td>2</td>\n",
       "      <td>2</td>\n",
       "      <td>2</td>\n",
       "      <td>2</td>\n",
       "      <td>2</td>\n",
       "      <td>213</td>\n",
       "      <td>2</td>\n",
       "      <td>1</td>\n",
       "      <td>1</td>\n",
       "      <td>5</td>\n",
       "      <td>2800</td>\n",
       "      <td>14</td>\n",
       "      <td>16</td>\n",
       "      <td>7</td>\n",
       "      <td>26</td>\n",
       "      <td>6</td>\n",
       "      <td>5</td>\n",
       "      <td>38</td>\n",
       "      <td>2721</td>\n",
       "      <td>2</td>\n",
       "      <td>3</td>\n",
       "      <td>2</td>\n",
       "      <td>2</td>\n",
       "      <td>2</td>\n",
       "      <td>210</td>\n",
       "      <td>2</td>\n",
       "      <td>2</td>\n",
       "      <td>2</td>\n",
       "      <td>2</td>\n",
       "    </tr>\n",
       "    <tr>\n",
       "      <th>top</th>\n",
       "      <td>f</td>\n",
       "      <td>f</td>\n",
       "      <td>f</td>\n",
       "      <td>f</td>\n",
       "      <td>f</td>\n",
       "      <td>f</td>\n",
       "      <td>f</td>\n",
       "      <td>f</td>\n",
       "      <td>f</td>\n",
       "      <td>t</td>\n",
       "      <td>??</td>\n",
       "      <td>t</td>\n",
       "      <td>f</td>\n",
       "      <td>?</td>\n",
       "      <td>other</td>\n",
       "      <td>negative.|373</td>\n",
       "      <td>Private</td>\n",
       "      <td>HS-grad</td>\n",
       "      <td>Never-married</td>\n",
       "      <td>Adm-clerical</td>\n",
       "      <td>Not-in-family</td>\n",
       "      <td>White</td>\n",
       "      <td>United-States</td>\n",
       "      <td>1953-02-28</td>\n",
       "      <td>t</td>\n",
       "      <td>F</td>\n",
       "      <td>f</td>\n",
       "      <td>t</td>\n",
       "      <td>f</td>\n",
       "      <td>?</td>\n",
       "      <td>f</td>\n",
       "      <td>t</td>\n",
       "      <td>f</td>\n",
       "      <td>f</td>\n",
       "    </tr>\n",
       "    <tr>\n",
       "      <th>freq</th>\n",
       "      <td>2223</td>\n",
       "      <td>2760</td>\n",
       "      <td>2759</td>\n",
       "      <td>2761</td>\n",
       "      <td>2752</td>\n",
       "      <td>2786</td>\n",
       "      <td>2775</td>\n",
       "      <td>2729</td>\n",
       "      <td>2799</td>\n",
       "      <td>2215</td>\n",
       "      <td>99</td>\n",
       "      <td>2505</td>\n",
       "      <td>2800</td>\n",
       "      <td>2800</td>\n",
       "      <td>1632</td>\n",
       "      <td>1</td>\n",
       "      <td>1774</td>\n",
       "      <td>879</td>\n",
       "      <td>1118</td>\n",
       "      <td>449</td>\n",
       "      <td>899</td>\n",
       "      <td>2318</td>\n",
       "      <td>2493</td>\n",
       "      <td>3</td>\n",
       "      <td>2516</td>\n",
       "      <td>1830</td>\n",
       "      <td>2627</td>\n",
       "      <td>2616</td>\n",
       "      <td>2766</td>\n",
       "      <td>295</td>\n",
       "      <td>2690</td>\n",
       "      <td>2503</td>\n",
       "      <td>2665</td>\n",
       "      <td>2637</td>\n",
       "    </tr>\n",
       "  </tbody>\n",
       "</table>\n",
       "</div>"
      ],
      "text/plain": [
       "       on thyroxine query on thyroxine pregnant thyroid surgery  \\\n",
       "count          2800               2800     2800            2800   \n",
       "unique            6                  2        2               2   \n",
       "top               f                  f        f               f   \n",
       "freq           2223               2760     2759            2761   \n",
       "\n",
       "       I131 treatment lithium goitre tumor hypopituitary T3 measured   TT4  \\\n",
       "count            2800    2800   2800  2800          2800        2800  2451   \n",
       "unique              2       2      2     2             2           2   213   \n",
       "top                 f       f      f     f             f           t    ??   \n",
       "freq             2752    2786   2775  2729          2799        2215    99   \n",
       "\n",
       "       FTI measured TBG measured   TBG referral source          class  \\\n",
       "count          2800         2800  2800            2800           2800   \n",
       "unique            2            1     1               5           2800   \n",
       "top               t            f     ?           other  negative.|373   \n",
       "freq           2505         2800  2800            1632              1   \n",
       "\n",
       "       workclass education  marital-status     occupation    relationship  \\\n",
       "count       2800      2800            2800           2800            2800   \n",
       "unique        14        16               7             26               6   \n",
       "top      Private   HS-grad   Never-married   Adm-clerical   Not-in-family   \n",
       "freq        1774       879            1118            449             899   \n",
       "\n",
       "          race  native-country date_of_birth TSH measured   sex  \\\n",
       "count     2800            2800          2799         2800  2800   \n",
       "unique       5              38          2721            2     3   \n",
       "top      White   United-States    1953-02-28            t     F   \n",
       "freq      2318            2493             3         2516  1830   \n",
       "\n",
       "       query hyperthyroid TT4 measured on antithyroid medication   FTI  sick  \\\n",
       "count                2800         2800                      2800  2800  2800   \n",
       "unique                  2            2                         2   210     2   \n",
       "top                     f            t                         f     ?     f   \n",
       "freq                 2627         2616                      2766   295  2690   \n",
       "\n",
       "       T4U measured psych query hypothyroid  \n",
       "count          2800  2800              2800  \n",
       "unique            2     2                 2  \n",
       "top               t     f                 f  \n",
       "freq           2503  2665              2637  "
      ]
     },
     "execution_count": 40,
     "metadata": {},
     "output_type": "execute_result"
    }
   ],
   "source": [
    "train_data.describe(include=['O'])"
   ]
  },
  {
   "cell_type": "code",
   "execution_count": 41,
   "metadata": {
    "scrolled": true
   },
   "outputs": [
    {
     "name": "stdout",
     "output_type": "stream",
     "text": [
      "on thyroxine :\n",
      "   |f\n",
      "   |F\n",
      "   |FALSE\n",
      "   |t\n",
      "   |TRUE\n",
      "   |T\n",
      "\n",
      "query on thyroxine :\n",
      "   |f\n",
      "   |t\n",
      "\n",
      "pregnant :\n",
      "   |f\n",
      "   |t\n",
      "\n",
      "thyroid surgery :\n",
      "   |f\n",
      "   |t\n",
      "\n",
      "I131 treatment :\n",
      "   |f\n",
      "   |t\n",
      "\n",
      "lithium :\n",
      "   |f\n",
      "   |t\n",
      "\n",
      "goitre :\n",
      "   |f\n",
      "   |t\n",
      "\n",
      "tumor :\n",
      "   |f\n",
      "   |t\n",
      "\n",
      "hypopituitary :\n",
      "   |f\n",
      "   |t\n",
      "\n",
      "T3 measured :\n",
      "   |t\n",
      "   |f\n",
      "\n",
      "FTI measured :\n",
      "   |t\n",
      "   |f\n",
      "\n",
      "TBG measured :\n",
      "   |f\n",
      "\n",
      "TBG :\n",
      "   |?\n",
      "\n",
      "referral source :\n",
      "   |SVI\n",
      "   |other\n",
      "   |SVHC\n",
      "   |STMW\n",
      "   |SVHD\n",
      "\n",
      "workclass :\n",
      "   | Local-gov\n",
      "   | Self-emp-not-inc\n",
      "   |private\n",
      "   | Self-emp-inc\n",
      "   | Private\n",
      "   | ?\n",
      "   | State-gov\n",
      "   |federal-gov\n",
      "   |local-gov\n",
      "   | Federal-gov\n",
      "   |self-emp-not-inc\n",
      "   |?\n",
      "   |self-emp-inc\n",
      "   |state-gov\n",
      "\n",
      "education :\n",
      "   | Assoc-voc\n",
      "   | Bachelors\n",
      "   | Some-college\n",
      "   | HS-grad\n",
      "   | 11th\n",
      "   | Assoc-acdm\n",
      "   | 12th\n",
      "   | 10th\n",
      "   | Masters\n",
      "   | 9th\n",
      "   | 7th-8th\n",
      "   | Preschool\n",
      "   | Prof-school\n",
      "   | 1st-4th\n",
      "   | Doctorate\n",
      "   | 5th-6th\n",
      "\n",
      "marital-status :\n",
      "   | Married-civ-spouse\n",
      "   | Divorced\n",
      "   | Widowed\n",
      "   | Never-married\n",
      "   | Separated\n",
      "   | Married-spouse-absent\n",
      "   | Married-AF-spouse\n",
      "\n",
      "occupation :\n",
      "   | Protective-serv\n",
      "   | Prof-specialty\n",
      "   | Farming-fishing\n",
      "   | Adm-clerical\n",
      "   | Sales\n",
      "   | Other-service\n",
      "   | Exec-managerial\n",
      "   | Craft-repair\n",
      "   | ?\n",
      "   | Machine-op-inspct\n",
      "   | Transport-moving\n",
      "   | Tech-support\n",
      "   | Handlers-cleaners\n",
      "   | Machine_op_inspct\n",
      "   | Prof_specialty\n",
      "   | Tech_support\n",
      "   | Other_service\n",
      "   | Priv-house-serv\n",
      "   | Craft_repair\n",
      "   | Adm_clerical\n",
      "   | Exec_managerial\n",
      "   | Priv_house_serv\n",
      "   | Protective_serv\n",
      "   | Transport_moving\n",
      "   | Handlers_cleaners\n",
      "   | Farming_fishing\n",
      "\n",
      "relationship :\n",
      "   | Husband\n",
      "   | Unmarried\n",
      "   | Wife\n",
      "   | Other-relative\n",
      "   | Not-in-family\n",
      "   | Own-child\n",
      "\n",
      "race :\n",
      "   | White\n",
      "   | Black\n",
      "   | Amer-Indian-Eskimo\n",
      "   | Asian-Pac-Islander\n",
      "   | Other\n",
      "\n",
      "native-country :\n",
      "   | United-States\n",
      "   | ?\n",
      "   | Germany\n",
      "   | Mexico\n",
      "   | China\n",
      "   | Canada\n",
      "   | Haiti\n",
      "   | Vietnam\n",
      "   | Puerto-Rico\n",
      "   | Guatemala\n",
      "   | France\n",
      "   | Scotland\n",
      "   | Peru\n",
      "   | India\n",
      "   | Portugal\n",
      "   | Ireland\n",
      "   | Cambodia\n",
      "   | Poland\n",
      "   | Trinadad&Tobago\n",
      "   | Laos\n",
      "   | El-Salvador\n",
      "   | Thailand\n",
      "   | Philippines\n",
      "   | South\n",
      "   | Jamaica\n",
      "   | Japan\n",
      "   | Cuba\n",
      "   | Columbia\n",
      "   | Iran\n",
      "   | England\n",
      "   | Ecuador\n",
      "   | Greece\n",
      "   | Hong\n",
      "   | Nicaragua\n",
      "   | Dominican-Republic\n",
      "   | Italy\n",
      "   | Taiwan\n",
      "   | Hungary\n",
      "\n",
      "TSH measured :\n",
      "   |t\n",
      "   |f\n",
      "\n",
      "sex :\n",
      "   |M\n",
      "   |F\n",
      "   |?\n",
      "\n",
      "query hyperthyroid :\n",
      "   |f\n",
      "   |t\n",
      "\n",
      "TT4 measured :\n",
      "   |t\n",
      "   |f\n",
      "\n",
      "on antithyroid medication :\n",
      "   |f\n",
      "   |t\n",
      "\n",
      "sick :\n",
      "   |f\n",
      "   |t\n",
      "\n",
      "T4U measured :\n",
      "   |t\n",
      "   |f\n",
      "\n",
      "psych :\n",
      "   |f\n",
      "   |t\n",
      "\n",
      "query hypothyroid :\n",
      "   |f\n",
      "   |t\n",
      "\n"
     ]
    }
   ],
   "source": [
    "for column in train_data.columns[train_data.dtypes == np.object]:\n",
    "    if train_data[column].unique().size < 50:\n",
    "        print(column, ':')\n",
    "        for val in train_data[column].unique():\n",
    "            print ('   |' + val)\n",
    "        print()"
   ]
  },
  {
   "cell_type": "code",
   "execution_count": 42,
   "metadata": {
    "scrolled": true
   },
   "outputs": [
    {
     "name": "stderr",
     "output_type": "stream",
     "text": [
      "C:\\Anaconda3\\lib\\site-packages\\matplotlib\\pyplot.py:528: RuntimeWarning: More than 20 figures have been opened. Figures created through the pyplot interface (`matplotlib.pyplot.figure`) are retained until explicitly closed and may consume too much memory. (To control this warning, see the rcParam `figure.max_open_warning`).\n",
      "  max_open_warning, RuntimeWarning)\n"
     ]
    },
    {
     "data": {
      "image/png": "[encoded data removed]",
      "text/plain": [
       "<matplotlib.figure.Figure at 0x1c44b28bac8>"
      ]
     },
     "metadata": {},
     "output_type": "display_data"
    },
    {
     "data": {
      "image/png": "[encoded data removed]",
      "text/plain": [
       "<matplotlib.figure.Figure at 0x1c44b011898>"
      ]
     },
     "metadata": {},
     "output_type": "display_data"
    },
    {
     "data": {
      "image/png": "[encoded data removed]",
      "text/plain": [
       "<matplotlib.figure.Figure at 0x1c44aeac9e8>"
      ]
     },
     "metadata": {},
     "output_type": "display_data"
    },
    {
     "data": {
      "image/png": "[encoded data removed]",
      "text/plain": [
       "<matplotlib.figure.Figure at 0x1c44b06c358>"
      ]
     },
     "metadata": {},
     "output_type": "display_data"
    },
    {
     "data": {
      "image/png": "[encoded data removed]",
      "text/plain": [
       "<matplotlib.figure.Figure at 0x1c44aed3da0>"
      ]
     },
     "metadata": {},
     "output_type": "display_data"
    },
    {
     "data": {
      "image/png": "[encoded data removed]",
      "text/plain": [
       "<matplotlib.figure.Figure at 0x1c44adb09e8>"
      ]
     },
     "metadata": {},
     "output_type": "display_data"
    },
    {
     "data": {
      "image/png": "[encoded data removed]",
      "text/plain": [
       "<matplotlib.figure.Figure at 0x1c44af84400>"
      ]
     },
     "metadata": {},
     "output_type": "display_data"
    },
    {
     "data": {
      "image/png": "[encoded data removed]",
      "text/plain": [
       "<matplotlib.figure.Figure at 0x1c44ae015f8>"
      ]
     },
     "metadata": {},
     "output_type": "display_data"
    },
    {
     "data": {
      "image/png": "[encoded data removed]",
      "text/plain": [
       "<matplotlib.figure.Figure at 0x1c44ae2b860>"
      ]
     },
     "metadata": {},
     "output_type": "display_data"
    },
    {
     "data": {
      "image/png": "[encoded data removed]",
      "text/plain": [
       "<matplotlib.figure.Figure at 0x1c44b3bf0b8>"
      ]
     },
     "metadata": {},
     "output_type": "display_data"
    },
    {
     "data": {
      "image/png": "[encoded data removed]",
      "text/plain": [
       "<matplotlib.figure.Figure at 0x1c44b38db00>"
      ]
     },
     "metadata": {},
     "output_type": "display_data"
    },
    {
     "data": {
      "image/png": "[encoded data removed]",
      "text/plain": [
       "<matplotlib.figure.Figure at 0x1c44b43a320>"
      ]
     },
     "metadata": {},
     "output_type": "display_data"
    },
    {
     "data": {
      "image/png": "[encoded data removed]",
      "text/plain": [
       "<matplotlib.figure.Figure at 0x1c44b476f28>"
      ]
     },
     "metadata": {},
     "output_type": "display_data"
    },
    {
     "data": {
      "image/png": "[encoded data removed]",
      "text/plain": [
       "<matplotlib.figure.Figure at 0x1c44b4bbe80>"
      ]
     },
     "metadata": {},
     "output_type": "display_data"
    },
    {
     "data": {
      "image/png": "[encoded data removed]",
      "text/plain": [
       "<matplotlib.figure.Figure at 0x1c44b50c6d8>"
      ]
     },
     "metadata": {},
     "output_type": "display_data"
    },
    {
     "data": {
      "image/png": "[encoded data removed]",
      "text/plain": [
       "<matplotlib.figure.Figure at 0x1c44b38dbe0>"
      ]
     },
     "metadata": {},
     "output_type": "display_data"
    },
    {
     "data": {
      "image/png": "[encoded data removed]",
      "text/plain": [
       "<matplotlib.figure.Figure at 0x1c44c5cdba8>"
      ]
     },
     "metadata": {},
     "output_type": "display_data"
    },
    {
     "data": {
      "image/png": "[encoded data removed]",
      "text/plain": [
       "<matplotlib.figure.Figure at 0x1c44c649908>"
      ]
     },
     "metadata": {},
     "output_type": "display_data"
    },
    {
     "data": {
      "image/png": "[encoded data removed]",
      "text/plain": [
       "<matplotlib.figure.Figure at 0x1c44c661f60>"
      ]
     },
     "metadata": {},
     "output_type": "display_data"
    },
    {
     "data": {
      "image/png": "[encoded data removed]",
      "text/plain": [
       "<matplotlib.figure.Figure at 0x1c44b29b7b8>"
      ]
     },
     "metadata": {},
     "output_type": "display_data"
    },
    {
     "data": {
      "image/png": "[encoded data removed]",
      "text/plain": [
       "<matplotlib.figure.Figure at 0x1c44afe4240>"
      ]
     },
     "metadata": {},
     "output_type": "display_data"
    },
    {
     "data": {
      "image/png": "[encoded data removed]",
      "text/plain": [
       "<matplotlib.figure.Figure at 0x1c44b1a4668>"
      ]
     },
     "metadata": {},
     "output_type": "display_data"
    },
    {
     "data": {
      "image/png": "[encoded data removed]",
      "text/plain": [
       "<matplotlib.figure.Figure at 0x1c44a981ba8>"
      ]
     },
     "metadata": {},
     "output_type": "display_data"
    },
    {
     "data": {
      "image/png": "[encoded data removed]",
      "text/plain": [
       "<matplotlib.figure.Figure at 0x1c44a9b54a8>"
      ]
     },
     "metadata": {},
     "output_type": "display_data"
    },
    {
     "data": {
      "image/png": "[encoded data removed]",
      "text/plain": [
       "<matplotlib.figure.Figure at 0x1c44b10ae48>"
      ]
     },
     "metadata": {},
     "output_type": "display_data"
    },
    {
     "data": {
      "image/png": "[encoded data removed]",
      "text/plain": [
       "<matplotlib.figure.Figure at 0x1c44b2dad30>"
      ]
     },
     "metadata": {},
     "output_type": "display_data"
    },
    {
     "data": {
      "image/png": "[encoded data removed]",
      "text/plain": [
       "<matplotlib.figure.Figure at 0x1c44b2125f8>"
      ]
     },
     "metadata": {},
     "output_type": "display_data"
    },
    {
     "data": {
      "image/png": "[encoded data removed]",
      "text/plain": [
       "<matplotlib.figure.Figure at 0x1c44c740908>"
      ]
     },
     "metadata": {},
     "output_type": "display_data"
    },
    {
     "data": {
      "image/png": "[encoded data removed]",
      "text/plain": [
       "<matplotlib.figure.Figure at 0x1c44c771748>"
      ]
     },
     "metadata": {},
     "output_type": "display_data"
    },
    {
     "data": {
      "image/png": "[encoded data removed]",
      "text/plain": [
       "<matplotlib.figure.Figure at 0x1c44c7b7940>"
      ]
     },
     "metadata": {},
     "output_type": "display_data"
    },
    {
     "data": {
      "text/plain": [
       "<matplotlib.figure.Figure at 0x1c44c7d0710>"
      ]
     },
     "metadata": {},
     "output_type": "display_data"
    }
   ],
   "source": [
    "for column in train_data.columns[train_data.dtypes == np.object]:\n",
    "    if train_data[column].unique().size < 50:\n",
    "        train_data[column].value_counts().plot(kind='bar', title=column)\n",
    "        plt.figure()"
   ]
  },
  {
   "cell_type": "code",
   "execution_count": 86,
   "metadata": {},
   "outputs": [
    {
     "data": {
      "text/plain": [
       "f    2799\n",
       "t       1\n",
       "Name: hypopituitary, dtype: int64"
      ]
     },
     "execution_count": 86,
     "metadata": {},
     "output_type": "execute_result"
    }
   ],
   "source": [
    "train_data['hypopituitary'].value_counts()"
   ]
  },
  {
   "cell_type": "code",
   "execution_count": 60,
   "metadata": {},
   "outputs": [
    {
     "name": "stdout",
     "output_type": "stream",
     "text": [
      "age :  281\n",
      "on thyroxine :  0\n",
      "query on thyroxine :  0\n",
      "pregnant :  0\n",
      "thyroid surgery :  0\n",
      "I131 treatment :  0\n",
      "lithium :  0\n",
      "goitre :  0\n",
      "tumor :  0\n",
      "hypopituitary :  0\n",
      "TSH :  284\n",
      "T3 measured :  0\n",
      "T3 :  585\n",
      "TT4 :  349\n",
      "T4U :  297\n",
      "FTI measured :  0\n",
      "TBG measured :  0\n",
      "TBG :  0\n",
      "referral source :  0\n",
      "class :  0\n",
      "workclass :  0\n",
      "fnlwgt :  0\n",
      "education :  0\n",
      "education-num :  0\n",
      "marital-status :  0\n",
      "occupation :  0\n",
      "relationship :  0\n",
      "race :  0\n",
      "capital-gain :  0\n",
      "capital-loss :  0\n",
      "hours-per-week :  0\n",
      "native-country :  0\n",
      "date_of_birth :  1\n",
      "TSH measured :  0\n",
      "sex :  0\n",
      "query hyperthyroid :  0\n",
      "TT4 measured :  0\n",
      "on antithyroid medication :  0\n",
      "FTI :  0\n",
      "sick :  0\n",
      "T4U measured :  0\n",
      "psych :  0\n",
      "query hypothyroid :  0\n"
     ]
    }
   ],
   "source": [
    "for column in train_data.columns:\n",
    "    b = train_data[column].isnull()\n",
    "    print(column, \": \", b[b == True].count())"
   ]
  },
  {
   "cell_type": "code",
   "execution_count": 76,
   "metadata": {},
   "outputs": [
    {
     "name": "stdout",
     "output_type": "stream",
     "text": [
      "Age-TSH correlation:  -0.06468098608047428\n"
     ]
    },
    {
     "data": {
      "text/plain": [
       "<matplotlib.figure.Figure at 0x1c44ded5390>"
      ]
     },
     "execution_count": 76,
     "metadata": {},
     "output_type": "execute_result"
    },
    {
     "data": {
      "image/png": "[encoded data removed]",
      "text/plain": [
       "<matplotlib.figure.Figure at 0x1c44dea5278>"
      ]
     },
     "metadata": {},
     "output_type": "display_data"
    },
    {
     "data": {
      "text/plain": [
       "<matplotlib.figure.Figure at 0x1c44aea12b0>"
      ]
     },
     "metadata": {},
     "output_type": "display_data"
    },
    {
     "data": {
      "image/png": "[encoded data removed]",
      "text/plain": [
       "<matplotlib.figure.Figure at 0x1c44b2675c0>"
      ]
     },
     "metadata": {},
     "output_type": "display_data"
    },
    {
     "data": {
      "text/plain": [
       "<matplotlib.figure.Figure at 0x1c44ded5390>"
      ]
     },
     "metadata": {},
     "output_type": "display_data"
    }
   ],
   "source": [
    "#v tychto bunkach nizsie som len skusal jednotlive techniky\n",
    "#nieco som cerpal z materialov co ma cviciaci na git-e, nieco je z https://www.kaggle.com/residentmario/bivariate-plotting-with-pandas\n",
    "print(\"Age-TSH correlation: \", train_data['age'].corr(train_data['TSH']))\n",
    "train_data.plot.scatter(x='age', y='TSH')\n",
    "plt.figure()\n",
    "train_data.plot.hexbin(x='age', y='TSH', gridsize=50)\n",
    "plt.figure()"
   ]
  },
  {
   "cell_type": "code",
   "execution_count": 96,
   "metadata": {},
   "outputs": [
    {
     "data": {
      "text/html": [
       "<div>\n",
       "<style scoped>\n",
       "    .dataframe tbody tr th:only-of-type {\n",
       "        vertical-align: middle;\n",
       "    }\n",
       "\n",
       "    .dataframe tbody tr th {\n",
       "        vertical-align: top;\n",
       "    }\n",
       "\n",
       "    .dataframe thead th {\n",
       "        text-align: right;\n",
       "    }\n",
       "</style>\n",
       "<table border=\"1\" class=\"dataframe\">\n",
       "  <thead>\n",
       "    <tr style=\"text-align: right;\">\n",
       "      <th>sick</th>\n",
       "      <th>f</th>\n",
       "      <th>t</th>\n",
       "    </tr>\n",
       "    <tr>\n",
       "      <th>sex</th>\n",
       "      <th></th>\n",
       "      <th></th>\n",
       "    </tr>\n",
       "  </thead>\n",
       "  <tbody>\n",
       "    <tr>\n",
       "      <th>?</th>\n",
       "      <td>108</td>\n",
       "      <td>2</td>\n",
       "    </tr>\n",
       "    <tr>\n",
       "      <th>F</th>\n",
       "      <td>1757</td>\n",
       "      <td>73</td>\n",
       "    </tr>\n",
       "    <tr>\n",
       "      <th>M</th>\n",
       "      <td>825</td>\n",
       "      <td>35</td>\n",
       "    </tr>\n",
       "  </tbody>\n",
       "</table>\n",
       "</div>"
      ],
      "text/plain": [
       "sick     f   t\n",
       "sex           \n",
       "?      108   2\n",
       "F     1757  73\n",
       "M      825  35"
      ]
     },
     "execution_count": 96,
     "metadata": {},
     "output_type": "execute_result"
    }
   ],
   "source": [
    "cross = pd.crosstab(index=train_data[\"sex\"], columns=train_data[\"sick\"])\n",
    "cross"
   ]
  },
  {
   "cell_type": "code",
   "execution_count": 94,
   "metadata": {},
   "outputs": [
    {
     "data": {
      "text/plain": [
       "<matplotlib.axes._subplots.AxesSubplot at 0x1c44b175898>"
      ]
     },
     "execution_count": 94,
     "metadata": {},
     "output_type": "execute_result"
    },
    {
     "data": {
      "image/png": "[encoded data removed]",
      "text/plain": [
       "<matplotlib.figure.Figure at 0x1c44b07f198>"
      ]
     },
     "metadata": {},
     "output_type": "display_data"
    }
   ],
   "source": [
    "sns.heatmap(cross, annot=True, fmt=\"d\")"
   ]
  },
  {
   "cell_type": "code",
   "execution_count": 95,
   "metadata": {},
   "outputs": [
    {
     "data": {
      "text/html": [
       "<div>\n",
       "<style scoped>\n",
       "    .dataframe tbody tr th:only-of-type {\n",
       "        vertical-align: middle;\n",
       "    }\n",
       "\n",
       "    .dataframe tbody tr th {\n",
       "        vertical-align: top;\n",
       "    }\n",
       "\n",
       "    .dataframe thead th {\n",
       "        text-align: right;\n",
       "    }\n",
       "</style>\n",
       "<table border=\"1\" class=\"dataframe\">\n",
       "  <thead>\n",
       "    <tr style=\"text-align: right;\">\n",
       "      <th>sick</th>\n",
       "      <th>f</th>\n",
       "      <th>t</th>\n",
       "    </tr>\n",
       "    <tr>\n",
       "      <th>sex</th>\n",
       "      <th></th>\n",
       "      <th></th>\n",
       "    </tr>\n",
       "  </thead>\n",
       "  <tbody>\n",
       "    <tr>\n",
       "      <th>?</th>\n",
       "      <td>0.981818</td>\n",
       "      <td>0.018182</td>\n",
       "    </tr>\n",
       "    <tr>\n",
       "      <th>F</th>\n",
       "      <td>0.960109</td>\n",
       "      <td>0.039891</td>\n",
       "    </tr>\n",
       "    <tr>\n",
       "      <th>M</th>\n",
       "      <td>0.959302</td>\n",
       "      <td>0.040698</td>\n",
       "    </tr>\n",
       "  </tbody>\n",
       "</table>\n",
       "</div>"
      ],
      "text/plain": [
       "sick         f         t\n",
       "sex                     \n",
       "?     0.981818  0.018182\n",
       "F     0.960109  0.039891\n",
       "M     0.959302  0.040698"
      ]
     },
     "execution_count": 95,
     "metadata": {},
     "output_type": "execute_result"
    }
   ],
   "source": [
    "crossNorm = pd.crosstab(index=train_data[\"sex\"], columns=train_data[\"sick\"], normalize='index')\n",
    "crossNorm"
   ]
  },
  {
   "cell_type": "code",
   "execution_count": 93,
   "metadata": {},
   "outputs": [
    {
     "data": {
      "text/plain": [
       "<matplotlib.axes._subplots.AxesSubplot at 0x1c44df443c8>"
      ]
     },
     "execution_count": 93,
     "metadata": {},
     "output_type": "execute_result"
    },
    {
     "data": {
      "image/png": "[encoded data removed]",
      "text/plain": [
       "<matplotlib.figure.Figure at 0x1c44c7d6a20>"
      ]
     },
     "metadata": {},
     "output_type": "display_data"
    }
   ],
   "source": [
    "sns.heatmap(crossNorm, annot=True, fmt=\".4f\")"
   ]
  },
  {
   "cell_type": "code",
   "execution_count": 108,
   "metadata": {},
   "outputs": [
    {
     "data": {
      "text/plain": [
       "<matplotlib.figure.Figure at 0x1c44b232cc0>"
      ]
     },
     "execution_count": 108,
     "metadata": {},
     "output_type": "execute_result"
    },
    {
     "data": {
      "image/png": "[encoded data removed]",
      "text/plain": [
       "<matplotlib.figure.Figure at 0x1c44b068668>"
      ]
     },
     "metadata": {},
     "output_type": "display_data"
    },
    {
     "data": {
      "text/plain": [
       "<matplotlib.figure.Figure at 0x1c44b232cc0>"
      ]
     },
     "metadata": {},
     "output_type": "display_data"
    }
   ],
   "source": [
    "pokemon_stats_by_generation = train_data.groupby('sex').mean()[['age']]\n",
    "pokemon_stats_by_generation.plot.bar(stacked=True)\n",
    "plt.figure()"
   ]
  },
  {
   "cell_type": "code",
   "execution_count": 109,
   "metadata": {},
   "outputs": [
    {
     "data": {
      "text/plain": [
       "<matplotlib.figure.Figure at 0x1c44aae0710>"
      ]
     },
     "execution_count": 109,
     "metadata": {},
     "output_type": "execute_result"
    },
    {
     "data": {
      "image/png": "[encoded data removed]",
      "text/plain": [
       "<matplotlib.figure.Figure at 0x1c44aae0d30>"
      ]
     },
     "metadata": {},
     "output_type": "display_data"
    },
    {
     "data": {
      "text/plain": [
       "<matplotlib.figure.Figure at 0x1c44aae0710>"
      ]
     },
     "metadata": {},
     "output_type": "display_data"
    }
   ],
   "source": [
    "pokemon_stats_by_generation = train_data.groupby(['sex', 'sick']).mean()[['age']]\n",
    "pokemon_stats_by_generation.plot.bar(stacked=True)\n",
    "plt.figure()"
   ]
  },
  {
   "cell_type": "markdown",
   "metadata": {},
   "source": [
    "TODO:\n",
    "    -najdenie lepsieho nazvu pre dokument\n",
    "    -bivarietna analyza\n",
    "    -identifikacia outlierov\n",
    "    -popis\n",
    "    -ako odstranime nekonzistencie (popis)\n",
    "    -ako vyriesime nezname prvky (popis)"
   ]
  }
 ],
 "metadata": {
  "kernelspec": {
   "display_name": "Python 3",
   "language": "python",
   "name": "python3"
  },
  "language_info": {
   "codemirror_mode": {
    "name": "ipython",
    "version": 3
   },
   "file_extension": ".py",
   "mimetype": "text/x-python",
   "name": "python",
   "nbconvert_exporter": "python",
   "pygments_lexer": "ipython3",
   "version": "3.6.4"
  }
 },
 "nbformat": 4,
 "nbformat_minor": 2
}
