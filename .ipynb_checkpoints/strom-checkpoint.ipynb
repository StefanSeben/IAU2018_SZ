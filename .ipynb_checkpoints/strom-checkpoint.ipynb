{
 "cells": [
  {
   "cell_type": "markdown",
   "metadata": {},
   "source": [
    "# Strom"
   ]
  },
  {
   "cell_type": "code",
   "execution_count": 1,
   "metadata": {},
   "outputs": [],
   "source": [
    "from sklearn import tree\n",
    "import pandas as pd\n",
    "import numpy as np\n",
    "import random as rnd\n",
    "import seaborn\n",
    "import matplotlib.pyplot as plt\n",
    "%matplotlib inline\n",
    "\n",
    "\n",
    "pd.set_option('display.max_columns', 50)"
   ]
  },
  {
   "cell_type": "code",
   "execution_count": 2,
   "metadata": {},
   "outputs": [],
   "source": [
    "train_data = pd.read_csv('data/train_predspracovane.csv')\n",
    "test_data = pd.read_csv('data/test_predspracovane.csv')"
   ]
  },
  {
   "cell_type": "markdown",
   "metadata": {},
   "source": [
    "Do funkcie pre predspracovanie sme zabudli vložiť riadok kódu, kde sa vymazával stĺpec date_of_birth. Urobíme teda túto poslednú úpravu teraz."
   ]
  },
  {
   "cell_type": "code",
   "execution_count": 3,
   "metadata": {},
   "outputs": [],
   "source": [
    "train_data = train_data.drop('id', axis=1)\n",
    "test_data = test_data.drop('id', axis=1)"
   ]
  },
  {
   "cell_type": "markdown",
   "metadata": {},
   "source": [
    "Rozvinuli sme hodnoty kategorických atribútov do vlastných stĺpcov podľa One Hot Encoding, takže rozhodovací strom bude môcť pracovať aj s nimi."
   ]
  },
  {
   "cell_type": "code",
   "execution_count": 4,
   "metadata": {},
   "outputs": [],
   "source": [
    "tree_train_data = train_data.drop('test', axis=1)\n",
    "tree_train_data = pd.get_dummies(tree_train_data, columns=tree_train_data.columns[tree_train_data.dtypes == np.object], dummy_na=True)\n",
    "tree_train_target = train_data.test\n",
    "\n",
    "tree_test_data = test_data.drop('test', axis=1)\n",
    "tree_test_data = pd.get_dummies(tree_test_data, columns=tree_test_data.columns[tree_test_data.dtypes == np.object], dummy_na=True)\n",
    "tree_test_target = test_data.test"
   ]
  },
  {
   "cell_type": "markdown",
   "metadata": {},
   "source": [
    "Transformovali sme klasifikovaný atribút na binárny, aby sme mohli pre optimalizáciu rozhodovacieho stromu použiť metriku f1."
   ]
  },
  {
   "cell_type": "code",
   "execution_count": 5,
   "metadata": {},
   "outputs": [],
   "source": [
    "def bintransform(target):\n",
    "    ret = []\n",
    "    for i in range(len(target)):\n",
    "        if (target.iloc[i] == 'discordant'):\n",
    "            ret.append(1)\n",
    "        else:\n",
    "            ret.append(0)\n",
    "    return ret\n",
    "            \n",
    "tree_train_target = bintransform(tree_train_target)\n",
    "tree_test_target = bintransform(tree_test_target)"
   ]
  },
  {
   "cell_type": "markdown",
   "metadata": {},
   "source": [
    "Zahodili sme stĺpce vyjadrujúce tie hodnoty kategorických atribútov, ktoré sa nevyskytovali v trénovacom dátovom súbore, takže na základe nich nebolo možné klasifikovať a boli zbytočné."
   ]
  },
  {
   "cell_type": "code",
   "execution_count": 6,
   "metadata": {
    "scrolled": true
   },
   "outputs": [],
   "source": [
    "toDrop = []\n",
    "for attr in tree_test_data.columns:\n",
    "    if attr not in tree_train_data.columns:\n",
    "        toDrop.append(attr)\n",
    "\n",
    "tree_test_data = tree_test_data.drop(toDrop, axis=1)"
   ]
  },
  {
   "cell_type": "markdown",
   "metadata": {},
   "source": [
    "A do testovacích dát sme pre zmenu doplnili stĺpce vyjadrujúce tie hodnoty kategorických atribútov, ktoré sa nevyskytovali v testovacom dátovom súbore."
   ]
  },
  {
   "cell_type": "code",
   "execution_count": 7,
   "metadata": {},
   "outputs": [],
   "source": [
    "for attr in tree_train_data.columns:\n",
    "    if attr not in tree_test_data.columns:\n",
    "        tree_test_data[attr] = 0"
   ]
  },
  {
   "cell_type": "markdown",
   "metadata": {},
   "source": [
    "# 1 Hľadanie optimálneho stromu"
   ]
  },
  {
   "cell_type": "markdown",
   "metadata": {},
   "source": [
    "Vytvorili sme rozhodovací strom a pokúsili sa nájsť optimálne hodnoty hyperparametrov, takže môžeme náš strom optimalizovať najviac ako to je možné."
   ]
  },
  {
   "cell_type": "code",
   "execution_count": 8,
   "metadata": {},
   "outputs": [],
   "source": [
    "from sklearn.tree import DecisionTreeClassifier\n",
    "from sklearn.model_selection import GridSearchCV\n",
    "\n",
    "cv_params={'criterion': ['gini', 'entropy'], 'min_samples_leaf':range(10, 500, 100), 'min_samples_split':range(10, 500, 100), 'max_depth':list(range(1, 10)), 'class_weight':[\"balanced\", None]}            \n",
    "\n",
    "tree_classifier = DecisionTreeClassifier\n",
    "ind_params = {'random_state': 0}\n",
    "optimization = GridSearchCV(tree_classifier(**ind_params), \n",
    "                            cv_params, \n",
    "                             scoring = 'f1', cv = 10, n_jobs = -1, verbose=True)"
   ]
  },
  {
   "cell_type": "code",
   "execution_count": 9,
   "metadata": {},
   "outputs": [
    {
     "name": "stdout",
     "output_type": "stream",
     "text": [
      "Fitting 10 folds for each of 900 candidates, totalling 9000 fits\n"
     ]
    },
    {
     "name": "stderr",
     "output_type": "stream",
     "text": [
      "[Parallel(n_jobs=-1)]: Done 116 tasks      | elapsed:    2.8s\n",
      "[Parallel(n_jobs=-1)]: Done 1916 tasks      | elapsed:   13.7s\n",
      "[Parallel(n_jobs=-1)]: Done 4916 tasks      | elapsed:   31.7s\n",
      "[Parallel(n_jobs=-1)]: Done 9000 out of 9000 | elapsed:   56.5s finished\n"
     ]
    },
    {
     "data": {
      "text/plain": [
       "GridSearchCV(cv=10, error_score='raise',\n",
       "       estimator=DecisionTreeClassifier(class_weight=None, criterion='gini', max_depth=None,\n",
       "            max_features=None, max_leaf_nodes=None,\n",
       "            min_impurity_decrease=0.0, min_impurity_split=None,\n",
       "            min_samples_leaf=1, min_samples_split=2,\n",
       "            min_weight_fraction_leaf=0.0, presort=False, random_state=0,\n",
       "            splitter='best'),\n",
       "       fit_params=None, iid=True, n_jobs=-1,\n",
       "       param_grid={'criterion': ['gini', 'entropy'], 'min_samples_leaf': range(10, 500, 100), 'min_samples_split': range(10, 500, 100), 'max_depth': [1, 2, 3, 4, 5, 6, 7, 8, 9], 'class_weight': ['balanced', None]},\n",
       "       pre_dispatch='2*n_jobs', refit=True, return_train_score='warn',\n",
       "       scoring='f1', verbose=True)"
      ]
     },
     "execution_count": 9,
     "metadata": {},
     "output_type": "execute_result"
    }
   ],
   "source": [
    "optimization.fit(tree_train_data, tree_train_target)"
   ]
  },
  {
   "cell_type": "markdown",
   "metadata": {},
   "source": [
    "Zistili sme najlepšiu kombináciu hyperparametrov pre naše dáta. Tieto použijeme pri trénovaní nášho rozhodovacieho stromu.\n",
    "\n",
    "Zároveň si tu je možné povšimnúť, že najlepšia priemerná hodnota f1 je pomerne nízka a štandardná odchýľka vysoká, čo naznačuje, že klasifikátor nemusí byť presný a úspešný pri klasifikácii."
   ]
  },
  {
   "cell_type": "code",
   "execution_count": 10,
   "metadata": {
    "scrolled": true
   },
   "outputs": [
    {
     "name": "stderr",
     "output_type": "stream",
     "text": [
      "C:\\Anaconda3\\lib\\site-packages\\sklearn\\model_selection\\_search.py:761: DeprecationWarning: The grid_scores_ attribute was deprecated in version 0.18 in favor of the more elaborate cv_results_ attribute. The grid_scores_ attribute will not be available from 0.20\n",
      "  DeprecationWarning)\n"
     ]
    },
    {
     "data": {
      "text/plain": [
       "[mean: 0.60747, std: 0.23442, params: {'class_weight': None, 'criterion': 'entropy', 'max_depth': 5, 'min_samples_leaf': 10, 'min_samples_split': 10},\n",
       " mean: 0.59363, std: 0.22108, params: {'class_weight': None, 'criterion': 'entropy', 'max_depth': 6, 'min_samples_leaf': 10, 'min_samples_split': 10},\n",
       " mean: 0.59029, std: 0.21767, params: {'class_weight': None, 'criterion': 'entropy', 'max_depth': 7, 'min_samples_leaf': 10, 'min_samples_split': 10},\n",
       " mean: 0.59029, std: 0.21767, params: {'class_weight': None, 'criterion': 'entropy', 'max_depth': 8, 'min_samples_leaf': 10, 'min_samples_split': 10},\n",
       " mean: 0.59029, std: 0.21767, params: {'class_weight': None, 'criterion': 'entropy', 'max_depth': 9, 'min_samples_leaf': 10, 'min_samples_split': 10}]"
      ]
     },
     "execution_count": 10,
     "metadata": {},
     "output_type": "execute_result"
    }
   ],
   "source": [
    "sorted(optimization.grid_scores_, key=lambda x: x.mean_validation_score, reverse=True)[:5]"
   ]
  },
  {
   "cell_type": "markdown",
   "metadata": {},
   "source": [
    "Natrénovali sme si strom podľa zistenej najoptimálnejšej kombinácie hyperparametrov."
   ]
  },
  {
   "cell_type": "code",
   "execution_count": 11,
   "metadata": {},
   "outputs": [],
   "source": [
    "tree_classifier = DecisionTreeClassifier(criterion='entropy', max_depth=5, class_weight=None, min_samples_leaf= 10, min_samples_split= 10)\n",
    "tree_classifier = tree_classifier.fit(tree_train_data, tree_train_target)"
   ]
  },
  {
   "cell_type": "markdown",
   "metadata": {},
   "source": [
    "Vyskúšali sme, aké má natrénovaný klasifikátor skóre. Na základe tehto mierky by sa mohlo zdať, že bude pracovať veľmi dobre."
   ]
  },
  {
   "cell_type": "code",
   "execution_count": 12,
   "metadata": {},
   "outputs": [
    {
     "name": "stdout",
     "output_type": "stream",
     "text": [
      "0.9825102880658436\n"
     ]
    }
   ],
   "source": [
    "print(tree_classifier.score(tree_test_data, tree_test_target))\n",
    "tree_prediction = tree_classifier.predict(tree_test_data)"
   ]
  },
  {
   "cell_type": "markdown",
   "metadata": {},
   "source": [
    "Vytvorili sme si funkciu, ktorá pre nás vytvorí pravdivostnú tabuľku pre výsledky jednotlivých rozhodovacích stromov, ktorá nám pomôže vyhodnotiť ich výsledky."
   ]
  },
  {
   "cell_type": "code",
   "execution_count": 13,
   "metadata": {},
   "outputs": [],
   "source": [
    "def pravdivost(real, pred, otocena=False):\n",
    "    com = pd.DataFrame()\n",
    "    com['real'] = real\n",
    "    com['pred'] = pred\n",
    "    \n",
    "    total = len(real)\n",
    "    tp = 0\n",
    "    tIe = 0\n",
    "    tIIe = 0\n",
    "    tn = 0\n",
    "    if  not otocena:\n",
    "        for i in range(len(real)):\n",
    "            if (pred[i] == 1 and real[i] == 'discordant'):\n",
    "                tp = tp + 1\n",
    "            if (pred[i] == 1 and real[i] == 'negative'):\n",
    "                tIe = tIe + 1\n",
    "            if (pred[i] == 0 and real[i] == 'discordant'):\n",
    "                tIIe = tIIe + 1\n",
    "            if (pred[i] == 0 and real[i] == 'negative'):\n",
    "                tn = tn + 1\n",
    "    else:\n",
    "        for i in range(len(real)):\n",
    "            if (pred[i] == 0 and real[i] == 'negative'):\n",
    "                tp = tp + 1\n",
    "            if (pred[i] == 0 and real[i] == 'discordant'):\n",
    "                tIe = tIe + 1\n",
    "            if (pred[i] == 1 and real[i] == 'negative'):\n",
    "                tIIe = tIIe + 1\n",
    "            if (pred[i] == 1 and real[i] == 'discordant'):\n",
    "                tn = tn + 1\n",
    "        \n",
    "    print(64*'═')\n",
    "    print('║{:<20}║{:<20}|{:<20}║'.format('', 'Prediction positive', 'Prediction negative'))\n",
    "    print(64*'═')\n",
    "    print('║{:<20}║{:<20.2f}|{:<20.2f}║'.format('Condition positive', tp, tIIe))\n",
    "    print(64*'═')\n",
    "    print('║{:<20}║{:<20.2f}|{:<20.2f}║'.format('Condition negative', tIe, tn))\n",
    "    print(64*'═')\n",
    "        \n",
    "    print(\"Accuracy: \", (tp + tn) / total if total != 0 else 0)\n",
    "    print(\"Precission: \",  tp / (tp + tIe) if tp + tIe != 0 else 0)\n",
    "    print(\"Recall: \", tp / (tp + tIIe) if tp + tIIe != 0 else 0)"
   ]
  },
  {
   "cell_type": "markdown",
   "metadata": {},
   "source": [
    "Overili sme si presnosť klasifikátora pre predikovanie pozitívnych testov.\n",
    "\n",
    "Podľa tabuľky je možné pozorovať, že omnoho častejšie sa klasifikátor pri predikovaní pozitívneho testu mýli, ako má pravdu. Jeho použíteľnosť pre predikovanie pozitívneho testu je teda veľmi diskutabilná."
   ]
  },
  {
   "cell_type": "code",
   "execution_count": 14,
   "metadata": {
    "scrolled": true
   },
   "outputs": [
    {
     "name": "stdout",
     "output_type": "stream",
     "text": [
      "════════════════════════════════════════════════════════════════\n",
      "║                    ║Prediction positive |Prediction negative ║\n",
      "════════════════════════════════════════════════════════════════\n",
      "║Condition positive  ║1.00                |12.00               ║\n",
      "════════════════════════════════════════════════════════════════\n",
      "║Condition negative  ║5.00                |954.00              ║\n",
      "════════════════════════════════════════════════════════════════\n",
      "Accuracy:  0.9825102880658436\n",
      "Precission:  0.16666666666666666\n",
      "Recall:  0.07692307692307693\n"
     ]
    }
   ],
   "source": [
    "pravdivost(test_data.test, tree_prediction)"
   ]
  },
  {
   "cell_type": "markdown",
   "metadata": {},
   "source": [
    "Na druhú stranu je však presnosť klasifikátoru pre predikovanie negatívnych testov je znamenitá."
   ]
  },
  {
   "cell_type": "code",
   "execution_count": 15,
   "metadata": {
    "scrolled": true
   },
   "outputs": [
    {
     "name": "stdout",
     "output_type": "stream",
     "text": [
      "════════════════════════════════════════════════════════════════\n",
      "║                    ║Prediction positive |Prediction negative ║\n",
      "════════════════════════════════════════════════════════════════\n",
      "║Condition positive  ║954.00              |5.00                ║\n",
      "════════════════════════════════════════════════════════════════\n",
      "║Condition negative  ║12.00               |1.00                ║\n",
      "════════════════════════════════════════════════════════════════\n",
      "Accuracy:  0.9825102880658436\n",
      "Precission:  0.9875776397515528\n",
      "Recall:  0.9947862356621481\n"
     ]
    }
   ],
   "source": [
    "pravdivost(test_data.test, tree_prediction, True)"
   ]
  },
  {
   "cell_type": "markdown",
   "metadata": {},
   "source": [
    "Pre nás je však zaujímavé hlavne správne predikovanie pozitívnych testov. Tieto značia, že subjekt môže mať danú chorobu a preto je pre nás dôležitejšie vedieť identifikovať čo najviac takýchto prípadov ako presnejšie predikovanie zdravých ľudí. Ak je zdravý človek mylne označovaný za chorého, nič závažného sa nestane. Ak je ale chorý považovaný za zdravého, môže ho to stáť život.\n",
    "\n",
    "Klasifikátor v aktuálnom stave nedosahuje z tohto hľadiska dobré výsledky. Pokúsime sa teda ešte upraviť ručne niektoré hyperparametre a natrénovať strom znova."
   ]
  },
  {
   "cell_type": "markdown",
   "metadata": {},
   "source": [
    "Tieto výsledky môžu byť spôsobené nevyváženosťou tried. Vyskúšame teda nastaviť vyvažovanie tried pri klasifikácii."
   ]
  },
  {
   "cell_type": "code",
   "execution_count": 16,
   "metadata": {},
   "outputs": [
    {
     "name": "stdout",
     "output_type": "stream",
     "text": [
      "2755 45\n"
     ]
    }
   ],
   "source": [
    "print(len(train_data[train_data.test == 'negative']), len(train_data[train_data.test == 'discordant']))"
   ]
  },
  {
   "cell_type": "code",
   "execution_count": 17,
   "metadata": {},
   "outputs": [],
   "source": [
    "tree_classifier = DecisionTreeClassifier(criterion='entropy', max_depth=5, class_weight='balanced', min_samples_leaf= 10, min_samples_split= 10)\n",
    "tree_classifier = tree_classifier.fit(tree_train_data, tree_train_target)"
   ]
  },
  {
   "cell_type": "markdown",
   "metadata": {},
   "source": [
    "Skóre je pri tomto klasifikátore menšie ako pri tom, kde triedy vyvažované neboli."
   ]
  },
  {
   "cell_type": "markdown",
   "metadata": {},
   "source": [
    "Predikcia pre pozitívnu triedu sa zlepšila. Narástol síce počet chýb I stupňa, keď strom predikoval test pozitívny, ale ten bol v skutočnosti negatívny, klesol však počet chýb II stupňa, keď strom pozitívne testy neodhalil."
   ]
  },
  {
   "cell_type": "code",
   "execution_count": 18,
   "metadata": {
    "scrolled": true
   },
   "outputs": [
    {
     "name": "stdout",
     "output_type": "stream",
     "text": [
      "════════════════════════════════════════════════════════════════\n",
      "║                    ║Prediction positive |Prediction negative ║\n",
      "════════════════════════════════════════════════════════════════\n",
      "║Condition positive  ║8.00                |5.00                ║\n",
      "════════════════════════════════════════════════════════════════\n",
      "║Condition negative  ║27.00               |932.00              ║\n",
      "════════════════════════════════════════════════════════════════\n",
      "Accuracy:  0.9670781893004116\n",
      "Precission:  0.22857142857142856\n",
      "Recall:  0.6153846153846154\n"
     ]
    }
   ],
   "source": [
    "tree_prediction = tree_classifier.predict(tree_test_data)\n",
    "pravdivost(test_data.test, tree_prediction)"
   ]
  },
  {
   "cell_type": "markdown",
   "metadata": {},
   "source": [
    "Vyskúšame si teda vyhľadať najlepšie hyperparametre pri vyvažovaných triedach."
   ]
  },
  {
   "cell_type": "code",
   "execution_count": 19,
   "metadata": {},
   "outputs": [],
   "source": [
    "from sklearn.tree import DecisionTreeClassifier\n",
    "from sklearn.model_selection import GridSearchCV\n",
    "\n",
    "cv_params={'criterion': ['gini', 'entropy'], 'min_samples_leaf':range(10, 500, 100), 'min_samples_split':range(10, 500, 100), 'max_depth':list(range(1, 10)), 'class_weight':[\"balanced\"]}            \n",
    "\n",
    "tree_classifier_balanced = DecisionTreeClassifier\n",
    "ind_params = {'random_state': 0}\n",
    "optimization = GridSearchCV(tree_classifier_balanced(**ind_params), \n",
    "                            cv_params, \n",
    "                             scoring = 'f1', cv = 10, n_jobs = -1, verbose=True)"
   ]
  },
  {
   "cell_type": "code",
   "execution_count": 20,
   "metadata": {},
   "outputs": [
    {
     "name": "stdout",
     "output_type": "stream",
     "text": [
      "Fitting 10 folds for each of 450 candidates, totalling 4500 fits\n"
     ]
    },
    {
     "name": "stderr",
     "output_type": "stream",
     "text": [
      "[Parallel(n_jobs=-1)]: Done 116 tasks      | elapsed:    2.8s\n",
      "[Parallel(n_jobs=-1)]: Done 1916 tasks      | elapsed:   13.6s\n",
      "[Parallel(n_jobs=-1)]: Done 4500 out of 4500 | elapsed:   31.0s finished\n"
     ]
    },
    {
     "data": {
      "text/plain": [
       "GridSearchCV(cv=10, error_score='raise',\n",
       "       estimator=DecisionTreeClassifier(class_weight=None, criterion='gini', max_depth=None,\n",
       "            max_features=None, max_leaf_nodes=None,\n",
       "            min_impurity_decrease=0.0, min_impurity_split=None,\n",
       "            min_samples_leaf=1, min_samples_split=2,\n",
       "            min_weight_fraction_leaf=0.0, presort=False, random_state=0,\n",
       "            splitter='best'),\n",
       "       fit_params=None, iid=True, n_jobs=-1,\n",
       "       param_grid={'criterion': ['gini', 'entropy'], 'min_samples_leaf': range(10, 500, 100), 'min_samples_split': range(10, 500, 100), 'max_depth': [1, 2, 3, 4, 5, 6, 7, 8, 9], 'class_weight': ['balanced']},\n",
       "       pre_dispatch='2*n_jobs', refit=True, return_train_score='warn',\n",
       "       scoring='f1', verbose=True)"
      ]
     },
     "execution_count": 20,
     "metadata": {},
     "output_type": "execute_result"
    }
   ],
   "source": [
    "optimization.fit(tree_train_data, tree_train_target)"
   ]
  },
  {
   "cell_type": "markdown",
   "metadata": {},
   "source": [
    "Dostali sme odlišné odporúčané hyperparametre, vyskúšame natrénovať strom s nimi."
   ]
  },
  {
   "cell_type": "code",
   "execution_count": 21,
   "metadata": {
    "scrolled": true
   },
   "outputs": [
    {
     "name": "stderr",
     "output_type": "stream",
     "text": [
      "C:\\Anaconda3\\lib\\site-packages\\sklearn\\model_selection\\_search.py:761: DeprecationWarning: The grid_scores_ attribute was deprecated in version 0.18 in favor of the more elaborate cv_results_ attribute. The grid_scores_ attribute will not be available from 0.20\n",
      "  DeprecationWarning)\n"
     ]
    },
    {
     "data": {
      "text/plain": [
       "[mean: 0.54641, std: 0.15904, params: {'class_weight': 'balanced', 'criterion': 'entropy', 'max_depth': 6, 'min_samples_leaf': 10, 'min_samples_split': 10},\n",
       " mean: 0.54633, std: 0.19077, params: {'class_weight': 'balanced', 'criterion': 'gini', 'max_depth': 8, 'min_samples_leaf': 10, 'min_samples_split': 10},\n",
       " mean: 0.53848, std: 0.18425, params: {'class_weight': 'balanced', 'criterion': 'entropy', 'max_depth': 7, 'min_samples_leaf': 10, 'min_samples_split': 10},\n",
       " mean: 0.53648, std: 0.18329, params: {'class_weight': 'balanced', 'criterion': 'gini', 'max_depth': 7, 'min_samples_leaf': 10, 'min_samples_split': 10},\n",
       " mean: 0.53148, std: 0.17756, params: {'class_weight': 'balanced', 'criterion': 'gini', 'max_depth': 9, 'min_samples_leaf': 10, 'min_samples_split': 10}]"
      ]
     },
     "execution_count": 21,
     "metadata": {},
     "output_type": "execute_result"
    }
   ],
   "source": [
    "sorted(optimization.grid_scores_, key=lambda x: x.mean_validation_score, reverse=True)[:5]"
   ]
  },
  {
   "cell_type": "code",
   "execution_count": 22,
   "metadata": {},
   "outputs": [],
   "source": [
    "tree_classifier_balanced = DecisionTreeClassifier(criterion='entropy', max_depth=6, class_weight='balanced', min_samples_leaf= 10, min_samples_split= 10)\n",
    "tree_classifier_balanced = tree_classifier_balanced.fit(tree_train_data, tree_train_target)"
   ]
  },
  {
   "cell_type": "markdown",
   "metadata": {},
   "source": [
    "Skóre je o niečo lepšie. Overíme si, či sa teda zlepšila aj klasifikácia voči pozitívnej triede v testovacom súbore."
   ]
  },
  {
   "cell_type": "markdown",
   "metadata": {},
   "source": [
    "Klasifikácia pozitívnej triedy sa zlepšila iba v tom zmysle, že bolo menej negatívnych testov označených mylne za pozitívne. Každopádne takouto konfiguráciou boli dosiahnuté pre náš účel lepšie výsledky."
   ]
  },
  {
   "cell_type": "code",
   "execution_count": 23,
   "metadata": {
    "scrolled": false
   },
   "outputs": [
    {
     "name": "stdout",
     "output_type": "stream",
     "text": [
      "════════════════════════════════════════════════════════════════\n",
      "║                    ║Prediction positive |Prediction negative ║\n",
      "════════════════════════════════════════════════════════════════\n",
      "║Condition positive  ║7.00                |6.00                ║\n",
      "════════════════════════════════════════════════════════════════\n",
      "║Condition negative  ║23.00               |936.00              ║\n",
      "════════════════════════════════════════════════════════════════\n",
      "Accuracy:  0.970164609053498\n",
      "Precission:  0.23333333333333334\n",
      "Recall:  0.5384615384615384\n"
     ]
    }
   ],
   "source": [
    "tree_balanced_prediction = tree_classifier_balanced.predict(tree_test_data)\n",
    "pravdivost(test_data.test, tree_balanced_prediction)"
   ]
  },
  {
   "cell_type": "markdown",
   "metadata": {},
   "source": [
    "Predsalen sme ale ešte vyskúšali ďalšie úpravy. Najprv vyskúšame optimalizovať pre metriku recall."
   ]
  },
  {
   "cell_type": "code",
   "execution_count": 24,
   "metadata": {},
   "outputs": [],
   "source": [
    "from sklearn.tree import DecisionTreeClassifier\n",
    "from sklearn.model_selection import GridSearchCV\n",
    "\n",
    "cv_params={'criterion': ['gini', 'entropy'], 'min_samples_leaf':range(10, 500, 100), 'min_samples_split':range(10, 500, 100), 'max_depth':list(range(1, 10)), 'class_weight':[\"balanced\"]}            \n",
    "\n",
    "tree_classifier_recall = DecisionTreeClassifier\n",
    "ind_params = {'random_state': 0}\n",
    "optimization = GridSearchCV(tree_classifier_recall(**ind_params), \n",
    "                            cv_params, \n",
    "                             scoring = 'recall', cv = 10, n_jobs = -1, verbose=True)"
   ]
  },
  {
   "cell_type": "code",
   "execution_count": 25,
   "metadata": {},
   "outputs": [
    {
     "name": "stdout",
     "output_type": "stream",
     "text": [
      "Fitting 10 folds for each of 450 candidates, totalling 4500 fits\n"
     ]
    },
    {
     "name": "stderr",
     "output_type": "stream",
     "text": [
      "[Parallel(n_jobs=-1)]: Done  94 tasks      | elapsed:    3.4s\n",
      "[Parallel(n_jobs=-1)]: Done 1894 tasks      | elapsed:   14.3s\n",
      "[Parallel(n_jobs=-1)]: Done 4500 out of 4500 | elapsed:   31.8s finished\n"
     ]
    },
    {
     "data": {
      "text/plain": [
       "GridSearchCV(cv=10, error_score='raise',\n",
       "       estimator=DecisionTreeClassifier(class_weight=None, criterion='gini', max_depth=None,\n",
       "            max_features=None, max_leaf_nodes=None,\n",
       "            min_impurity_decrease=0.0, min_impurity_split=None,\n",
       "            min_samples_leaf=1, min_samples_split=2,\n",
       "            min_weight_fraction_leaf=0.0, presort=False, random_state=0,\n",
       "            splitter='best'),\n",
       "       fit_params=None, iid=True, n_jobs=-1,\n",
       "       param_grid={'criterion': ['gini', 'entropy'], 'min_samples_leaf': range(10, 500, 100), 'min_samples_split': range(10, 500, 100), 'max_depth': [1, 2, 3, 4, 5, 6, 7, 8, 9], 'class_weight': ['balanced']},\n",
       "       pre_dispatch='2*n_jobs', refit=True, return_train_score='warn',\n",
       "       scoring='recall', verbose=True)"
      ]
     },
     "execution_count": 25,
     "metadata": {},
     "output_type": "execute_result"
    }
   ],
   "source": [
    "optimization.fit(tree_train_data, tree_train_target)"
   ]
  },
  {
   "cell_type": "code",
   "execution_count": 26,
   "metadata": {
    "scrolled": true
   },
   "outputs": [
    {
     "name": "stderr",
     "output_type": "stream",
     "text": [
      "C:\\Anaconda3\\lib\\site-packages\\sklearn\\model_selection\\_search.py:761: DeprecationWarning: The grid_scores_ attribute was deprecated in version 0.18 in favor of the more elaborate cv_results_ attribute. The grid_scores_ attribute will not be available from 0.20\n",
      "  DeprecationWarning)\n"
     ]
    },
    {
     "data": {
      "text/plain": [
       "[mean: 0.95502, std: 0.09069, params: {'class_weight': 'balanced', 'criterion': 'gini', 'max_depth': 2, 'min_samples_leaf': 110, 'min_samples_split': 10},\n",
       " mean: 0.95502, std: 0.09069, params: {'class_weight': 'balanced', 'criterion': 'gini', 'max_depth': 2, 'min_samples_leaf': 110, 'min_samples_split': 110},\n",
       " mean: 0.95502, std: 0.09069, params: {'class_weight': 'balanced', 'criterion': 'gini', 'max_depth': 2, 'min_samples_leaf': 110, 'min_samples_split': 210},\n",
       " mean: 0.95502, std: 0.09069, params: {'class_weight': 'balanced', 'criterion': 'gini', 'max_depth': 2, 'min_samples_leaf': 110, 'min_samples_split': 310},\n",
       " mean: 0.95502, std: 0.09069, params: {'class_weight': 'balanced', 'criterion': 'gini', 'max_depth': 2, 'min_samples_leaf': 110, 'min_samples_split': 410}]"
      ]
     },
     "execution_count": 26,
     "metadata": {},
     "output_type": "execute_result"
    }
   ],
   "source": [
    "sorted(optimization.grid_scores_, key=lambda x: x.mean_validation_score, reverse=True)[:5]"
   ]
  },
  {
   "cell_type": "code",
   "execution_count": 27,
   "metadata": {},
   "outputs": [],
   "source": [
    "tree_classifier_recall = DecisionTreeClassifier(criterion='gini', max_depth=2, class_weight='balanced', min_samples_leaf= 11, min_samples_split= 10)\n",
    "tree_classifier_recall = tree_classifier_recall.fit(tree_train_data, tree_train_target)"
   ]
  },
  {
   "cell_type": "markdown",
   "metadata": {},
   "source": [
    "S ňou sme ale lepšie výsledky nezískali."
   ]
  },
  {
   "cell_type": "code",
   "execution_count": 28,
   "metadata": {},
   "outputs": [
    {
     "name": "stdout",
     "output_type": "stream",
     "text": [
      "════════════════════════════════════════════════════════════════\n",
      "║                    ║Prediction positive |Prediction negative ║\n",
      "════════════════════════════════════════════════════════════════\n",
      "║Condition positive  ║7.00                |6.00                ║\n",
      "════════════════════════════════════════════════════════════════\n",
      "║Condition negative  ║60.00               |899.00              ║\n",
      "════════════════════════════════════════════════════════════════\n",
      "Accuracy:  0.9320987654320988\n",
      "Precission:  0.1044776119402985\n",
      "Recall:  0.5384615384615384\n"
     ]
    }
   ],
   "source": [
    "tree_recall_prediction = tree_classifier_recall.predict(tree_test_data)\n",
    "pravdivost(test_data.test, tree_recall_prediction)"
   ]
  },
  {
   "cell_type": "markdown",
   "metadata": {},
   "source": [
    "Ako posledný pokus o zlepšenie výsledkov pre pozitívnu predikciu sa pokúsime využiť pozorovanie, že pri niektorých stĺpoch je pri pozitívnom teste menšia odchýľka ich hodnôt od priemeru stĺpca ako pri negatívnom teste."
   ]
  },
  {
   "cell_type": "code",
   "execution_count": 29,
   "metadata": {},
   "outputs": [],
   "source": [
    "def addDeviation(data):\n",
    "    aug = data.copy()\n",
    "    for col in ['TSH', 'T3', 'TT4', 'T4U', 'fnlwgt', 'FTI']:\n",
    "        mn = data[col].mean()\n",
    "        new = col + '_deviation'\n",
    "        aug[new] = 0 \n",
    "        for i in range(len(data[col])):\n",
    "            aug.loc[i, new] = abs(data[col][i] - mn)\n",
    "    return aug"
   ]
  },
  {
   "cell_type": "markdown",
   "metadata": {},
   "source": [
    "Upravíme teda dátové súbory."
   ]
  },
  {
   "cell_type": "code",
   "execution_count": 30,
   "metadata": {},
   "outputs": [],
   "source": [
    "dev_train_data = addDeviation(tree_train_data)\n",
    "dev_test_data = addDeviation(tree_test_data)"
   ]
  },
  {
   "cell_type": "code",
   "execution_count": 31,
   "metadata": {},
   "outputs": [
    {
     "data": {
      "text/html": [
       "<div>\n",
       "<style scoped>\n",
       "    .dataframe tbody tr th:only-of-type {\n",
       "        vertical-align: middle;\n",
       "    }\n",
       "\n",
       "    .dataframe tbody tr th {\n",
       "        vertical-align: top;\n",
       "    }\n",
       "\n",
       "    .dataframe thead th {\n",
       "        text-align: right;\n",
       "    }\n",
       "</style>\n",
       "<table border=\"1\" class=\"dataframe\">\n",
       "  <thead>\n",
       "    <tr style=\"text-align: right;\">\n",
       "      <th></th>\n",
       "      <th>age</th>\n",
       "      <th>TSH</th>\n",
       "      <th>T3</th>\n",
       "      <th>TT4</th>\n",
       "      <th>T4U</th>\n",
       "      <th>fnlwgt</th>\n",
       "      <th>education-num</th>\n",
       "      <th>hours-per-week</th>\n",
       "      <th>FTI</th>\n",
       "      <th>birth_year</th>\n",
       "      <th>birth_month</th>\n",
       "      <th>on thyroxine_f</th>\n",
       "      <th>on thyroxine_t</th>\n",
       "      <th>on thyroxine_nan</th>\n",
       "      <th>query on thyroxine_f</th>\n",
       "      <th>query on thyroxine_t</th>\n",
       "      <th>query on thyroxine_nan</th>\n",
       "      <th>pregnant_f</th>\n",
       "      <th>pregnant_t</th>\n",
       "      <th>pregnant_nan</th>\n",
       "      <th>thyroid surgery_f</th>\n",
       "      <th>thyroid surgery_t</th>\n",
       "      <th>thyroid surgery_nan</th>\n",
       "      <th>I131 treatment_f</th>\n",
       "      <th>I131 treatment_t</th>\n",
       "      <th>...</th>\n",
       "      <th>on antithyroid medication_f</th>\n",
       "      <th>on antithyroid medication_t</th>\n",
       "      <th>on antithyroid medication_nan</th>\n",
       "      <th>sick_f</th>\n",
       "      <th>sick_t</th>\n",
       "      <th>sick_nan</th>\n",
       "      <th>T4U measured_f</th>\n",
       "      <th>T4U measured_t</th>\n",
       "      <th>T4U measured_nan</th>\n",
       "      <th>psych_f</th>\n",
       "      <th>psych_t</th>\n",
       "      <th>psych_nan</th>\n",
       "      <th>query hypothyroid_f</th>\n",
       "      <th>query hypothyroid_t</th>\n",
       "      <th>query hypothyroid_nan</th>\n",
       "      <th>yield_gain</th>\n",
       "      <th>yield_loss</th>\n",
       "      <th>yield_none</th>\n",
       "      <th>yield_nan</th>\n",
       "      <th>TSH_deviation</th>\n",
       "      <th>T3_deviation</th>\n",
       "      <th>TT4_deviation</th>\n",
       "      <th>T4U_deviation</th>\n",
       "      <th>fnlwgt_deviation</th>\n",
       "      <th>FTI_deviation</th>\n",
       "    </tr>\n",
       "  </thead>\n",
       "  <tbody>\n",
       "    <tr>\n",
       "      <th>0</th>\n",
       "      <td>82.0</td>\n",
       "      <td>0.813772</td>\n",
       "      <td>1.0</td>\n",
       "      <td>68.0</td>\n",
       "      <td>0.77</td>\n",
       "      <td>365.447207</td>\n",
       "      <td>11.0</td>\n",
       "      <td>40.0</td>\n",
       "      <td>88.0</td>\n",
       "      <td>1935.0</td>\n",
       "      <td>5.0</td>\n",
       "      <td>1</td>\n",
       "      <td>0</td>\n",
       "      <td>0</td>\n",
       "      <td>1</td>\n",
       "      <td>0</td>\n",
       "      <td>0</td>\n",
       "      <td>1</td>\n",
       "      <td>0</td>\n",
       "      <td>0</td>\n",
       "      <td>1</td>\n",
       "      <td>0</td>\n",
       "      <td>0</td>\n",
       "      <td>1</td>\n",
       "      <td>0</td>\n",
       "      <td>...</td>\n",
       "      <td>1</td>\n",
       "      <td>0</td>\n",
       "      <td>0</td>\n",
       "      <td>1</td>\n",
       "      <td>0</td>\n",
       "      <td>0</td>\n",
       "      <td>0</td>\n",
       "      <td>1</td>\n",
       "      <td>0</td>\n",
       "      <td>1</td>\n",
       "      <td>0</td>\n",
       "      <td>0</td>\n",
       "      <td>1</td>\n",
       "      <td>0</td>\n",
       "      <td>0</td>\n",
       "      <td>0</td>\n",
       "      <td>0</td>\n",
       "      <td>1</td>\n",
       "      <td>0</td>\n",
       "      <td>0.667723</td>\n",
       "      <td>1.024966</td>\n",
       "      <td>41.108775</td>\n",
       "      <td>0.224992</td>\n",
       "      <td>29.803774</td>\n",
       "      <td>22.422424</td>\n",
       "    </tr>\n",
       "    <tr>\n",
       "      <th>1</th>\n",
       "      <td>50.0</td>\n",
       "      <td>5.172593</td>\n",
       "      <td>0.5</td>\n",
       "      <td>22.0</td>\n",
       "      <td>1.12</td>\n",
       "      <td>402.661130</td>\n",
       "      <td>13.0</td>\n",
       "      <td>35.0</td>\n",
       "      <td>19.0</td>\n",
       "      <td>1967.0</td>\n",
       "      <td>8.0</td>\n",
       "      <td>1</td>\n",
       "      <td>0</td>\n",
       "      <td>0</td>\n",
       "      <td>1</td>\n",
       "      <td>0</td>\n",
       "      <td>0</td>\n",
       "      <td>1</td>\n",
       "      <td>0</td>\n",
       "      <td>0</td>\n",
       "      <td>0</td>\n",
       "      <td>1</td>\n",
       "      <td>0</td>\n",
       "      <td>1</td>\n",
       "      <td>0</td>\n",
       "      <td>...</td>\n",
       "      <td>1</td>\n",
       "      <td>0</td>\n",
       "      <td>0</td>\n",
       "      <td>1</td>\n",
       "      <td>0</td>\n",
       "      <td>0</td>\n",
       "      <td>0</td>\n",
       "      <td>1</td>\n",
       "      <td>0</td>\n",
       "      <td>1</td>\n",
       "      <td>0</td>\n",
       "      <td>0</td>\n",
       "      <td>1</td>\n",
       "      <td>0</td>\n",
       "      <td>0</td>\n",
       "      <td>0</td>\n",
       "      <td>0</td>\n",
       "      <td>1</td>\n",
       "      <td>0</td>\n",
       "      <td>5.026544</td>\n",
       "      <td>1.524966</td>\n",
       "      <td>87.108775</td>\n",
       "      <td>0.125008</td>\n",
       "      <td>7.410149</td>\n",
       "      <td>91.422424</td>\n",
       "    </tr>\n",
       "    <tr>\n",
       "      <th>2</th>\n",
       "      <td>41.0</td>\n",
       "      <td>0.341027</td>\n",
       "      <td>2.0</td>\n",
       "      <td>99.0</td>\n",
       "      <td>0.96</td>\n",
       "      <td>318.259586</td>\n",
       "      <td>10.0</td>\n",
       "      <td>50.0</td>\n",
       "      <td>104.0</td>\n",
       "      <td>1976.0</td>\n",
       "      <td>5.0</td>\n",
       "      <td>1</td>\n",
       "      <td>0</td>\n",
       "      <td>0</td>\n",
       "      <td>1</td>\n",
       "      <td>0</td>\n",
       "      <td>0</td>\n",
       "      <td>1</td>\n",
       "      <td>0</td>\n",
       "      <td>0</td>\n",
       "      <td>1</td>\n",
       "      <td>0</td>\n",
       "      <td>0</td>\n",
       "      <td>1</td>\n",
       "      <td>0</td>\n",
       "      <td>...</td>\n",
       "      <td>1</td>\n",
       "      <td>0</td>\n",
       "      <td>0</td>\n",
       "      <td>1</td>\n",
       "      <td>0</td>\n",
       "      <td>0</td>\n",
       "      <td>0</td>\n",
       "      <td>1</td>\n",
       "      <td>0</td>\n",
       "      <td>1</td>\n",
       "      <td>0</td>\n",
       "      <td>0</td>\n",
       "      <td>1</td>\n",
       "      <td>0</td>\n",
       "      <td>0</td>\n",
       "      <td>0</td>\n",
       "      <td>0</td>\n",
       "      <td>1</td>\n",
       "      <td>0</td>\n",
       "      <td>0.194978</td>\n",
       "      <td>0.024966</td>\n",
       "      <td>10.108775</td>\n",
       "      <td>0.034992</td>\n",
       "      <td>76.991395</td>\n",
       "      <td>6.422424</td>\n",
       "    </tr>\n",
       "    <tr>\n",
       "      <th>3</th>\n",
       "      <td>73.0</td>\n",
       "      <td>-0.351650</td>\n",
       "      <td>2.0</td>\n",
       "      <td>116.0</td>\n",
       "      <td>0.99</td>\n",
       "      <td>483.595580</td>\n",
       "      <td>9.0</td>\n",
       "      <td>25.0</td>\n",
       "      <td>117.0</td>\n",
       "      <td>1944.0</td>\n",
       "      <td>10.0</td>\n",
       "      <td>1</td>\n",
       "      <td>0</td>\n",
       "      <td>0</td>\n",
       "      <td>1</td>\n",
       "      <td>0</td>\n",
       "      <td>0</td>\n",
       "      <td>1</td>\n",
       "      <td>0</td>\n",
       "      <td>0</td>\n",
       "      <td>1</td>\n",
       "      <td>0</td>\n",
       "      <td>0</td>\n",
       "      <td>1</td>\n",
       "      <td>0</td>\n",
       "      <td>...</td>\n",
       "      <td>1</td>\n",
       "      <td>0</td>\n",
       "      <td>0</td>\n",
       "      <td>1</td>\n",
       "      <td>0</td>\n",
       "      <td>0</td>\n",
       "      <td>0</td>\n",
       "      <td>1</td>\n",
       "      <td>0</td>\n",
       "      <td>1</td>\n",
       "      <td>0</td>\n",
       "      <td>0</td>\n",
       "      <td>1</td>\n",
       "      <td>0</td>\n",
       "      <td>0</td>\n",
       "      <td>0</td>\n",
       "      <td>0</td>\n",
       "      <td>1</td>\n",
       "      <td>0</td>\n",
       "      <td>0.497699</td>\n",
       "      <td>0.024966</td>\n",
       "      <td>6.891225</td>\n",
       "      <td>0.004992</td>\n",
       "      <td>88.344599</td>\n",
       "      <td>6.577576</td>\n",
       "    </tr>\n",
       "    <tr>\n",
       "      <th>4</th>\n",
       "      <td>64.0</td>\n",
       "      <td>0.712661</td>\n",
       "      <td>1.8</td>\n",
       "      <td>80.0</td>\n",
       "      <td>0.91</td>\n",
       "      <td>550.637942</td>\n",
       "      <td>10.0</td>\n",
       "      <td>60.0</td>\n",
       "      <td>88.0</td>\n",
       "      <td>1953.0</td>\n",
       "      <td>5.0</td>\n",
       "      <td>1</td>\n",
       "      <td>0</td>\n",
       "      <td>0</td>\n",
       "      <td>1</td>\n",
       "      <td>0</td>\n",
       "      <td>0</td>\n",
       "      <td>1</td>\n",
       "      <td>0</td>\n",
       "      <td>0</td>\n",
       "      <td>1</td>\n",
       "      <td>0</td>\n",
       "      <td>0</td>\n",
       "      <td>1</td>\n",
       "      <td>0</td>\n",
       "      <td>...</td>\n",
       "      <td>1</td>\n",
       "      <td>0</td>\n",
       "      <td>0</td>\n",
       "      <td>1</td>\n",
       "      <td>0</td>\n",
       "      <td>0</td>\n",
       "      <td>0</td>\n",
       "      <td>1</td>\n",
       "      <td>0</td>\n",
       "      <td>1</td>\n",
       "      <td>0</td>\n",
       "      <td>0</td>\n",
       "      <td>1</td>\n",
       "      <td>0</td>\n",
       "      <td>0</td>\n",
       "      <td>0</td>\n",
       "      <td>0</td>\n",
       "      <td>1</td>\n",
       "      <td>0</td>\n",
       "      <td>0.566613</td>\n",
       "      <td>0.224966</td>\n",
       "      <td>29.108775</td>\n",
       "      <td>0.084992</td>\n",
       "      <td>155.386960</td>\n",
       "      <td>22.422424</td>\n",
       "    </tr>\n",
       "  </tbody>\n",
       "</table>\n",
       "<p>5 rows × 167 columns</p>\n",
       "</div>"
      ],
      "text/plain": [
       "    age       TSH   T3    TT4   T4U      fnlwgt  education-num  \\\n",
       "0  82.0  0.813772  1.0   68.0  0.77  365.447207           11.0   \n",
       "1  50.0  5.172593  0.5   22.0  1.12  402.661130           13.0   \n",
       "2  41.0  0.341027  2.0   99.0  0.96  318.259586           10.0   \n",
       "3  73.0 -0.351650  2.0  116.0  0.99  483.595580            9.0   \n",
       "4  64.0  0.712661  1.8   80.0  0.91  550.637942           10.0   \n",
       "\n",
       "   hours-per-week    FTI  birth_year  birth_month  on thyroxine_f  \\\n",
       "0            40.0   88.0      1935.0          5.0               1   \n",
       "1            35.0   19.0      1967.0          8.0               1   \n",
       "2            50.0  104.0      1976.0          5.0               1   \n",
       "3            25.0  117.0      1944.0         10.0               1   \n",
       "4            60.0   88.0      1953.0          5.0               1   \n",
       "\n",
       "   on thyroxine_t  on thyroxine_nan  query on thyroxine_f  \\\n",
       "0               0                 0                     1   \n",
       "1               0                 0                     1   \n",
       "2               0                 0                     1   \n",
       "3               0                 0                     1   \n",
       "4               0                 0                     1   \n",
       "\n",
       "   query on thyroxine_t  query on thyroxine_nan  pregnant_f  pregnant_t  \\\n",
       "0                     0                       0           1           0   \n",
       "1                     0                       0           1           0   \n",
       "2                     0                       0           1           0   \n",
       "3                     0                       0           1           0   \n",
       "4                     0                       0           1           0   \n",
       "\n",
       "   pregnant_nan  thyroid surgery_f  thyroid surgery_t  thyroid surgery_nan  \\\n",
       "0             0                  1                  0                    0   \n",
       "1             0                  0                  1                    0   \n",
       "2             0                  1                  0                    0   \n",
       "3             0                  1                  0                    0   \n",
       "4             0                  1                  0                    0   \n",
       "\n",
       "   I131 treatment_f  I131 treatment_t      ...        \\\n",
       "0                 1                 0      ...         \n",
       "1                 1                 0      ...         \n",
       "2                 1                 0      ...         \n",
       "3                 1                 0      ...         \n",
       "4                 1                 0      ...         \n",
       "\n",
       "   on antithyroid medication_f  on antithyroid medication_t  \\\n",
       "0                            1                            0   \n",
       "1                            1                            0   \n",
       "2                            1                            0   \n",
       "3                            1                            0   \n",
       "4                            1                            0   \n",
       "\n",
       "   on antithyroid medication_nan  sick_f  sick_t  sick_nan  T4U measured_f  \\\n",
       "0                              0       1       0         0               0   \n",
       "1                              0       1       0         0               0   \n",
       "2                              0       1       0         0               0   \n",
       "3                              0       1       0         0               0   \n",
       "4                              0       1       0         0               0   \n",
       "\n",
       "   T4U measured_t  T4U measured_nan  psych_f  psych_t  psych_nan  \\\n",
       "0               1                 0        1        0          0   \n",
       "1               1                 0        1        0          0   \n",
       "2               1                 0        1        0          0   \n",
       "3               1                 0        1        0          0   \n",
       "4               1                 0        1        0          0   \n",
       "\n",
       "   query hypothyroid_f  query hypothyroid_t  query hypothyroid_nan  \\\n",
       "0                    1                    0                      0   \n",
       "1                    1                    0                      0   \n",
       "2                    1                    0                      0   \n",
       "3                    1                    0                      0   \n",
       "4                    1                    0                      0   \n",
       "\n",
       "   yield_gain  yield_loss  yield_none  yield_nan  TSH_deviation  T3_deviation  \\\n",
       "0           0           0           1          0       0.667723      1.024966   \n",
       "1           0           0           1          0       5.026544      1.524966   \n",
       "2           0           0           1          0       0.194978      0.024966   \n",
       "3           0           0           1          0       0.497699      0.024966   \n",
       "4           0           0           1          0       0.566613      0.224966   \n",
       "\n",
       "   TT4_deviation  T4U_deviation  fnlwgt_deviation  FTI_deviation  \n",
       "0      41.108775       0.224992         29.803774      22.422424  \n",
       "1      87.108775       0.125008          7.410149      91.422424  \n",
       "2      10.108775       0.034992         76.991395       6.422424  \n",
       "3       6.891225       0.004992         88.344599       6.577576  \n",
       "4      29.108775       0.084992        155.386960      22.422424  \n",
       "\n",
       "[5 rows x 167 columns]"
      ]
     },
     "execution_count": 31,
     "metadata": {},
     "output_type": "execute_result"
    }
   ],
   "source": [
    "dev_train_data.head()"
   ]
  },
  {
   "cell_type": "code",
   "execution_count": 32,
   "metadata": {},
   "outputs": [],
   "source": [
    "from sklearn.tree import DecisionTreeClassifier\n",
    "from sklearn.model_selection import GridSearchCV\n",
    "\n",
    "cv_params={'criterion': ['gini', 'entropy'], 'min_samples_leaf':range(10, 500, 100), 'min_samples_split':range(10, 500, 100), 'max_depth':list(range(1, 10)), 'class_weight':[\"balanced\"]}            \n",
    "\n",
    "tree_classifier_dev = DecisionTreeClassifier\n",
    "ind_params = {'random_state': 0}\n",
    "optimization = GridSearchCV(tree_classifier_dev(**ind_params), \n",
    "                            cv_params, \n",
    "                             scoring = 'f1', cv = 10, n_jobs = -1, verbose=True)"
   ]
  },
  {
   "cell_type": "code",
   "execution_count": 33,
   "metadata": {},
   "outputs": [
    {
     "name": "stdout",
     "output_type": "stream",
     "text": [
      "Fitting 10 folds for each of 450 candidates, totalling 4500 fits\n"
     ]
    },
    {
     "name": "stderr",
     "output_type": "stream",
     "text": [
      "[Parallel(n_jobs=-1)]: Done 104 tasks      | elapsed:    2.8s\n",
      "[Parallel(n_jobs=-1)]: Done 1604 tasks      | elapsed:   13.0s\n",
      "[Parallel(n_jobs=-1)]: Done 4104 tasks      | elapsed:   30.2s\n",
      "[Parallel(n_jobs=-1)]: Done 4500 out of 4500 | elapsed:   32.9s finished\n"
     ]
    },
    {
     "data": {
      "text/plain": [
       "GridSearchCV(cv=10, error_score='raise',\n",
       "       estimator=DecisionTreeClassifier(class_weight=None, criterion='gini', max_depth=None,\n",
       "            max_features=None, max_leaf_nodes=None,\n",
       "            min_impurity_decrease=0.0, min_impurity_split=None,\n",
       "            min_samples_leaf=1, min_samples_split=2,\n",
       "            min_weight_fraction_leaf=0.0, presort=False, random_state=0,\n",
       "            splitter='best'),\n",
       "       fit_params=None, iid=True, n_jobs=-1,\n",
       "       param_grid={'criterion': ['gini', 'entropy'], 'min_samples_leaf': range(10, 500, 100), 'min_samples_split': range(10, 500, 100), 'max_depth': [1, 2, 3, 4, 5, 6, 7, 8, 9], 'class_weight': ['balanced']},\n",
       "       pre_dispatch='2*n_jobs', refit=True, return_train_score='warn',\n",
       "       scoring='f1', verbose=True)"
      ]
     },
     "execution_count": 33,
     "metadata": {},
     "output_type": "execute_result"
    }
   ],
   "source": [
    "optimization.fit(dev_train_data, tree_train_target)"
   ]
  },
  {
   "cell_type": "code",
   "execution_count": 34,
   "metadata": {},
   "outputs": [
    {
     "name": "stderr",
     "output_type": "stream",
     "text": [
      "C:\\Anaconda3\\lib\\site-packages\\sklearn\\model_selection\\_search.py:761: DeprecationWarning: The grid_scores_ attribute was deprecated in version 0.18 in favor of the more elaborate cv_results_ attribute. The grid_scores_ attribute will not be available from 0.20\n",
      "  DeprecationWarning)\n"
     ]
    },
    {
     "data": {
      "text/plain": [
       "[mean: 0.53163, std: 0.16124, params: {'class_weight': 'balanced', 'criterion': 'entropy', 'max_depth': 5, 'min_samples_leaf': 10, 'min_samples_split': 10},\n",
       " mean: 0.52172, std: 0.14362, params: {'class_weight': 'balanced', 'criterion': 'entropy', 'max_depth': 6, 'min_samples_leaf': 10, 'min_samples_split': 10},\n",
       " mean: 0.52172, std: 0.14362, params: {'class_weight': 'balanced', 'criterion': 'entropy', 'max_depth': 7, 'min_samples_leaf': 10, 'min_samples_split': 10},\n",
       " mean: 0.52172, std: 0.14362, params: {'class_weight': 'balanced', 'criterion': 'entropy', 'max_depth': 8, 'min_samples_leaf': 10, 'min_samples_split': 10},\n",
       " mean: 0.52172, std: 0.14362, params: {'class_weight': 'balanced', 'criterion': 'entropy', 'max_depth': 9, 'min_samples_leaf': 10, 'min_samples_split': 10}]"
      ]
     },
     "execution_count": 34,
     "metadata": {},
     "output_type": "execute_result"
    }
   ],
   "source": [
    "sorted(optimization.grid_scores_, key=lambda x: x.mean_validation_score, reverse=True)[:5]"
   ]
  },
  {
   "cell_type": "code",
   "execution_count": 35,
   "metadata": {},
   "outputs": [],
   "source": [
    "tree_classifier_dev = DecisionTreeClassifier(criterion='entropy', max_depth=5, class_weight='balanced', min_samples_leaf= 10, min_samples_split= 10)\n",
    "tree_classifier_dev = tree_classifier_dev.fit(dev_train_data, tree_train_target)"
   ]
  },
  {
   "cell_type": "markdown",
   "metadata": {},
   "source": [
    "Takáto úprava ale taktiež nepomohla."
   ]
  },
  {
   "cell_type": "code",
   "execution_count": 36,
   "metadata": {
    "scrolled": true
   },
   "outputs": [
    {
     "name": "stdout",
     "output_type": "stream",
     "text": [
      "════════════════════════════════════════════════════════════════\n",
      "║                    ║Prediction positive |Prediction negative ║\n",
      "════════════════════════════════════════════════════════════════\n",
      "║Condition positive  ║6.00                |7.00                ║\n",
      "════════════════════════════════════════════════════════════════\n",
      "║Condition negative  ║25.00               |934.00              ║\n",
      "════════════════════════════════════════════════════════════════\n",
      "Accuracy:  0.9670781893004116\n",
      "Precission:  0.1935483870967742\n",
      "Recall:  0.46153846153846156\n"
     ]
    }
   ],
   "source": [
    "tree_classifier_dev = tree_classifier_dev.predict(dev_test_data)\n",
    "pravdivost(test_data.test, tree_classifier_dev)"
   ]
  },
  {
   "cell_type": "markdown",
   "metadata": {},
   "source": [
    "Na základe týchto zistení sme sa teda rozhodli používať model s vyváženými váhami s optimalizáciou f1. "
   ]
  },
  {
   "cell_type": "markdown",
   "metadata": {},
   "source": [
    "# 2 Porovnanie metód nahrádzania chýbajúcich hodnôt"
   ]
  },
  {
   "cell_type": "markdown",
   "metadata": {},
   "source": [
    "Ked už sme sa teda rozhodli, ktorý model by bol najvhodnejšie použíť, rovnaké úpravy vzkonáme aj pre dátové súbory, v ktorých sme neznáme hodnoty nahrádzali buď výlučne priemerom/mediánom, alebo lineárnou regresiou a otestujeme, či pre ne nebude klasifikátor presnejší."
   ]
  },
  {
   "cell_type": "code",
   "execution_count": 37,
   "metadata": {},
   "outputs": [],
   "source": [
    "mean_med_data = pd.read_csv('data/train_mean_med.csv')\n",
    "lin_reg_data = pd.read_csv('data/train_linreg.csv')"
   ]
  },
  {
   "cell_type": "code",
   "execution_count": 38,
   "metadata": {},
   "outputs": [],
   "source": [
    "mean_med_data = mean_med_data.drop('id', axis=1)\n",
    "lin_reg_data = lin_reg_data.drop('id', axis=1)"
   ]
  },
  {
   "cell_type": "code",
   "execution_count": 39,
   "metadata": {},
   "outputs": [],
   "source": [
    "mean_med_data = mean_med_data.drop('test', axis=1)\n",
    "mean_med_data = pd.get_dummies(mean_med_data, columns=mean_med_data.columns[mean_med_data.dtypes == np.object], dummy_na=True)\n",
    "mean_med_target = train_data.test\n",
    "\n",
    "lin_reg_data = lin_reg_data.drop('test', axis=1)\n",
    "lin_reg_data = pd.get_dummies(lin_reg_data, columns=lin_reg_data.columns[lin_reg_data.dtypes == np.object], dummy_na=True)\n",
    "lin_reg_target = train_data.test"
   ]
  },
  {
   "cell_type": "code",
   "execution_count": 40,
   "metadata": {},
   "outputs": [],
   "source": [
    "mean_med_target = bintransform(mean_med_target)\n",
    "lin_reg_target = bintransform(lin_reg_target)"
   ]
  },
  {
   "cell_type": "code",
   "execution_count": 41,
   "metadata": {},
   "outputs": [],
   "source": [
    "tree_mean_med_classifier = DecisionTreeClassifier(criterion='gini', max_depth=8, class_weight='balanced', min_samples_leaf= 10, min_samples_split= 10)\n",
    "tree_mean_med_classifier = tree_mean_med_classifier.fit(mean_med_data, mean_med_target)\n",
    "\n",
    "tree_lin_reg_classifier = DecisionTreeClassifier(criterion='gini', max_depth=8, class_weight='balanced', min_samples_leaf= 10, min_samples_split= 10)\n",
    "tree_lin_reg_classifier = tree_lin_reg_classifier.fit(lin_reg_data, lin_reg_target)"
   ]
  },
  {
   "cell_type": "markdown",
   "metadata": {},
   "source": [
    "Priemer/medián dosiahol spomedzi troch stromov najhoršie skóre, lineárna regresia bola o niečo horšia od kombinácie oboch uvedených techník. Na základe uvedeného je teda možné tvrdiť, že aspoň čo sa týka tejto mierky, náš postup s vhodným kombinovaním obch týchto techník sa ukazuje byť správny."
   ]
  },
  {
   "cell_type": "code",
   "execution_count": 42,
   "metadata": {},
   "outputs": [
    {
     "name": "stdout",
     "output_type": "stream",
     "text": [
      "════════════════════════════════════════════════════════════════\n",
      "║                    ║Prediction positive |Prediction negative ║\n",
      "════════════════════════════════════════════════════════════════\n",
      "║Condition positive  ║8.00                |5.00                ║\n",
      "════════════════════════════════════════════════════════════════\n",
      "║Condition negative  ║35.00               |924.00              ║\n",
      "════════════════════════════════════════════════════════════════\n",
      "Accuracy:  0.9588477366255144\n",
      "Precission:  0.18604651162790697\n",
      "Recall:  0.6153846153846154\n"
     ]
    }
   ],
   "source": [
    "tree_mean_med_prediction = tree_mean_med_classifier.predict(tree_test_data)\n",
    "pravdivost(test_data.test, tree_mean_med_prediction)"
   ]
  },
  {
   "cell_type": "code",
   "execution_count": 43,
   "metadata": {},
   "outputs": [
    {
     "name": "stdout",
     "output_type": "stream",
     "text": [
      "════════════════════════════════════════════════════════════════\n",
      "║                    ║Prediction positive |Prediction negative ║\n",
      "════════════════════════════════════════════════════════════════\n",
      "║Condition positive  ║7.00                |6.00                ║\n",
      "════════════════════════════════════════════════════════════════\n",
      "║Condition negative  ║26.00               |933.00              ║\n",
      "════════════════════════════════════════════════════════════════\n",
      "Accuracy:  0.9670781893004116\n",
      "Precission:  0.21212121212121213\n",
      "Recall:  0.5384615384615384\n"
     ]
    }
   ],
   "source": [
    "tree_lin_reg_prediction = tree_lin_reg_classifier.predict(tree_test_data)\n",
    "pravdivost(test_data.test, tree_lin_reg_prediction)"
   ]
  },
  {
   "cell_type": "markdown",
   "metadata": {},
   "source": [
    "Nechali sme si vizualizovať všetky tri vytovrené stromy, aby sme sa pozreli, aké rozdiely sú v ich rozhodovacích pravidlách."
   ]
  },
  {
   "cell_type": "code",
   "execution_count": 44,
   "metadata": {},
   "outputs": [],
   "source": [
    "import graphviz \n",
    "tree.export_graphviz(tree_classifier_balanced, feature_names=tree_train_data.columns, filled=True, class_names='test',  out_file='strom.dot')\n",
    "tree.export_graphviz(tree_mean_med_classifier, feature_names=tree_train_data.columns, filled=True, class_names='test',  out_file='strom_priemer_median.dot') \n",
    "tree.export_graphviz(tree_lin_reg_classifier, feature_names=tree_train_data.columns, filled=True, class_names='test',  out_file='strom_linreg.dot') "
   ]
  },
  {
   "cell_type": "markdown",
   "metadata": {},
   "source": [
    "<img src=\"strom2.png\">\n",
    "<img src=\"strom_priemer_median.png\">\n",
    "<img src=\"strom_linreg.png\">"
   ]
  },
  {
   "cell_type": "code",
   "execution_count": 46,
   "metadata": {},
   "outputs": [
    {
     "name": "stdout",
     "output_type": "stream",
     "text": [
      "════════════════════════════════════════════════════════════════\n",
      "║                    ║Prediction positive |Prediction negative ║\n",
      "════════════════════════════════════════════════════════════════\n",
      "║Condition positive  ║8.00                |5.00                ║\n",
      "════════════════════════════════════════════════════════════════\n",
      "║Condition negative  ║35.00               |924.00              ║\n",
      "════════════════════════════════════════════════════════════════\n",
      "Accuracy:  0.9588477366255144\n",
      "Precission:  0.18604651162790697\n",
      "Recall:  0.6153846153846154\n"
     ]
    }
   ],
   "source": [
    "pravdivost(test_data.test, tree_mean_med_prediction)"
   ]
  },
  {
   "cell_type": "code",
   "execution_count": 47,
   "metadata": {},
   "outputs": [
    {
     "name": "stdout",
     "output_type": "stream",
     "text": [
      "════════════════════════════════════════════════════════════════\n",
      "║                    ║Prediction positive |Prediction negative ║\n",
      "════════════════════════════════════════════════════════════════\n",
      "║Condition positive  ║924.00              |35.00               ║\n",
      "════════════════════════════════════════════════════════════════\n",
      "║Condition negative  ║5.00                |8.00                ║\n",
      "════════════════════════════════════════════════════════════════\n",
      "Accuracy:  0.9588477366255144\n",
      "Precission:  0.9946178686759957\n",
      "Recall:  0.9635036496350365\n"
     ]
    }
   ],
   "source": [
    "pravdivost(test_data.test, tree_mean_med_prediction, True)"
   ]
  },
  {
   "cell_type": "code",
   "execution_count": 48,
   "metadata": {},
   "outputs": [
    {
     "name": "stdout",
     "output_type": "stream",
     "text": [
      "════════════════════════════════════════════════════════════════\n",
      "║                    ║Prediction positive |Prediction negative ║\n",
      "════════════════════════════════════════════════════════════════\n",
      "║Condition positive  ║7.00                |6.00                ║\n",
      "════════════════════════════════════════════════════════════════\n",
      "║Condition negative  ║26.00               |933.00              ║\n",
      "════════════════════════════════════════════════════════════════\n",
      "Accuracy:  0.9670781893004116\n",
      "Precission:  0.21212121212121213\n",
      "Recall:  0.5384615384615384\n"
     ]
    }
   ],
   "source": [
    "pravdivost(test_data.test, tree_lin_reg_prediction)"
   ]
  },
  {
   "cell_type": "code",
   "execution_count": 49,
   "metadata": {},
   "outputs": [
    {
     "name": "stdout",
     "output_type": "stream",
     "text": [
      "════════════════════════════════════════════════════════════════\n",
      "║                    ║Prediction positive |Prediction negative ║\n",
      "════════════════════════════════════════════════════════════════\n",
      "║Condition positive  ║933.00              |26.00               ║\n",
      "════════════════════════════════════════════════════════════════\n",
      "║Condition negative  ║6.00                |7.00                ║\n",
      "════════════════════════════════════════════════════════════════\n",
      "Accuracy:  0.9670781893004116\n",
      "Precission:  0.9936102236421726\n",
      "Recall:  0.97288842544317\n"
     ]
    }
   ],
   "source": [
    "pravdivost(test_data.test, tree_lin_reg_prediction, True)"
   ]
  },
  {
   "cell_type": "code",
   "execution_count": null,
   "metadata": {},
   "outputs": [],
   "source": [
    "for column in train_data.columns:\n",
    "    if np.issubdtype(train_data[column].dtype, np.number):\n",
    "        train_data.boxplot(column=column, by='test')"
   ]
  },
  {
   "cell_type": "markdown",
   "metadata": {},
   "source": [
    "# 3 Pravidla"
   ]
  },
  {
   "cell_type": "code",
   "execution_count": 63,
   "metadata": {},
   "outputs": [],
   "source": [
    "class Pravidlo:\n",
    "    def __init__(self):\n",
    "        self.popis = ''\n",
    "        self.podmienka = lambda a:True\n",
    "        self.dosledok = lambda a:True\n",
    "        \n",
    "    def __init__(self, pop, pod, dos):\n",
    "        self.popis = pop\n",
    "        self.podmienka = pod\n",
    "        self.dosledok = dos\n",
    "        \n",
    "    def over(self, data):\n",
    "        total = data.shape[0]\n",
    "        tp = data[self.podmienka(data) & self.dosledok(data)].shape[0]\n",
    "        tIe = data[self.podmienka(data) & ~self.dosledok(data)].shape[0]\n",
    "        tIIe = data[~self.podmienka(data) & self.dosledok(data)].shape[0]\n",
    "        tn =data[~self.podmienka(data) & ~self.dosledok(data)].shape[0]\n",
    "        \n",
    "        print(64*'═')\n",
    "        print('║{:<20}║{:<20}|{:<20}║'.format('', 'Prediction positive', 'Prediction negative'))\n",
    "        print(64*'═')\n",
    "        print('║{:<20}║{:<20.2f}|{:<20.2f}║'.format('Condition positive', tp, tIIe))\n",
    "        print(64*'═')\n",
    "        print('║{:<20}║{:<20.2f}|{:<20.2f}║'.format('Condition negative', tIe, tn))\n",
    "        print(64*'═')\n",
    "        \n",
    "        print(\"Accuracy: \", (tp + tn) / total if total != 0 else 0)\n",
    "        print(\"Precission: \",  tp / (tp + tIe) if tp + tIe != 0 else 0)\n",
    "        print(\"Recall: \", tp / (tp + tIIe) if tp + tIIe != 0 else 0)"
   ]
  },
  {
   "cell_type": "markdown",
   "metadata": {},
   "source": [
    "Vrátili sme sa k pravidlám, ktoré sme v predchádzajúcej časti nemali dobre riešené.\n",
    "Uvedomujúc si dôležitosť pozitívnej klasifikácie, tentokrát sme zvolili taký postup, že sme vytvárali podľa trénovacieho súboru také pravidlá, ktoré by maximalizovali detekciu pozitívnej triedy. \n",
    "\n",
    "Náš postup bol pritom taký, že sme začali s jedným pravidlom, ktoré vždy uhádlo pozitívnu triedu a na toto sme následne postupne nabaľovali ďalšie a ďalšie pravidlá, ktoré pre pozitívnu triedu platili v snahe zvýšiť presnosť a znížiť chybu I. stupňa.\n",
    "\n",
    "Pomohli sme si pritom zisteniami z prieskumnej analýzy."
   ]
  },
  {
   "cell_type": "code",
   "execution_count": 100,
   "metadata": {},
   "outputs": [
    {
     "data": {
      "text/html": [
       "<div>\n",
       "<style scoped>\n",
       "    .dataframe tbody tr th:only-of-type {\n",
       "        vertical-align: middle;\n",
       "    }\n",
       "\n",
       "    .dataframe tbody tr th {\n",
       "        vertical-align: top;\n",
       "    }\n",
       "\n",
       "    .dataframe thead th {\n",
       "        text-align: right;\n",
       "    }\n",
       "</style>\n",
       "<table border=\"1\" class=\"dataframe\">\n",
       "  <thead>\n",
       "    <tr style=\"text-align: right;\">\n",
       "      <th></th>\n",
       "      <th>age</th>\n",
       "      <th>TSH</th>\n",
       "      <th>T3</th>\n",
       "      <th>TT4</th>\n",
       "      <th>T4U</th>\n",
       "      <th>fnlwgt</th>\n",
       "      <th>education-num</th>\n",
       "      <th>hours-per-week</th>\n",
       "      <th>FTI</th>\n",
       "      <th>birth_year</th>\n",
       "      <th>birth_month</th>\n",
       "    </tr>\n",
       "  </thead>\n",
       "  <tbody>\n",
       "    <tr>\n",
       "      <th>count</th>\n",
       "      <td>45.000000</td>\n",
       "      <td>45.000000</td>\n",
       "      <td>45.000000</td>\n",
       "      <td>45.000000</td>\n",
       "      <td>45.000000</td>\n",
       "      <td>45.000000</td>\n",
       "      <td>45.000000</td>\n",
       "      <td>45.000000</td>\n",
       "      <td>45.000000</td>\n",
       "      <td>45.000000</td>\n",
       "      <td>45.000000</td>\n",
       "    </tr>\n",
       "    <tr>\n",
       "      <th>mean</th>\n",
       "      <td>51.613348</td>\n",
       "      <td>-0.725994</td>\n",
       "      <td>2.039997</td>\n",
       "      <td>148.080556</td>\n",
       "      <td>0.939259</td>\n",
       "      <td>390.214272</td>\n",
       "      <td>10.111111</td>\n",
       "      <td>38.088889</td>\n",
       "      <td>161.443601</td>\n",
       "      <td>1965.533333</td>\n",
       "      <td>6.266667</td>\n",
       "    </tr>\n",
       "    <tr>\n",
       "      <th>std</th>\n",
       "      <td>23.075203</td>\n",
       "      <td>1.767164</td>\n",
       "      <td>0.620127</td>\n",
       "      <td>28.353676</td>\n",
       "      <td>0.158097</td>\n",
       "      <td>80.270534</td>\n",
       "      <td>2.357023</td>\n",
       "      <td>10.727666</td>\n",
       "      <td>25.758165</td>\n",
       "      <td>23.087383</td>\n",
       "      <td>3.326204</td>\n",
       "    </tr>\n",
       "    <tr>\n",
       "      <th>min</th>\n",
       "      <td>2.000000</td>\n",
       "      <td>-3.854254</td>\n",
       "      <td>1.200000</td>\n",
       "      <td>54.000000</td>\n",
       "      <td>0.750000</td>\n",
       "      <td>199.436326</td>\n",
       "      <td>5.000000</td>\n",
       "      <td>10.000000</td>\n",
       "      <td>58.000000</td>\n",
       "      <td>1930.000000</td>\n",
       "      <td>1.000000</td>\n",
       "    </tr>\n",
       "    <tr>\n",
       "      <th>25%</th>\n",
       "      <td>32.193361</td>\n",
       "      <td>-2.103556</td>\n",
       "      <td>1.600000</td>\n",
       "      <td>134.000000</td>\n",
       "      <td>0.850000</td>\n",
       "      <td>352.317554</td>\n",
       "      <td>9.000000</td>\n",
       "      <td>35.000000</td>\n",
       "      <td>159.000000</td>\n",
       "      <td>1945.000000</td>\n",
       "      <td>4.000000</td>\n",
       "    </tr>\n",
       "    <tr>\n",
       "      <th>50%</th>\n",
       "      <td>53.000000</td>\n",
       "      <td>-0.500561</td>\n",
       "      <td>2.000000</td>\n",
       "      <td>146.000000</td>\n",
       "      <td>0.910000</td>\n",
       "      <td>409.961949</td>\n",
       "      <td>9.000000</td>\n",
       "      <td>40.000000</td>\n",
       "      <td>165.000000</td>\n",
       "      <td>1965.000000</td>\n",
       "      <td>6.000000</td>\n",
       "    </tr>\n",
       "    <tr>\n",
       "      <th>75%</th>\n",
       "      <td>72.000000</td>\n",
       "      <td>0.764325</td>\n",
       "      <td>2.200000</td>\n",
       "      <td>159.000000</td>\n",
       "      <td>0.990000</td>\n",
       "      <td>443.316790</td>\n",
       "      <td>12.000000</td>\n",
       "      <td>40.000000</td>\n",
       "      <td>171.000000</td>\n",
       "      <td>1985.000000</td>\n",
       "      <td>9.000000</td>\n",
       "    </tr>\n",
       "    <tr>\n",
       "      <th>max</th>\n",
       "      <td>87.000000</td>\n",
       "      <td>2.401469</td>\n",
       "      <td>4.000000</td>\n",
       "      <td>237.000000</td>\n",
       "      <td>1.516387</td>\n",
       "      <td>539.215213</td>\n",
       "      <td>16.000000</td>\n",
       "      <td>80.000000</td>\n",
       "      <td>203.000000</td>\n",
       "      <td>2015.000000</td>\n",
       "      <td>12.000000</td>\n",
       "    </tr>\n",
       "  </tbody>\n",
       "</table>\n",
       "</div>"
      ],
      "text/plain": [
       "             age        TSH         T3         TT4        T4U      fnlwgt  \\\n",
       "count  45.000000  45.000000  45.000000   45.000000  45.000000   45.000000   \n",
       "mean   51.613348  -0.725994   2.039997  148.080556   0.939259  390.214272   \n",
       "std    23.075203   1.767164   0.620127   28.353676   0.158097   80.270534   \n",
       "min     2.000000  -3.854254   1.200000   54.000000   0.750000  199.436326   \n",
       "25%    32.193361  -2.103556   1.600000  134.000000   0.850000  352.317554   \n",
       "50%    53.000000  -0.500561   2.000000  146.000000   0.910000  409.961949   \n",
       "75%    72.000000   0.764325   2.200000  159.000000   0.990000  443.316790   \n",
       "max    87.000000   2.401469   4.000000  237.000000   1.516387  539.215213   \n",
       "\n",
       "       education-num  hours-per-week         FTI   birth_year  birth_month  \n",
       "count      45.000000       45.000000   45.000000    45.000000    45.000000  \n",
       "mean       10.111111       38.088889  161.443601  1965.533333     6.266667  \n",
       "std         2.357023       10.727666   25.758165    23.087383     3.326204  \n",
       "min         5.000000       10.000000   58.000000  1930.000000     1.000000  \n",
       "25%         9.000000       35.000000  159.000000  1945.000000     4.000000  \n",
       "50%         9.000000       40.000000  165.000000  1965.000000     6.000000  \n",
       "75%        12.000000       40.000000  171.000000  1985.000000     9.000000  \n",
       "max        16.000000       80.000000  203.000000  2015.000000    12.000000  "
      ]
     },
     "execution_count": 100,
     "metadata": {},
     "output_type": "execute_result"
    }
   ],
   "source": [
    "train_data[train_data.test == 'discordant'].describe()"
   ]
  },
  {
   "cell_type": "code",
   "execution_count": null,
   "metadata": {},
   "outputs": [],
   "source": [
    "Začali sme  číselnými atribútmi."
   ]
  },
  {
   "cell_type": "code",
   "execution_count": 90,
   "metadata": {},
   "outputs": [
    {
     "name": "stdout",
     "output_type": "stream",
     "text": [
      "---------------------------------------------\n",
      "Overovanie pravidla:  all\n",
      "Trénovací súbor: \n",
      "════════════════════════════════════════════════════════════════\n",
      "║                    ║Prediction positive |Prediction negative ║\n",
      "════════════════════════════════════════════════════════════════\n",
      "║Condition positive  ║45.00               |0.00                ║\n",
      "════════════════════════════════════════════════════════════════\n",
      "║Condition negative  ║2486.00             |269.00              ║\n",
      "════════════════════════════════════════════════════════════════\n",
      "Accuracy:  0.11214285714285714\n",
      "Precission:  0.017779533781114184\n",
      "Recall:  1.0\n"
     ]
    }
   ],
   "source": [
    "pravidlo = Pravidlo('all', lambda a: ((a.T4U <= 1.6) & \n",
    "                                      (a.TT4 <= 240) & \n",
    "                                      (a.T3 <= 4.1) & \n",
    "                                      (a.TSH <= 2.5) & \n",
    "                                      (a.FTI <= 205)), lambda a: a.test == 'discordant')\n",
    "\n",
    "print('---------------------------------------------\\nOverovanie pravidla: ', pravidlo.popis)\n",
    "print('Trénovací súbor: ')\n",
    "pravidlo.over(train_data)"
   ]
  },
  {
   "cell_type": "code",
   "execution_count": null,
   "metadata": {},
   "outputs": [],
   "source": [
    "Potom sme pridali aj kategorické."
   ]
  },
  {
   "cell_type": "code",
   "execution_count": 96,
   "metadata": {},
   "outputs": [
    {
     "name": "stdout",
     "output_type": "stream",
     "text": [
      "---------------------------------------------\n",
      "Overovanie pravidla:  all\n",
      "Trénovací súbor: \n",
      "════════════════════════════════════════════════════════════════\n",
      "║                    ║Prediction positive |Prediction negative ║\n",
      "════════════════════════════════════════════════════════════════\n",
      "║Condition positive  ║43.00               |2.00                ║\n",
      "════════════════════════════════════════════════════════════════\n",
      "║Condition negative  ║2035.00             |720.00              ║\n",
      "════════════════════════════════════════════════════════════════\n",
      "Accuracy:  0.2725\n",
      "Precission:  0.020692974013474495\n",
      "Recall:  0.9555555555555556\n"
     ]
    }
   ],
   "source": [
    "pravidlo = Pravidlo('all', lambda a: ((a['on antithyroid medication'] == 'f') &\n",
    "                                      (a['psych'] == 'f') &(a['sick'] == 'f') &\n",
    "                                      (a['lithium'] == 'f') &\n",
    "                                      (a['goitre'] == 'f') & \n",
    "                                      (a['tumor'] == 'f') &\n",
    "                                      (a['I131 treatment'] == 'f') & \n",
    "                                      (a['thyroid surgery'] == 'f') & \n",
    "                                      (a['query on thyroxine'] == 'f') & \n",
    "                                      (a.T4U <= 1.6) & \n",
    "                                      (a.TT4 <= 240) & \n",
    "                                      (a.T3 <= 4.1) & \n",
    "                                      (a.TSH <= 2.5) &\n",
    "                                      (a.FTI <= 205)), lambda a: a.test == 'discordant')\n",
    "\n",
    "print('---------------------------------------------\\nOverovanie pravidla: ', pravidlo.popis)\n",
    "print('Trénovací súbor: ')\n",
    "pravidlo.over(train_data)\n"
   ]
  },
  {
   "cell_type": "markdown",
   "metadata": {},
   "source": [
    "Chybu 1. stupňa sme znížili približne o 25 percent. Pokúsili sa zapojiť ešte aj dolné ohraničenia pri číselných atribútoch."
   ]
  },
  {
   "cell_type": "code",
   "execution_count": 101,
   "metadata": {},
   "outputs": [
    {
     "name": "stdout",
     "output_type": "stream",
     "text": [
      "---------------------------------------------\n",
      "Overovanie pravidla:  all\n",
      "Trénovací súbor: \n",
      "════════════════════════════════════════════════════════════════\n",
      "║                    ║Prediction positive |Prediction negative ║\n",
      "════════════════════════════════════════════════════════════════\n",
      "║Condition positive  ║43.00               |2.00                ║\n",
      "════════════════════════════════════════════════════════════════\n",
      "║Condition negative  ║1791.00             |964.00              ║\n",
      "════════════════════════════════════════════════════════════════\n",
      "Accuracy:  0.35964285714285715\n",
      "Precission:  0.023446019629225736\n",
      "Recall:  0.9555555555555556\n"
     ]
    }
   ],
   "source": [
    "pravidlo = Pravidlo('all', lambda a: ((a['on antithyroid medication'] == 'f') & \n",
    "                                      (a['psych'] == 'f') &\n",
    "                                      (a['sick'] == 'f') &\n",
    "                                      (a['lithium'] == 'f') &\n",
    "                                      (a['goitre'] == 'f') & \n",
    "                                      (a['tumor'] == 'f') &\n",
    "                                      (a['I131 treatment'] == 'f') & \n",
    "                                      (a['thyroid surgery'] == 'f') & \n",
    "                                      (a['query on thyroxine'] == 'f') & \n",
    "                                      (a.T4U >= 0.75) & \n",
    "                                      (a.TT4 >= 54) & \n",
    "                                      (a.T3 >= 1.2) & \n",
    "                                      (a.TSH >= -3.86) &  \n",
    "                                      (a.FTI >= 58) &\n",
    "                                      (a.T4U <= 1.6) & \n",
    "                                      (a.TT4 <= 240) & \n",
    "                                      (a.T3 <= 4.1) & \n",
    "                                      (a.TSH <= 2.5) & \n",
    "                                      (a.FTI <= 205)), \n",
    "                    lambda a: a.test == 'discordant')\n",
    "\n",
    "print('---------------------------------------------\\nOverovanie pravidla: ', pravidlo.popis)\n",
    "print('Trénovací súbor: ')\n",
    "pravidlo.over(train_data)\n"
   ]
  },
  {
   "cell_type": "markdown",
   "metadata": {},
   "source": [
    "Takýmto spôsobom sa nám postupne podarilo znížiť chybu 1. stupňa približne na 66 percent. Viac atribútov už ale zapojiť do pravidiel nemôžeme a chyba 1. stupňa stále ostáva priveľká, preto musíme začať znižovať hranice testovania číselných atribútov. \n",
    "Začneme u tých, pri ktorých sme zistili možnú koreláciu s klasifikovaným atribútom."
   ]
  },
  {
   "cell_type": "code",
   "execution_count": 143,
   "metadata": {},
   "outputs": [
    {
     "name": "stdout",
     "output_type": "stream",
     "text": [
      "---------------------------------------------\n",
      "Overovanie pravidla:  all\n",
      "Trénovací súbor: \n",
      "════════════════════════════════════════════════════════════════\n",
      "║                    ║Prediction positive |Prediction negative ║\n",
      "════════════════════════════════════════════════════════════════\n",
      "║Condition positive  ║38.00               |7.00                ║\n",
      "════════════════════════════════════════════════════════════════\n",
      "║Condition negative  ║36.00               |2719.00             ║\n",
      "════════════════════════════════════════════════════════════════\n",
      "Accuracy:  0.9846428571428572\n",
      "Precission:  0.5135135135135135\n",
      "Recall:  0.8444444444444444\n"
     ]
    }
   ],
   "source": [
    "pravidlo = Pravidlo('all', lambda a: ((a['on antithyroid medication'] == 'f') & \n",
    "                                      (a['psych'] == 'f') &\n",
    "                                      (a['sick'] == 'f') &\n",
    "                                      (a['lithium'] == 'f') &\n",
    "                                      (a['goitre'] == 'f') & \n",
    "                                      (a['tumor'] == 'f') &\n",
    "                                      (a['I131 treatment'] == 'f') & \n",
    "                                      (a['thyroid surgery'] == 'f') & \n",
    "                                      (a['query on thyroxine'] == 'f') & \n",
    "                                      (a['on thyroxine'] == 'f') & \n",
    "                                      (a.T4U >= 0.75) & \n",
    "                                      (a.TT4 >= 124) & \n",
    "                                      (a.T3 >= 1.2) & \n",
    "                                      (a.TSH >= -3.86) &  \n",
    "                                      (a.FTI >= 150) &\n",
    "                                      (a.T4U <= 1.6) & \n",
    "                                      (a.TT4 <= 220) & \n",
    "                                      (a.T3 <= 3.0) & \n",
    "                                      (a.TSH <= 2.5) & \n",
    "                                      (a.FTI <= 205)), \n",
    "                    lambda a: a.test == 'discordant')\n",
    "\n",
    "print('---------------------------------------------\\nOverovanie pravidla: ', pravidlo.popis)\n",
    "print('Trénovací súbor: ')\n",
    "pravidlo.over(train_data)\n"
   ]
  },
  {
   "cell_type": "markdown",
   "metadata": {},
   "source": [
    "Toto sú už pravidlá, pri ktorých sa uspokojíme s ich výsledkom. Majú výbornú úroveň predikcie pre negatívnu triedu, pričom dobrá úroveň je aj pri predikovaní pozitívnej triedy. Chyba 1. bola znížená na uspokojujúcu uroveň. Znamená síce, že každé druhé predikovanie pozistívnej triedy je chybné, ale vzhľadom na predchádzajúce výsledky je to značný pokrok. Vyskúšame si teda teraz naše pravidlá na testovacom súbore."
   ]
  },
  {
   "cell_type": "code",
   "execution_count": 144,
   "metadata": {},
   "outputs": [
    {
     "name": "stdout",
     "output_type": "stream",
     "text": [
      "---------------------------------------------\n",
      "Overovanie pravidla:  all\n",
      "Trénovací súbor: \n",
      "════════════════════════════════════════════════════════════════\n",
      "║                    ║Prediction positive |Prediction negative ║\n",
      "════════════════════════════════════════════════════════════════\n",
      "║Condition positive  ║3.00                |10.00               ║\n",
      "════════════════════════════════════════════════════════════════\n",
      "║Condition negative  ║8.00                |951.00              ║\n",
      "════════════════════════════════════════════════════════════════\n",
      "Accuracy:  0.9814814814814815\n",
      "Precission:  0.2727272727272727\n",
      "Recall:  0.23076923076923078\n"
     ]
    }
   ],
   "source": [
    "pravidlo = Pravidlo('all', lambda a: ((a['on antithyroid medication'] == 'f') & \n",
    "                                      (a['psych'] == 'f') &\n",
    "                                      (a['sick'] == 'f') &\n",
    "                                      (a['lithium'] == 'f') &\n",
    "                                      (a['goitre'] == 'f') & \n",
    "                                      (a['tumor'] == 'f') &\n",
    "                                      (a['I131 treatment'] == 'f') & \n",
    "                                      (a['thyroid surgery'] == 'f') & \n",
    "                                      (a['query on thyroxine'] == 'f') & \n",
    "                                      (a['on thyroxine'] == 'f') & \n",
    "                                      (a.T4U >= 0.75) & \n",
    "                                      (a.TT4 >= 124) & \n",
    "                                      (a.T3 >= 1.2) & \n",
    "                                      (a.TSH >= -3.86) &  \n",
    "                                      (a.FTI >= 150) &\n",
    "                                      (a.T4U <= 1.6) & \n",
    "                                      (a.TT4 <= 220) & \n",
    "                                      (a.T3 <= 3.0) & \n",
    "                                      (a.TSH <= 2.5) & \n",
    "                                      (a.FTI <= 205)), \n",
    "                    lambda a: a.test == 'discordant')\n",
    "\n",
    "print('---------------------------------------------\\nOverovanie pravidla: ', pravidlo.popis)\n",
    "print('Trénovací súbor: ')\n",
    "pravidlo.over(test_data)\n"
   ]
  },
  {
   "cell_type": "code",
   "execution_count": null,
   "metadata": {},
   "outputs": [],
   "source": [
    "Pravidlá sme očividne pretrénovali."
   ]
  }
 ],
 "metadata": {
  "kernelspec": {
   "display_name": "Python 3",
   "language": "python",
   "name": "python3"
  },
  "language_info": {
   "codemirror_mode": {
    "name": "ipython",
    "version": 3
   },
   "file_extension": ".py",
   "mimetype": "text/x-python",
   "name": "python",
   "nbconvert_exporter": "python",
   "pygments_lexer": "ipython3",
   "version": "3.6.4"
  }
 },
 "nbformat": 4,
 "nbformat_minor": 2
}
