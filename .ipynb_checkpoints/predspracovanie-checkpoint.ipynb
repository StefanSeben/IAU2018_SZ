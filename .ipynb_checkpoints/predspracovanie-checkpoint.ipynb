{
 "cells": [
  {
   "cell_type": "markdown",
   "metadata": {},
   "source": [
    "# Predspracovanie údajov\n",
    "### Projekt z predmetu Inteligentná analýza údajov\n",
    "#### Martin L. Zachar, Štefan Šebeň"
   ]
  },
  {
   "cell_type": "code",
   "execution_count": 1,
   "metadata": {},
   "outputs": [],
   "source": [
    "# data analysis and wrangling\n",
    "import pandas as pd\n",
    "import numpy as np\n",
    "import random as rnd\n",
    "\n",
    "# visualization\n",
    "import seaborn\n",
    "import matplotlib.pyplot as plt\n",
    "%matplotlib inline\n",
    "\n",
    "\n",
    "pd.set_option('display.max_columns', 50)"
   ]
  },
  {
   "cell_type": "code",
   "execution_count": 2,
   "metadata": {
    "scrolled": true
   },
   "outputs": [
    {
     "data": {
      "text/html": [
       "<div>\n",
       "<style scoped>\n",
       "    .dataframe tbody tr th:only-of-type {\n",
       "        vertical-align: middle;\n",
       "    }\n",
       "\n",
       "    .dataframe tbody tr th {\n",
       "        vertical-align: top;\n",
       "    }\n",
       "\n",
       "    .dataframe thead th {\n",
       "        text-align: right;\n",
       "    }\n",
       "</style>\n",
       "<table border=\"1\" class=\"dataframe\">\n",
       "  <thead>\n",
       "    <tr style=\"text-align: right;\">\n",
       "      <th></th>\n",
       "      <th>age</th>\n",
       "      <th>on thyroxine</th>\n",
       "      <th>query on thyroxine</th>\n",
       "      <th>pregnant</th>\n",
       "      <th>thyroid surgery</th>\n",
       "      <th>I131 treatment</th>\n",
       "      <th>lithium</th>\n",
       "      <th>goitre</th>\n",
       "      <th>tumor</th>\n",
       "      <th>hypopituitary</th>\n",
       "      <th>TSH</th>\n",
       "      <th>T3 measured</th>\n",
       "      <th>T3</th>\n",
       "      <th>TT4</th>\n",
       "      <th>T4U</th>\n",
       "      <th>FTI measured</th>\n",
       "      <th>TBG measured</th>\n",
       "      <th>TBG</th>\n",
       "      <th>referral source</th>\n",
       "      <th>workclass</th>\n",
       "      <th>fnlwgt</th>\n",
       "      <th>education</th>\n",
       "      <th>education-num</th>\n",
       "      <th>marital-status</th>\n",
       "      <th>occupation</th>\n",
       "      <th>relationship</th>\n",
       "      <th>race</th>\n",
       "      <th>capital-gain</th>\n",
       "      <th>capital-loss</th>\n",
       "      <th>hours-per-week</th>\n",
       "      <th>native-country</th>\n",
       "      <th>date_of_birth</th>\n",
       "      <th>TSH measured</th>\n",
       "      <th>sex</th>\n",
       "      <th>query hyperthyroid</th>\n",
       "      <th>TT4 measured</th>\n",
       "      <th>on antithyroid medication</th>\n",
       "      <th>FTI</th>\n",
       "      <th>sick</th>\n",
       "      <th>T4U measured</th>\n",
       "      <th>psych</th>\n",
       "      <th>query hypothyroid</th>\n",
       "      <th>test</th>\n",
       "      <th>testID</th>\n",
       "    </tr>\n",
       "    <tr>\n",
       "      <th>id</th>\n",
       "      <th></th>\n",
       "      <th></th>\n",
       "      <th></th>\n",
       "      <th></th>\n",
       "      <th></th>\n",
       "      <th></th>\n",
       "      <th></th>\n",
       "      <th></th>\n",
       "      <th></th>\n",
       "      <th></th>\n",
       "      <th></th>\n",
       "      <th></th>\n",
       "      <th></th>\n",
       "      <th></th>\n",
       "      <th></th>\n",
       "      <th></th>\n",
       "      <th></th>\n",
       "      <th></th>\n",
       "      <th></th>\n",
       "      <th></th>\n",
       "      <th></th>\n",
       "      <th></th>\n",
       "      <th></th>\n",
       "      <th></th>\n",
       "      <th></th>\n",
       "      <th></th>\n",
       "      <th></th>\n",
       "      <th></th>\n",
       "      <th></th>\n",
       "      <th></th>\n",
       "      <th></th>\n",
       "      <th></th>\n",
       "      <th></th>\n",
       "      <th></th>\n",
       "      <th></th>\n",
       "      <th></th>\n",
       "      <th></th>\n",
       "      <th></th>\n",
       "      <th></th>\n",
       "      <th></th>\n",
       "      <th></th>\n",
       "      <th></th>\n",
       "      <th></th>\n",
       "      <th></th>\n",
       "    </tr>\n",
       "  </thead>\n",
       "  <tbody>\n",
       "    <tr>\n",
       "      <th>0</th>\n",
       "      <td>82.0</td>\n",
       "      <td>f</td>\n",
       "      <td>f</td>\n",
       "      <td>f</td>\n",
       "      <td>f</td>\n",
       "      <td>f</td>\n",
       "      <td>f</td>\n",
       "      <td>f</td>\n",
       "      <td>f</td>\n",
       "      <td>f</td>\n",
       "      <td>2.2</td>\n",
       "      <td>t</td>\n",
       "      <td>1.0</td>\n",
       "      <td>68.0</td>\n",
       "      <td>0.77</td>\n",
       "      <td>t</td>\n",
       "      <td>f</td>\n",
       "      <td>NaN</td>\n",
       "      <td>SVI</td>\n",
       "      <td>Local-gov</td>\n",
       "      <td>141649</td>\n",
       "      <td>Assoc-voc</td>\n",
       "      <td>11</td>\n",
       "      <td>Married-civ-spouse</td>\n",
       "      <td>Protective-serv</td>\n",
       "      <td>Husband</td>\n",
       "      <td>White</td>\n",
       "      <td>0</td>\n",
       "      <td>0</td>\n",
       "      <td>40</td>\n",
       "      <td>United-States</td>\n",
       "      <td>1935-05-20 00:00:00</td>\n",
       "      <td>t</td>\n",
       "      <td>M</td>\n",
       "      <td>f</td>\n",
       "      <td>t</td>\n",
       "      <td>f</td>\n",
       "      <td>88.0</td>\n",
       "      <td>f</td>\n",
       "      <td>t</td>\n",
       "      <td>f</td>\n",
       "      <td>f</td>\n",
       "      <td>negative</td>\n",
       "      <td>991</td>\n",
       "    </tr>\n",
       "    <tr>\n",
       "      <th>1</th>\n",
       "      <td>50.0</td>\n",
       "      <td>f</td>\n",
       "      <td>f</td>\n",
       "      <td>f</td>\n",
       "      <td>t</td>\n",
       "      <td>f</td>\n",
       "      <td>f</td>\n",
       "      <td>f</td>\n",
       "      <td>f</td>\n",
       "      <td>f</td>\n",
       "      <td>76.0</td>\n",
       "      <td>t</td>\n",
       "      <td>0.5</td>\n",
       "      <td>22.0</td>\n",
       "      <td>1.12</td>\n",
       "      <td>t</td>\n",
       "      <td>f</td>\n",
       "      <td>NaN</td>\n",
       "      <td>other</td>\n",
       "      <td>Local-gov</td>\n",
       "      <td>177599</td>\n",
       "      <td>Bachelors</td>\n",
       "      <td>13</td>\n",
       "      <td>Divorced</td>\n",
       "      <td>Prof-specialty</td>\n",
       "      <td>Unmarried</td>\n",
       "      <td>White</td>\n",
       "      <td>0</td>\n",
       "      <td>0</td>\n",
       "      <td>35</td>\n",
       "      <td>United-States</td>\n",
       "      <td>67-08-03</td>\n",
       "      <td>t</td>\n",
       "      <td>F</td>\n",
       "      <td>f</td>\n",
       "      <td>t</td>\n",
       "      <td>f</td>\n",
       "      <td>19.0</td>\n",
       "      <td>f</td>\n",
       "      <td>t</td>\n",
       "      <td>f</td>\n",
       "      <td>f</td>\n",
       "      <td>negative</td>\n",
       "      <td>1685</td>\n",
       "    </tr>\n",
       "    <tr>\n",
       "      <th>2</th>\n",
       "      <td>41.0</td>\n",
       "      <td>f</td>\n",
       "      <td>f</td>\n",
       "      <td>f</td>\n",
       "      <td>f</td>\n",
       "      <td>f</td>\n",
       "      <td>f</td>\n",
       "      <td>f</td>\n",
       "      <td>f</td>\n",
       "      <td>f</td>\n",
       "      <td>NaN</td>\n",
       "      <td>t</td>\n",
       "      <td>2.0</td>\n",
       "      <td>99.0</td>\n",
       "      <td>0.96</td>\n",
       "      <td>t</td>\n",
       "      <td>f</td>\n",
       "      <td>NaN</td>\n",
       "      <td>other</td>\n",
       "      <td>Self-emp-not-inc</td>\n",
       "      <td>102631</td>\n",
       "      <td>Some-college</td>\n",
       "      <td>10</td>\n",
       "      <td>Widowed</td>\n",
       "      <td>Farming-fishing</td>\n",
       "      <td>Unmarried</td>\n",
       "      <td>White</td>\n",
       "      <td>0</td>\n",
       "      <td>0</td>\n",
       "      <td>50</td>\n",
       "      <td>United-States</td>\n",
       "      <td>1976-05-02</td>\n",
       "      <td>f</td>\n",
       "      <td>F</td>\n",
       "      <td>f</td>\n",
       "      <td>t</td>\n",
       "      <td>f</td>\n",
       "      <td>104.0</td>\n",
       "      <td>f</td>\n",
       "      <td>t</td>\n",
       "      <td>f</td>\n",
       "      <td>f</td>\n",
       "      <td>negative</td>\n",
       "      <td>3504</td>\n",
       "    </tr>\n",
       "    <tr>\n",
       "      <th>3</th>\n",
       "      <td>73.0</td>\n",
       "      <td>f</td>\n",
       "      <td>f</td>\n",
       "      <td>f</td>\n",
       "      <td>f</td>\n",
       "      <td>f</td>\n",
       "      <td>f</td>\n",
       "      <td>f</td>\n",
       "      <td>f</td>\n",
       "      <td>f</td>\n",
       "      <td>0.7</td>\n",
       "      <td>t</td>\n",
       "      <td>2.0</td>\n",
       "      <td>116.0</td>\n",
       "      <td>0.99</td>\n",
       "      <td>t</td>\n",
       "      <td>f</td>\n",
       "      <td>NaN</td>\n",
       "      <td>other</td>\n",
       "      <td>private</td>\n",
       "      <td>272338</td>\n",
       "      <td>HS-grad</td>\n",
       "      <td>9</td>\n",
       "      <td>Married-civ-spouse</td>\n",
       "      <td>Adm-clerical</td>\n",
       "      <td>Wife</td>\n",
       "      <td>White</td>\n",
       "      <td>0</td>\n",
       "      <td>0</td>\n",
       "      <td>25</td>\n",
       "      <td>United-States</td>\n",
       "      <td>44-10-08</td>\n",
       "      <td>t</td>\n",
       "      <td>F</td>\n",
       "      <td>f</td>\n",
       "      <td>t</td>\n",
       "      <td>f</td>\n",
       "      <td>117.0</td>\n",
       "      <td>f</td>\n",
       "      <td>t</td>\n",
       "      <td>f</td>\n",
       "      <td>f</td>\n",
       "      <td>negative</td>\n",
       "      <td>1942</td>\n",
       "    </tr>\n",
       "    <tr>\n",
       "      <th>4</th>\n",
       "      <td>64.0</td>\n",
       "      <td>f</td>\n",
       "      <td>f</td>\n",
       "      <td>f</td>\n",
       "      <td>f</td>\n",
       "      <td>f</td>\n",
       "      <td>f</td>\n",
       "      <td>f</td>\n",
       "      <td>f</td>\n",
       "      <td>f</td>\n",
       "      <td>2.0</td>\n",
       "      <td>t</td>\n",
       "      <td>1.8</td>\n",
       "      <td>80.0</td>\n",
       "      <td>0.91</td>\n",
       "      <td>t</td>\n",
       "      <td>f</td>\n",
       "      <td>NaN</td>\n",
       "      <td>SVHC</td>\n",
       "      <td>Self-emp-inc</td>\n",
       "      <td>368825</td>\n",
       "      <td>Some-college</td>\n",
       "      <td>10</td>\n",
       "      <td>Married-civ-spouse</td>\n",
       "      <td>Sales</td>\n",
       "      <td>Husband</td>\n",
       "      <td>White</td>\n",
       "      <td>0</td>\n",
       "      <td>0</td>\n",
       "      <td>60</td>\n",
       "      <td>United-States</td>\n",
       "      <td>1953-05-01</td>\n",
       "      <td>t</td>\n",
       "      <td>M</td>\n",
       "      <td>f</td>\n",
       "      <td>t</td>\n",
       "      <td>f</td>\n",
       "      <td>88.0</td>\n",
       "      <td>f</td>\n",
       "      <td>t</td>\n",
       "      <td>f</td>\n",
       "      <td>f</td>\n",
       "      <td>negative</td>\n",
       "      <td>2009</td>\n",
       "    </tr>\n",
       "  </tbody>\n",
       "</table>\n",
       "</div>"
      ],
      "text/plain": [
       "     age on thyroxine query on thyroxine pregnant thyroid surgery  \\\n",
       "id                                                                  \n",
       "0   82.0            f                  f        f               f   \n",
       "1   50.0            f                  f        f               t   \n",
       "2   41.0            f                  f        f               f   \n",
       "3   73.0            f                  f        f               f   \n",
       "4   64.0            f                  f        f               f   \n",
       "\n",
       "   I131 treatment lithium goitre tumor hypopituitary   TSH T3 measured   T3  \\\n",
       "id                                                                            \n",
       "0               f       f      f     f             f   2.2           t  1.0   \n",
       "1               f       f      f     f             f  76.0           t  0.5   \n",
       "2               f       f      f     f             f   NaN           t  2.0   \n",
       "3               f       f      f     f             f   0.7           t  2.0   \n",
       "4               f       f      f     f             f   2.0           t  1.8   \n",
       "\n",
       "      TT4   T4U FTI measured TBG measured  TBG referral source  \\\n",
       "id                                                               \n",
       "0    68.0  0.77            t            f  NaN             SVI   \n",
       "1    22.0  1.12            t            f  NaN           other   \n",
       "2    99.0  0.96            t            f  NaN           other   \n",
       "3   116.0  0.99            t            f  NaN           other   \n",
       "4    80.0  0.91            t            f  NaN            SVHC   \n",
       "\n",
       "            workclass  fnlwgt      education  education-num  \\\n",
       "id                                                            \n",
       "0           Local-gov  141649      Assoc-voc             11   \n",
       "1           Local-gov  177599      Bachelors             13   \n",
       "2    Self-emp-not-inc  102631   Some-college             10   \n",
       "3             private  272338        HS-grad              9   \n",
       "4        Self-emp-inc  368825   Some-college             10   \n",
       "\n",
       "         marital-status        occupation relationship    race  capital-gain  \\\n",
       "id                                                                             \n",
       "0    Married-civ-spouse   Protective-serv      Husband   White             0   \n",
       "1              Divorced    Prof-specialty    Unmarried   White             0   \n",
       "2               Widowed   Farming-fishing    Unmarried   White             0   \n",
       "3    Married-civ-spouse      Adm-clerical         Wife   White             0   \n",
       "4    Married-civ-spouse             Sales      Husband   White             0   \n",
       "\n",
       "    capital-loss  hours-per-week  native-country        date_of_birth  \\\n",
       "id                                                                      \n",
       "0              0              40   United-States  1935-05-20 00:00:00   \n",
       "1              0              35   United-States             67-08-03   \n",
       "2              0              50   United-States           1976-05-02   \n",
       "3              0              25   United-States             44-10-08   \n",
       "4              0              60   United-States           1953-05-01   \n",
       "\n",
       "   TSH measured sex query hyperthyroid TT4 measured on antithyroid medication  \\\n",
       "id                                                                              \n",
       "0             t   M                  f            t                         f   \n",
       "1             t   F                  f            t                         f   \n",
       "2             f   F                  f            t                         f   \n",
       "3             t   F                  f            t                         f   \n",
       "4             t   M                  f            t                         f   \n",
       "\n",
       "      FTI sick T4U measured psych query hypothyroid      test  testID  \n",
       "id                                                                     \n",
       "0    88.0    f            t     f                 f  negative     991  \n",
       "1    19.0    f            t     f                 f  negative    1685  \n",
       "2   104.0    f            t     f                 f  negative    3504  \n",
       "3   117.0    f            t     f                 f  negative    1942  \n",
       "4    88.0    f            t     f                 f  negative    2009  "
      ]
     },
     "execution_count": 2,
     "metadata": {},
     "output_type": "execute_result"
    }
   ],
   "source": [
    "train_data = pd.read_csv('data/explorovane.csv', index_col='id')\n",
    "train_data.head()"
   ]
  },
  {
   "cell_type": "code",
   "execution_count": 3,
   "metadata": {},
   "outputs": [
    {
     "name": "stdout",
     "output_type": "stream",
     "text": [
      "Neidentifikovatelne:  5\n",
      "Rok bez uvodnych cisel:  189\n",
      "Vymeneny rok a den:  180\n",
      "Zly mesiac:  0\n",
      "S casom dna:  382\n"
     ]
    }
   ],
   "source": [
    "import re\n",
    "\n",
    "dates = train_data['date_of_birth'].dropna()\n",
    "dates = list(map(lambda s: re.split(' |-|/|:', s) ,dates))\n",
    "\n",
    "print(\"Neidentifikovatelne: \", len(list(filter(lambda d: int(d[0]) <= 31 and int(d[2]) <= 31, dates))))\n",
    "print(\"Rok bez uvodnych cisel: \", len(list(filter(lambda d: int(d[0]) < 1900 and int(d[0]) > 31 and int(d[2]) <= 31, dates))))\n",
    "print(\"Vymeneny rok a den: \", len(list(filter(lambda d: int(d[0]) <= 31 and int(d[2]) > 1900, dates))))\n",
    "print(\"Zly mesiac: \", len(list(filter(lambda d: int(d[1]) > 12, dates))))\n",
    "print(\"S casom dna: \", len(list(filter(lambda d: len(d) > 3, dates))))        "
   ]
  },
  {
   "cell_type": "markdown",
   "metadata": {},
   "source": [
    "Pridáme nové stĺpce pre rok a mesiac. Istá sezónnosť v rámci mesiacov roka nemusí byť nutne vylúčená (vplyvy počasia a podnebia apod.), podobne aj"
   ]
  },
  {
   "cell_type": "code",
   "execution_count": 4,
   "metadata": {},
   "outputs": [],
   "source": [
    "train_data['birth_year'] = np.nan\n",
    "train_data['birth_month'] = np.nan"
   ]
  },
  {
   "cell_type": "code",
   "execution_count": 5,
   "metadata": {
    "scrolled": true
   },
   "outputs": [
    {
     "data": {
      "text/html": [
       "<div>\n",
       "<style scoped>\n",
       "    .dataframe tbody tr th:only-of-type {\n",
       "        vertical-align: middle;\n",
       "    }\n",
       "\n",
       "    .dataframe tbody tr th {\n",
       "        vertical-align: top;\n",
       "    }\n",
       "\n",
       "    .dataframe thead th {\n",
       "        text-align: right;\n",
       "    }\n",
       "</style>\n",
       "<table border=\"1\" class=\"dataframe\">\n",
       "  <thead>\n",
       "    <tr style=\"text-align: right;\">\n",
       "      <th></th>\n",
       "      <th>age</th>\n",
       "      <th>on thyroxine</th>\n",
       "      <th>query on thyroxine</th>\n",
       "      <th>pregnant</th>\n",
       "      <th>thyroid surgery</th>\n",
       "      <th>I131 treatment</th>\n",
       "      <th>lithium</th>\n",
       "      <th>goitre</th>\n",
       "      <th>tumor</th>\n",
       "      <th>hypopituitary</th>\n",
       "      <th>TSH</th>\n",
       "      <th>T3 measured</th>\n",
       "      <th>T3</th>\n",
       "      <th>TT4</th>\n",
       "      <th>T4U</th>\n",
       "      <th>FTI measured</th>\n",
       "      <th>TBG measured</th>\n",
       "      <th>TBG</th>\n",
       "      <th>referral source</th>\n",
       "      <th>workclass</th>\n",
       "      <th>fnlwgt</th>\n",
       "      <th>education</th>\n",
       "      <th>education-num</th>\n",
       "      <th>marital-status</th>\n",
       "      <th>occupation</th>\n",
       "      <th>relationship</th>\n",
       "      <th>race</th>\n",
       "      <th>capital-gain</th>\n",
       "      <th>capital-loss</th>\n",
       "      <th>hours-per-week</th>\n",
       "      <th>native-country</th>\n",
       "      <th>date_of_birth</th>\n",
       "      <th>TSH measured</th>\n",
       "      <th>sex</th>\n",
       "      <th>query hyperthyroid</th>\n",
       "      <th>TT4 measured</th>\n",
       "      <th>on antithyroid medication</th>\n",
       "      <th>FTI</th>\n",
       "      <th>sick</th>\n",
       "      <th>T4U measured</th>\n",
       "      <th>psych</th>\n",
       "      <th>query hypothyroid</th>\n",
       "      <th>test</th>\n",
       "      <th>testID</th>\n",
       "      <th>birth_year</th>\n",
       "      <th>birth_month</th>\n",
       "    </tr>\n",
       "    <tr>\n",
       "      <th>id</th>\n",
       "      <th></th>\n",
       "      <th></th>\n",
       "      <th></th>\n",
       "      <th></th>\n",
       "      <th></th>\n",
       "      <th></th>\n",
       "      <th></th>\n",
       "      <th></th>\n",
       "      <th></th>\n",
       "      <th></th>\n",
       "      <th></th>\n",
       "      <th></th>\n",
       "      <th></th>\n",
       "      <th></th>\n",
       "      <th></th>\n",
       "      <th></th>\n",
       "      <th></th>\n",
       "      <th></th>\n",
       "      <th></th>\n",
       "      <th></th>\n",
       "      <th></th>\n",
       "      <th></th>\n",
       "      <th></th>\n",
       "      <th></th>\n",
       "      <th></th>\n",
       "      <th></th>\n",
       "      <th></th>\n",
       "      <th></th>\n",
       "      <th></th>\n",
       "      <th></th>\n",
       "      <th></th>\n",
       "      <th></th>\n",
       "      <th></th>\n",
       "      <th></th>\n",
       "      <th></th>\n",
       "      <th></th>\n",
       "      <th></th>\n",
       "      <th></th>\n",
       "      <th></th>\n",
       "      <th></th>\n",
       "      <th></th>\n",
       "      <th></th>\n",
       "      <th></th>\n",
       "      <th></th>\n",
       "      <th></th>\n",
       "      <th></th>\n",
       "    </tr>\n",
       "  </thead>\n",
       "  <tbody>\n",
       "    <tr>\n",
       "      <th>0</th>\n",
       "      <td>82.0</td>\n",
       "      <td>f</td>\n",
       "      <td>f</td>\n",
       "      <td>f</td>\n",
       "      <td>f</td>\n",
       "      <td>f</td>\n",
       "      <td>f</td>\n",
       "      <td>f</td>\n",
       "      <td>f</td>\n",
       "      <td>f</td>\n",
       "      <td>2.2</td>\n",
       "      <td>t</td>\n",
       "      <td>1.0</td>\n",
       "      <td>68.0</td>\n",
       "      <td>0.77</td>\n",
       "      <td>t</td>\n",
       "      <td>f</td>\n",
       "      <td>NaN</td>\n",
       "      <td>SVI</td>\n",
       "      <td>Local-gov</td>\n",
       "      <td>141649</td>\n",
       "      <td>Assoc-voc</td>\n",
       "      <td>11</td>\n",
       "      <td>Married-civ-spouse</td>\n",
       "      <td>Protective-serv</td>\n",
       "      <td>Husband</td>\n",
       "      <td>White</td>\n",
       "      <td>0</td>\n",
       "      <td>0</td>\n",
       "      <td>40</td>\n",
       "      <td>United-States</td>\n",
       "      <td>1935-05-20 00:00:00</td>\n",
       "      <td>t</td>\n",
       "      <td>M</td>\n",
       "      <td>f</td>\n",
       "      <td>t</td>\n",
       "      <td>f</td>\n",
       "      <td>88.0</td>\n",
       "      <td>f</td>\n",
       "      <td>t</td>\n",
       "      <td>f</td>\n",
       "      <td>f</td>\n",
       "      <td>negative</td>\n",
       "      <td>991</td>\n",
       "      <td>1935.0</td>\n",
       "      <td>5.0</td>\n",
       "    </tr>\n",
       "    <tr>\n",
       "      <th>1</th>\n",
       "      <td>50.0</td>\n",
       "      <td>f</td>\n",
       "      <td>f</td>\n",
       "      <td>f</td>\n",
       "      <td>t</td>\n",
       "      <td>f</td>\n",
       "      <td>f</td>\n",
       "      <td>f</td>\n",
       "      <td>f</td>\n",
       "      <td>f</td>\n",
       "      <td>76.0</td>\n",
       "      <td>t</td>\n",
       "      <td>0.5</td>\n",
       "      <td>22.0</td>\n",
       "      <td>1.12</td>\n",
       "      <td>t</td>\n",
       "      <td>f</td>\n",
       "      <td>NaN</td>\n",
       "      <td>other</td>\n",
       "      <td>Local-gov</td>\n",
       "      <td>177599</td>\n",
       "      <td>Bachelors</td>\n",
       "      <td>13</td>\n",
       "      <td>Divorced</td>\n",
       "      <td>Prof-specialty</td>\n",
       "      <td>Unmarried</td>\n",
       "      <td>White</td>\n",
       "      <td>0</td>\n",
       "      <td>0</td>\n",
       "      <td>35</td>\n",
       "      <td>United-States</td>\n",
       "      <td>67-08-03</td>\n",
       "      <td>t</td>\n",
       "      <td>F</td>\n",
       "      <td>f</td>\n",
       "      <td>t</td>\n",
       "      <td>f</td>\n",
       "      <td>19.0</td>\n",
       "      <td>f</td>\n",
       "      <td>t</td>\n",
       "      <td>f</td>\n",
       "      <td>f</td>\n",
       "      <td>negative</td>\n",
       "      <td>1685</td>\n",
       "      <td>1967.0</td>\n",
       "      <td>8.0</td>\n",
       "    </tr>\n",
       "    <tr>\n",
       "      <th>2</th>\n",
       "      <td>41.0</td>\n",
       "      <td>f</td>\n",
       "      <td>f</td>\n",
       "      <td>f</td>\n",
       "      <td>f</td>\n",
       "      <td>f</td>\n",
       "      <td>f</td>\n",
       "      <td>f</td>\n",
       "      <td>f</td>\n",
       "      <td>f</td>\n",
       "      <td>NaN</td>\n",
       "      <td>t</td>\n",
       "      <td>2.0</td>\n",
       "      <td>99.0</td>\n",
       "      <td>0.96</td>\n",
       "      <td>t</td>\n",
       "      <td>f</td>\n",
       "      <td>NaN</td>\n",
       "      <td>other</td>\n",
       "      <td>Self-emp-not-inc</td>\n",
       "      <td>102631</td>\n",
       "      <td>Some-college</td>\n",
       "      <td>10</td>\n",
       "      <td>Widowed</td>\n",
       "      <td>Farming-fishing</td>\n",
       "      <td>Unmarried</td>\n",
       "      <td>White</td>\n",
       "      <td>0</td>\n",
       "      <td>0</td>\n",
       "      <td>50</td>\n",
       "      <td>United-States</td>\n",
       "      <td>1976-05-02</td>\n",
       "      <td>f</td>\n",
       "      <td>F</td>\n",
       "      <td>f</td>\n",
       "      <td>t</td>\n",
       "      <td>f</td>\n",
       "      <td>104.0</td>\n",
       "      <td>f</td>\n",
       "      <td>t</td>\n",
       "      <td>f</td>\n",
       "      <td>f</td>\n",
       "      <td>negative</td>\n",
       "      <td>3504</td>\n",
       "      <td>1976.0</td>\n",
       "      <td>5.0</td>\n",
       "    </tr>\n",
       "    <tr>\n",
       "      <th>3</th>\n",
       "      <td>73.0</td>\n",
       "      <td>f</td>\n",
       "      <td>f</td>\n",
       "      <td>f</td>\n",
       "      <td>f</td>\n",
       "      <td>f</td>\n",
       "      <td>f</td>\n",
       "      <td>f</td>\n",
       "      <td>f</td>\n",
       "      <td>f</td>\n",
       "      <td>0.7</td>\n",
       "      <td>t</td>\n",
       "      <td>2.0</td>\n",
       "      <td>116.0</td>\n",
       "      <td>0.99</td>\n",
       "      <td>t</td>\n",
       "      <td>f</td>\n",
       "      <td>NaN</td>\n",
       "      <td>other</td>\n",
       "      <td>private</td>\n",
       "      <td>272338</td>\n",
       "      <td>HS-grad</td>\n",
       "      <td>9</td>\n",
       "      <td>Married-civ-spouse</td>\n",
       "      <td>Adm-clerical</td>\n",
       "      <td>Wife</td>\n",
       "      <td>White</td>\n",
       "      <td>0</td>\n",
       "      <td>0</td>\n",
       "      <td>25</td>\n",
       "      <td>United-States</td>\n",
       "      <td>44-10-08</td>\n",
       "      <td>t</td>\n",
       "      <td>F</td>\n",
       "      <td>f</td>\n",
       "      <td>t</td>\n",
       "      <td>f</td>\n",
       "      <td>117.0</td>\n",
       "      <td>f</td>\n",
       "      <td>t</td>\n",
       "      <td>f</td>\n",
       "      <td>f</td>\n",
       "      <td>negative</td>\n",
       "      <td>1942</td>\n",
       "      <td>1944.0</td>\n",
       "      <td>10.0</td>\n",
       "    </tr>\n",
       "    <tr>\n",
       "      <th>4</th>\n",
       "      <td>64.0</td>\n",
       "      <td>f</td>\n",
       "      <td>f</td>\n",
       "      <td>f</td>\n",
       "      <td>f</td>\n",
       "      <td>f</td>\n",
       "      <td>f</td>\n",
       "      <td>f</td>\n",
       "      <td>f</td>\n",
       "      <td>f</td>\n",
       "      <td>2.0</td>\n",
       "      <td>t</td>\n",
       "      <td>1.8</td>\n",
       "      <td>80.0</td>\n",
       "      <td>0.91</td>\n",
       "      <td>t</td>\n",
       "      <td>f</td>\n",
       "      <td>NaN</td>\n",
       "      <td>SVHC</td>\n",
       "      <td>Self-emp-inc</td>\n",
       "      <td>368825</td>\n",
       "      <td>Some-college</td>\n",
       "      <td>10</td>\n",
       "      <td>Married-civ-spouse</td>\n",
       "      <td>Sales</td>\n",
       "      <td>Husband</td>\n",
       "      <td>White</td>\n",
       "      <td>0</td>\n",
       "      <td>0</td>\n",
       "      <td>60</td>\n",
       "      <td>United-States</td>\n",
       "      <td>1953-05-01</td>\n",
       "      <td>t</td>\n",
       "      <td>M</td>\n",
       "      <td>f</td>\n",
       "      <td>t</td>\n",
       "      <td>f</td>\n",
       "      <td>88.0</td>\n",
       "      <td>f</td>\n",
       "      <td>t</td>\n",
       "      <td>f</td>\n",
       "      <td>f</td>\n",
       "      <td>negative</td>\n",
       "      <td>2009</td>\n",
       "      <td>1953.0</td>\n",
       "      <td>5.0</td>\n",
       "    </tr>\n",
       "  </tbody>\n",
       "</table>\n",
       "</div>"
      ],
      "text/plain": [
       "     age on thyroxine query on thyroxine pregnant thyroid surgery  \\\n",
       "id                                                                  \n",
       "0   82.0            f                  f        f               f   \n",
       "1   50.0            f                  f        f               t   \n",
       "2   41.0            f                  f        f               f   \n",
       "3   73.0            f                  f        f               f   \n",
       "4   64.0            f                  f        f               f   \n",
       "\n",
       "   I131 treatment lithium goitre tumor hypopituitary   TSH T3 measured   T3  \\\n",
       "id                                                                            \n",
       "0               f       f      f     f             f   2.2           t  1.0   \n",
       "1               f       f      f     f             f  76.0           t  0.5   \n",
       "2               f       f      f     f             f   NaN           t  2.0   \n",
       "3               f       f      f     f             f   0.7           t  2.0   \n",
       "4               f       f      f     f             f   2.0           t  1.8   \n",
       "\n",
       "      TT4   T4U FTI measured TBG measured  TBG referral source  \\\n",
       "id                                                               \n",
       "0    68.0  0.77            t            f  NaN             SVI   \n",
       "1    22.0  1.12            t            f  NaN           other   \n",
       "2    99.0  0.96            t            f  NaN           other   \n",
       "3   116.0  0.99            t            f  NaN           other   \n",
       "4    80.0  0.91            t            f  NaN            SVHC   \n",
       "\n",
       "            workclass  fnlwgt      education  education-num  \\\n",
       "id                                                            \n",
       "0           Local-gov  141649      Assoc-voc             11   \n",
       "1           Local-gov  177599      Bachelors             13   \n",
       "2    Self-emp-not-inc  102631   Some-college             10   \n",
       "3             private  272338        HS-grad              9   \n",
       "4        Self-emp-inc  368825   Some-college             10   \n",
       "\n",
       "         marital-status        occupation relationship    race  capital-gain  \\\n",
       "id                                                                             \n",
       "0    Married-civ-spouse   Protective-serv      Husband   White             0   \n",
       "1              Divorced    Prof-specialty    Unmarried   White             0   \n",
       "2               Widowed   Farming-fishing    Unmarried   White             0   \n",
       "3    Married-civ-spouse      Adm-clerical         Wife   White             0   \n",
       "4    Married-civ-spouse             Sales      Husband   White             0   \n",
       "\n",
       "    capital-loss  hours-per-week  native-country        date_of_birth  \\\n",
       "id                                                                      \n",
       "0              0              40   United-States  1935-05-20 00:00:00   \n",
       "1              0              35   United-States             67-08-03   \n",
       "2              0              50   United-States           1976-05-02   \n",
       "3              0              25   United-States             44-10-08   \n",
       "4              0              60   United-States           1953-05-01   \n",
       "\n",
       "   TSH measured sex query hyperthyroid TT4 measured on antithyroid medication  \\\n",
       "id                                                                              \n",
       "0             t   M                  f            t                         f   \n",
       "1             t   F                  f            t                         f   \n",
       "2             f   F                  f            t                         f   \n",
       "3             t   F                  f            t                         f   \n",
       "4             t   M                  f            t                         f   \n",
       "\n",
       "      FTI sick T4U measured psych query hypothyroid      test  testID  \\\n",
       "id                                                                      \n",
       "0    88.0    f            t     f                 f  negative     991   \n",
       "1    19.0    f            t     f                 f  negative    1685   \n",
       "2   104.0    f            t     f                 f  negative    3504   \n",
       "3   117.0    f            t     f                 f  negative    1942   \n",
       "4    88.0    f            t     f                 f  negative    2009   \n",
       "\n",
       "    birth_year  birth_month  \n",
       "id                           \n",
       "0       1935.0          5.0  \n",
       "1       1967.0          8.0  \n",
       "2       1976.0          5.0  \n",
       "3       1944.0         10.0  \n",
       "4       1953.0          5.0  "
      ]
     },
     "execution_count": 5,
     "metadata": {},
     "output_type": "execute_result"
    }
   ],
   "source": [
    "for i in range(train_data.shape[0]-1):\n",
    "    if (pd.isna(train_data.loc[i]['date_of_birth'])):\n",
    "        continue\n",
    "    date = list(map(int, re.split(' |-|/|:', train_data.iloc[i]['date_of_birth'])))\n",
    "    if date[0] <= 31 and date[2] <= 31:\n",
    "        continue\n",
    "    elif date[0] <= 31 and date[2] > 31:\n",
    "        b = date[2]\n",
    "        date[2] = date[0]\n",
    "        date[0] = b\n",
    "    if date[0] < 1900:\n",
    "        if date[0] < 18:\n",
    "            date[0] = date[0] + 2000\n",
    "        else:\n",
    "            date[0] = date[0] + 1900\n",
    "    if len(date) > 3:\n",
    "        date = date[:3]\n",
    "    train_data.loc[i, 'birth_year'] = date[0]\n",
    "    train_data.loc[i, 'birth_month'] = date[1]\n",
    "    \n",
    "train_data.head()"
   ]
  },
  {
   "cell_type": "code",
   "execution_count": 6,
   "metadata": {},
   "outputs": [],
   "source": [
    "from scipy.stats import boxcox\n",
    "from functools import reduce\n",
    "\n",
    "#algoritmus prevzany z http://colingorrie.github.io/outlier-detection.html\n",
    "def findOutliers(data, verbose=False):\n",
    "    q1, q3 = np.percentile(data, [25, 75])\n",
    "    iqr = q3 - q1\n",
    "    lowerFrontier = q1 - (iqr * 1.5)\n",
    "    upperFrontier = q3 + (iqr * 1.5)\n",
    "    if verbose:\n",
    "        print (\"Dolna hranica: \", lowerFrontier)\n",
    "        print (\"Horna hranica: \", upperFrontier)\n",
    "    return np.where((data > upperFrontier) | (data < lowerFrontier))[0]\n",
    "\n",
    "def replaceOutliers5_95PercentileS(data):\n",
    "    q1, q3 = np.percentile(data, [25, 75])\n",
    "    iqr = q3 - q1\n",
    "    lowerFrontier = q1 - (iqr * 1.5)\n",
    "    upperFrontier = q3 + (iqr * 1.5)\n",
    "    \n",
    "    p5, p95 = np.percentile(data, [5, 95])\n",
    "    print(p5, p95)\n",
    "    for i in range(data.shape[0]):\n",
    "        if (data[i] < lowerFrontier):\n",
    "            data[i] = p5\n",
    "        elif (data[i] > upperFrontier):\n",
    "            data[i] = p95\n",
    "            \n",
    "    return data\n",
    "\n",
    "def replaceOutliers5_95Percentile(data):\n",
    "    q1, q3 = np.percentile(data.dropna(), [25, 75])\n",
    "    iqr = q3 - q1\n",
    "    lowerFrontier = q1 - (iqr * 1.5)\n",
    "    upperFrontier = q3 + (iqr * 1.5)\n",
    "    \n",
    "    p5, p95 = np.percentile(data.dropna(), [5, 95])\n",
    "    print(p5, p95)\n",
    "    for i in range(data.shape[0]):\n",
    "        if (data[i] < lowerFrontier):\n",
    "            data[i] = p5\n",
    "        elif (data[i] > upperFrontier):\n",
    "            data[i] = p95\n",
    "            \n",
    "    return data"
   ]
  },
  {
   "cell_type": "code",
   "execution_count": 7,
   "metadata": {},
   "outputs": [
    {
     "data": {
      "text/plain": [
       "Text(0.5,1,'TSH (log transform)')"
      ]
     },
     "execution_count": 7,
     "metadata": {},
     "output_type": "execute_result"
    },
    {
     "data": {
      "image/png": "[encoded data removed]",
      "text/plain": [
       "<matplotlib.figure.Figure at 0x202387aab38>"
      ]
     },
     "metadata": {},
     "output_type": "display_data"
    }
   ],
   "source": [
    "transformed = np.log(train_data['TSH'])\n",
    "pom = pd.Series(transformed).hist(bins=50)\n",
    "pom.set_title(\"TSH (log transform)\")"
   ]
  },
  {
   "cell_type": "code",
   "execution_count": 8,
   "metadata": {},
   "outputs": [
    {
     "name": "stdout",
     "output_type": "stream",
     "text": [
      "Pocet outlierov (orig):  277\n",
      "Dolna hranica:  -3.4759944471803537\n",
      "Horna hranica:  3.674167306841612\n",
      "Pocet outlierov:  156\n"
     ]
    },
    {
     "data": {
      "image/png": "[encoded data removed]",
      "text/plain": [
       "<matplotlib.figure.Figure at 0x2023c0557f0>"
      ]
     },
     "metadata": {},
     "output_type": "display_data"
    },
    {
     "data": {
      "image/png": "[encoded data removed]",
      "text/plain": [
       "<matplotlib.figure.Figure at 0x2023c055ef0>"
      ]
     },
     "metadata": {},
     "output_type": "display_data"
    },
    {
     "data": {
      "image/png": "[encoded data removed]",
      "text/plain": [
       "<matplotlib.figure.Figure at 0x2023c391d30>"
      ]
     },
     "metadata": {},
     "output_type": "display_data"
    },
    {
     "data": {
      "text/plain": [
       "<matplotlib.figure.Figure at 0x2023c43dbe0>"
      ]
     },
     "metadata": {},
     "output_type": "display_data"
    }
   ],
   "source": [
    "trans, att = boxcox(train_data['TSH'].dropna())\n",
    "\n",
    "pd.Series(train_data['TSH'].dropna()).hist(bins=50).set_title(\"TSH\")\n",
    "plt.figure()\n",
    "pd.Series(trans).hist(bins=50).set_title(\"TSH (boxcox)\")\n",
    "plt.figure()\n",
    "pd.Series(trans).plot(kind='box')\n",
    "plt.figure()\n",
    "\n",
    "print('Pocet outlierov (orig): ', len(findOutliers(train_data['TSH'].dropna())));\n",
    "print('Pocet outlierov: ', len(findOutliers(trans, True)));"
   ]
  },
  {
   "cell_type": "code",
   "execution_count": 27,
   "metadata": {},
   "outputs": [
    {
     "name": "stdout",
     "output_type": "stream",
     "text": [
      "-3.025193870357012 2.711547800710896\n"
     ]
    },
    {
     "data": {
      "image/png": "[encoded data removed]",
      "text/plain": [
       "<matplotlib.figure.Figure at 0x2023c9e0780>"
      ]
     },
     "metadata": {},
     "output_type": "display_data"
    },
    {
     "data": {
      "image/png": "[encoded data removed]",
      "text/plain": [
       "<matplotlib.figure.Figure at 0x2023e1253c8>"
      ]
     },
     "metadata": {},
     "output_type": "display_data"
    }
   ],
   "source": [
    "trans, att = boxcox(train_data['TSH'].dropna())\n",
    "\n",
    "trans = replaceOutliers5_95PercentileS(trans)\n",
    "\n",
    "pd.Series(trans).hist(bins=50).set_title(\"TSH\")\n",
    "plt.figure()\n",
    "pd.Series(trans).plot(kind='box').set_title(\"TSH\")\n",
    "\n",
    "train_data['TSH'] = trans"
   ]
  },
  {
   "cell_type": "code",
   "execution_count": 10,
   "metadata": {},
   "outputs": [
    {
     "name": "stdout",
     "output_type": "stream",
     "text": [
      "Pocet outlierov:  146\n"
     ]
    },
    {
     "data": {
      "image/png": "[encoded data removed]",
      "text/plain": [
       "<matplotlib.figure.Figure at 0x2023c63f4a8>"
      ]
     },
     "metadata": {},
     "output_type": "display_data"
    },
    {
     "data": {
      "image/png": "[encoded data removed]",
      "text/plain": [
       "<matplotlib.figure.Figure at 0x2023c63f588>"
      ]
     },
     "metadata": {},
     "output_type": "display_data"
    },
    {
     "data": {
      "text/plain": [
       "<matplotlib.figure.Figure at 0x2023c5b3780>"
      ]
     },
     "metadata": {},
     "output_type": "display_data"
    }
   ],
   "source": [
    "pd.Series(train_data['T3']).hist(bins=50).set_title(\"T3\")\n",
    "plt.figure()\n",
    "pd.Series(train_data['T3']).plot(kind='box')\n",
    "plt.figure()\n",
    "\n",
    "print('Pocet outlierov: ', len(findOutliers(train_data['T3'].dropna())));"
   ]
  },
  {
   "cell_type": "code",
   "execution_count": 11,
   "metadata": {},
   "outputs": [
    {
     "name": "stdout",
     "output_type": "stream",
     "text": [
      "0.8 3.4\n"
     ]
    },
    {
     "name": "stderr",
     "output_type": "stream",
     "text": [
      "C:\\Anaconda3\\lib\\site-packages\\ipykernel_launcher.py:43: SettingWithCopyWarning: \n",
      "A value is trying to be set on a copy of a slice from a DataFrame\n",
      "\n",
      "See the caveats in the documentation: http://pandas.pydata.org/pandas-docs/stable/indexing.html#indexing-view-versus-copy\n",
      "C:\\Anaconda3\\lib\\site-packages\\ipykernel_launcher.py:41: SettingWithCopyWarning: \n",
      "A value is trying to be set on a copy of a slice from a DataFrame\n",
      "\n",
      "See the caveats in the documentation: http://pandas.pydata.org/pandas-docs/stable/indexing.html#indexing-view-versus-copy\n"
     ]
    },
    {
     "data": {
      "text/plain": [
       "Text(0.5,1,'T3')"
      ]
     },
     "execution_count": 11,
     "metadata": {},
     "output_type": "execute_result"
    },
    {
     "data": {
      "image/png": "[encoded data removed]",
      "text/plain": [
       "<matplotlib.figure.Figure at 0x2023bf86c88>"
      ]
     },
     "metadata": {},
     "output_type": "display_data"
    },
    {
     "data": {
      "image/png": "[encoded data removed]",
      "text/plain": [
       "<matplotlib.figure.Figure at 0x2023c2ab978>"
      ]
     },
     "metadata": {},
     "output_type": "display_data"
    }
   ],
   "source": [
    "trans = replaceOutliers5_95Percentile(train_data['T3'])\n",
    "\n",
    "pd.Series(trans).hist(bins=50).set_title(\"T3\")\n",
    "plt.figure()\n",
    "pd.Series(trans).plot(kind='box').set_title(\"T3\")"
   ]
  },
  {
   "cell_type": "code",
   "execution_count": 12,
   "metadata": {},
   "outputs": [
    {
     "name": "stdout",
     "output_type": "stream",
     "text": [
      "Pocet outlierov:  121\n",
      "Pocet outlierov:  109\n"
     ]
    },
    {
     "data": {
      "image/png": "[encoded data removed]",
      "text/plain": [
       "<matplotlib.figure.Figure at 0x2023c391898>"
      ]
     },
     "metadata": {},
     "output_type": "display_data"
    },
    {
     "data": {
      "image/png": "[encoded data removed]",
      "text/plain": [
       "<matplotlib.figure.Figure at 0x2023c391588>"
      ]
     },
     "metadata": {},
     "output_type": "display_data"
    },
    {
     "data": {
      "image/png": "[encoded data removed]",
      "text/plain": [
       "<matplotlib.figure.Figure at 0x2023c6887b8>"
      ]
     },
     "metadata": {},
     "output_type": "display_data"
    },
    {
     "data": {
      "text/plain": [
       "<matplotlib.figure.Figure at 0x2023c436400>"
      ]
     },
     "metadata": {},
     "output_type": "display_data"
    }
   ],
   "source": [
    "trans, att = boxcox(train_data['TT4'].dropna())\n",
    "\n",
    "pd.Series(train_data['TT4'].dropna()).hist(bins=50).set_title(\"TT4\")\n",
    "plt.figure()\n",
    "pd.Series(trans).hist(bins=50).set_title(\"TT4 (boxcox)\")\n",
    "plt.figure()\n",
    "pd.Series(trans).plot(kind='box')\n",
    "plt.figure()\n",
    "\n",
    "print('Pocet outlierov: ', len(findOutliers(train_data['TT4'].dropna())));\n",
    "print('Pocet outlierov: ', len(findOutliers(trans)));"
   ]
  },
  {
   "cell_type": "code",
   "execution_count": 13,
   "metadata": {},
   "outputs": [
    {
     "name": "stdout",
     "output_type": "stream",
     "text": [
      "63.55000000000001 171.0\n"
     ]
    },
    {
     "name": "stderr",
     "output_type": "stream",
     "text": [
      "C:\\Anaconda3\\lib\\site-packages\\ipykernel_launcher.py:41: SettingWithCopyWarning: \n",
      "A value is trying to be set on a copy of a slice from a DataFrame\n",
      "\n",
      "See the caveats in the documentation: http://pandas.pydata.org/pandas-docs/stable/indexing.html#indexing-view-versus-copy\n",
      "C:\\Anaconda3\\lib\\site-packages\\ipykernel_launcher.py:43: SettingWithCopyWarning: \n",
      "A value is trying to be set on a copy of a slice from a DataFrame\n",
      "\n",
      "See the caveats in the documentation: http://pandas.pydata.org/pandas-docs/stable/indexing.html#indexing-view-versus-copy\n"
     ]
    },
    {
     "data": {
      "text/plain": [
       "Text(0.5,1,'TT4')"
      ]
     },
     "execution_count": 13,
     "metadata": {},
     "output_type": "execute_result"
    },
    {
     "data": {
      "image/png": "[encoded data removed]",
      "text/plain": [
       "<matplotlib.figure.Figure at 0x2023c4d5978>"
      ]
     },
     "metadata": {},
     "output_type": "display_data"
    },
    {
     "data": {
      "image/png": "[encoded data removed]",
      "text/plain": [
       "<matplotlib.figure.Figure at 0x20234babc88>"
      ]
     },
     "metadata": {},
     "output_type": "display_data"
    }
   ],
   "source": [
    "trans = replaceOutliers5_95Percentile(train_data['TT4'])\n",
    "\n",
    "pd.Series(trans).hist(bins=50).set_title(\"TT4\")\n",
    "plt.figure()\n",
    "pd.Series(trans).plot(kind='box').set_title(\"TT4\")"
   ]
  },
  {
   "cell_type": "code",
   "execution_count": 14,
   "metadata": {},
   "outputs": [
    {
     "name": "stdout",
     "output_type": "stream",
     "text": [
      "Pocet outlierov:  124\n",
      "Pocet outlierov:  115\n"
     ]
    },
    {
     "data": {
      "image/png": "[encoded data removed]",
      "text/plain": [
       "<matplotlib.figure.Figure at 0x2023c63b3c8>"
      ]
     },
     "metadata": {},
     "output_type": "display_data"
    },
    {
     "data": {
      "image/png": "[encoded data removed]",
      "text/plain": [
       "<matplotlib.figure.Figure at 0x2023c00f9e8>"
      ]
     },
     "metadata": {},
     "output_type": "display_data"
    },
    {
     "data": {
      "image/png": "[encoded data removed]",
      "text/plain": [
       "<matplotlib.figure.Figure at 0x2023c4eef60>"
      ]
     },
     "metadata": {},
     "output_type": "display_data"
    },
    {
     "data": {
      "text/plain": [
       "<matplotlib.figure.Figure at 0x2023c439be0>"
      ]
     },
     "metadata": {},
     "output_type": "display_data"
    }
   ],
   "source": [
    "trans, att = boxcox(train_data['T4U'].dropna())\n",
    "\n",
    "pd.Series(train_data['T4U'].dropna()).hist(bins=50).set_title(\"T4U\")\n",
    "plt.figure()\n",
    "pd.Series(trans).hist(bins=50).set_title(\"T4U (boxcox)\")\n",
    "plt.figure()\n",
    "pd.Series(trans).plot(kind='box')\n",
    "plt.figure()\n",
    "\n",
    "print('Pocet outlierov: ', len(findOutliers(train_data['T4U'].dropna())));\n",
    "print('Pocet outlierov: ', len(findOutliers(trans)));"
   ]
  },
  {
   "cell_type": "code",
   "execution_count": 15,
   "metadata": {},
   "outputs": [
    {
     "name": "stdout",
     "output_type": "stream",
     "text": [
      "0.74 1.34\n"
     ]
    },
    {
     "name": "stderr",
     "output_type": "stream",
     "text": [
      "C:\\Anaconda3\\lib\\site-packages\\ipykernel_launcher.py:43: SettingWithCopyWarning: \n",
      "A value is trying to be set on a copy of a slice from a DataFrame\n",
      "\n",
      "See the caveats in the documentation: http://pandas.pydata.org/pandas-docs/stable/indexing.html#indexing-view-versus-copy\n",
      "C:\\Anaconda3\\lib\\site-packages\\ipykernel_launcher.py:41: SettingWithCopyWarning: \n",
      "A value is trying to be set on a copy of a slice from a DataFrame\n",
      "\n",
      "See the caveats in the documentation: http://pandas.pydata.org/pandas-docs/stable/indexing.html#indexing-view-versus-copy\n"
     ]
    },
    {
     "data": {
      "text/plain": [
       "Text(0.5,1,'T4U')"
      ]
     },
     "execution_count": 15,
     "metadata": {},
     "output_type": "execute_result"
    },
    {
     "data": {
      "image/png": "[encoded data removed]",
      "text/plain": [
       "<matplotlib.figure.Figure at 0x2023c564eb8>"
      ]
     },
     "metadata": {},
     "output_type": "display_data"
    },
    {
     "data": {
      "image/png": "[encoded data removed]",
      "text/plain": [
       "<matplotlib.figure.Figure at 0x2023c66a630>"
      ]
     },
     "metadata": {},
     "output_type": "display_data"
    }
   ],
   "source": [
    "trans = replaceOutliers5_95Percentile(train_data['T4U'])\n",
    "\n",
    "pd.Series(trans).hist(bins=50).set_title(\"T4U\")\n",
    "plt.figure()\n",
    "pd.Series(trans).plot(kind='box').set_title(\"T4U\")"
   ]
  },
  {
   "cell_type": "code",
   "execution_count": 16,
   "metadata": {},
   "outputs": [
    {
     "name": "stdout",
     "output_type": "stream",
     "text": [
      "Pocet outlierov:  152\n",
      "Pocet outlierov:  137\n"
     ]
    },
    {
     "data": {
      "image/png": "[encoded data removed]",
      "text/plain": [
       "<matplotlib.figure.Figure at 0x2023c32cf60>"
      ]
     },
     "metadata": {},
     "output_type": "display_data"
    },
    {
     "data": {
      "image/png": "[encoded data removed]",
      "text/plain": [
       "<matplotlib.figure.Figure at 0x2023c7046a0>"
      ]
     },
     "metadata": {},
     "output_type": "display_data"
    },
    {
     "data": {
      "image/png": "[encoded data removed]",
      "text/plain": [
       "<matplotlib.figure.Figure at 0x2023c39a0f0>"
      ]
     },
     "metadata": {},
     "output_type": "display_data"
    },
    {
     "data": {
      "text/plain": [
       "<matplotlib.figure.Figure at 0x2023c460cc0>"
      ]
     },
     "metadata": {},
     "output_type": "display_data"
    }
   ],
   "source": [
    "trans, att = boxcox(train_data['FTI'].dropna())\n",
    "\n",
    "pd.Series(train_data['FTI'].dropna()).hist(bins=50).set_title(\"FTI\")\n",
    "plt.figure()\n",
    "pd.Series(trans).hist(bins=50).set_title(\"FTI (boxcox)\")\n",
    "plt.figure()\n",
    "pd.Series(trans).plot(kind='box')\n",
    "plt.figure()\n",
    "\n",
    "print('Pocet outlierov: ', len(findOutliers(train_data['FTI'].dropna())));\n",
    "print('Pocet outlierov: ', len(findOutliers(trans)));"
   ]
  },
  {
   "cell_type": "code",
   "execution_count": 17,
   "metadata": {},
   "outputs": [
    {
     "name": "stdout",
     "output_type": "stream",
     "text": [
      "70.0 166.0\n"
     ]
    },
    {
     "name": "stderr",
     "output_type": "stream",
     "text": [
      "C:\\Anaconda3\\lib\\site-packages\\ipykernel_launcher.py:41: SettingWithCopyWarning: \n",
      "A value is trying to be set on a copy of a slice from a DataFrame\n",
      "\n",
      "See the caveats in the documentation: http://pandas.pydata.org/pandas-docs/stable/indexing.html#indexing-view-versus-copy\n",
      "C:\\Anaconda3\\lib\\site-packages\\ipykernel_launcher.py:43: SettingWithCopyWarning: \n",
      "A value is trying to be set on a copy of a slice from a DataFrame\n",
      "\n",
      "See the caveats in the documentation: http://pandas.pydata.org/pandas-docs/stable/indexing.html#indexing-view-versus-copy\n"
     ]
    },
    {
     "data": {
      "text/plain": [
       "Text(0.5,1,'FTI')"
      ]
     },
     "execution_count": 17,
     "metadata": {},
     "output_type": "execute_result"
    },
    {
     "data": {
      "image/png": "[encoded data removed]",
      "text/plain": [
       "<matplotlib.figure.Figure at 0x2023c6d0be0>"
      ]
     },
     "metadata": {},
     "output_type": "display_data"
    },
    {
     "data": {
      "image/png": "[encoded data removed]",
      "text/plain": [
       "<matplotlib.figure.Figure at 0x2023c66a400>"
      ]
     },
     "metadata": {},
     "output_type": "display_data"
    }
   ],
   "source": [
    "trans = replaceOutliers5_95Percentile(train_data['FTI'])\n",
    "\n",
    "pd.Series(trans).hist(bins=50).set_title(\"FTI\")\n",
    "plt.figure()\n",
    "pd.Series(trans).plot(kind='box').set_title(\"FTI\")"
   ]
  },
  {
   "cell_type": "code",
   "execution_count": 28,
   "metadata": {},
   "outputs": [
    {
     "name": "stdout",
     "output_type": "stream",
     "text": [
      "Pocet outlierov:  106\n",
      "Pocet outlierov:  60\n"
     ]
    },
    {
     "data": {
      "image/png": "[encoded data removed]",
      "text/plain": [
       "<matplotlib.figure.Figure at 0x2023ddc0a90>"
      ]
     },
     "metadata": {},
     "output_type": "display_data"
    },
    {
     "data": {
      "image/png": "[encoded data removed]",
      "text/plain": [
       "<matplotlib.figure.Figure at 0x2023c9e7c88>"
      ]
     },
     "metadata": {},
     "output_type": "display_data"
    },
    {
     "data": {
      "image/png": "[encoded data removed]",
      "text/plain": [
       "<matplotlib.figure.Figure at 0x2023ede9828>"
      ]
     },
     "metadata": {},
     "output_type": "display_data"
    },
    {
     "data": {
      "text/plain": [
       "<matplotlib.figure.Figure at 0x2023eec7d68>"
      ]
     },
     "metadata": {},
     "output_type": "display_data"
    }
   ],
   "source": [
    "trans, att = boxcox(train_data['fnlwgt'].dropna())\n",
    "\n",
    "pd.Series(train_data['fnlwgt'].dropna()).hist(bins=50).set_title(\"fnlwgt\")\n",
    "plt.figure()\n",
    "pd.Series(trans).hist(bins=50).set_title(\"fnlwgt (boxcox)\")\n",
    "plt.figure()\n",
    "pd.Series(trans).plot(kind='box')\n",
    "plt.figure()\n",
    "\n",
    "print('Pocet outlierov: ', len(findOutliers(train_data['fnlwgt'].dropna())));\n",
    "print('Pocet outlierov: ', len(findOutliers(trans)));\n",
    "\n",
    "train_data['fnlwgt'] = trans"
   ]
  },
  {
   "cell_type": "code",
   "execution_count": 19,
   "metadata": {},
   "outputs": [
    {
     "name": "stdout",
     "output_type": "stream",
     "text": [
      "219.610848218138 548.4729576152351\n"
     ]
    },
    {
     "data": {
      "text/plain": [
       "Text(0.5,1,'fnlwgt')"
      ]
     },
     "execution_count": 19,
     "metadata": {},
     "output_type": "execute_result"
    },
    {
     "data": {
      "image/png": "[encoded data removed]",
      "text/plain": [
       "<matplotlib.figure.Figure at 0x2023c7c7c88>"
      ]
     },
     "metadata": {},
     "output_type": "display_data"
    },
    {
     "data": {
      "image/png": "[encoded data removed]",
      "text/plain": [
       "<matplotlib.figure.Figure at 0x2023c789898>"
      ]
     },
     "metadata": {},
     "output_type": "display_data"
    }
   ],
   "source": [
    "trans, att = boxcox(train_data['fnlwgt'].dropna())\n",
    "\n",
    "trans = replaceOutliers5_95PercentileS(trans)\n",
    "\n",
    "pd.Series(trans).hist(bins=50).set_title(\"fnlwgt\")\n",
    "plt.figure()\n",
    "pd.Series(trans).plot(kind='box').set_title(\"fnlwgt\")"
   ]
  },
  {
   "cell_type": "code",
   "execution_count": 20,
   "metadata": {},
   "outputs": [
    {
     "name": "stdout",
     "output_type": "stream",
     "text": [
      "Pocet outlierov:  861\n",
      "Pocet outlierov:  861\n"
     ]
    },
    {
     "data": {
      "image/png": "[encoded data removed]",
      "text/plain": [
       "<matplotlib.figure.Figure at 0x2023c9013c8>"
      ]
     },
     "metadata": {},
     "output_type": "display_data"
    },
    {
     "data": {
      "image/png": "[encoded data removed]",
      "text/plain": [
       "<matplotlib.figure.Figure at 0x2023c9012e8>"
      ]
     },
     "metadata": {},
     "output_type": "display_data"
    },
    {
     "data": {
      "image/png": "[encoded data removed]",
      "text/plain": [
       "<matplotlib.figure.Figure at 0x2023c9d2a58>"
      ]
     },
     "metadata": {},
     "output_type": "display_data"
    },
    {
     "data": {
      "text/plain": [
       "<matplotlib.figure.Figure at 0x2023ca7d4a8>"
      ]
     },
     "metadata": {},
     "output_type": "display_data"
    }
   ],
   "source": [
    "trans, att = boxcox(train_data['hours-per-week'].dropna())\n",
    "\n",
    "pd.Series(train_data['hours-per-week'].dropna()).hist(bins=50).set_title(\"hours-per-week\")\n",
    "plt.figure()\n",
    "pd.Series(trans).hist(bins=50).set_title(\"hours-per-week (boxcox)\")\n",
    "plt.figure()\n",
    "pd.Series(trans).plot(kind='box')\n",
    "plt.figure()\n",
    "print('Pocet outlierov: ', len(findOutliers(train_data['hours-per-week'].dropna())));\n",
    "print('Pocet outlierov: ', len(findOutliers(trans)));"
   ]
  },
  {
   "cell_type": "code",
   "execution_count": 21,
   "metadata": {},
   "outputs": [
    {
     "name": "stdout",
     "output_type": "stream",
     "text": [
      "15.0 57.04999999999973\n"
     ]
    },
    {
     "name": "stderr",
     "output_type": "stream",
     "text": [
      "C:\\Anaconda3\\lib\\site-packages\\ipykernel_launcher.py:43: SettingWithCopyWarning: \n",
      "A value is trying to be set on a copy of a slice from a DataFrame\n",
      "\n",
      "See the caveats in the documentation: http://pandas.pydata.org/pandas-docs/stable/indexing.html#indexing-view-versus-copy\n",
      "C:\\Anaconda3\\lib\\site-packages\\ipykernel_launcher.py:41: SettingWithCopyWarning: \n",
      "A value is trying to be set on a copy of a slice from a DataFrame\n",
      "\n",
      "See the caveats in the documentation: http://pandas.pydata.org/pandas-docs/stable/indexing.html#indexing-view-versus-copy\n"
     ]
    },
    {
     "data": {
      "text/plain": [
       "Text(0.5,1,'hours-per-week')"
      ]
     },
     "execution_count": 21,
     "metadata": {},
     "output_type": "execute_result"
    },
    {
     "data": {
      "image/png": "[encoded data removed]",
      "text/plain": [
       "<matplotlib.figure.Figure at 0x2023c069b70>"
      ]
     },
     "metadata": {},
     "output_type": "display_data"
    },
    {
     "data": {
      "image/png": "[encoded data removed]",
      "text/plain": [
       "<matplotlib.figure.Figure at 0x2023c8d6048>"
      ]
     },
     "metadata": {},
     "output_type": "display_data"
    }
   ],
   "source": [
    "trans = replaceOutliers5_95Percentile(train_data['hours-per-week'])\n",
    "\n",
    "pd.Series(trans).hist(bins=50).set_title(\"hours-per-week\")\n",
    "plt.figure()\n",
    "pd.Series(trans).plot(kind='box').set_title(\"hours-per-week\")"
   ]
  },
  {
   "cell_type": "code",
   "execution_count": 31,
   "metadata": {},
   "outputs": [],
   "source": [
    "p5, p95 = np.percentile(train_data['age'], [5, 95])\n",
    "\n",
    "train_data[train_data['age']==455] = p95"
   ]
  },
  {
   "cell_type": "code",
   "execution_count": 32,
   "metadata": {},
   "outputs": [],
   "source": [
    "for i in range (len(train_data['education-num'])):\n",
    "    if train_data.loc[i, 'education-num'] < 0:\n",
    "        train_data.loc[i, 'education-num'] *= -1\n",
    "    if train_data.loc[i, 'education-num'] >= 100:\n",
    "        train_data.loc[i, 'education-num'] = train_data.loc[i, 'education-num']/100"
   ]
  },
  {
   "cell_type": "markdown",
   "metadata": {},
   "source": [
    "Pouzitie box-cox na capital-weight a capital-loss nemobolo mozne, pri zlogaritmovani nedoslo k znatelnej zmene."
   ]
  },
  {
   "cell_type": "markdown",
   "metadata": {},
   "source": [
    "sklearn.Imputer - nahradzanie hodnot\n",
    "fancyimpute"
   ]
  },
  {
   "cell_type": "code",
   "execution_count": 22,
   "metadata": {},
   "outputs": [],
   "source": [
    "for column in train_data.columns:\n",
    "    if np.issubdtype(train_data[column].dtype, np.number):\n",
    "        if train_data[column].std() / train_data[column].mean() <= 1:\n",
    "            mean = train_data[column].mean()\n",
    "            for i in range(len(train_data[column])):\n",
    "                if (np.isnan(train_data.loc[i, column])):\n",
    "                    train_data.loc[i, column] = mean\n",
    "        else:\n",
    "            median = train_data[column].median()\n",
    "            for i in range(len(train_data[column])):\n",
    "                if (np.isnan(train_data.loc[i, column])):\n",
    "                    train_data.loc[i, column] = median"
   ]
  },
  {
   "cell_type": "code",
   "execution_count": 33,
   "metadata": {},
   "outputs": [
    {
     "data": {
      "image/png": "[encoded data removed]",
      "text/plain": [
       "<matplotlib.figure.Figure at 0x2023edda550>"
      ]
     },
     "metadata": {},
     "output_type": "display_data"
    },
    {
     "data": {
      "image/png": "[encoded data removed]",
      "text/plain": [
       "<matplotlib.figure.Figure at 0x2023e8b8f60>"
      ]
     },
     "metadata": {},
     "output_type": "display_data"
    },
    {
     "data": {
      "image/png": "[encoded data removed]",
      "text/plain": [
       "<matplotlib.figure.Figure at 0x2023dd37048>"
      ]
     },
     "metadata": {},
     "output_type": "display_data"
    },
    {
     "data": {
      "image/png": "[encoded data removed]",
      "text/plain": [
       "<matplotlib.figure.Figure at 0x2023c9579e8>"
      ]
     },
     "metadata": {},
     "output_type": "display_data"
    },
    {
     "data": {
      "image/png": "[encoded data removed]",
      "text/plain": [
       "<matplotlib.figure.Figure at 0x2023e1bcf98>"
      ]
     },
     "metadata": {},
     "output_type": "display_data"
    },
    {
     "data": {
      "image/png": "[encoded data removed]",
      "text/plain": [
       "<matplotlib.figure.Figure at 0x2023ca47780>"
      ]
     },
     "metadata": {},
     "output_type": "display_data"
    },
    {
     "data": {
      "image/png": "[encoded data removed]",
      "text/plain": [
       "<matplotlib.figure.Figure at 0x2023ea1c748>"
      ]
     },
     "metadata": {},
     "output_type": "display_data"
    },
    {
     "data": {
      "image/png": "[encoded data removed]",
      "text/plain": [
       "<matplotlib.figure.Figure at 0x2023caae1d0>"
      ]
     },
     "metadata": {},
     "output_type": "display_data"
    },
    {
     "data": {
      "image/png": "[encoded data removed]",
      "text/plain": [
       "<matplotlib.figure.Figure at 0x2023e10e518>"
      ]
     },
     "metadata": {},
     "output_type": "display_data"
    },
    {
     "data": {
      "image/png": "[encoded data removed]",
      "text/plain": [
       "<matplotlib.figure.Figure at 0x2023e3c1550>"
      ]
     },
     "metadata": {},
     "output_type": "display_data"
    },
    {
     "data": {
      "image/png": "[encoded data removed]",
      "text/plain": [
       "<matplotlib.figure.Figure at 0x2023e0390b8>"
      ]
     },
     "metadata": {},
     "output_type": "display_data"
    },
    {
     "data": {
      "image/png": "[encoded data removed]",
      "text/plain": [
       "<matplotlib.figure.Figure at 0x2023e2486a0>"
      ]
     },
     "metadata": {},
     "output_type": "display_data"
    },
    {
     "data": {
      "image/png": "[encoded data removed]",
      "text/plain": [
       "<matplotlib.figure.Figure at 0x2023df550f0>"
      ]
     },
     "metadata": {},
     "output_type": "display_data"
    },
    {
     "data": {
      "image/png": "[encoded data removed]",
      "text/plain": [
       "<matplotlib.figure.Figure at 0x2023e3841d0>"
      ]
     },
     "metadata": {},
     "output_type": "display_data"
    },
    {
     "data": {
      "image/png": "[encoded data removed]",
      "text/plain": [
       "<matplotlib.figure.Figure at 0x2023e44ae10>"
      ]
     },
     "metadata": {},
     "output_type": "display_data"
    },
    {
     "data": {
      "text/plain": [
       "<matplotlib.figure.Figure at 0x2023e18ab00>"
      ]
     },
     "metadata": {},
     "output_type": "display_data"
    }
   ],
   "source": [
    "for column in train_data.columns:\n",
    "    if np.issubdtype(train_data[column].dtype, np.number):\n",
    "        train_data[column].hist(bins=50).set_title(column)\n",
    "        plt.figure()"
   ]
  },
  {
   "cell_type": "code",
   "execution_count": null,
   "metadata": {},
   "outputs": [],
   "source": []
  }
 ],
 "metadata": {
  "kernelspec": {
   "display_name": "Python 3",
   "language": "python",
   "name": "python3"
  },
  "language_info": {
   "codemirror_mode": {
    "name": "ipython",
    "version": 3
   },
   "file_extension": ".py",
   "mimetype": "text/x-python",
   "name": "python",
   "nbconvert_exporter": "python",
   "pygments_lexer": "ipython3",
   "version": "3.6.4"
  }
 },
 "nbformat": 4,
 "nbformat_minor": 2
}
