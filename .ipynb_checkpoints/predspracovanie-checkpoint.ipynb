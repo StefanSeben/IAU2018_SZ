{
 "cells": [
  {
   "cell_type": "markdown",
   "metadata": {},
   "source": [
    "# Predspracovanie údajov\n",
    "### Projekt z predmetu Inteligentná analýza údajov\n",
    "#### Martin L. Zachar, Štefan Šebeň"
   ]
  },
  {
   "cell_type": "code",
   "execution_count": 1,
   "metadata": {},
   "outputs": [],
   "source": [
    "import pandas as pd\n",
    "import numpy as np\n",
    "import random as rnd\n",
    "import seaborn\n",
    "import scipy.stats as stats\n",
    "import matplotlib.pyplot as plt\n",
    "%matplotlib inline\n",
    "\n",
    "\n",
    "pd.set_option('display.max_columns', 50)"
   ]
  },
  {
   "cell_type": "code",
   "execution_count": 2,
   "metadata": {
    "scrolled": false
   },
   "outputs": [
    {
     "data": {
      "text/html": [
       "<div>\n",
       "<style scoped>\n",
       "    .dataframe tbody tr th:only-of-type {\n",
       "        vertical-align: middle;\n",
       "    }\n",
       "\n",
       "    .dataframe tbody tr th {\n",
       "        vertical-align: top;\n",
       "    }\n",
       "\n",
       "    .dataframe thead th {\n",
       "        text-align: right;\n",
       "    }\n",
       "</style>\n",
       "<table border=\"1\" class=\"dataframe\">\n",
       "  <thead>\n",
       "    <tr style=\"text-align: right;\">\n",
       "      <th></th>\n",
       "      <th>age</th>\n",
       "      <th>on thyroxine</th>\n",
       "      <th>query on thyroxine</th>\n",
       "      <th>pregnant</th>\n",
       "      <th>thyroid surgery</th>\n",
       "      <th>I131 treatment</th>\n",
       "      <th>lithium</th>\n",
       "      <th>goitre</th>\n",
       "      <th>tumor</th>\n",
       "      <th>hypopituitary</th>\n",
       "      <th>TSH</th>\n",
       "      <th>T3 measured</th>\n",
       "      <th>T3</th>\n",
       "      <th>TT4</th>\n",
       "      <th>T4U</th>\n",
       "      <th>FTI measured</th>\n",
       "      <th>TBG measured</th>\n",
       "      <th>TBG</th>\n",
       "      <th>referral source</th>\n",
       "      <th>workclass</th>\n",
       "      <th>fnlwgt</th>\n",
       "      <th>education</th>\n",
       "      <th>education-num</th>\n",
       "      <th>marital-status</th>\n",
       "      <th>occupation</th>\n",
       "      <th>relationship</th>\n",
       "      <th>race</th>\n",
       "      <th>capital-gain</th>\n",
       "      <th>capital-loss</th>\n",
       "      <th>hours-per-week</th>\n",
       "      <th>native-country</th>\n",
       "      <th>date_of_birth</th>\n",
       "      <th>TSH measured</th>\n",
       "      <th>sex</th>\n",
       "      <th>query hyperthyroid</th>\n",
       "      <th>TT4 measured</th>\n",
       "      <th>on antithyroid medication</th>\n",
       "      <th>FTI</th>\n",
       "      <th>sick</th>\n",
       "      <th>T4U measured</th>\n",
       "      <th>psych</th>\n",
       "      <th>query hypothyroid</th>\n",
       "      <th>test</th>\n",
       "      <th>testID</th>\n",
       "    </tr>\n",
       "    <tr>\n",
       "      <th>id</th>\n",
       "      <th></th>\n",
       "      <th></th>\n",
       "      <th></th>\n",
       "      <th></th>\n",
       "      <th></th>\n",
       "      <th></th>\n",
       "      <th></th>\n",
       "      <th></th>\n",
       "      <th></th>\n",
       "      <th></th>\n",
       "      <th></th>\n",
       "      <th></th>\n",
       "      <th></th>\n",
       "      <th></th>\n",
       "      <th></th>\n",
       "      <th></th>\n",
       "      <th></th>\n",
       "      <th></th>\n",
       "      <th></th>\n",
       "      <th></th>\n",
       "      <th></th>\n",
       "      <th></th>\n",
       "      <th></th>\n",
       "      <th></th>\n",
       "      <th></th>\n",
       "      <th></th>\n",
       "      <th></th>\n",
       "      <th></th>\n",
       "      <th></th>\n",
       "      <th></th>\n",
       "      <th></th>\n",
       "      <th></th>\n",
       "      <th></th>\n",
       "      <th></th>\n",
       "      <th></th>\n",
       "      <th></th>\n",
       "      <th></th>\n",
       "      <th></th>\n",
       "      <th></th>\n",
       "      <th></th>\n",
       "      <th></th>\n",
       "      <th></th>\n",
       "      <th></th>\n",
       "      <th></th>\n",
       "    </tr>\n",
       "  </thead>\n",
       "  <tbody>\n",
       "    <tr>\n",
       "      <th>0</th>\n",
       "      <td>82.0</td>\n",
       "      <td>f</td>\n",
       "      <td>f</td>\n",
       "      <td>f</td>\n",
       "      <td>f</td>\n",
       "      <td>f</td>\n",
       "      <td>f</td>\n",
       "      <td>f</td>\n",
       "      <td>f</td>\n",
       "      <td>f</td>\n",
       "      <td>2.2</td>\n",
       "      <td>t</td>\n",
       "      <td>1.0</td>\n",
       "      <td>68.0</td>\n",
       "      <td>0.77</td>\n",
       "      <td>t</td>\n",
       "      <td>f</td>\n",
       "      <td>NaN</td>\n",
       "      <td>SVI</td>\n",
       "      <td>Local-gov</td>\n",
       "      <td>141649</td>\n",
       "      <td>Assoc-voc</td>\n",
       "      <td>11</td>\n",
       "      <td>Married-civ-spouse</td>\n",
       "      <td>Protective-serv</td>\n",
       "      <td>Husband</td>\n",
       "      <td>White</td>\n",
       "      <td>0</td>\n",
       "      <td>0</td>\n",
       "      <td>40</td>\n",
       "      <td>United-States</td>\n",
       "      <td>1935-05-20 00:00:00</td>\n",
       "      <td>t</td>\n",
       "      <td>M</td>\n",
       "      <td>f</td>\n",
       "      <td>t</td>\n",
       "      <td>f</td>\n",
       "      <td>88.0</td>\n",
       "      <td>f</td>\n",
       "      <td>t</td>\n",
       "      <td>f</td>\n",
       "      <td>f</td>\n",
       "      <td>negative</td>\n",
       "      <td>991</td>\n",
       "    </tr>\n",
       "    <tr>\n",
       "      <th>1</th>\n",
       "      <td>50.0</td>\n",
       "      <td>f</td>\n",
       "      <td>f</td>\n",
       "      <td>f</td>\n",
       "      <td>t</td>\n",
       "      <td>f</td>\n",
       "      <td>f</td>\n",
       "      <td>f</td>\n",
       "      <td>f</td>\n",
       "      <td>f</td>\n",
       "      <td>76.0</td>\n",
       "      <td>t</td>\n",
       "      <td>0.5</td>\n",
       "      <td>22.0</td>\n",
       "      <td>1.12</td>\n",
       "      <td>t</td>\n",
       "      <td>f</td>\n",
       "      <td>NaN</td>\n",
       "      <td>other</td>\n",
       "      <td>Local-gov</td>\n",
       "      <td>177599</td>\n",
       "      <td>Bachelors</td>\n",
       "      <td>13</td>\n",
       "      <td>Divorced</td>\n",
       "      <td>Prof-specialty</td>\n",
       "      <td>Unmarried</td>\n",
       "      <td>White</td>\n",
       "      <td>0</td>\n",
       "      <td>0</td>\n",
       "      <td>35</td>\n",
       "      <td>United-States</td>\n",
       "      <td>67-08-03</td>\n",
       "      <td>t</td>\n",
       "      <td>F</td>\n",
       "      <td>f</td>\n",
       "      <td>t</td>\n",
       "      <td>f</td>\n",
       "      <td>19.0</td>\n",
       "      <td>f</td>\n",
       "      <td>t</td>\n",
       "      <td>f</td>\n",
       "      <td>f</td>\n",
       "      <td>negative</td>\n",
       "      <td>1685</td>\n",
       "    </tr>\n",
       "    <tr>\n",
       "      <th>2</th>\n",
       "      <td>41.0</td>\n",
       "      <td>f</td>\n",
       "      <td>f</td>\n",
       "      <td>f</td>\n",
       "      <td>f</td>\n",
       "      <td>f</td>\n",
       "      <td>f</td>\n",
       "      <td>f</td>\n",
       "      <td>f</td>\n",
       "      <td>f</td>\n",
       "      <td>NaN</td>\n",
       "      <td>t</td>\n",
       "      <td>2.0</td>\n",
       "      <td>99.0</td>\n",
       "      <td>0.96</td>\n",
       "      <td>t</td>\n",
       "      <td>f</td>\n",
       "      <td>NaN</td>\n",
       "      <td>other</td>\n",
       "      <td>Self-emp-not-inc</td>\n",
       "      <td>102631</td>\n",
       "      <td>Some-college</td>\n",
       "      <td>10</td>\n",
       "      <td>Widowed</td>\n",
       "      <td>Farming-fishing</td>\n",
       "      <td>Unmarried</td>\n",
       "      <td>White</td>\n",
       "      <td>0</td>\n",
       "      <td>0</td>\n",
       "      <td>50</td>\n",
       "      <td>United-States</td>\n",
       "      <td>1976-05-02</td>\n",
       "      <td>f</td>\n",
       "      <td>F</td>\n",
       "      <td>f</td>\n",
       "      <td>t</td>\n",
       "      <td>f</td>\n",
       "      <td>104.0</td>\n",
       "      <td>f</td>\n",
       "      <td>t</td>\n",
       "      <td>f</td>\n",
       "      <td>f</td>\n",
       "      <td>negative</td>\n",
       "      <td>3504</td>\n",
       "    </tr>\n",
       "    <tr>\n",
       "      <th>3</th>\n",
       "      <td>73.0</td>\n",
       "      <td>f</td>\n",
       "      <td>f</td>\n",
       "      <td>f</td>\n",
       "      <td>f</td>\n",
       "      <td>f</td>\n",
       "      <td>f</td>\n",
       "      <td>f</td>\n",
       "      <td>f</td>\n",
       "      <td>f</td>\n",
       "      <td>0.7</td>\n",
       "      <td>t</td>\n",
       "      <td>2.0</td>\n",
       "      <td>116.0</td>\n",
       "      <td>0.99</td>\n",
       "      <td>t</td>\n",
       "      <td>f</td>\n",
       "      <td>NaN</td>\n",
       "      <td>other</td>\n",
       "      <td>private</td>\n",
       "      <td>272338</td>\n",
       "      <td>HS-grad</td>\n",
       "      <td>9</td>\n",
       "      <td>Married-civ-spouse</td>\n",
       "      <td>Adm-clerical</td>\n",
       "      <td>Wife</td>\n",
       "      <td>White</td>\n",
       "      <td>0</td>\n",
       "      <td>0</td>\n",
       "      <td>25</td>\n",
       "      <td>United-States</td>\n",
       "      <td>44-10-08</td>\n",
       "      <td>t</td>\n",
       "      <td>F</td>\n",
       "      <td>f</td>\n",
       "      <td>t</td>\n",
       "      <td>f</td>\n",
       "      <td>117.0</td>\n",
       "      <td>f</td>\n",
       "      <td>t</td>\n",
       "      <td>f</td>\n",
       "      <td>f</td>\n",
       "      <td>negative</td>\n",
       "      <td>1942</td>\n",
       "    </tr>\n",
       "    <tr>\n",
       "      <th>4</th>\n",
       "      <td>64.0</td>\n",
       "      <td>f</td>\n",
       "      <td>f</td>\n",
       "      <td>f</td>\n",
       "      <td>f</td>\n",
       "      <td>f</td>\n",
       "      <td>f</td>\n",
       "      <td>f</td>\n",
       "      <td>f</td>\n",
       "      <td>f</td>\n",
       "      <td>2.0</td>\n",
       "      <td>t</td>\n",
       "      <td>1.8</td>\n",
       "      <td>80.0</td>\n",
       "      <td>0.91</td>\n",
       "      <td>t</td>\n",
       "      <td>f</td>\n",
       "      <td>NaN</td>\n",
       "      <td>SVHC</td>\n",
       "      <td>Self-emp-inc</td>\n",
       "      <td>368825</td>\n",
       "      <td>Some-college</td>\n",
       "      <td>10</td>\n",
       "      <td>Married-civ-spouse</td>\n",
       "      <td>Sales</td>\n",
       "      <td>Husband</td>\n",
       "      <td>White</td>\n",
       "      <td>0</td>\n",
       "      <td>0</td>\n",
       "      <td>60</td>\n",
       "      <td>United-States</td>\n",
       "      <td>1953-05-01</td>\n",
       "      <td>t</td>\n",
       "      <td>M</td>\n",
       "      <td>f</td>\n",
       "      <td>t</td>\n",
       "      <td>f</td>\n",
       "      <td>88.0</td>\n",
       "      <td>f</td>\n",
       "      <td>t</td>\n",
       "      <td>f</td>\n",
       "      <td>f</td>\n",
       "      <td>negative</td>\n",
       "      <td>2009</td>\n",
       "    </tr>\n",
       "  </tbody>\n",
       "</table>\n",
       "</div>"
      ],
      "text/plain": [
       "     age on thyroxine query on thyroxine pregnant thyroid surgery  \\\n",
       "id                                                                  \n",
       "0   82.0            f                  f        f               f   \n",
       "1   50.0            f                  f        f               t   \n",
       "2   41.0            f                  f        f               f   \n",
       "3   73.0            f                  f        f               f   \n",
       "4   64.0            f                  f        f               f   \n",
       "\n",
       "   I131 treatment lithium goitre tumor hypopituitary   TSH T3 measured   T3  \\\n",
       "id                                                                            \n",
       "0               f       f      f     f             f   2.2           t  1.0   \n",
       "1               f       f      f     f             f  76.0           t  0.5   \n",
       "2               f       f      f     f             f   NaN           t  2.0   \n",
       "3               f       f      f     f             f   0.7           t  2.0   \n",
       "4               f       f      f     f             f   2.0           t  1.8   \n",
       "\n",
       "      TT4   T4U FTI measured TBG measured  TBG referral source  \\\n",
       "id                                                               \n",
       "0    68.0  0.77            t            f  NaN             SVI   \n",
       "1    22.0  1.12            t            f  NaN           other   \n",
       "2    99.0  0.96            t            f  NaN           other   \n",
       "3   116.0  0.99            t            f  NaN           other   \n",
       "4    80.0  0.91            t            f  NaN            SVHC   \n",
       "\n",
       "            workclass  fnlwgt      education  education-num  \\\n",
       "id                                                            \n",
       "0           Local-gov  141649      Assoc-voc             11   \n",
       "1           Local-gov  177599      Bachelors             13   \n",
       "2    Self-emp-not-inc  102631   Some-college             10   \n",
       "3             private  272338        HS-grad              9   \n",
       "4        Self-emp-inc  368825   Some-college             10   \n",
       "\n",
       "         marital-status        occupation relationship    race  capital-gain  \\\n",
       "id                                                                             \n",
       "0    Married-civ-spouse   Protective-serv      Husband   White             0   \n",
       "1              Divorced    Prof-specialty    Unmarried   White             0   \n",
       "2               Widowed   Farming-fishing    Unmarried   White             0   \n",
       "3    Married-civ-spouse      Adm-clerical         Wife   White             0   \n",
       "4    Married-civ-spouse             Sales      Husband   White             0   \n",
       "\n",
       "    capital-loss  hours-per-week  native-country        date_of_birth  \\\n",
       "id                                                                      \n",
       "0              0              40   United-States  1935-05-20 00:00:00   \n",
       "1              0              35   United-States             67-08-03   \n",
       "2              0              50   United-States           1976-05-02   \n",
       "3              0              25   United-States             44-10-08   \n",
       "4              0              60   United-States           1953-05-01   \n",
       "\n",
       "   TSH measured sex query hyperthyroid TT4 measured on antithyroid medication  \\\n",
       "id                                                                              \n",
       "0             t   M                  f            t                         f   \n",
       "1             t   F                  f            t                         f   \n",
       "2             f   F                  f            t                         f   \n",
       "3             t   F                  f            t                         f   \n",
       "4             t   M                  f            t                         f   \n",
       "\n",
       "      FTI sick T4U measured psych query hypothyroid      test  testID  \n",
       "id                                                                     \n",
       "0    88.0    f            t     f                 f  negative     991  \n",
       "1    19.0    f            t     f                 f  negative    1685  \n",
       "2   104.0    f            t     f                 f  negative    3504  \n",
       "3   117.0    f            t     f                 f  negative    1942  \n",
       "4    88.0    f            t     f                 f  negative    2009  "
      ]
     },
     "execution_count": 2,
     "metadata": {},
     "output_type": "execute_result"
    }
   ],
   "source": [
    "train_data = pd.read_csv('data/explorovane.csv', index_col='id')\n",
    "train_data.head()"
   ]
  },
  {
   "cell_type": "markdown",
   "metadata": {},
   "source": [
    "Zrušíme stĺpce, ktoré neprispejú ku klasifikácii."
   ]
  },
  {
   "cell_type": "code",
   "execution_count": 3,
   "metadata": {},
   "outputs": [],
   "source": [
    "train_data = train_data.drop(['TBG measured', 'TBG', 'education', 'testID'], axis=1)"
   ]
  },
  {
   "cell_type": "code",
   "execution_count": 4,
   "metadata": {},
   "outputs": [
    {
     "name": "stdout",
     "output_type": "stream",
     "text": [
      "Neidentifikovatelne:  5\n",
      "Rok bez uvodnych cisel:  189\n",
      "Vymeneny rok a den:  180\n",
      "Zly mesiac:  0\n",
      "S casom dna:  382\n"
     ]
    }
   ],
   "source": [
    "import re\n",
    "\n",
    "dates = train_data['date_of_birth'].dropna()\n",
    "dates = list(map(lambda s: re.split(' |-|/|:', s) ,dates))\n",
    "\n",
    "print(\"Neidentifikovatelne: \", len(list(filter(lambda d: int(d[0]) <= 31 and int(d[2]) <= 31, dates))))\n",
    "print(\"Rok bez uvodnych cisel: \", len(list(filter(lambda d: int(d[0]) < 1900 and int(d[0]) > 31 and int(d[2]) <= 31, dates))))\n",
    "print(\"Vymeneny rok a den: \", len(list(filter(lambda d: int(d[0]) <= 31 and int(d[2]) > 1900, dates))))\n",
    "print(\"Zly mesiac: \", len(list(filter(lambda d: int(d[1]) > 12, dates))))\n",
    "print(\"S casom dna: \", len(list(filter(lambda d: len(d) > 3, dates))))        "
   ]
  },
  {
   "cell_type": "markdown",
   "metadata": {},
   "source": [
    "Pridáme nové stĺpce pre rok a mesiac. Istá sezónnosť v rámci mesiacov roka nemusí byť nutne vylúčená (vplyvy počasia a podnebia apod.), podobne mohol mať teoreticky vplyv aj rok narodenia."
   ]
  },
  {
   "cell_type": "code",
   "execution_count": 5,
   "metadata": {},
   "outputs": [],
   "source": [
    "train_data['birth_year'] = np.nan\n",
    "train_data['birth_month'] = np.nan"
   ]
  },
  {
   "cell_type": "code",
   "execution_count": 6,
   "metadata": {
    "scrolled": false
   },
   "outputs": [
    {
     "data": {
      "text/html": [
       "<div>\n",
       "<style scoped>\n",
       "    .dataframe tbody tr th:only-of-type {\n",
       "        vertical-align: middle;\n",
       "    }\n",
       "\n",
       "    .dataframe tbody tr th {\n",
       "        vertical-align: top;\n",
       "    }\n",
       "\n",
       "    .dataframe thead th {\n",
       "        text-align: right;\n",
       "    }\n",
       "</style>\n",
       "<table border=\"1\" class=\"dataframe\">\n",
       "  <thead>\n",
       "    <tr style=\"text-align: right;\">\n",
       "      <th></th>\n",
       "      <th>age</th>\n",
       "      <th>on thyroxine</th>\n",
       "      <th>query on thyroxine</th>\n",
       "      <th>pregnant</th>\n",
       "      <th>thyroid surgery</th>\n",
       "      <th>I131 treatment</th>\n",
       "      <th>lithium</th>\n",
       "      <th>goitre</th>\n",
       "      <th>tumor</th>\n",
       "      <th>hypopituitary</th>\n",
       "      <th>TSH</th>\n",
       "      <th>T3 measured</th>\n",
       "      <th>T3</th>\n",
       "      <th>TT4</th>\n",
       "      <th>T4U</th>\n",
       "      <th>FTI measured</th>\n",
       "      <th>referral source</th>\n",
       "      <th>workclass</th>\n",
       "      <th>fnlwgt</th>\n",
       "      <th>education-num</th>\n",
       "      <th>marital-status</th>\n",
       "      <th>occupation</th>\n",
       "      <th>relationship</th>\n",
       "      <th>race</th>\n",
       "      <th>capital-gain</th>\n",
       "      <th>capital-loss</th>\n",
       "      <th>hours-per-week</th>\n",
       "      <th>native-country</th>\n",
       "      <th>date_of_birth</th>\n",
       "      <th>TSH measured</th>\n",
       "      <th>sex</th>\n",
       "      <th>query hyperthyroid</th>\n",
       "      <th>TT4 measured</th>\n",
       "      <th>on antithyroid medication</th>\n",
       "      <th>FTI</th>\n",
       "      <th>sick</th>\n",
       "      <th>T4U measured</th>\n",
       "      <th>psych</th>\n",
       "      <th>query hypothyroid</th>\n",
       "      <th>test</th>\n",
       "      <th>birth_year</th>\n",
       "      <th>birth_month</th>\n",
       "    </tr>\n",
       "    <tr>\n",
       "      <th>id</th>\n",
       "      <th></th>\n",
       "      <th></th>\n",
       "      <th></th>\n",
       "      <th></th>\n",
       "      <th></th>\n",
       "      <th></th>\n",
       "      <th></th>\n",
       "      <th></th>\n",
       "      <th></th>\n",
       "      <th></th>\n",
       "      <th></th>\n",
       "      <th></th>\n",
       "      <th></th>\n",
       "      <th></th>\n",
       "      <th></th>\n",
       "      <th></th>\n",
       "      <th></th>\n",
       "      <th></th>\n",
       "      <th></th>\n",
       "      <th></th>\n",
       "      <th></th>\n",
       "      <th></th>\n",
       "      <th></th>\n",
       "      <th></th>\n",
       "      <th></th>\n",
       "      <th></th>\n",
       "      <th></th>\n",
       "      <th></th>\n",
       "      <th></th>\n",
       "      <th></th>\n",
       "      <th></th>\n",
       "      <th></th>\n",
       "      <th></th>\n",
       "      <th></th>\n",
       "      <th></th>\n",
       "      <th></th>\n",
       "      <th></th>\n",
       "      <th></th>\n",
       "      <th></th>\n",
       "      <th></th>\n",
       "      <th></th>\n",
       "      <th></th>\n",
       "    </tr>\n",
       "  </thead>\n",
       "  <tbody>\n",
       "    <tr>\n",
       "      <th>0</th>\n",
       "      <td>82.0</td>\n",
       "      <td>f</td>\n",
       "      <td>f</td>\n",
       "      <td>f</td>\n",
       "      <td>f</td>\n",
       "      <td>f</td>\n",
       "      <td>f</td>\n",
       "      <td>f</td>\n",
       "      <td>f</td>\n",
       "      <td>f</td>\n",
       "      <td>2.2</td>\n",
       "      <td>t</td>\n",
       "      <td>1.0</td>\n",
       "      <td>68.0</td>\n",
       "      <td>0.77</td>\n",
       "      <td>t</td>\n",
       "      <td>SVI</td>\n",
       "      <td>Local-gov</td>\n",
       "      <td>141649</td>\n",
       "      <td>11</td>\n",
       "      <td>Married-civ-spouse</td>\n",
       "      <td>Protective-serv</td>\n",
       "      <td>Husband</td>\n",
       "      <td>White</td>\n",
       "      <td>0</td>\n",
       "      <td>0</td>\n",
       "      <td>40</td>\n",
       "      <td>United-States</td>\n",
       "      <td>1935-05-20 00:00:00</td>\n",
       "      <td>t</td>\n",
       "      <td>M</td>\n",
       "      <td>f</td>\n",
       "      <td>t</td>\n",
       "      <td>f</td>\n",
       "      <td>88.0</td>\n",
       "      <td>f</td>\n",
       "      <td>t</td>\n",
       "      <td>f</td>\n",
       "      <td>f</td>\n",
       "      <td>negative</td>\n",
       "      <td>1935.0</td>\n",
       "      <td>5.0</td>\n",
       "    </tr>\n",
       "    <tr>\n",
       "      <th>1</th>\n",
       "      <td>50.0</td>\n",
       "      <td>f</td>\n",
       "      <td>f</td>\n",
       "      <td>f</td>\n",
       "      <td>t</td>\n",
       "      <td>f</td>\n",
       "      <td>f</td>\n",
       "      <td>f</td>\n",
       "      <td>f</td>\n",
       "      <td>f</td>\n",
       "      <td>76.0</td>\n",
       "      <td>t</td>\n",
       "      <td>0.5</td>\n",
       "      <td>22.0</td>\n",
       "      <td>1.12</td>\n",
       "      <td>t</td>\n",
       "      <td>other</td>\n",
       "      <td>Local-gov</td>\n",
       "      <td>177599</td>\n",
       "      <td>13</td>\n",
       "      <td>Divorced</td>\n",
       "      <td>Prof-specialty</td>\n",
       "      <td>Unmarried</td>\n",
       "      <td>White</td>\n",
       "      <td>0</td>\n",
       "      <td>0</td>\n",
       "      <td>35</td>\n",
       "      <td>United-States</td>\n",
       "      <td>67-08-03</td>\n",
       "      <td>t</td>\n",
       "      <td>F</td>\n",
       "      <td>f</td>\n",
       "      <td>t</td>\n",
       "      <td>f</td>\n",
       "      <td>19.0</td>\n",
       "      <td>f</td>\n",
       "      <td>t</td>\n",
       "      <td>f</td>\n",
       "      <td>f</td>\n",
       "      <td>negative</td>\n",
       "      <td>1967.0</td>\n",
       "      <td>8.0</td>\n",
       "    </tr>\n",
       "    <tr>\n",
       "      <th>2</th>\n",
       "      <td>41.0</td>\n",
       "      <td>f</td>\n",
       "      <td>f</td>\n",
       "      <td>f</td>\n",
       "      <td>f</td>\n",
       "      <td>f</td>\n",
       "      <td>f</td>\n",
       "      <td>f</td>\n",
       "      <td>f</td>\n",
       "      <td>f</td>\n",
       "      <td>NaN</td>\n",
       "      <td>t</td>\n",
       "      <td>2.0</td>\n",
       "      <td>99.0</td>\n",
       "      <td>0.96</td>\n",
       "      <td>t</td>\n",
       "      <td>other</td>\n",
       "      <td>Self-emp-not-inc</td>\n",
       "      <td>102631</td>\n",
       "      <td>10</td>\n",
       "      <td>Widowed</td>\n",
       "      <td>Farming-fishing</td>\n",
       "      <td>Unmarried</td>\n",
       "      <td>White</td>\n",
       "      <td>0</td>\n",
       "      <td>0</td>\n",
       "      <td>50</td>\n",
       "      <td>United-States</td>\n",
       "      <td>1976-05-02</td>\n",
       "      <td>f</td>\n",
       "      <td>F</td>\n",
       "      <td>f</td>\n",
       "      <td>t</td>\n",
       "      <td>f</td>\n",
       "      <td>104.0</td>\n",
       "      <td>f</td>\n",
       "      <td>t</td>\n",
       "      <td>f</td>\n",
       "      <td>f</td>\n",
       "      <td>negative</td>\n",
       "      <td>1976.0</td>\n",
       "      <td>5.0</td>\n",
       "    </tr>\n",
       "    <tr>\n",
       "      <th>3</th>\n",
       "      <td>73.0</td>\n",
       "      <td>f</td>\n",
       "      <td>f</td>\n",
       "      <td>f</td>\n",
       "      <td>f</td>\n",
       "      <td>f</td>\n",
       "      <td>f</td>\n",
       "      <td>f</td>\n",
       "      <td>f</td>\n",
       "      <td>f</td>\n",
       "      <td>0.7</td>\n",
       "      <td>t</td>\n",
       "      <td>2.0</td>\n",
       "      <td>116.0</td>\n",
       "      <td>0.99</td>\n",
       "      <td>t</td>\n",
       "      <td>other</td>\n",
       "      <td>private</td>\n",
       "      <td>272338</td>\n",
       "      <td>9</td>\n",
       "      <td>Married-civ-spouse</td>\n",
       "      <td>Adm-clerical</td>\n",
       "      <td>Wife</td>\n",
       "      <td>White</td>\n",
       "      <td>0</td>\n",
       "      <td>0</td>\n",
       "      <td>25</td>\n",
       "      <td>United-States</td>\n",
       "      <td>44-10-08</td>\n",
       "      <td>t</td>\n",
       "      <td>F</td>\n",
       "      <td>f</td>\n",
       "      <td>t</td>\n",
       "      <td>f</td>\n",
       "      <td>117.0</td>\n",
       "      <td>f</td>\n",
       "      <td>t</td>\n",
       "      <td>f</td>\n",
       "      <td>f</td>\n",
       "      <td>negative</td>\n",
       "      <td>1944.0</td>\n",
       "      <td>10.0</td>\n",
       "    </tr>\n",
       "    <tr>\n",
       "      <th>4</th>\n",
       "      <td>64.0</td>\n",
       "      <td>f</td>\n",
       "      <td>f</td>\n",
       "      <td>f</td>\n",
       "      <td>f</td>\n",
       "      <td>f</td>\n",
       "      <td>f</td>\n",
       "      <td>f</td>\n",
       "      <td>f</td>\n",
       "      <td>f</td>\n",
       "      <td>2.0</td>\n",
       "      <td>t</td>\n",
       "      <td>1.8</td>\n",
       "      <td>80.0</td>\n",
       "      <td>0.91</td>\n",
       "      <td>t</td>\n",
       "      <td>SVHC</td>\n",
       "      <td>Self-emp-inc</td>\n",
       "      <td>368825</td>\n",
       "      <td>10</td>\n",
       "      <td>Married-civ-spouse</td>\n",
       "      <td>Sales</td>\n",
       "      <td>Husband</td>\n",
       "      <td>White</td>\n",
       "      <td>0</td>\n",
       "      <td>0</td>\n",
       "      <td>60</td>\n",
       "      <td>United-States</td>\n",
       "      <td>1953-05-01</td>\n",
       "      <td>t</td>\n",
       "      <td>M</td>\n",
       "      <td>f</td>\n",
       "      <td>t</td>\n",
       "      <td>f</td>\n",
       "      <td>88.0</td>\n",
       "      <td>f</td>\n",
       "      <td>t</td>\n",
       "      <td>f</td>\n",
       "      <td>f</td>\n",
       "      <td>negative</td>\n",
       "      <td>1953.0</td>\n",
       "      <td>5.0</td>\n",
       "    </tr>\n",
       "  </tbody>\n",
       "</table>\n",
       "</div>"
      ],
      "text/plain": [
       "     age on thyroxine query on thyroxine pregnant thyroid surgery  \\\n",
       "id                                                                  \n",
       "0   82.0            f                  f        f               f   \n",
       "1   50.0            f                  f        f               t   \n",
       "2   41.0            f                  f        f               f   \n",
       "3   73.0            f                  f        f               f   \n",
       "4   64.0            f                  f        f               f   \n",
       "\n",
       "   I131 treatment lithium goitre tumor hypopituitary   TSH T3 measured   T3  \\\n",
       "id                                                                            \n",
       "0               f       f      f     f             f   2.2           t  1.0   \n",
       "1               f       f      f     f             f  76.0           t  0.5   \n",
       "2               f       f      f     f             f   NaN           t  2.0   \n",
       "3               f       f      f     f             f   0.7           t  2.0   \n",
       "4               f       f      f     f             f   2.0           t  1.8   \n",
       "\n",
       "      TT4   T4U FTI measured referral source          workclass  fnlwgt  \\\n",
       "id                                                                        \n",
       "0    68.0  0.77            t             SVI          Local-gov  141649   \n",
       "1    22.0  1.12            t           other          Local-gov  177599   \n",
       "2    99.0  0.96            t           other   Self-emp-not-inc  102631   \n",
       "3   116.0  0.99            t           other            private  272338   \n",
       "4    80.0  0.91            t            SVHC       Self-emp-inc  368825   \n",
       "\n",
       "    education-num       marital-status        occupation relationship    race  \\\n",
       "id                                                                              \n",
       "0              11   Married-civ-spouse   Protective-serv      Husband   White   \n",
       "1              13             Divorced    Prof-specialty    Unmarried   White   \n",
       "2              10              Widowed   Farming-fishing    Unmarried   White   \n",
       "3               9   Married-civ-spouse      Adm-clerical         Wife   White   \n",
       "4              10   Married-civ-spouse             Sales      Husband   White   \n",
       "\n",
       "    capital-gain  capital-loss  hours-per-week  native-country  \\\n",
       "id                                                               \n",
       "0              0             0              40   United-States   \n",
       "1              0             0              35   United-States   \n",
       "2              0             0              50   United-States   \n",
       "3              0             0              25   United-States   \n",
       "4              0             0              60   United-States   \n",
       "\n",
       "          date_of_birth TSH measured sex query hyperthyroid TT4 measured  \\\n",
       "id                                                                         \n",
       "0   1935-05-20 00:00:00            t   M                  f            t   \n",
       "1              67-08-03            t   F                  f            t   \n",
       "2            1976-05-02            f   F                  f            t   \n",
       "3              44-10-08            t   F                  f            t   \n",
       "4            1953-05-01            t   M                  f            t   \n",
       "\n",
       "   on antithyroid medication    FTI sick T4U measured psych query hypothyroid  \\\n",
       "id                                                                              \n",
       "0                          f   88.0    f            t     f                 f   \n",
       "1                          f   19.0    f            t     f                 f   \n",
       "2                          f  104.0    f            t     f                 f   \n",
       "3                          f  117.0    f            t     f                 f   \n",
       "4                          f   88.0    f            t     f                 f   \n",
       "\n",
       "        test  birth_year  birth_month  \n",
       "id                                     \n",
       "0   negative      1935.0          5.0  \n",
       "1   negative      1967.0          8.0  \n",
       "2   negative      1976.0          5.0  \n",
       "3   negative      1944.0         10.0  \n",
       "4   negative      1953.0          5.0  "
      ]
     },
     "execution_count": 6,
     "metadata": {},
     "output_type": "execute_result"
    }
   ],
   "source": [
    "for i in range(train_data.shape[0]-1):\n",
    "    if (pd.isna(train_data.loc[i]['date_of_birth'])):\n",
    "        continue\n",
    "    date = list(map(int, re.split(' |-|/|:', train_data.iloc[i]['date_of_birth'])))\n",
    "    if date[0] <= 31 and date[2] <= 31:\n",
    "        continue\n",
    "    elif date[0] <= 31 and date[2] > 31:\n",
    "        b = date[2]\n",
    "        date[2] = date[0]\n",
    "        date[0] = b\n",
    "    if date[0] < 1900:\n",
    "        if int(str(date[0])[-2:]) < 18:\n",
    "            date[0] = date[0] + 2000 - int(str(date[0])[:-2] if str(date[0])[:-2] != '' else 0) * 100\n",
    "        else:\n",
    "            date[0] = date[0] + 1900 - int(str(date[0])[:-2] if str(date[0])[:-2] != '' else 0) * 100\n",
    "    if len(date) > 3:\n",
    "        date = date[:3]\n",
    "    train_data.loc[i, 'birth_year'] = date[0]\n",
    "    train_data.loc[i, 'birth_month'] = date[1]\n",
    "    \n",
    "train_data.head()"
   ]
  },
  {
   "cell_type": "code",
   "execution_count": 7,
   "metadata": {},
   "outputs": [],
   "source": [
    "train_data = train_data.drop(['date_of_birth'], axis=1)"
   ]
  },
  {
   "cell_type": "markdown",
   "metadata": {},
   "source": [
    "Overíme si, či sa nám správne podarilo opraviť všetky hodnoty."
   ]
  },
  {
   "cell_type": "code",
   "execution_count": 8,
   "metadata": {},
   "outputs": [
    {
     "data": {
      "text/plain": [
       "<matplotlib.figure.Figure at 0x1a497177e48>"
      ]
     },
     "execution_count": 8,
     "metadata": {},
     "output_type": "execute_result"
    },
    {
     "data": {
      "image/png": "[encoded data removed]",
      "text/plain": [
       "<matplotlib.figure.Figure at 0x1a49700ee48>"
      ]
     },
     "metadata": {},
     "output_type": "display_data"
    },
    {
     "data": {
      "image/png": "[encoded data removed]",
      "text/plain": [
       "<matplotlib.figure.Figure at 0x1a496f21a90>"
      ]
     },
     "metadata": {},
     "output_type": "display_data"
    },
    {
     "data": {
      "text/plain": [
       "<matplotlib.figure.Figure at 0x1a497177e48>"
      ]
     },
     "metadata": {},
     "output_type": "display_data"
    }
   ],
   "source": [
    "pd.Series(train_data['birth_year']).hist(bins=50).set_title(\"birth_year\")\n",
    "plt.figure()\n",
    "pd.Series(train_data['birth_month']).hist(bins=50).set_title(\"birth_month\")\n",
    "plt.figure()"
   ]
  },
  {
   "cell_type": "markdown",
   "metadata": {},
   "source": [
    "Zlúčime rozdielne zapísané hodnoty atribútov s totožným významom."
   ]
  },
  {
   "cell_type": "code",
   "execution_count": 9,
   "metadata": {},
   "outputs": [],
   "source": [
    "for i in range(train_data.shape[0]):\n",
    "    if train_data.loc[i, 'on thyroxine'] == 'FALSE' or train_data.loc[i, 'on thyroxine'] == 'F':\n",
    "        train_data.loc[i, 'on thyroxine'] = 'f'\n",
    "    elif train_data.loc[i, 'on thyroxine'] == 'TRUE' or train_data.loc[i, 'on thyroxine'] == 'T':\n",
    "        train_data.loc[i, 'on thyroxine'] = 't'\n",
    "    \n",
    "    for col in train_data.columns[train_data.dtypes == np.object]:\n",
    "        if pd.notna(train_data.loc[i, col]):\n",
    "            train_data.loc[i, col] = train_data.loc[i, col].lower().strip()"
   ]
  },
  {
   "cell_type": "code",
   "execution_count": 10,
   "metadata": {},
   "outputs": [
    {
     "name": "stdout",
     "output_type": "stream",
     "text": [
      "f    2470\n",
      "t     330\n",
      "Name: on thyroxine, dtype: int64\n",
      "\n",
      "f    2760\n",
      "t      40\n",
      "Name: query on thyroxine, dtype: int64\n",
      "\n",
      "f    2759\n",
      "t      41\n",
      "Name: pregnant, dtype: int64\n",
      "\n",
      "f    2761\n",
      "t      39\n",
      "Name: thyroid surgery, dtype: int64\n",
      "\n",
      "f    2752\n",
      "t      48\n",
      "Name: I131 treatment, dtype: int64\n",
      "\n",
      "f    2786\n",
      "t      14\n",
      "Name: lithium, dtype: int64\n",
      "\n",
      "f    2775\n",
      "t      25\n",
      "Name: goitre, dtype: int64\n",
      "\n",
      "f    2729\n",
      "t      71\n",
      "Name: tumor, dtype: int64\n",
      "\n",
      "f    2799\n",
      "t       1\n",
      "Name: hypopituitary, dtype: int64\n",
      "\n",
      "t    2215\n",
      "f     585\n",
      "Name: T3 measured, dtype: int64\n",
      "\n",
      "t    2505\n",
      "f     295\n",
      "Name: FTI measured, dtype: int64\n",
      "\n",
      "other    1632\n",
      "svi       771\n",
      "svhc      275\n",
      "stmw       91\n",
      "svhd       31\n",
      "Name: referral source, dtype: int64\n",
      "\n",
      "private             1974\n",
      "local-gov            212\n",
      "self-emp-not-inc     178\n",
      "?                    169\n",
      "state-gov            123\n",
      "federal-gov           75\n",
      "self-emp-inc          69\n",
      "Name: workclass, dtype: int64\n",
      "\n",
      "never-married            1118\n",
      "married-civ-spouse        853\n",
      "divorced                  489\n",
      "widowed                   167\n",
      "separated                 118\n",
      "married-spouse-absent      53\n",
      "married-af-spouse           2\n",
      "Name: marital-status, dtype: int64\n",
      "\n",
      "adm-clerical         449\n",
      "other-service        374\n",
      "prof-specialty       326\n",
      "exec-managerial      311\n",
      "sales                302\n",
      "?                    169\n",
      "machine-op-inspct    165\n",
      "craft-repair         164\n",
      "transport-moving      83\n",
      "tech-support          74\n",
      "handlers-cleaners     64\n",
      "farming-fishing       58\n",
      "adm_clerical          52\n",
      "other_service         41\n",
      "prof_specialty        29\n",
      "exec_managerial       25\n",
      "priv-house-serv       24\n",
      "protective-serv       23\n",
      "craft_repair          21\n",
      "tech_support          12\n",
      "machine_op_inspct      9\n",
      "protective_serv        6\n",
      "transport_moving       6\n",
      "handlers_cleaners      6\n",
      "priv_house_serv        4\n",
      "farming_fishing        3\n",
      "Name: occupation, dtype: int64\n",
      "\n",
      "not-in-family     899\n",
      "husband           541\n",
      "own-child         492\n",
      "unmarried         481\n",
      "wife              284\n",
      "other-relative    103\n",
      "Name: relationship, dtype: int64\n",
      "\n",
      "white                 2318\n",
      "black                  330\n",
      "asian-pac-islander      91\n",
      "other                   33\n",
      "amer-indian-eskimo      28\n",
      "Name: race, dtype: int64\n",
      "\n",
      "united-states         2493\n",
      "?                       60\n",
      "mexico                  47\n",
      "philippines             17\n",
      "cuba                    12\n",
      "jamaica                 12\n",
      "canada                  11\n",
      "puerto-rico             11\n",
      "guatemala               10\n",
      "germany                  8\n",
      "vietnam                  8\n",
      "dominican-republic       8\n",
      "columbia                 7\n",
      "el-salvador              7\n",
      "china                    7\n",
      "south                    7\n",
      "india                    6\n",
      "england                  6\n",
      "ireland                  5\n",
      "haiti                    5\n",
      "poland                   5\n",
      "japan                    5\n",
      "portugal                 5\n",
      "greece                   4\n",
      "thailand                 4\n",
      "ecuador                  4\n",
      "italy                    3\n",
      "france                   3\n",
      "laos                     3\n",
      "trinadad&tobago          3\n",
      "peru                     3\n",
      "scotland                 2\n",
      "taiwan                   2\n",
      "hungary                  2\n",
      "nicaragua                2\n",
      "iran                     1\n",
      "cambodia                 1\n",
      "hong                     1\n",
      "Name: native-country, dtype: int64\n",
      "\n",
      "t    2516\n",
      "f     284\n",
      "Name: TSH measured, dtype: int64\n",
      "\n",
      "f    1830\n",
      "m     860\n",
      "?     110\n",
      "Name: sex, dtype: int64\n",
      "\n",
      "f    2627\n",
      "t     173\n",
      "Name: query hyperthyroid, dtype: int64\n",
      "\n",
      "t    2616\n",
      "f     184\n",
      "Name: TT4 measured, dtype: int64\n",
      "\n",
      "f    2766\n",
      "t      34\n",
      "Name: on antithyroid medication, dtype: int64\n",
      "\n",
      "f    2690\n",
      "t     110\n",
      "Name: sick, dtype: int64\n",
      "\n",
      "t    2503\n",
      "f     297\n",
      "Name: T4U measured, dtype: int64\n",
      "\n",
      "f    2665\n",
      "t     135\n",
      "Name: psych, dtype: int64\n",
      "\n",
      "f    2637\n",
      "t     163\n",
      "Name: query hypothyroid, dtype: int64\n",
      "\n",
      "negative      2755\n",
      "discordant      45\n",
      "Name: test, dtype: int64\n",
      "\n"
     ]
    }
   ],
   "source": [
    "for column in train_data.columns[train_data.dtypes == np.object]:\n",
    "    if train_data[column].unique().size < 50:\n",
    "        print(train_data[column].value_counts())\n",
    "        print()"
   ]
  },
  {
   "cell_type": "markdown",
   "metadata": {},
   "source": [
    "Pripravili sme si funkciu na nahradzovanie stĺpca datasetu jeho trnasformáciu pomocou box-cox algoritmu. Táto funckia počíta s tým, že stĺpec môže obsahovať ešte neznáme hodnoty. Urobili sme tomu tak preto, aby sme nemusili dopĺňať neznáme hodnoty ešte predtým, než nahradíme odľahlé hodnoty, ktoré môžu ovplyvniť nahradzované hodnoty."
   ]
  },
  {
   "cell_type": "code",
   "execution_count": 11,
   "metadata": {},
   "outputs": [],
   "source": [
    "from scipy.stats import boxcox\n",
    "from functools import reduce\n",
    "\n",
    "def replaceWithBC(data, attr):\n",
    "    bc, att = boxcox(data[attr].dropna())\n",
    "    i2 = 0\n",
    "    for i in range(data.shape[0]):\n",
    "        if pd.notna(data.loc[i, attr]):\n",
    "            data.loc[i, attr] = bc[i2]\n",
    "            i2 = i2 + 1\n",
    "            \n",
    "def replaceOutliers(data, attr, thrshl, new):\n",
    "    for i in range(data.shape[0]):\n",
    "        if thrshl(data.loc[i, attr]):\n",
    "            data.loc[i, attr] = new"
   ]
  },
  {
   "cell_type": "markdown",
   "metadata": {},
   "source": [
    "Pripravili sme si slovník do ktorého sa zapíše unikátnosť hodnôt jednotlivých atribútov. Toto budeme využívať pri dodatočnej identifikácii outlierov..."
   ]
  },
  {
   "cell_type": "code",
   "execution_count": 12,
   "metadata": {},
   "outputs": [],
   "source": [
    "uniquenesstable = {}\n",
    "def updateUniquenesstable():\n",
    "    for column in train_data.columns[train_data.dtypes == np.object]:\n",
    "        unique = train_data[column].unique()\n",
    "        uniquenesstable[column] = {}\n",
    "        for u in unique:\n",
    "            uniquenesstable[column][u] = len(train_data[train_data[column] == u][column]) / len(train_data[column])\n",
    "        uniquenesstable[column]['expected'] = 1 / len(unique)\n",
    "\n",
    "    for column in train_data.columns:\n",
    "        if np.issubdtype(train_data[column].dtype, np.number):\n",
    "            uniquenesstable[column] = {}\n",
    "            uniquenesstable[column]['mean'] = train_data[column].mean()\n",
    "            uniquenesstable[column]['median'] = train_data[column].median()\n",
    "            uniquenesstable[column]['std'] = train_data[column].std()\n",
    "            \n",
    "updateUniquenesstable()"
   ]
  },
  {
   "cell_type": "markdown",
   "metadata": {},
   "source": [
    "... a taktiež aj funkciu, ktorá tieto unikátne hodnoty vypíše."
   ]
  },
  {
   "cell_type": "code",
   "execution_count": 13,
   "metadata": {},
   "outputs": [],
   "source": [
    "def printUnique(data, attr, f):\n",
    "    outs = data[f(data[attr])]\n",
    "    c = 0\n",
    "    for i in range(outs.shape[0]):\n",
    "        un = False\n",
    "        for col in data.columns:\n",
    "            out = outs.iloc[i]\n",
    "            if not pd.isna(out[col]):\n",
    "                if np.issubdtype(train_data[col].dtype, np.number):\n",
    "                    if out[col] < uniquenesstable[col]['mean'] - uniquenesstable[col]['std'] or out[col] > uniquenesstable[col]['mean'] + uniquenesstable[col]['std']:\n",
    "                        print(i, attr, out[attr], col, out[col], uniquenesstable[col]['mean'])\n",
    "                        un = True\n",
    "                    elif out[col] < uniquenesstable[col]['median'] - uniquenesstable[col]['std'] or out[col] > uniquenesstable[col]['median'] + uniquenesstable[col]['std']:\n",
    "                        print(i, attr, out[attr], col, out[col], uniquenesstable[col]['median'])\n",
    "                        un = True\n",
    "                else:\n",
    "                    if uniquenesstable[col][out[col]] < uniquenesstable[col]['expected'] / 2:\n",
    "                        print(i, attr, out[attr], col, out[col], uniquenesstable[col][out[col]], uniquenesstable[col]['expected'])\n",
    "                        un = True\n",
    "        if (un):\n",
    "            c = c + 1\n",
    "    print(\"Unikátnych\", c, \"z\", outs.shape[0])"
   ]
  },
  {
   "cell_type": "markdown",
   "metadata": {},
   "source": [
    "Pomôžeme si aj korelačnou tabuľkou, ktorú sme prevzali z prechádzajúceho dokumentu."
   ]
  },
  {
   "cell_type": "code",
   "execution_count": 14,
   "metadata": {},
   "outputs": [
    {
     "name": "stdout",
     "output_type": "stream",
     "text": [
      "age - T3  correlation:  -0.24237972891474738\n",
      "age - birth_year  correlation:  -0.9211649983991632\n",
      "TSH - TT4  correlation:  -0.2685525331664122\n",
      "TSH - FTI  correlation:  -0.291188373868199\n",
      "T3 - TT4  correlation:  0.5660571765652239\n",
      "T3 - T4U  correlation:  0.46343405909602275\n",
      "T3 - FTI  correlation:  0.3510133883173405\n",
      "T3 - birth_year  correlation:  0.2686637335777969\n",
      "TT4 - T4U  correlation:  0.4339389434445414\n",
      "TT4 - FTI  correlation:  0.798007458309882\n"
     ]
    },
    {
     "data": {
      "text/plain": [
       "<matplotlib.axes._subplots.AxesSubplot at 0x1a497ed8cc0>"
      ]
     },
     "execution_count": 14,
     "metadata": {},
     "output_type": "execute_result"
    },
    {
     "data": {
      "image/png": "[encoded data removed]",
      "text/plain": [
       "<matplotlib.figure.Figure at 0x1a497a44e80>"
      ]
     },
     "metadata": {},
     "output_type": "display_data"
    }
   ],
   "source": [
    "for i in range(train_data.shape[1]):\n",
    "    if np.issubdtype(train_data[train_data.columns[i]].dtype, np.number):\n",
    "        for i2 in range(i, train_data.shape[1]):\n",
    "            if np.issubdtype(train_data[train_data.columns[i2]].dtype, np.number):\n",
    "                corr = train_data[train_data.columns[i]].corr(train_data[train_data.columns[i2]])\n",
    "                if (corr > 0.2 or corr < -0.2) and train_data.columns[i] != train_data.columns[i2]:\n",
    "                    print(train_data.columns[i], \"-\", train_data.columns[i2], \" correlation: \", train_data[train_data.columns[i]].corr(train_data[train_data.columns[i2]]))\n",
    "\n",
    "corr = train_data.corr()\n",
    "seaborn.heatmap(abs(corr), \n",
    "            xticklabels=corr.columns.values,\n",
    "            yticklabels=corr.columns.values)"
   ]
  },
  {
   "cell_type": "markdown",
   "metadata": {},
   "source": [
    "TSH malo distribúciu hodnôt pomerne značne roztiahnutú do jednej strany, avšak boli možné pozorovať náznaky toho, že sa snaží mať normálnu distribúciu. Použijeme teda box-cox, aby sme sa pokúsili túto normálnu distriúciu dosiahnúť. \n",
    "\n",
    "Po úprave pomocou box-cox algoritmu sú viditeľne hodnoty koncentrovanejšie ako pri neupravovnom atribúte a aj symetrickejšie. Je však možné aj vidieť, že úplná normálna distribúcia dosiahnutá nebola a stále sú hodnoty na ľavej strane od vrcholu distribúcie viac hustejšie naukladané ako na pravej strane, čomu bolo rovnako aj pri pôvodnej distribúcii. Nahradíme teda atribút TSH jeho box-cox verziou a atribút aj patrične premenujeme."
   ]
  },
  {
   "cell_type": "code",
   "execution_count": 15,
   "metadata": {},
   "outputs": [
    {
     "name": "stdout",
     "output_type": "stream",
     "text": [
      "Skewness TSH orig:  14.824564019675963\n",
      "Skewness TSH box-cox:  0.05058391985348052\n",
      "Kurtosis TSH orig:  284.54408349616324\n",
      "Kurtosis TSH box-cox:  1.2940121811098484\n"
     ]
    }
   ],
   "source": [
    "bc, att = boxcox(train_data['TSH'].dropna())\n",
    "print(\"Skewness TSH orig: \", stats.skew(train_data['TSH'].dropna()))\n",
    "print(\"Skewness TSH box-cox: \", stats.skew(bc))\n",
    "print(\"Kurtosis TSH orig: \", stats.kurtosis(train_data['TSH'].dropna()))\n",
    "print(\"Kurtosis TSH box-cox: \", stats.kurtosis(bc))"
   ]
  },
  {
   "cell_type": "code",
   "execution_count": 16,
   "metadata": {},
   "outputs": [
    {
     "data": {
      "image/png": "[encoded data removed]",
      "text/plain": [
       "<matplotlib.figure.Figure at 0x1a4974ed860>"
      ]
     },
     "metadata": {},
     "output_type": "display_data"
    },
    {
     "data": {
      "image/png": "[encoded data removed]",
      "text/plain": [
       "<matplotlib.figure.Figure at 0x1a4974edc18>"
      ]
     },
     "metadata": {},
     "output_type": "display_data"
    },
    {
     "data": {
      "image/png": "[encoded data removed]",
      "text/plain": [
       "<matplotlib.figure.Figure at 0x1a4974ed438>"
      ]
     },
     "metadata": {},
     "output_type": "display_data"
    },
    {
     "data": {
      "text/plain": [
       "<matplotlib.figure.Figure at 0x1a498112748>"
      ]
     },
     "metadata": {},
     "output_type": "display_data"
    }
   ],
   "source": [
    "pd.Series(train_data['TSH']).hist(bins=50).set_title(\"TSH\")\n",
    "plt.figure()\n",
    "replaceWithBC(train_data, 'TSH')\n",
    "pd.Series(train_data['TSH']).hist(bins=50).set_title(\"TSH (boxcox)\")\n",
    "plt.figure()\n",
    "pd.Series(train_data['TSH']).plot(kind='box')\n",
    "plt.figure()\n",
    "\n",
    "updateUniquenesstable()"
   ]
  },
  {
   "cell_type": "markdown",
   "metadata": {},
   "source": [
    "Vidíme, že subjekty s nameraným vysokým TSH majú zároveň aj pomerne nízke FTI a TT4, čo je možné povšimnúť si aj v korelačnej tabuľke. Keby sme teda tieto domnelo vychýlené hodnoty upravili či odstránili, mohli by sme oslabiť koreláciu týchto atribútov. Nebudeme teda považovať žiadne hodnoty TSH za vychýlené."
   ]
  },
  {
   "cell_type": "code",
   "execution_count": 17,
   "metadata": {},
   "outputs": [
    {
     "name": "stdout",
     "output_type": "stream",
     "text": [
      "0 TSH 7.970062271875442 age 18.0 51.79356887653831\n",
      "0 TSH 7.970062271875442 on thyroxine t 0.11785714285714285 0.5\n",
      "0 TSH 7.970062271875442 TSH 7.970062271875442 0.12403982275038332\n",
      "0 TSH 7.970062271875442 T3 measured f 0.20892857142857144 0.5\n",
      "0 TSH 7.970062271875442 T4U 1.3 0.9979121054734323\n",
      "0 TSH 7.970062271875442 workclass federal-gov 0.026785714285714284 0.14285714285714285\n",
      "0 TSH 7.970062271875442 relationship other-relative 0.03678571428571428 0.16666666666666666\n",
      "0 TSH 7.970062271875442 FTI 34.0 110.78798403193613\n",
      "0 TSH 7.970062271875442 birth_year 1999.0 1965.5130683852487\n",
      "0 TSH 7.970062271875442 birth_month 11.0 6.538847117794486\n",
      "1 TSH 7.949412739416855 age 2.0 51.79356887653831\n",
      "1 TSH 7.949412739416855 TSH 7.949412739416855 0.12403982275038332\n",
      "1 TSH 7.949412739416855 TT4 34.0 108.99039115646256\n",
      "1 TSH 7.949412739416855 referral source stmw 0.0325 0.2\n",
      "1 TSH 7.949412739416855 marital-status married-spouse-absent 0.01892857142857143 0.14285714285714285\n",
      "1 TSH 7.949412739416855 native-country columbia 0.0025 0.02631578947368421\n",
      "1 TSH 7.949412739416855 sex ? 0.039285714285714285 0.3333333333333333\n",
      "1 TSH 7.949412739416855 FTI 29.0 110.78798403193613\n",
      "1 TSH 7.949412739416855 birth_year 2015.0 1965.5130683852487\n",
      "1 TSH 7.949412739416855 birth_month 12.0 6.538847117794486\n",
      "2 TSH 7.935511758389984 age 25.0 51.79356887653831\n",
      "2 TSH 7.935511758389984 TSH 7.935511758389984 0.12403982275038332\n",
      "2 TSH 7.935511758389984 T3 0.7 2.024966139954856\n",
      "2 TSH 7.935511758389984 TT4 21.0 108.99039115646256\n",
      "2 TSH 7.935511758389984 workclass ? 0.06035714285714286 0.14285714285714285\n",
      "2 TSH 7.935511758389984 marital-status widowed 0.05964285714285714 0.14285714285714285\n",
      "2 TSH 7.935511758389984 capital-loss 2206 75.96035714285715\n",
      "2 TSH 7.935511758389984 hours-per-week 10 38.33642857142857\n",
      "2 TSH 7.935511758389984 FTI 19.0 110.78798403193613\n",
      "2 TSH 7.935511758389984 birth_year 1992.0 1965.5130683852487\n",
      "Unikátnych 3 z 3\n"
     ]
    }
   ],
   "source": [
    "printUnique(train_data, 'TSH', lambda x: x > 7.9)"
   ]
  },
  {
   "cell_type": "markdown",
   "metadata": {},
   "source": [
    "T3 nebudeme nahradzovať s box-cox, k normalizácii jeho distribúcie by to výrazne neprispelo. Overíme si však, či podozrivá hodnota nad 10 nie je vychýlenou hodnotou."
   ]
  },
  {
   "cell_type": "code",
   "execution_count": 18,
   "metadata": {},
   "outputs": [
    {
     "data": {
      "text/plain": [
       "<matplotlib.figure.Figure at 0x1a4980b1e48>"
      ]
     },
     "execution_count": 18,
     "metadata": {},
     "output_type": "execute_result"
    },
    {
     "data": {
      "image/png": "[encoded data removed]",
      "text/plain": [
       "<matplotlib.figure.Figure at 0x1a496f214e0>"
      ]
     },
     "metadata": {},
     "output_type": "display_data"
    },
    {
     "data": {
      "image/png": "[encoded data removed]",
      "text/plain": [
       "<matplotlib.figure.Figure at 0x1a498171d30>"
      ]
     },
     "metadata": {},
     "output_type": "display_data"
    },
    {
     "data": {
      "text/plain": [
       "<matplotlib.figure.Figure at 0x1a4980b1e48>"
      ]
     },
     "metadata": {},
     "output_type": "display_data"
    }
   ],
   "source": [
    "pd.Series(train_data['T3']).hist(bins=50).set_title(\"T3\")\n",
    "plt.figure()\n",
    "pd.Series(train_data['T3']).plot(kind='box')\n",
    "plt.figure()"
   ]
  },
  {
   "cell_type": "markdown",
   "metadata": {},
   "source": [
    "Vskutku sa zdá, že táto hodnota môže byť valídna, vzhľadom na extrémne hodnoty namerané i u ostatných atribútov. Zistenie potvrdzuje i korelačná tabuľka. Nebudeme s ňou manipulovať z rovnakých dôvodov, ako sme uviedli pri TSH."
   ]
  },
  {
   "cell_type": "code",
   "execution_count": 19,
   "metadata": {},
   "outputs": [
    {
     "name": "stdout",
     "output_type": "stream",
     "text": [
      "0 T3 10.6 age 77.0 51.79356887653831\n",
      "0 T3 10.6 TSH -3.568818698884796 0.12403982275038332\n",
      "0 T3 10.6 T3 10.6 2.024966139954856\n",
      "0 T3 10.6 TT4 226.0 108.99039115646256\n",
      "0 T3 10.6 T4U 0.65 0.9979121054734323\n",
      "0 T3 10.6 FTI 349.0 110.78798403193613\n",
      "0 T3 10.6 birth_year 1940.0 1965.5130683852487\n",
      "Unikátnych 1 z 1\n"
     ]
    }
   ],
   "source": [
    "printUnique(train_data, 'T3', lambda x: x > 10)"
   ]
  },
  {
   "cell_type": "markdown",
   "metadata": {},
   "source": [
    "Nezdá sa, že by distribúciu TT4 bolo nutné upravovať. Overíme si odľahlé hodnoty nad 400."
   ]
  },
  {
   "cell_type": "code",
   "execution_count": 20,
   "metadata": {
    "scrolled": false
   },
   "outputs": [
    {
     "data": {
      "text/plain": [
       "<matplotlib.figure.Figure at 0x1a49711bb38>"
      ]
     },
     "execution_count": 20,
     "metadata": {},
     "output_type": "execute_result"
    },
    {
     "data": {
      "image/png": "[encoded data removed]",
      "text/plain": [
       "<matplotlib.figure.Figure at 0x1a498067f28>"
      ]
     },
     "metadata": {},
     "output_type": "display_data"
    },
    {
     "data": {
      "image/png": "[encoded data removed]",
      "text/plain": [
       "<matplotlib.figure.Figure at 0x1a4980c6400>"
      ]
     },
     "metadata": {},
     "output_type": "display_data"
    },
    {
     "data": {
      "text/plain": [
       "<matplotlib.figure.Figure at 0x1a49711bb38>"
      ]
     },
     "metadata": {},
     "output_type": "display_data"
    }
   ],
   "source": [
    "pd.Series(train_data['TT4']).hist(bins=50).set_title(\"TT4\")\n",
    "plt.figure()\n",
    "pd.Series(train_data['TT4']).plot(kind='box')\n",
    "plt.figure()"
   ]
  },
  {
   "cell_type": "markdown",
   "metadata": {},
   "source": [
    "Ani tieto hodnoty nie sú samé, ktoré sa zdajú byť odľahlé. Je teda pravdepodobnejšie, že sú valídne. Korelačná tabuľka tvrdí to isté."
   ]
  },
  {
   "cell_type": "code",
   "execution_count": 21,
   "metadata": {},
   "outputs": [
    {
     "name": "stdout",
     "output_type": "stream",
     "text": [
      "0 TT4 430.0 pregnant t 0.014642857142857143 0.5\n",
      "0 TT4 430.0 TSH -1.5104393060023016 0.3410268735877535\n",
      "0 TT4 430.0 T3 measured f 0.20892857142857144 0.5\n",
      "0 TT4 430.0 TT4 430.0 108.99039115646256\n",
      "0 TT4 430.0 referral source stmw 0.0325 0.2\n",
      "0 TT4 430.0 fnlwgt 46401 185980.77535714285\n",
      "0 TT4 430.0 query hyperthyroid t 0.061785714285714284 0.5\n",
      "0 TT4 430.0 FTI 395.0 110.78798403193613\n",
      "1 TT4 430.0 TSH -1.7605906784915695 0.12403982275038332\n",
      "1 TT4 430.0 T3 7.3 2.024966139954856\n",
      "1 TT4 430.0 TT4 430.0 108.99039115646256\n",
      "1 TT4 430.0 referral source stmw 0.0325 0.2\n",
      "1 TT4 430.0 query hyperthyroid t 0.061785714285714284 0.5\n",
      "1 TT4 430.0 FTI 395.0 110.78798403193613\n",
      "Unikátnych 2 z 2\n"
     ]
    }
   ],
   "source": [
    "printUnique(train_data, 'TT4', lambda x: x > 400)"
   ]
  },
  {
   "cell_type": "markdown",
   "metadata": {},
   "source": [
    "Pri T4U sa nenachádza hodnota, ktorú by sme vizuálne zhodnotili za odľahlú, distribúcia je pomerne súvislá, upravovať ju nebudeme."
   ]
  },
  {
   "cell_type": "code",
   "execution_count": 22,
   "metadata": {},
   "outputs": [
    {
     "data": {
      "text/plain": [
       "<matplotlib.figure.Figure at 0x1a497138358>"
      ]
     },
     "execution_count": 22,
     "metadata": {},
     "output_type": "execute_result"
    },
    {
     "data": {
      "image/png": "[encoded data removed]",
      "text/plain": [
       "<matplotlib.figure.Figure at 0x1a497a65438>"
      ]
     },
     "metadata": {},
     "output_type": "display_data"
    },
    {
     "data": {
      "image/png": "[encoded data removed]",
      "text/plain": [
       "<matplotlib.figure.Figure at 0x1a49800b2b0>"
      ]
     },
     "metadata": {},
     "output_type": "display_data"
    },
    {
     "data": {
      "text/plain": [
       "<matplotlib.figure.Figure at 0x1a497138358>"
      ]
     },
     "metadata": {},
     "output_type": "display_data"
    }
   ],
   "source": [
    "pd.Series(train_data['T4U']).hist(bins=50).set_title(\"T4U\")\n",
    "plt.figure()\n",
    "pd.Series(train_data['T4U']).plot(kind='box')\n",
    "plt.figure()"
   ]
  },
  {
   "cell_type": "markdown",
   "metadata": {},
   "source": [
    "Pri FTI by sa použitím box-cox taktiež distribúcia priveľmi nepopravila bližšie k normálnej. Vyskúšame, či hodnoty nad 270 nie sú odľahlé."
   ]
  },
  {
   "cell_type": "code",
   "execution_count": 23,
   "metadata": {},
   "outputs": [
    {
     "data": {
      "text/plain": [
       "<matplotlib.figure.Figure at 0x1a498271a90>"
      ]
     },
     "execution_count": 23,
     "metadata": {},
     "output_type": "execute_result"
    },
    {
     "data": {
      "image/png": "[encoded data removed]",
      "text/plain": [
       "<matplotlib.figure.Figure at 0x1a49820fb38>"
      ]
     },
     "metadata": {},
     "output_type": "display_data"
    },
    {
     "data": {
      "image/png": "[encoded data removed]",
      "text/plain": [
       "<matplotlib.figure.Figure at 0x1a49820fc50>"
      ]
     },
     "metadata": {},
     "output_type": "display_data"
    },
    {
     "data": {
      "text/plain": [
       "<matplotlib.figure.Figure at 0x1a498271a90>"
      ]
     },
     "metadata": {},
     "output_type": "display_data"
    }
   ],
   "source": [
    "pd.Series(train_data['FTI']).hist(bins=50).set_title(\"FTI\")\n",
    "plt.figure()\n",
    "pd.Series(train_data['FTI']).plot(kind='box')\n",
    "plt.figure()"
   ]
  },
  {
   "cell_type": "markdown",
   "metadata": {},
   "source": [
    "Aj u FTI je možné pozorovať, že zdanlivo odľahlé hodnoty sa konzistentne upravujú podľa zistených korelácií. Nebudeme ich meniť."
   ]
  },
  {
   "cell_type": "code",
   "execution_count": 24,
   "metadata": {
    "scrolled": true
   },
   "outputs": [
    {
     "name": "stdout",
     "output_type": "stream",
     "text": [
      "0 FTI 274.0 TSH -3.854253878097603 0.12403982275038332\n",
      "0 FTI 274.0 T3 5.5 2.024966139954856\n",
      "0 FTI 274.0 TT4 219.0 108.99039115646256\n",
      "0 FTI 274.0 T4U 0.8 0.9979121054734323\n",
      "0 FTI 274.0 workclass state-gov 0.04392857142857143 0.14285714285714285\n",
      "0 FTI 274.0 fnlwgt 19395 185980.77535714285\n",
      "0 FTI 274.0 query hyperthyroid t 0.061785714285714284 0.5\n",
      "0 FTI 274.0 FTI 274.0 110.78798403193613\n",
      "1 FTI 395.0 pregnant t 0.014642857142857143 0.5\n",
      "1 FTI 395.0 TSH -1.5104393060023016 0.3410268735877535\n",
      "1 FTI 395.0 T3 measured f 0.20892857142857144 0.5\n",
      "1 FTI 395.0 TT4 430.0 108.99039115646256\n",
      "1 FTI 395.0 referral source stmw 0.0325 0.2\n",
      "1 FTI 395.0 fnlwgt 46401 185980.77535714285\n",
      "1 FTI 395.0 query hyperthyroid t 0.061785714285714284 0.5\n",
      "1 FTI 395.0 FTI 395.0 110.78798403193613\n",
      "2 FTI 349.0 age 77.0 51.79356887653831\n",
      "2 FTI 349.0 TSH -3.568818698884796 0.12403982275038332\n",
      "2 FTI 349.0 T3 10.6 2.024966139954856\n",
      "2 FTI 349.0 TT4 226.0 108.99039115646256\n",
      "2 FTI 349.0 T4U 0.65 0.9979121054734323\n",
      "2 FTI 349.0 FTI 349.0 110.78798403193613\n",
      "2 FTI 349.0 birth_year 1940.0 1965.5130683852487\n",
      "3 FTI 281.0 age 27.0 51.79356887653831\n",
      "3 FTI 281.0 TSH -3.3606286693069016 0.12403982275038332\n",
      "3 FTI 281.0 T3 5.3 2.024966139954856\n",
      "3 FTI 281.0 TT4 272.0 108.99039115646256\n",
      "3 FTI 281.0 workclass state-gov 0.04392857142857143 0.14285714285714285\n",
      "3 FTI 281.0 FTI 281.0 110.78798403193613\n",
      "3 FTI 281.0 birth_year 1990.0 1965.5130683852487\n",
      "4 FTI 362.0 age 33.0 54.0\n",
      "4 FTI 362.0 TSH -3.568818698884796 0.12403982275038332\n",
      "4 FTI 362.0 T3 5.0 2.024966139954856\n",
      "4 FTI 362.0 T4U 0.67 0.9979121054734323\n",
      "4 FTI 362.0 capital-loss 1887 75.96035714285715\n",
      "4 FTI 362.0 sex ? 0.039285714285714285 0.3333333333333333\n",
      "4 FTI 362.0 query hyperthyroid t 0.061785714285714284 0.5\n",
      "4 FTI 362.0 FTI 362.0 110.78798403193613\n",
      "4 FTI 362.0 birth_year 1985.0 1965.5130683852487\n",
      "4 FTI 362.0 birth_month 3.0 6.538847117794486\n",
      "5 FTI 395.0 TSH -1.7605906784915695 0.12403982275038332\n",
      "5 FTI 395.0 T3 7.3 2.024966139954856\n",
      "5 FTI 395.0 TT4 430.0 108.99039115646256\n",
      "5 FTI 395.0 referral source stmw 0.0325 0.2\n",
      "5 FTI 395.0 query hyperthyroid t 0.061785714285714284 0.5\n",
      "5 FTI 395.0 FTI 395.0 110.78798403193613\n",
      "6 FTI 312.0 age 15.0 51.79356887653831\n",
      "6 FTI 312.0 TSH -3.568818698884796 0.12403982275038332\n",
      "6 FTI 312.0 T3 6.0 2.024966139954856\n",
      "6 FTI 312.0 TT4 250.0 108.99039115646256\n",
      "6 FTI 312.0 T4U 0.8 0.9979121054734323\n",
      "6 FTI 312.0 workclass self-emp-not-inc 0.06357142857142857 0.14285714285714285\n",
      "6 FTI 312.0 hours-per-week 60 38.33642857142857\n",
      "6 FTI 312.0 FTI 312.0 110.78798403193613\n",
      "6 FTI 312.0 birth_year 2002.0 1965.5130683852487\n",
      "6 FTI 312.0 birth_month 3.0 6.538847117794486\n",
      "Unikátnych 7 z 7\n"
     ]
    }
   ],
   "source": [
    "printUnique(train_data, 'FTI', lambda x: x > 270)"
   ]
  },
  {
   "cell_type": "markdown",
   "metadata": {},
   "source": [
    "Distribúcia atribútu fnlwgt pôsobí \"useknuto\" a na jednej strane rozťahane. Pokúsime sa ju znormalizovať pomocou box-cox algoritmu.\n",
    "\n",
    "Použitie box-cox viditeľne pomohlo zosymetrizovať distribúciu atribútu fnlwgt, podobne však ako u TSH sa nepodarilo dosiahnúť úplnú symetricitu, či normálne rozdelenie. Hodnoty sú však aj značne koncentrovanejšie a keďže hodnoty atribútu fnlwgt ani nemajú nejakú výraznú výpovednú hodnotu, nebude škodiť, keď fnwgt nahradíme box-cox verziou. \n",
    "\n",
    "Bližšie sa pozrieme na hodnoty s váhou vyššou ako 720."
   ]
  },
  {
   "cell_type": "code",
   "execution_count": 25,
   "metadata": {},
   "outputs": [
    {
     "name": "stdout",
     "output_type": "stream",
     "text": [
      "Skewness fnlwgt orig:  1.4582578636301344\n",
      "Skewness fnlwgt box-cox:  0.05058391985348052\n",
      "Kurtosis fnlwgt orig:  5.76294202332816\n",
      "Kurtosis fnlwgt box-cox:  1.2940121811098484\n"
     ]
    }
   ],
   "source": [
    "print(\"Skewness fnlwgt orig: \", stats.skew(train_data['fnlwgt'].dropna()))\n",
    "print(\"Skewness fnlwgt box-cox: \", stats.skew(bc))\n",
    "print(\"Kurtosis fnlwgt orig: \", stats.kurtosis(train_data['fnlwgt'].dropna()))\n",
    "print(\"Kurtosis fnlwgt box-cox: \", stats.kurtosis(bc))"
   ]
  },
  {
   "cell_type": "code",
   "execution_count": 26,
   "metadata": {},
   "outputs": [
    {
     "data": {
      "image/png": "[encoded data removed]",
      "text/plain": [
       "<matplotlib.figure.Figure at 0x1a497022048>"
      ]
     },
     "metadata": {},
     "output_type": "display_data"
    },
    {
     "data": {
      "image/png": "[encoded data removed]",
      "text/plain": [
       "<matplotlib.figure.Figure at 0x1a4982eb4a8>"
      ]
     },
     "metadata": {},
     "output_type": "display_data"
    },
    {
     "data": {
      "image/png": "[encoded data removed]",
      "text/plain": [
       "<matplotlib.figure.Figure at 0x1a49834bfd0>"
      ]
     },
     "metadata": {},
     "output_type": "display_data"
    },
    {
     "data": {
      "text/plain": [
       "<matplotlib.figure.Figure at 0x1a49847fcf8>"
      ]
     },
     "metadata": {},
     "output_type": "display_data"
    }
   ],
   "source": [
    "pd.Series(train_data['fnlwgt']).hist(bins=50).set_title(\"fnlwgt\")\n",
    "plt.figure()\n",
    "replaceWithBC(train_data, 'fnlwgt')\n",
    "pd.Series(train_data['fnlwgt']).hist(bins=50).set_title(\"fnlwgt (boxcox)\")\n",
    "plt.figure()\n",
    "pd.Series(train_data['fnlwgt']).plot(kind='box')\n",
    "plt.figure()\n",
    "\n",
    "updateUniquenesstable()"
   ]
  },
  {
   "cell_type": "markdown",
   "metadata": {},
   "source": [
    "I keď takmer každá z týchto vysokých hodnôt fnlwgt má nejaký iný atribút pomerne unikátny, nie je tu vidieť nijaká konzistencia, t.j. že niektorý z iných atribútov je pri každej z týchto hodnôt atribútu fnlwgt výnimočný. Odpovedá to zisteniam z prieskumnej analýzy, kde sme zistili najviac chabú súvislosť s atribptmi race, occupation a marital-status, pričom ani tieto nefigurujú vo vyššom počte v nižšie uvedenom výpise unikátnosti hodnôt. \n",
    "\n",
    "Všetko toto spolu značí, že s vysokou pravdepodobnosťou možno upraviť tieto odľahlé hodnoty bez výrazného dopadu na prípadné korelácie tohto atribútu s inými. Použijeme pritom stratégiu nahradzovaním 95-percentným kvartilom, keďže táto sa nám zdá byť sympatickejšia voči odstraňovaniu. Odstránenie by však taktiež nebolo veľkým krokom vedľa, pretože žiadne z uvedených pozorovaní nie je oslňujúco unikátne svojimi hodnotami a ani nesúvisí s atribútom, voči ktorému budeme klasifikovať."
   ]
  },
  {
   "cell_type": "code",
   "execution_count": 27,
   "metadata": {},
   "outputs": [
    {
     "name": "stdout",
     "output_type": "stream",
     "text": [
      "0 fnlwgt 745.5596830514392 T3 measured f 0.20892857142857144 0.5\n",
      "0 fnlwgt 745.5596830514392 fnlwgt 745.5596830514392 395.8140939185308\n",
      "0 fnlwgt 745.5596830514392 FTI 73.0 110.78798403193613\n",
      "0 fnlwgt 745.5596830514392 query hypothyroid t 0.05821428571428571 0.5\n",
      "1 fnlwgt 740.520637388126 age 74.0 51.79356887653831\n",
      "1 fnlwgt 740.520637388126 T4U 0.8 0.9979121054734323\n",
      "1 fnlwgt 740.520637388126 fnlwgt 740.520637388126 395.8140939185308\n",
      "1 fnlwgt 740.520637388126 FTI 152.0 110.78798403193613\n",
      "1 fnlwgt 740.520637388126 birth_year 1943.0 1965.5130683852487\n",
      "2 fnlwgt 744.158996157952 T3 measured f 0.20892857142857144 0.5\n",
      "2 fnlwgt 744.158996157952 FTI measured f 0.10535714285714286 0.5\n",
      "2 fnlwgt 744.158996157952 fnlwgt 744.158996157952 395.8140939185308\n",
      "2 fnlwgt 744.158996157952 hours-per-week 15 38.33642857142857\n",
      "2 fnlwgt 744.158996157952 TSH measured f 0.10142857142857142 0.5\n",
      "2 fnlwgt 744.158996157952 TT4 measured f 0.06571428571428571 0.5\n",
      "2 fnlwgt 744.158996157952 T4U measured f 0.10607142857142857 0.5\n",
      "2 fnlwgt 744.158996157952 birth_month 2.0 6.538847117794486\n",
      "3 fnlwgt 818.1331435430884 on thyroxine t 0.11785714285714285 0.5\n",
      "3 fnlwgt 818.1331435430884 I131 treatment t 0.017142857142857144 0.5\n",
      "3 fnlwgt 818.1331435430884 workclass federal-gov 0.026785714285714284 0.14285714285714285\n",
      "3 fnlwgt 818.1331435430884 fnlwgt 818.1331435430884 395.8140939185308\n",
      "3 fnlwgt 818.1331435430884 marital-status separated 0.04214285714285714 0.14285714285714285\n",
      "3 fnlwgt 818.1331435430884 capital-gain 6497 0.0\n",
      "3 fnlwgt 818.1331435430884 hours-per-week 56 38.33642857142857\n",
      "4 fnlwgt 877.7297823415848 T4U 0.77 0.9979121054734323\n",
      "4 fnlwgt 877.7297823415848 workclass self-emp-inc 0.024642857142857143 0.14285714285714285\n",
      "4 fnlwgt 877.7297823415848 fnlwgt 877.7297823415848 395.8140939185308\n",
      "4 fnlwgt 877.7297823415848 hours-per-week 60 38.33642857142857\n",
      "5 fnlwgt 745.7855577602261 fnlwgt 745.7855577602261 395.8140939185308\n",
      "5 fnlwgt 745.7855577602261 birth_month 12.0 6.538847117794486\n",
      "6 fnlwgt 744.1380954035731 fnlwgt 744.1380954035731 395.8140939185308\n",
      "6 fnlwgt 744.1380954035731 occupation protective-serv 0.008214285714285714 0.038461538461538464\n",
      "6 fnlwgt 744.1380954035731 query hypothyroid t 0.05821428571428571 0.5\n",
      "Unikátnych 7 z 7\n"
     ]
    }
   ],
   "source": [
    "printUnique(train_data, 'fnlwgt', lambda x: x > 720)"
   ]
  },
  {
   "cell_type": "code",
   "execution_count": 28,
   "metadata": {},
   "outputs": [
    {
     "data": {
      "text/plain": [
       "<matplotlib.figure.Figure at 0x1a498495fd0>"
      ]
     },
     "execution_count": 28,
     "metadata": {},
     "output_type": "execute_result"
    },
    {
     "data": {
      "image/png": "[encoded data removed]",
      "text/plain": [
       "<matplotlib.figure.Figure at 0x1a4984e4080>"
      ]
     },
     "metadata": {},
     "output_type": "display_data"
    },
    {
     "data": {
      "text/plain": [
       "<matplotlib.figure.Figure at 0x1a498495fd0>"
      ]
     },
     "metadata": {},
     "output_type": "display_data"
    }
   ],
   "source": [
    "replaceOutliers(train_data, 'fnlwgt', lambda a: a > 720, np.percentile(train_data['fnlwgt'], 95))\n",
    "\n",
    "pd.Series(train_data['fnlwgt']).hist(bins=50).set_title(\"fnlwgt\")\n",
    "plt.figure()"
   ]
  },
  {
   "cell_type": "markdown",
   "metadata": {},
   "source": [
    "Pri hourse-per-week sa pozrieme na subjekty na ostrovčeku s viac ako 95 hodinami za týždeň. Podozrivé sa môžu síce zdať už aj hodnoty nad 60, alebo pod 10, avšak iba tieto hodnoty nad 95 sú výzarne odtrhnuté od ostatných a od chvostov distribúcie."
   ]
  },
  {
   "cell_type": "code",
   "execution_count": 29,
   "metadata": {},
   "outputs": [
    {
     "data": {
      "text/plain": [
       "<matplotlib.figure.Figure at 0x1a4970d7860>"
      ]
     },
     "execution_count": 29,
     "metadata": {},
     "output_type": "execute_result"
    },
    {
     "data": {
      "image/png": "[encoded data removed]",
      "text/plain": [
       "<matplotlib.figure.Figure at 0x1a498495908>"
      ]
     },
     "metadata": {},
     "output_type": "display_data"
    },
    {
     "data": {
      "image/png": "[encoded data removed]",
      "text/plain": [
       "<matplotlib.figure.Figure at 0x1a498495c18>"
      ]
     },
     "metadata": {},
     "output_type": "display_data"
    },
    {
     "data": {
      "text/plain": [
       "<matplotlib.figure.Figure at 0x1a4970d7860>"
      ]
     },
     "metadata": {},
     "output_type": "display_data"
    }
   ],
   "source": [
    "pd.Series(train_data['hours-per-week']).hist(bins=50).set_title(\"hours-per-week\")\n",
    "plt.figure()\n",
    "pd.Series(train_data['hours-per-week']).plot(kind='box')\n",
    "plt.figure()"
   ]
  },
  {
   "cell_type": "markdown",
   "metadata": {},
   "source": [
    "Pri vysokých hodnotách počtu hodín za týždeň sa jedná prevažne o samozamestaných ľudí, pričom niektorí majú podozrivo vysoký vek vzhľadom na počet odpracovaných hodín. Niektorí majú aj odchýlené niektoré medicínske merania, sú však odchýlené nekonzistentne, takže sa o súvis nejedná - žiaden ani nebol odhalený pri prieskumnej analýze.\n",
    "\n",
    "Týchto jedenásť hodnôt nahradíme teda 95-percentilom. Opäť, ako pri atribúte fnlwgt, nie je tu žiadna hodnota, ktorá by mala výsledok testu (atribút voči ktorému budeme klasifikovať) nezhodný (tá vzácnejšia hodnota klasifikovaného atribútu), avšak tri či štyry z týchto pozorovaní majú pomerne vysoké namerané hodnoty niektorých z medicínskych meraní, takže by ich možno bolo škoda stratiť odstránením týchto subjektov z dátového súboru."
   ]
  },
  {
   "cell_type": "code",
   "execution_count": 30,
   "metadata": {},
   "outputs": [
    {
     "name": "stdout",
     "output_type": "stream",
     "text": [
      "0 hours-per-week 99 T3 measured f 0.20892857142857144 0.5\n",
      "0 hours-per-week 99 hours-per-week 99 38.33642857142857\n",
      "0 hours-per-week 99 birth_year 1990.0 1965.5130683852487\n",
      "0 hours-per-week 99 birth_month 2.0 6.538847117794486\n",
      "1 hours-per-week 98 workclass self-emp-not-inc 0.06357142857142857 0.14285714285714285\n",
      "1 hours-per-week 98 fnlwgt 507.3428746196795 395.8140939185308\n",
      "1 hours-per-week 98 hours-per-week 98 38.33642857142857\n",
      "2 hours-per-week 99 on thyroxine t 0.11785714285714285 0.5\n",
      "2 hours-per-week 99 workclass federal-gov 0.026785714285714284 0.14285714285714285\n",
      "2 hours-per-week 99 fnlwgt 535.2953540287214 395.8140939185308\n",
      "2 hours-per-week 99 hours-per-week 99 38.33642857142857\n",
      "2 hours-per-week 99 birth_month 3.0 6.538847117794486\n",
      "3 hours-per-week 99 TSH -2.1035561988941174 0.12403982275038332\n",
      "3 hours-per-week 99 T3 measured f 0.20892857142857144 0.5\n",
      "3 hours-per-week 99 TT4 62.0 108.99039115646256\n",
      "3 hours-per-week 99 fnlwgt 537.4541713946792 395.8140939185308\n",
      "3 hours-per-week 99 capital-loss 2415 75.96035714285715\n",
      "3 hours-per-week 99 hours-per-week 99 38.33642857142857\n",
      "3 hours-per-week 99 FTI 66.0 110.78798403193613\n",
      "4 hours-per-week 99 age 18.0 51.79356887653831\n",
      "4 hours-per-week 99 workclass self-emp-not-inc 0.06357142857142857 0.14285714285714285\n",
      "4 hours-per-week 99 education-num 1000 4.150714285714286\n",
      "4 hours-per-week 99 hours-per-week 99 38.33642857142857\n",
      "4 hours-per-week 99 FTI 72.0 110.78798403193613\n",
      "4 hours-per-week 99 birth_year 1999.0 1965.5130683852487\n",
      "5 hours-per-week 98 workclass self-emp-not-inc 0.06357142857142857 0.14285714285714285\n",
      "5 hours-per-week 98 hours-per-week 98 38.33642857142857\n",
      "5 hours-per-week 98 FTI 149.0 110.78798403193613\n",
      "6 hours-per-week 99 FTI measured f 0.10535714285714286 0.5\n",
      "6 hours-per-week 99 fnlwgt 195.65881328753588 395.8140939185308\n",
      "6 hours-per-week 99 hours-per-week 99 38.33642857142857\n",
      "6 hours-per-week 99 TSH measured f 0.10142857142857142 0.5\n",
      "6 hours-per-week 99 query hyperthyroid t 0.061785714285714284 0.5\n",
      "6 hours-per-week 99 TT4 measured f 0.06571428571428571 0.5\n",
      "6 hours-per-week 99 T4U measured f 0.10607142857142857 0.5\n",
      "6 hours-per-week 99 birth_month 1.0 6.538847117794486\n",
      "7 hours-per-week 99 age 20.0 51.79356887653831\n",
      "7 hours-per-week 99 TT4 63.0 108.99039115646256\n",
      "7 hours-per-week 99 workclass self-emp-not-inc 0.06357142857142857 0.14285714285714285\n",
      "7 hours-per-week 99 relationship other-relative 0.03678571428571428 0.16666666666666666\n",
      "7 hours-per-week 99 hours-per-week 99 38.33642857142857\n",
      "7 hours-per-week 99 FTI 63.0 110.78798403193613\n",
      "7 hours-per-week 99 birth_year 1997.0 1965.5130683852487\n",
      "8 hours-per-week 99 TSH -1.5104393060023016 0.3410268735877535\n",
      "8 hours-per-week 99 T3 3.6 2.024966139954856\n",
      "8 hours-per-week 99 TT4 301.0 108.99039115646256\n",
      "8 hours-per-week 99 T4U 1.75 0.9979121054734323\n",
      "8 hours-per-week 99 hours-per-week 99 38.33642857142857\n",
      "8 hours-per-week 99 FTI 172.0 110.78798403193613\n",
      "8 hours-per-week 99 birth_month 1.0 6.538847117794486\n",
      "9 hours-per-week 99 on thyroxine t 0.11785714285714285 0.5\n",
      "9 hours-per-week 99 marital-status widowed 0.05964285714285714 0.14285714285714285\n",
      "9 hours-per-week 99 hours-per-week 99 38.33642857142857\n",
      "9 hours-per-week 99 FTI 163.0 110.78798403193613\n",
      "10 hours-per-week 99 age 30.0 51.79356887653831\n",
      "10 hours-per-week 99 tumor t 0.025357142857142856 0.5\n",
      "10 hours-per-week 99 workclass ? 0.06035714285714286 0.14285714285714285\n",
      "10 hours-per-week 99 fnlwgt 197.39855066631657 395.8140939185308\n",
      "10 hours-per-week 99 race asian-pac-islander 0.0325 0.2\n",
      "10 hours-per-week 99 hours-per-week 99 38.33642857142857\n",
      "10 hours-per-week 99 birth_year 1987.0 1965.5130683852487\n",
      "Unikátnych 11 z 11\n"
     ]
    }
   ],
   "source": [
    "printUnique(train_data, 'hours-per-week', lambda x: x > 85)"
   ]
  },
  {
   "cell_type": "code",
   "execution_count": 31,
   "metadata": {},
   "outputs": [
    {
     "data": {
      "text/plain": [
       "<matplotlib.figure.Figure at 0x1a497f30e10>"
      ]
     },
     "execution_count": 31,
     "metadata": {},
     "output_type": "execute_result"
    },
    {
     "data": {
      "image/png": "[encoded data removed]",
      "text/plain": [
       "<matplotlib.figure.Figure at 0x1a4994e2860>"
      ]
     },
     "metadata": {},
     "output_type": "display_data"
    },
    {
     "data": {
      "text/plain": [
       "<matplotlib.figure.Figure at 0x1a497f30e10>"
      ]
     },
     "metadata": {},
     "output_type": "display_data"
    }
   ],
   "source": [
    "replaceOutliers(train_data, 'hours-per-week', lambda a: a > 95, np.percentile(train_data['hours-per-week'], 95))\n",
    "\n",
    "pd.Series(train_data['hours-per-week']).hist(bins=50).set_title(\"hours-per-week\")\n",
    "plt.figure()"
   ]
  },
  {
   "cell_type": "markdown",
   "metadata": {},
   "source": [
    "Vek s hodnotou 455 rokov je bezpochyby odľahlou hodnotou uvažujúc, že nie je možné sa takého vysokého veku dožiť. Preskúmanie unikátnych hodnôt tohto pozorovania ukázalo, že sa nelíši ničím inakším zvláštnym len samotným vekom. Pri troche nápaditosti si možno domyslieť, že sa vzhľadom na rok narodenia 1962 pozorovania má jednať o vek 55 rokov, takže je túto odľahlú hodnotu ľahké opraviť. V tomto prípade by však ani odstránenie pozorovania neuškodilo, kedže neobsahuje unikátne hodnoty."
   ]
  },
  {
   "cell_type": "code",
   "execution_count": 32,
   "metadata": {},
   "outputs": [
    {
     "name": "stdout",
     "output_type": "stream",
     "text": [
      "0 age 455.0 age 455.0 51.79356887653831\n",
      "0 age 455.0 workclass state-gov 0.04392857142857143 0.14285714285714285\n",
      "0 age 455.0 birth_month 12.0 6.538847117794486\n",
      "Unikátnych 1 z 1\n"
     ]
    }
   ],
   "source": [
    "printUnique(train_data, 'age', lambda x: x == 455)"
   ]
  },
  {
   "cell_type": "code",
   "execution_count": 33,
   "metadata": {},
   "outputs": [
    {
     "data": {
      "text/plain": [
       "<matplotlib.figure.Figure at 0x1a497f83320>"
      ]
     },
     "execution_count": 33,
     "metadata": {},
     "output_type": "execute_result"
    },
    {
     "data": {
      "image/png": "[encoded data removed]",
      "text/plain": [
       "<matplotlib.figure.Figure at 0x1a49740c8d0>"
      ]
     },
     "metadata": {},
     "output_type": "display_data"
    },
    {
     "data": {
      "image/png": "[encoded data removed]",
      "text/plain": [
       "<matplotlib.figure.Figure at 0x1a49740cc18>"
      ]
     },
     "metadata": {},
     "output_type": "display_data"
    },
    {
     "data": {
      "text/plain": [
       "<matplotlib.figure.Figure at 0x1a497f83320>"
      ]
     },
     "metadata": {},
     "output_type": "display_data"
    }
   ],
   "source": [
    "train_data[train_data['age']==455] = 55\n",
    "\n",
    "pd.Series(train_data['age']).hist(bins=50).set_title(\"age\")\n",
    "plt.figure()\n",
    "pd.Series(train_data['age']).plot(kind='box')\n",
    "plt.figure()"
   ]
  },
  {
   "cell_type": "markdown",
   "metadata": {},
   "source": [
    "Keďže už máme dátum a mesiac narodenia v číselnej podobe a v atribúte vek sme odstránili odľahlú hodnotu, môžeme si overiť aj to, či sa merania odkazujú na rovnaký dátum."
   ]
  },
  {
   "cell_type": "code",
   "execution_count": 34,
   "metadata": {},
   "outputs": [
    {
     "data": {
      "text/plain": [
       "<matplotlib.figure.Figure at 0x1a49746f390>"
      ]
     },
     "execution_count": 34,
     "metadata": {},
     "output_type": "execute_result"
    },
    {
     "data": {
      "image/png": "[encoded data removed]",
      "text/plain": [
       "<matplotlib.figure.Figure at 0x1a49746f3c8>"
      ]
     },
     "metadata": {},
     "output_type": "display_data"
    },
    {
     "data": {
      "text/plain": [
       "<matplotlib.figure.Figure at 0x1a49746f390>"
      ]
     },
     "metadata": {},
     "output_type": "display_data"
    }
   ],
   "source": [
    "currDate = train_data.birth_year + (train_data.birth_month / 12) + train_data.age\n",
    "\n",
    "pd.Series(currDate).hist(bins=50).set_title(\"Dátum merania\")\n",
    "plt.figure()"
   ]
  },
  {
   "cell_type": "markdown",
   "metadata": {},
   "source": [
    "Zjednotíme rozličné hodnoty edukačného čísla s rovnakým významom. Edukačné číslo budeme používať namiesto samotného kategorického atribútu \"education\", ktorý sme odstránili."
   ]
  },
  {
   "cell_type": "code",
   "execution_count": 35,
   "metadata": {},
   "outputs": [],
   "source": [
    "for i in range (len(train_data['education-num'])):\n",
    "    if train_data.loc[i, 'education-num'] < 0:\n",
    "        train_data.loc[i, 'education-num'] *= -1\n",
    "    if train_data.loc[i, 'education-num'] >= 100:\n",
    "        train_data.loc[i, 'education-num'] = train_data.loc[i, 'education-num']/100"
   ]
  },
  {
   "cell_type": "code",
   "execution_count": 36,
   "metadata": {},
   "outputs": [
    {
     "data": {
      "text/plain": [
       "<matplotlib.figure.Figure at 0x1a4981d4cf8>"
      ]
     },
     "execution_count": 36,
     "metadata": {},
     "output_type": "execute_result"
    },
    {
     "data": {
      "image/png": "[encoded data removed]",
      "text/plain": [
       "<matplotlib.figure.Figure at 0x1a4981d4a90>"
      ]
     },
     "metadata": {},
     "output_type": "display_data"
    },
    {
     "data": {
      "text/plain": [
       "<matplotlib.figure.Figure at 0x1a4981d4cf8>"
      ]
     },
     "metadata": {},
     "output_type": "display_data"
    }
   ],
   "source": [
    "pd.Series(train_data['education-num']).hist(bins=50).set_title(\"education-num\")\n",
    "plt.figure()"
   ]
  },
  {
   "cell_type": "markdown",
   "metadata": {},
   "source": [
    "Atribúty capital-gain a capital-loss mali distribúciu, ktorú nebolo možné napraviť do normálnej distribúcie a ani ju prehlásiť za nejakú inú, známu distribúciu. Taktiež viac ako 90 percent hodnôt týchto číslených atribútov nadobúdalo hodnotu 0, žo značí že buď nebola hodnota meraná, alebo pozorovania ani žiadnú takú aktivitu, ktorá by viedla k zmene ich kapitálu nevykazovali. Keďže v takejto podobe nemajú tieto atribúty žiaden pozorovateľný vplyv na ostatné hodnoty dátového súboru, rozhodli sme sa pokúsiť ešte tento atribút upraviť na atribút kategorický, ktorý by nadobúdal tri hodnoty, vyjadrujúce či doľlo k prírastku, úbytku kapirálu, alebo sa kapitál nezmenil. Je možné, že u takto zlúčených hodnotách bude možno nejaký súvis s hodnotami ostatnými atribútov pozorovať."
   ]
  },
  {
   "cell_type": "code",
   "execution_count": 37,
   "metadata": {},
   "outputs": [],
   "source": [
    "train_data['yield'] = np.nan\n",
    "for i in range(train_data.shape[0]):\n",
    "    yld = train_data.loc[i,'capital-gain'] - train_data.loc[i, 'capital-loss']\n",
    "    if (yld == 0):\n",
    "        train_data.loc[i, 'yield'] = 'none'\n",
    "    elif (yld < 0):\n",
    "        train_data.loc[i, 'yield'] = 'loss'\n",
    "    else:\n",
    "        train_data.loc[i, 'yield'] = 'gain'"
   ]
  },
  {
   "cell_type": "code",
   "execution_count": 38,
   "metadata": {},
   "outputs": [],
   "source": [
    "train_data = train_data.drop(['capital-gain', 'capital-loss'], axis=1)"
   ]
  },
  {
   "cell_type": "code",
   "execution_count": 39,
   "metadata": {},
   "outputs": [
    {
     "data": {
      "text/plain": [
       "<matplotlib.figure.Figure at 0x1a4981fe2e8>"
      ]
     },
     "execution_count": 39,
     "metadata": {},
     "output_type": "execute_result"
    },
    {
     "data": {
      "image/png": "[encoded data removed]",
      "text/plain": [
       "<matplotlib.figure.Figure at 0x1a4981fe908>"
      ]
     },
     "metadata": {},
     "output_type": "display_data"
    },
    {
     "data": {
      "text/plain": [
       "<matplotlib.figure.Figure at 0x1a4981fe2e8>"
      ]
     },
     "metadata": {},
     "output_type": "display_data"
    }
   ],
   "source": [
    "pd.Series(train_data['yield']).hist(bins=50).set_title(\"yield\")\n",
    "plt.figure()"
   ]
  },
  {
   "cell_type": "code",
   "execution_count": 40,
   "metadata": {},
   "outputs": [
    {
     "data": {
      "text/html": [
       "<div>\n",
       "<style scoped>\n",
       "    .dataframe tbody tr th:only-of-type {\n",
       "        vertical-align: middle;\n",
       "    }\n",
       "\n",
       "    .dataframe tbody tr th {\n",
       "        vertical-align: top;\n",
       "    }\n",
       "\n",
       "    .dataframe thead th {\n",
       "        text-align: right;\n",
       "    }\n",
       "</style>\n",
       "<table border=\"1\" class=\"dataframe\">\n",
       "  <thead>\n",
       "    <tr style=\"text-align: right;\">\n",
       "      <th></th>\n",
       "      <th>age</th>\n",
       "      <th>on thyroxine</th>\n",
       "      <th>query on thyroxine</th>\n",
       "      <th>pregnant</th>\n",
       "      <th>thyroid surgery</th>\n",
       "      <th>I131 treatment</th>\n",
       "      <th>lithium</th>\n",
       "      <th>goitre</th>\n",
       "      <th>tumor</th>\n",
       "      <th>hypopituitary</th>\n",
       "      <th>TSH</th>\n",
       "      <th>T3 measured</th>\n",
       "      <th>T3</th>\n",
       "      <th>TT4</th>\n",
       "      <th>T4U</th>\n",
       "      <th>FTI measured</th>\n",
       "      <th>referral source</th>\n",
       "      <th>workclass</th>\n",
       "      <th>fnlwgt</th>\n",
       "      <th>education-num</th>\n",
       "      <th>marital-status</th>\n",
       "      <th>occupation</th>\n",
       "      <th>relationship</th>\n",
       "      <th>race</th>\n",
       "      <th>hours-per-week</th>\n",
       "      <th>native-country</th>\n",
       "      <th>TSH measured</th>\n",
       "      <th>sex</th>\n",
       "      <th>query hyperthyroid</th>\n",
       "      <th>TT4 measured</th>\n",
       "      <th>on antithyroid medication</th>\n",
       "      <th>FTI</th>\n",
       "      <th>sick</th>\n",
       "      <th>T4U measured</th>\n",
       "      <th>psych</th>\n",
       "      <th>query hypothyroid</th>\n",
       "      <th>test</th>\n",
       "      <th>birth_year</th>\n",
       "      <th>birth_month</th>\n",
       "      <th>yield</th>\n",
       "    </tr>\n",
       "    <tr>\n",
       "      <th>id</th>\n",
       "      <th></th>\n",
       "      <th></th>\n",
       "      <th></th>\n",
       "      <th></th>\n",
       "      <th></th>\n",
       "      <th></th>\n",
       "      <th></th>\n",
       "      <th></th>\n",
       "      <th></th>\n",
       "      <th></th>\n",
       "      <th></th>\n",
       "      <th></th>\n",
       "      <th></th>\n",
       "      <th></th>\n",
       "      <th></th>\n",
       "      <th></th>\n",
       "      <th></th>\n",
       "      <th></th>\n",
       "      <th></th>\n",
       "      <th></th>\n",
       "      <th></th>\n",
       "      <th></th>\n",
       "      <th></th>\n",
       "      <th></th>\n",
       "      <th></th>\n",
       "      <th></th>\n",
       "      <th></th>\n",
       "      <th></th>\n",
       "      <th></th>\n",
       "      <th></th>\n",
       "      <th></th>\n",
       "      <th></th>\n",
       "      <th></th>\n",
       "      <th></th>\n",
       "      <th></th>\n",
       "      <th></th>\n",
       "      <th></th>\n",
       "      <th></th>\n",
       "      <th></th>\n",
       "      <th></th>\n",
       "    </tr>\n",
       "  </thead>\n",
       "  <tbody>\n",
       "    <tr>\n",
       "      <th>0</th>\n",
       "      <td>82.0</td>\n",
       "      <td>f</td>\n",
       "      <td>f</td>\n",
       "      <td>f</td>\n",
       "      <td>f</td>\n",
       "      <td>f</td>\n",
       "      <td>f</td>\n",
       "      <td>f</td>\n",
       "      <td>f</td>\n",
       "      <td>f</td>\n",
       "      <td>0.813772</td>\n",
       "      <td>t</td>\n",
       "      <td>1.0</td>\n",
       "      <td>68.0</td>\n",
       "      <td>0.77</td>\n",
       "      <td>t</td>\n",
       "      <td>svi</td>\n",
       "      <td>local-gov</td>\n",
       "      <td>365.447207</td>\n",
       "      <td>11.0</td>\n",
       "      <td>married-civ-spouse</td>\n",
       "      <td>protective-serv</td>\n",
       "      <td>husband</td>\n",
       "      <td>white</td>\n",
       "      <td>40.0</td>\n",
       "      <td>united-states</td>\n",
       "      <td>t</td>\n",
       "      <td>m</td>\n",
       "      <td>f</td>\n",
       "      <td>t</td>\n",
       "      <td>f</td>\n",
       "      <td>88.0</td>\n",
       "      <td>f</td>\n",
       "      <td>t</td>\n",
       "      <td>f</td>\n",
       "      <td>f</td>\n",
       "      <td>negative</td>\n",
       "      <td>1935.0</td>\n",
       "      <td>5.0</td>\n",
       "      <td>none</td>\n",
       "    </tr>\n",
       "    <tr>\n",
       "      <th>1</th>\n",
       "      <td>50.0</td>\n",
       "      <td>f</td>\n",
       "      <td>f</td>\n",
       "      <td>f</td>\n",
       "      <td>t</td>\n",
       "      <td>f</td>\n",
       "      <td>f</td>\n",
       "      <td>f</td>\n",
       "      <td>f</td>\n",
       "      <td>f</td>\n",
       "      <td>5.172593</td>\n",
       "      <td>t</td>\n",
       "      <td>0.5</td>\n",
       "      <td>22.0</td>\n",
       "      <td>1.12</td>\n",
       "      <td>t</td>\n",
       "      <td>other</td>\n",
       "      <td>local-gov</td>\n",
       "      <td>402.661130</td>\n",
       "      <td>13.0</td>\n",
       "      <td>divorced</td>\n",
       "      <td>prof-specialty</td>\n",
       "      <td>unmarried</td>\n",
       "      <td>white</td>\n",
       "      <td>35.0</td>\n",
       "      <td>united-states</td>\n",
       "      <td>t</td>\n",
       "      <td>f</td>\n",
       "      <td>f</td>\n",
       "      <td>t</td>\n",
       "      <td>f</td>\n",
       "      <td>19.0</td>\n",
       "      <td>f</td>\n",
       "      <td>t</td>\n",
       "      <td>f</td>\n",
       "      <td>f</td>\n",
       "      <td>negative</td>\n",
       "      <td>1967.0</td>\n",
       "      <td>8.0</td>\n",
       "      <td>none</td>\n",
       "    </tr>\n",
       "    <tr>\n",
       "      <th>2</th>\n",
       "      <td>41.0</td>\n",
       "      <td>f</td>\n",
       "      <td>f</td>\n",
       "      <td>f</td>\n",
       "      <td>f</td>\n",
       "      <td>f</td>\n",
       "      <td>f</td>\n",
       "      <td>f</td>\n",
       "      <td>f</td>\n",
       "      <td>f</td>\n",
       "      <td>NaN</td>\n",
       "      <td>t</td>\n",
       "      <td>2.0</td>\n",
       "      <td>99.0</td>\n",
       "      <td>0.96</td>\n",
       "      <td>t</td>\n",
       "      <td>other</td>\n",
       "      <td>self-emp-not-inc</td>\n",
       "      <td>318.259586</td>\n",
       "      <td>10.0</td>\n",
       "      <td>widowed</td>\n",
       "      <td>farming-fishing</td>\n",
       "      <td>unmarried</td>\n",
       "      <td>white</td>\n",
       "      <td>50.0</td>\n",
       "      <td>united-states</td>\n",
       "      <td>f</td>\n",
       "      <td>f</td>\n",
       "      <td>f</td>\n",
       "      <td>t</td>\n",
       "      <td>f</td>\n",
       "      <td>104.0</td>\n",
       "      <td>f</td>\n",
       "      <td>t</td>\n",
       "      <td>f</td>\n",
       "      <td>f</td>\n",
       "      <td>negative</td>\n",
       "      <td>1976.0</td>\n",
       "      <td>5.0</td>\n",
       "      <td>none</td>\n",
       "    </tr>\n",
       "    <tr>\n",
       "      <th>3</th>\n",
       "      <td>73.0</td>\n",
       "      <td>f</td>\n",
       "      <td>f</td>\n",
       "      <td>f</td>\n",
       "      <td>f</td>\n",
       "      <td>f</td>\n",
       "      <td>f</td>\n",
       "      <td>f</td>\n",
       "      <td>f</td>\n",
       "      <td>f</td>\n",
       "      <td>-0.351650</td>\n",
       "      <td>t</td>\n",
       "      <td>2.0</td>\n",
       "      <td>116.0</td>\n",
       "      <td>0.99</td>\n",
       "      <td>t</td>\n",
       "      <td>other</td>\n",
       "      <td>private</td>\n",
       "      <td>483.595580</td>\n",
       "      <td>9.0</td>\n",
       "      <td>married-civ-spouse</td>\n",
       "      <td>adm-clerical</td>\n",
       "      <td>wife</td>\n",
       "      <td>white</td>\n",
       "      <td>25.0</td>\n",
       "      <td>united-states</td>\n",
       "      <td>t</td>\n",
       "      <td>f</td>\n",
       "      <td>f</td>\n",
       "      <td>t</td>\n",
       "      <td>f</td>\n",
       "      <td>117.0</td>\n",
       "      <td>f</td>\n",
       "      <td>t</td>\n",
       "      <td>f</td>\n",
       "      <td>f</td>\n",
       "      <td>negative</td>\n",
       "      <td>1944.0</td>\n",
       "      <td>10.0</td>\n",
       "      <td>none</td>\n",
       "    </tr>\n",
       "    <tr>\n",
       "      <th>4</th>\n",
       "      <td>64.0</td>\n",
       "      <td>f</td>\n",
       "      <td>f</td>\n",
       "      <td>f</td>\n",
       "      <td>f</td>\n",
       "      <td>f</td>\n",
       "      <td>f</td>\n",
       "      <td>f</td>\n",
       "      <td>f</td>\n",
       "      <td>f</td>\n",
       "      <td>0.712661</td>\n",
       "      <td>t</td>\n",
       "      <td>1.8</td>\n",
       "      <td>80.0</td>\n",
       "      <td>0.91</td>\n",
       "      <td>t</td>\n",
       "      <td>svhc</td>\n",
       "      <td>self-emp-inc</td>\n",
       "      <td>550.637942</td>\n",
       "      <td>10.0</td>\n",
       "      <td>married-civ-spouse</td>\n",
       "      <td>sales</td>\n",
       "      <td>husband</td>\n",
       "      <td>white</td>\n",
       "      <td>60.0</td>\n",
       "      <td>united-states</td>\n",
       "      <td>t</td>\n",
       "      <td>m</td>\n",
       "      <td>f</td>\n",
       "      <td>t</td>\n",
       "      <td>f</td>\n",
       "      <td>88.0</td>\n",
       "      <td>f</td>\n",
       "      <td>t</td>\n",
       "      <td>f</td>\n",
       "      <td>f</td>\n",
       "      <td>negative</td>\n",
       "      <td>1953.0</td>\n",
       "      <td>5.0</td>\n",
       "      <td>none</td>\n",
       "    </tr>\n",
       "  </tbody>\n",
       "</table>\n",
       "</div>"
      ],
      "text/plain": [
       "     age on thyroxine query on thyroxine pregnant thyroid surgery  \\\n",
       "id                                                                  \n",
       "0   82.0            f                  f        f               f   \n",
       "1   50.0            f                  f        f               t   \n",
       "2   41.0            f                  f        f               f   \n",
       "3   73.0            f                  f        f               f   \n",
       "4   64.0            f                  f        f               f   \n",
       "\n",
       "   I131 treatment lithium goitre tumor hypopituitary       TSH T3 measured  \\\n",
       "id                                                                           \n",
       "0               f       f      f     f             f  0.813772           t   \n",
       "1               f       f      f     f             f  5.172593           t   \n",
       "2               f       f      f     f             f       NaN           t   \n",
       "3               f       f      f     f             f -0.351650           t   \n",
       "4               f       f      f     f             f  0.712661           t   \n",
       "\n",
       "     T3    TT4   T4U FTI measured referral source         workclass  \\\n",
       "id                                                                    \n",
       "0   1.0   68.0  0.77            t             svi         local-gov   \n",
       "1   0.5   22.0  1.12            t           other         local-gov   \n",
       "2   2.0   99.0  0.96            t           other  self-emp-not-inc   \n",
       "3   2.0  116.0  0.99            t           other           private   \n",
       "4   1.8   80.0  0.91            t            svhc      self-emp-inc   \n",
       "\n",
       "        fnlwgt  education-num      marital-status       occupation  \\\n",
       "id                                                                   \n",
       "0   365.447207           11.0  married-civ-spouse  protective-serv   \n",
       "1   402.661130           13.0            divorced   prof-specialty   \n",
       "2   318.259586           10.0             widowed  farming-fishing   \n",
       "3   483.595580            9.0  married-civ-spouse     adm-clerical   \n",
       "4   550.637942           10.0  married-civ-spouse            sales   \n",
       "\n",
       "   relationship   race  hours-per-week native-country TSH measured sex  \\\n",
       "id                                                                       \n",
       "0       husband  white            40.0  united-states            t   m   \n",
       "1     unmarried  white            35.0  united-states            t   f   \n",
       "2     unmarried  white            50.0  united-states            f   f   \n",
       "3          wife  white            25.0  united-states            t   f   \n",
       "4       husband  white            60.0  united-states            t   m   \n",
       "\n",
       "   query hyperthyroid TT4 measured on antithyroid medication    FTI sick  \\\n",
       "id                                                                         \n",
       "0                   f            t                         f   88.0    f   \n",
       "1                   f            t                         f   19.0    f   \n",
       "2                   f            t                         f  104.0    f   \n",
       "3                   f            t                         f  117.0    f   \n",
       "4                   f            t                         f   88.0    f   \n",
       "\n",
       "   T4U measured psych query hypothyroid      test  birth_year  birth_month  \\\n",
       "id                                                                           \n",
       "0             t     f                 f  negative      1935.0          5.0   \n",
       "1             t     f                 f  negative      1967.0          8.0   \n",
       "2             t     f                 f  negative      1976.0          5.0   \n",
       "3             t     f                 f  negative      1944.0         10.0   \n",
       "4             t     f                 f  negative      1953.0          5.0   \n",
       "\n",
       "   yield  \n",
       "id        \n",
       "0   none  \n",
       "1   none  \n",
       "2   none  \n",
       "3   none  \n",
       "4   none  "
      ]
     },
     "execution_count": 40,
     "metadata": {},
     "output_type": "execute_result"
    }
   ],
   "source": [
    "train_data.head()"
   ]
  },
  {
   "cell_type": "markdown",
   "metadata": {},
   "source": [
    "Neznáme hodnoty číselných atribútov sa pokúsime nahradiť priemerom, respektíve mediánom hodnôt daného atribútu."
   ]
  },
  {
   "cell_type": "code",
   "execution_count": 41,
   "metadata": {},
   "outputs": [],
   "source": [
    "mean_med = train_data.copy()\n",
    "\n",
    "for column in mean_med.columns:\n",
    "    if np.issubdtype(mean_med[column].dtype, np.number):\n",
    "        if mean_med[column].std() / mean_med[column].mean() <= 1:\n",
    "            mean = mean_med[column].mean()\n",
    "            for i in range(len(mean_med[column])):\n",
    "                if (np.isnan(mean_med.loc[i, column])):\n",
    "                    mean_med.loc[i, column] = mean\n",
    "        else:\n",
    "            median = mean_med[column].median()\n",
    "            for i in range(len(mean_med[column])):\n",
    "                if (np.isnan(mean_med.loc[i, column])):\n",
    "                    mean_med.loc[i, column] = median"
   ]
  },
  {
   "cell_type": "markdown",
   "metadata": {},
   "source": [
    "O to isté sa pokúsime aj využitím lineárnej regresie. Budeme pri tom ale musieť použiť pre necieľové stĺpce aj neznáme hodnoty nahradené priemerom/mediánom vo vyššej bunke, pretože regresia nedokáže pracovať s neznámymi hodnotami a niektoré pozorovania v dátovom súbore obsahujú viac neznámych pozorovaní. Nahradenie týchto priemerom/mediánom sa nám zdalo ako to najmenej poškodzujúce výsledok regresie.\n",
    "\n",
    "Je možné si povšimnúť, že lineárny model sa najlepšie natrénoval pre atribúty vek, TT4, T4U, FTI a rok narodenia, pri mesiaci narodenia sa ešte drží na ako-takej úrovni, ale pre TSH, T3, fnlwgt a education-num je už presnosť značne nízka a lineárna predikcia pre ne je prakticky nepoužiteľná."
   ]
  },
  {
   "cell_type": "code",
   "execution_count": 42,
   "metadata": {},
   "outputs": [
    {
     "name": "stdout",
     "output_type": "stream",
     "text": [
      "Presnosť pre age : 0.9819054656077083\n",
      "Presnosť pre TSH : 0.3173150414581769\n",
      "Presnosť pre T3 : 0.38166560912254544\n",
      "Presnosť pre TT4 : 0.952284434673831\n",
      "Presnosť pre T4U : 0.9274857576588506\n",
      "Presnosť pre fnlwgt : -0.03016665025669285\n",
      "Presnosť pre education-num : 0.02461779432502098\n",
      "Presnosť pre hours-per-week : 0.014807063286364053\n",
      "Presnosť pre FTI : 0.9472329851496215\n",
      "Presnosť pre birth_year : 0.9857939385707002\n",
      "Presnosť pre birth_month : -21329.19718660743\n"
     ]
    }
   ],
   "source": [
    "import sklearn.linear_model\n",
    "import sklearn.model_selection\n",
    "\n",
    "linreg = train_data.copy()\n",
    "allNumeric = pd.DataFrame()\n",
    "\n",
    "for col in train_data.columns:\n",
    "    if np.issubdtype(train_data[col].dtype, np.number):\n",
    "        allNumeric[col] = train_data[col].dropna()\n",
    "\n",
    "for col in train_data.columns:\n",
    "    if np.issubdtype(train_data[col].dtype, np.number):\n",
    "        allNumeric = allNumeric.dropna()\n",
    "        X = allNumeric\n",
    "        y = allNumeric[col]\n",
    "        X = X.drop(col, axis=1)\n",
    "        \n",
    "        X_train, X_test, y_train, y_test = sklearn.model_selection.train_test_split(X, y, test_size=0.2)\n",
    "        \n",
    "        reg = sklearn.linear_model.LinearRegression()\n",
    "        reg.fit(X_train, y_train)\n",
    "        print(\"Presnosť pre\", col, \":\", reg.score(X_test, y_test))\n",
    "        \n",
    "        notknown = pd.DataFrame()\n",
    "        for col2 in train_data.columns:\n",
    "            if np.issubdtype(train_data[col2].dtype, np.number):\n",
    "                #kvôli neznámym hodnotam v necieľových stĺpcoch musíme použiť odhad neznámych dohnôt priemerom/mediánom\n",
    "                notknown[col2] = mean_med[col2]\n",
    "            if col2 == col:\n",
    "                #iba pre cieľový stĺpec vyberáme dáta z pôvodného súboru, kde sú stále aj neznáme hodnoty\n",
    "                notknown[col2] = train_data[col2]\n",
    "        \n",
    "        notknown = notknown[pd.isna(notknown[col])]\n",
    "        if (notknown.shape[0] == 0):\n",
    "            continue\n",
    "            \n",
    "        X = notknown\n",
    "        y = notknown[col]\n",
    "        X = X.drop(col, axis=1)\n",
    "                \n",
    "        y = reg.predict(X)\n",
    "        \n",
    "        #postupne dopĺňame neznáme hodnoty hodnotami odhadovanými lineárnou regresiou\n",
    "        i2 = 0\n",
    "        for i in range(linreg.shape[0]):\n",
    "            if (pd.isna(linreg.loc[i, col])):\n",
    "                linreg.loc[i, col] = y[i2]\n",
    "                i2 = i2 + 1\n"
   ]
  },
  {
   "cell_type": "markdown",
   "metadata": {},
   "source": [
    "Odhady zistené pomocou priemeru/mediánu a lineárnou regresiou si navzájom porovnáme. "
   ]
  },
  {
   "cell_type": "markdown",
   "metadata": {},
   "source": [
    "Je možné pozorovať, že nahradzovanie priemerom/mediánom pri atribútoch, ktoré dosahovali viac neznámych hodnôt výrazne navyšovalo počet hodnôt uprostred distribúcie atribútu - čo sa dalo očakávať - pričom lineárna regresia pri atribútoch vek a T3 lepšie udržala po oprave pôvodnú distribúciu hodnôt. V prípadoch TSH, TT4, T4U a FTI boli výsledky oboch týchto metód z hľadiska distribúcie hodnôt pomerne podobné, s miernou favorizáciou lineárnej regresie a pri atribútoch fnlwgt, education-num, hrous-per-week mesiac a rok narodenia boli distribúcie vizuálne totožné, čo bolo zapríčinené nízkym počtom chýbajúcich hodnôt pri týchto atribútoch."
   ]
  },
  {
   "cell_type": "code",
   "execution_count": 43,
   "metadata": {},
   "outputs": [
    {
     "name": "stderr",
     "output_type": "stream",
     "text": [
      "C:\\Anaconda3\\lib\\site-packages\\matplotlib\\pyplot.py:528: RuntimeWarning: More than 20 figures have been opened. Figures created through the pyplot interface (`matplotlib.pyplot.figure`) are retained until explicitly closed and may consume too much memory. (To control this warning, see the rcParam `figure.max_open_warning`).\n",
      "  max_open_warning, RuntimeWarning)\n"
     ]
    },
    {
     "data": {
      "image/png": "[encoded data removed]",
      "text/plain": [
       "<matplotlib.figure.Figure at 0x1a497415860>"
      ]
     },
     "metadata": {},
     "output_type": "display_data"
    },
    {
     "data": {
      "image/png": "[encoded data removed]",
      "text/plain": [
       "<matplotlib.figure.Figure at 0x1a4971be780>"
      ]
     },
     "metadata": {},
     "output_type": "display_data"
    },
    {
     "data": {
      "image/png": "[encoded data removed]",
      "text/plain": [
       "<matplotlib.figure.Figure at 0x1a4971a3320>"
      ]
     },
     "metadata": {},
     "output_type": "display_data"
    },
    {
     "data": {
      "image/png": "[encoded data removed]",
      "text/plain": [
       "<matplotlib.figure.Figure at 0x1a4970fdf60>"
      ]
     },
     "metadata": {},
     "output_type": "display_data"
    },
    {
     "data": {
      "image/png": "[encoded data removed]",
      "text/plain": [
       "<matplotlib.figure.Figure at 0x1a4984e4fd0>"
      ]
     },
     "metadata": {},
     "output_type": "display_data"
    },
    {
     "data": {
      "image/png": "[encoded data removed]",
      "text/plain": [
       "<matplotlib.figure.Figure at 0x1a49950d128>"
      ]
     },
     "metadata": {},
     "output_type": "display_data"
    },
    {
     "data": {
      "image/png": "[encoded data removed]",
      "text/plain": [
       "<matplotlib.figure.Figure at 0x1a4981a79b0>"
      ]
     },
     "metadata": {},
     "output_type": "display_data"
    },
    {
     "data": {
      "image/png": "[encoded data removed]",
      "text/plain": [
       "<matplotlib.figure.Figure at 0x1a498236320>"
      ]
     },
     "metadata": {},
     "output_type": "display_data"
    },
    {
     "data": {
      "image/png": "[encoded data removed]",
      "text/plain": [
       "<matplotlib.figure.Figure at 0x1a49971d2b0>"
      ]
     },
     "metadata": {},
     "output_type": "display_data"
    },
    {
     "data": {
      "image/png": "[encoded data removed]",
      "text/plain": [
       "<matplotlib.figure.Figure at 0x1a4997c56d8>"
      ]
     },
     "metadata": {},
     "output_type": "display_data"
    },
    {
     "data": {
      "image/png": "[encoded data removed]",
      "text/plain": [
       "<matplotlib.figure.Figure at 0x1a4998780b8>"
      ]
     },
     "metadata": {},
     "output_type": "display_data"
    },
    {
     "data": {
      "image/png": "[encoded data removed]",
      "text/plain": [
       "<matplotlib.figure.Figure at 0x1a49991f828>"
      ]
     },
     "metadata": {},
     "output_type": "display_data"
    },
    {
     "data": {
      "image/png": "[encoded data removed]",
      "text/plain": [
       "<matplotlib.figure.Figure at 0x1a4999d12b0>"
      ]
     },
     "metadata": {},
     "output_type": "display_data"
    },
    {
     "data": {
      "image/png": "[encoded data removed]",
      "text/plain": [
       "<matplotlib.figure.Figure at 0x1a499a791d0>"
      ]
     },
     "metadata": {},
     "output_type": "display_data"
    },
    {
     "data": {
      "image/png": "[encoded data removed]",
      "text/plain": [
       "<matplotlib.figure.Figure at 0x1a499a49080>"
      ]
     },
     "metadata": {},
     "output_type": "display_data"
    },
    {
     "data": {
      "image/png": "[encoded data removed]",
      "text/plain": [
       "<matplotlib.figure.Figure at 0x1a499bcc908>"
      ]
     },
     "metadata": {},
     "output_type": "display_data"
    },
    {
     "data": {
      "image/png": "[encoded data removed]",
      "text/plain": [
       "<matplotlib.figure.Figure at 0x1a499c75a58>"
      ]
     },
     "metadata": {},
     "output_type": "display_data"
    },
    {
     "data": {
      "image/png": "[encoded data removed]",
      "text/plain": [
       "<matplotlib.figure.Figure at 0x1a499d264a8>"
      ]
     },
     "metadata": {},
     "output_type": "display_data"
    },
    {
     "data": {
      "image/png": "[encoded data removed]",
      "text/plain": [
       "<matplotlib.figure.Figure at 0x1a499dc62b0>"
      ]
     },
     "metadata": {},
     "output_type": "display_data"
    },
    {
     "data": {
      "image/png": "[encoded data removed]",
      "text/plain": [
       "<matplotlib.figure.Figure at 0x1a499e6bbe0>"
      ]
     },
     "metadata": {},
     "output_type": "display_data"
    },
    {
     "data": {
      "image/png": "[encoded data removed]",
      "text/plain": [
       "<matplotlib.figure.Figure at 0x1a499f16a90>"
      ]
     },
     "metadata": {},
     "output_type": "display_data"
    },
    {
     "data": {
      "image/png": "[encoded data removed]",
      "text/plain": [
       "<matplotlib.figure.Figure at 0x1a499fbca58>"
      ]
     },
     "metadata": {},
     "output_type": "display_data"
    },
    {
     "data": {
      "image/png": "[encoded data removed]",
      "text/plain": [
       "<matplotlib.figure.Figure at 0x1a49a0763c8>"
      ]
     },
     "metadata": {},
     "output_type": "display_data"
    },
    {
     "data": {
      "image/png": "[encoded data removed]",
      "text/plain": [
       "<matplotlib.figure.Figure at 0x1a49a1206d8>"
      ]
     },
     "metadata": {},
     "output_type": "display_data"
    },
    {
     "data": {
      "image/png": "[encoded data removed]",
      "text/plain": [
       "<matplotlib.figure.Figure at 0x1a49a1cafd0>"
      ]
     },
     "metadata": {},
     "output_type": "display_data"
    },
    {
     "data": {
      "image/png": "[encoded data removed]",
      "text/plain": [
       "<matplotlib.figure.Figure at 0x1a49a271fd0>"
      ]
     },
     "metadata": {},
     "output_type": "display_data"
    },
    {
     "data": {
      "image/png": "[encoded data removed]",
      "text/plain": [
       "<matplotlib.figure.Figure at 0x1a49a327940>"
      ]
     },
     "metadata": {},
     "output_type": "display_data"
    },
    {
     "data": {
      "image/png": "[encoded data removed]",
      "text/plain": [
       "<matplotlib.figure.Figure at 0x1a49a3d1828>"
      ]
     },
     "metadata": {},
     "output_type": "display_data"
    },
    {
     "data": {
      "image/png": "[encoded data removed]",
      "text/plain": [
       "<matplotlib.figure.Figure at 0x1a49a479c18>"
      ]
     },
     "metadata": {},
     "output_type": "display_data"
    },
    {
     "data": {
      "image/png": "[encoded data removed]",
      "text/plain": [
       "<matplotlib.figure.Figure at 0x1a49a52e588>"
      ]
     },
     "metadata": {},
     "output_type": "display_data"
    },
    {
     "data": {
      "image/png": "[encoded data removed]",
      "text/plain": [
       "<matplotlib.figure.Figure at 0x1a49a5d79b0>"
      ]
     },
     "metadata": {},
     "output_type": "display_data"
    },
    {
     "data": {
      "image/png": "[encoded data removed]",
      "text/plain": [
       "<matplotlib.figure.Figure at 0x1a49a68e240>"
      ]
     },
     "metadata": {},
     "output_type": "display_data"
    },
    {
     "data": {
      "image/png": "[encoded data removed]",
      "text/plain": [
       "<matplotlib.figure.Figure at 0x1a49a7361d0>"
      ]
     },
     "metadata": {},
     "output_type": "display_data"
    },
    {
     "data": {
      "text/plain": [
       "<matplotlib.figure.Figure at 0x1a49a7e20b8>"
      ]
     },
     "metadata": {},
     "output_type": "display_data"
    }
   ],
   "source": [
    "for col in train_data.columns:\n",
    "    if np.issubdtype(train_data[col].dtype, np.number):\n",
    "        pd.Series(train_data[col]).hist(bins=50).set_title(col + \" (orig)\")\n",
    "        plt.figure()\n",
    "        pd.Series(mean_med[col]).hist(bins=50).set_title(col + \" (priemer/medián)\")\n",
    "        plt.figure()\n",
    "        pd.Series(linreg[col]).hist(bins=50).set_title(col + \" (lineárna regresia)\")\n",
    "        plt.figure()"
   ]
  },
  {
   "cell_type": "markdown",
   "metadata": {},
   "source": [
    "Čo sa týka deskriptívnych mierok, tak minimá a maximá atribútov boli zachované pri oboch metódach."
   ]
  },
  {
   "cell_type": "code",
   "execution_count": 44,
   "metadata": {},
   "outputs": [
    {
     "data": {
      "text/html": [
       "<div>\n",
       "<style scoped>\n",
       "    .dataframe tbody tr th:only-of-type {\n",
       "        vertical-align: middle;\n",
       "    }\n",
       "\n",
       "    .dataframe tbody tr th {\n",
       "        vertical-align: top;\n",
       "    }\n",
       "\n",
       "    .dataframe thead th {\n",
       "        text-align: right;\n",
       "    }\n",
       "</style>\n",
       "<table border=\"1\" class=\"dataframe\">\n",
       "  <thead>\n",
       "    <tr style=\"text-align: right;\">\n",
       "      <th></th>\n",
       "      <th>age</th>\n",
       "      <th>TSH</th>\n",
       "      <th>T3</th>\n",
       "      <th>TT4</th>\n",
       "      <th>T4U</th>\n",
       "      <th>fnlwgt</th>\n",
       "      <th>education-num</th>\n",
       "      <th>hours-per-week</th>\n",
       "      <th>FTI</th>\n",
       "      <th>birth_year</th>\n",
       "      <th>birth_month</th>\n",
       "    </tr>\n",
       "  </thead>\n",
       "  <tbody>\n",
       "    <tr>\n",
       "      <th>count</th>\n",
       "      <td>2519.000000</td>\n",
       "      <td>2516.000000</td>\n",
       "      <td>2215.000000</td>\n",
       "      <td>2352.000000</td>\n",
       "      <td>2503.000000</td>\n",
       "      <td>2800.000000</td>\n",
       "      <td>2800.000000</td>\n",
       "      <td>2800.000000</td>\n",
       "      <td>2505.000000</td>\n",
       "      <td>2793.000000</td>\n",
       "      <td>2793.000000</td>\n",
       "    </tr>\n",
       "    <tr>\n",
       "      <th>mean</th>\n",
       "      <td>51.634776</td>\n",
       "      <td>0.145862</td>\n",
       "      <td>2.048894</td>\n",
       "      <td>108.963605</td>\n",
       "      <td>1.019434</td>\n",
       "      <td>395.158707</td>\n",
       "      <td>10.096429</td>\n",
       "      <td>38.177696</td>\n",
       "      <td>110.768423</td>\n",
       "      <td>1964.830290</td>\n",
       "      <td>6.554243</td>\n",
       "    </tr>\n",
       "    <tr>\n",
       "      <th>std</th>\n",
       "      <td>18.903753</td>\n",
       "      <td>2.081516</td>\n",
       "      <td>1.395329</td>\n",
       "      <td>35.639649</td>\n",
       "      <td>1.096757</td>\n",
       "      <td>93.751805</td>\n",
       "      <td>2.576446</td>\n",
       "      <td>11.320362</td>\n",
       "      <td>32.902594</td>\n",
       "      <td>40.800661</td>\n",
       "      <td>3.593015</td>\n",
       "    </tr>\n",
       "    <tr>\n",
       "      <th>min</th>\n",
       "      <td>1.000000</td>\n",
       "      <td>-4.321335</td>\n",
       "      <td>0.050000</td>\n",
       "      <td>2.000000</td>\n",
       "      <td>0.310000</td>\n",
       "      <td>55.000000</td>\n",
       "      <td>1.000000</td>\n",
       "      <td>1.000000</td>\n",
       "      <td>2.000000</td>\n",
       "      <td>55.000000</td>\n",
       "      <td>1.000000</td>\n",
       "    </tr>\n",
       "    <tr>\n",
       "      <th>25%</th>\n",
       "      <td>36.000000</td>\n",
       "      <td>-0.794684</td>\n",
       "      <td>1.600000</td>\n",
       "      <td>88.000000</td>\n",
       "      <td>0.880000</td>\n",
       "      <td>338.579230</td>\n",
       "      <td>9.000000</td>\n",
       "      <td>35.000000</td>\n",
       "      <td>93.000000</td>\n",
       "      <td>1950.000000</td>\n",
       "      <td>3.000000</td>\n",
       "    </tr>\n",
       "    <tr>\n",
       "      <th>50%</th>\n",
       "      <td>54.000000</td>\n",
       "      <td>0.341027</td>\n",
       "      <td>2.000000</td>\n",
       "      <td>104.000000</td>\n",
       "      <td>0.980000</td>\n",
       "      <td>402.288698</td>\n",
       "      <td>10.000000</td>\n",
       "      <td>40.000000</td>\n",
       "      <td>107.000000</td>\n",
       "      <td>1963.000000</td>\n",
       "      <td>7.000000</td>\n",
       "    </tr>\n",
       "    <tr>\n",
       "      <th>75%</th>\n",
       "      <td>67.000000</td>\n",
       "      <td>0.992857</td>\n",
       "      <td>2.400000</td>\n",
       "      <td>125.000000</td>\n",
       "      <td>1.080000</td>\n",
       "      <td>447.824789</td>\n",
       "      <td>12.000000</td>\n",
       "      <td>40.000000</td>\n",
       "      <td>124.000000</td>\n",
       "      <td>1981.000000</td>\n",
       "      <td>10.000000</td>\n",
       "    </tr>\n",
       "    <tr>\n",
       "      <th>max</th>\n",
       "      <td>94.000000</td>\n",
       "      <td>55.000000</td>\n",
       "      <td>55.000000</td>\n",
       "      <td>430.000000</td>\n",
       "      <td>55.000000</td>\n",
       "      <td>703.319089</td>\n",
       "      <td>55.000000</td>\n",
       "      <td>85.000000</td>\n",
       "      <td>395.000000</td>\n",
       "      <td>2017.000000</td>\n",
       "      <td>55.000000</td>\n",
       "    </tr>\n",
       "  </tbody>\n",
       "</table>\n",
       "</div>"
      ],
      "text/plain": [
       "               age          TSH           T3          TT4          T4U  \\\n",
       "count  2519.000000  2516.000000  2215.000000  2352.000000  2503.000000   \n",
       "mean     51.634776     0.145862     2.048894   108.963605     1.019434   \n",
       "std      18.903753     2.081516     1.395329    35.639649     1.096757   \n",
       "min       1.000000    -4.321335     0.050000     2.000000     0.310000   \n",
       "25%      36.000000    -0.794684     1.600000    88.000000     0.880000   \n",
       "50%      54.000000     0.341027     2.000000   104.000000     0.980000   \n",
       "75%      67.000000     0.992857     2.400000   125.000000     1.080000   \n",
       "max      94.000000    55.000000    55.000000   430.000000    55.000000   \n",
       "\n",
       "            fnlwgt  education-num  hours-per-week          FTI   birth_year  \\\n",
       "count  2800.000000    2800.000000     2800.000000  2505.000000  2793.000000   \n",
       "mean    395.158707      10.096429       38.177696   110.768423  1964.830290   \n",
       "std      93.751805       2.576446       11.320362    32.902594    40.800661   \n",
       "min      55.000000       1.000000        1.000000     2.000000    55.000000   \n",
       "25%     338.579230       9.000000       35.000000    93.000000  1950.000000   \n",
       "50%     402.288698      10.000000       40.000000   107.000000  1963.000000   \n",
       "75%     447.824789      12.000000       40.000000   124.000000  1981.000000   \n",
       "max     703.319089      55.000000       85.000000   395.000000  2017.000000   \n",
       "\n",
       "       birth_month  \n",
       "count  2793.000000  \n",
       "mean      6.554243  \n",
       "std       3.593015  \n",
       "min       1.000000  \n",
       "25%       3.000000  \n",
       "50%       7.000000  \n",
       "75%      10.000000  \n",
       "max      55.000000  "
      ]
     },
     "execution_count": 44,
     "metadata": {},
     "output_type": "execute_result"
    }
   ],
   "source": [
    "train_data.describe()"
   ]
  },
  {
   "cell_type": "code",
   "execution_count": 45,
   "metadata": {},
   "outputs": [
    {
     "data": {
      "text/html": [
       "<div>\n",
       "<style scoped>\n",
       "    .dataframe tbody tr th:only-of-type {\n",
       "        vertical-align: middle;\n",
       "    }\n",
       "\n",
       "    .dataframe tbody tr th {\n",
       "        vertical-align: top;\n",
       "    }\n",
       "\n",
       "    .dataframe thead th {\n",
       "        text-align: right;\n",
       "    }\n",
       "</style>\n",
       "<table border=\"1\" class=\"dataframe\">\n",
       "  <thead>\n",
       "    <tr style=\"text-align: right;\">\n",
       "      <th></th>\n",
       "      <th>age</th>\n",
       "      <th>TSH</th>\n",
       "      <th>T3</th>\n",
       "      <th>TT4</th>\n",
       "      <th>T4U</th>\n",
       "      <th>fnlwgt</th>\n",
       "      <th>education-num</th>\n",
       "      <th>hours-per-week</th>\n",
       "      <th>FTI</th>\n",
       "      <th>birth_year</th>\n",
       "      <th>birth_month</th>\n",
       "    </tr>\n",
       "  </thead>\n",
       "  <tbody>\n",
       "    <tr>\n",
       "      <th>count</th>\n",
       "      <td>2800.000000</td>\n",
       "      <td>2800.000000</td>\n",
       "      <td>2800.000000</td>\n",
       "      <td>2800.000000</td>\n",
       "      <td>2800.000000</td>\n",
       "      <td>2800.000000</td>\n",
       "      <td>2800.000000</td>\n",
       "      <td>2800.000000</td>\n",
       "      <td>2800.000000</td>\n",
       "      <td>2800.00000</td>\n",
       "      <td>2800.000000</td>\n",
       "    </tr>\n",
       "    <tr>\n",
       "      <th>mean</th>\n",
       "      <td>51.634776</td>\n",
       "      <td>0.165657</td>\n",
       "      <td>2.048894</td>\n",
       "      <td>108.963605</td>\n",
       "      <td>1.015251</td>\n",
       "      <td>395.158707</td>\n",
       "      <td>10.096429</td>\n",
       "      <td>38.177696</td>\n",
       "      <td>110.768423</td>\n",
       "      <td>1964.83029</td>\n",
       "      <td>6.554243</td>\n",
       "    </tr>\n",
       "    <tr>\n",
       "      <th>std</th>\n",
       "      <td>17.929758</td>\n",
       "      <td>1.973972</td>\n",
       "      <td>1.240977</td>\n",
       "      <td>32.663167</td>\n",
       "      <td>1.037008</td>\n",
       "      <td>93.751805</td>\n",
       "      <td>2.576446</td>\n",
       "      <td>11.320362</td>\n",
       "      <td>31.120448</td>\n",
       "      <td>40.74961</td>\n",
       "      <td>3.588519</td>\n",
       "    </tr>\n",
       "    <tr>\n",
       "      <th>min</th>\n",
       "      <td>1.000000</td>\n",
       "      <td>-4.321335</td>\n",
       "      <td>0.050000</td>\n",
       "      <td>2.000000</td>\n",
       "      <td>0.310000</td>\n",
       "      <td>55.000000</td>\n",
       "      <td>1.000000</td>\n",
       "      <td>1.000000</td>\n",
       "      <td>2.000000</td>\n",
       "      <td>55.00000</td>\n",
       "      <td>1.000000</td>\n",
       "    </tr>\n",
       "    <tr>\n",
       "      <th>25%</th>\n",
       "      <td>38.000000</td>\n",
       "      <td>-0.504593</td>\n",
       "      <td>1.700000</td>\n",
       "      <td>91.000000</td>\n",
       "      <td>0.890000</td>\n",
       "      <td>338.579230</td>\n",
       "      <td>9.000000</td>\n",
       "      <td>35.000000</td>\n",
       "      <td>95.000000</td>\n",
       "      <td>1950.00000</td>\n",
       "      <td>3.000000</td>\n",
       "    </tr>\n",
       "    <tr>\n",
       "      <th>50%</th>\n",
       "      <td>51.634776</td>\n",
       "      <td>0.341027</td>\n",
       "      <td>2.048894</td>\n",
       "      <td>108.963605</td>\n",
       "      <td>0.980000</td>\n",
       "      <td>402.288698</td>\n",
       "      <td>10.000000</td>\n",
       "      <td>40.000000</td>\n",
       "      <td>110.000000</td>\n",
       "      <td>1963.00000</td>\n",
       "      <td>7.000000</td>\n",
       "    </tr>\n",
       "    <tr>\n",
       "      <th>75%</th>\n",
       "      <td>65.000000</td>\n",
       "      <td>0.906752</td>\n",
       "      <td>2.300000</td>\n",
       "      <td>120.000000</td>\n",
       "      <td>1.070000</td>\n",
       "      <td>447.824789</td>\n",
       "      <td>12.000000</td>\n",
       "      <td>40.000000</td>\n",
       "      <td>122.000000</td>\n",
       "      <td>1981.00000</td>\n",
       "      <td>10.000000</td>\n",
       "    </tr>\n",
       "    <tr>\n",
       "      <th>max</th>\n",
       "      <td>94.000000</td>\n",
       "      <td>55.000000</td>\n",
       "      <td>55.000000</td>\n",
       "      <td>430.000000</td>\n",
       "      <td>55.000000</td>\n",
       "      <td>703.319089</td>\n",
       "      <td>55.000000</td>\n",
       "      <td>85.000000</td>\n",
       "      <td>395.000000</td>\n",
       "      <td>2017.00000</td>\n",
       "      <td>55.000000</td>\n",
       "    </tr>\n",
       "  </tbody>\n",
       "</table>\n",
       "</div>"
      ],
      "text/plain": [
       "               age          TSH           T3          TT4          T4U  \\\n",
       "count  2800.000000  2800.000000  2800.000000  2800.000000  2800.000000   \n",
       "mean     51.634776     0.165657     2.048894   108.963605     1.015251   \n",
       "std      17.929758     1.973972     1.240977    32.663167     1.037008   \n",
       "min       1.000000    -4.321335     0.050000     2.000000     0.310000   \n",
       "25%      38.000000    -0.504593     1.700000    91.000000     0.890000   \n",
       "50%      51.634776     0.341027     2.048894   108.963605     0.980000   \n",
       "75%      65.000000     0.906752     2.300000   120.000000     1.070000   \n",
       "max      94.000000    55.000000    55.000000   430.000000    55.000000   \n",
       "\n",
       "            fnlwgt  education-num  hours-per-week          FTI  birth_year  \\\n",
       "count  2800.000000    2800.000000     2800.000000  2800.000000  2800.00000   \n",
       "mean    395.158707      10.096429       38.177696   110.768423  1964.83029   \n",
       "std      93.751805       2.576446       11.320362    31.120448    40.74961   \n",
       "min      55.000000       1.000000        1.000000     2.000000    55.00000   \n",
       "25%     338.579230       9.000000       35.000000    95.000000  1950.00000   \n",
       "50%     402.288698      10.000000       40.000000   110.000000  1963.00000   \n",
       "75%     447.824789      12.000000       40.000000   122.000000  1981.00000   \n",
       "max     703.319089      55.000000       85.000000   395.000000  2017.00000   \n",
       "\n",
       "       birth_month  \n",
       "count  2800.000000  \n",
       "mean      6.554243  \n",
       "std       3.588519  \n",
       "min       1.000000  \n",
       "25%       3.000000  \n",
       "50%       7.000000  \n",
       "75%      10.000000  \n",
       "max      55.000000  "
      ]
     },
     "execution_count": 45,
     "metadata": {},
     "output_type": "execute_result"
    }
   ],
   "source": [
    "mean_med.describe()"
   ]
  },
  {
   "cell_type": "code",
   "execution_count": 46,
   "metadata": {},
   "outputs": [
    {
     "data": {
      "text/html": [
       "<div>\n",
       "<style scoped>\n",
       "    .dataframe tbody tr th:only-of-type {\n",
       "        vertical-align: middle;\n",
       "    }\n",
       "\n",
       "    .dataframe tbody tr th {\n",
       "        vertical-align: top;\n",
       "    }\n",
       "\n",
       "    .dataframe thead th {\n",
       "        text-align: right;\n",
       "    }\n",
       "</style>\n",
       "<table border=\"1\" class=\"dataframe\">\n",
       "  <thead>\n",
       "    <tr style=\"text-align: right;\">\n",
       "      <th></th>\n",
       "      <th>age</th>\n",
       "      <th>TSH</th>\n",
       "      <th>T3</th>\n",
       "      <th>TT4</th>\n",
       "      <th>T4U</th>\n",
       "      <th>fnlwgt</th>\n",
       "      <th>education-num</th>\n",
       "      <th>hours-per-week</th>\n",
       "      <th>FTI</th>\n",
       "      <th>birth_year</th>\n",
       "      <th>birth_month</th>\n",
       "    </tr>\n",
       "  </thead>\n",
       "  <tbody>\n",
       "    <tr>\n",
       "      <th>count</th>\n",
       "      <td>2800.000000</td>\n",
       "      <td>2800.000000</td>\n",
       "      <td>2800.000000</td>\n",
       "      <td>2800.000000</td>\n",
       "      <td>2800.000000</td>\n",
       "      <td>2800.000000</td>\n",
       "      <td>2800.000000</td>\n",
       "      <td>2800.000000</td>\n",
       "      <td>2800.000000</td>\n",
       "      <td>2800.000000</td>\n",
       "      <td>2800.000000</td>\n",
       "    </tr>\n",
       "    <tr>\n",
       "      <th>mean</th>\n",
       "      <td>51.684637</td>\n",
       "      <td>0.140825</td>\n",
       "      <td>2.060047</td>\n",
       "      <td>109.092966</td>\n",
       "      <td>1.012078</td>\n",
       "      <td>395.158707</td>\n",
       "      <td>10.096429</td>\n",
       "      <td>38.177696</td>\n",
       "      <td>110.394128</td>\n",
       "      <td>1964.846568</td>\n",
       "      <td>6.660382</td>\n",
       "    </tr>\n",
       "    <tr>\n",
       "      <th>std</th>\n",
       "      <td>18.936516</td>\n",
       "      <td>1.981544</td>\n",
       "      <td>1.268734</td>\n",
       "      <td>35.165603</td>\n",
       "      <td>1.040421</td>\n",
       "      <td>93.751805</td>\n",
       "      <td>2.576446</td>\n",
       "      <td>11.320362</td>\n",
       "      <td>32.458201</td>\n",
       "      <td>40.771833</td>\n",
       "      <td>8.610909</td>\n",
       "    </tr>\n",
       "    <tr>\n",
       "      <th>min</th>\n",
       "      <td>1.000000</td>\n",
       "      <td>-4.321335</td>\n",
       "      <td>0.050000</td>\n",
       "      <td>-8.092731</td>\n",
       "      <td>-0.072301</td>\n",
       "      <td>55.000000</td>\n",
       "      <td>1.000000</td>\n",
       "      <td>1.000000</td>\n",
       "      <td>-2.302819</td>\n",
       "      <td>55.000000</td>\n",
       "      <td>-200.097275</td>\n",
       "    </tr>\n",
       "    <tr>\n",
       "      <th>25%</th>\n",
       "      <td>36.000000</td>\n",
       "      <td>-0.654522</td>\n",
       "      <td>1.600000</td>\n",
       "      <td>89.000000</td>\n",
       "      <td>0.880000</td>\n",
       "      <td>338.579230</td>\n",
       "      <td>9.000000</td>\n",
       "      <td>35.000000</td>\n",
       "      <td>93.000000</td>\n",
       "      <td>1950.000000</td>\n",
       "      <td>3.000000</td>\n",
       "    </tr>\n",
       "    <tr>\n",
       "      <th>50%</th>\n",
       "      <td>54.000000</td>\n",
       "      <td>0.265128</td>\n",
       "      <td>2.000000</td>\n",
       "      <td>106.000000</td>\n",
       "      <td>0.986321</td>\n",
       "      <td>402.288698</td>\n",
       "      <td>10.000000</td>\n",
       "      <td>40.000000</td>\n",
       "      <td>108.000000</td>\n",
       "      <td>1963.000000</td>\n",
       "      <td>7.000000</td>\n",
       "    </tr>\n",
       "    <tr>\n",
       "      <th>75%</th>\n",
       "      <td>67.000000</td>\n",
       "      <td>0.906752</td>\n",
       "      <td>2.372831</td>\n",
       "      <td>124.000000</td>\n",
       "      <td>1.080000</td>\n",
       "      <td>447.824789</td>\n",
       "      <td>12.000000</td>\n",
       "      <td>40.000000</td>\n",
       "      <td>123.000000</td>\n",
       "      <td>1981.000000</td>\n",
       "      <td>10.000000</td>\n",
       "    </tr>\n",
       "    <tr>\n",
       "      <th>max</th>\n",
       "      <td>94.000000</td>\n",
       "      <td>55.000000</td>\n",
       "      <td>55.000000</td>\n",
       "      <td>430.000000</td>\n",
       "      <td>55.000000</td>\n",
       "      <td>703.319089</td>\n",
       "      <td>55.000000</td>\n",
       "      <td>85.000000</td>\n",
       "      <td>395.000000</td>\n",
       "      <td>2017.000000</td>\n",
       "      <td>277.332909</td>\n",
       "    </tr>\n",
       "  </tbody>\n",
       "</table>\n",
       "</div>"
      ],
      "text/plain": [
       "               age          TSH           T3          TT4          T4U  \\\n",
       "count  2800.000000  2800.000000  2800.000000  2800.000000  2800.000000   \n",
       "mean     51.684637     0.140825     2.060047   109.092966     1.012078   \n",
       "std      18.936516     1.981544     1.268734    35.165603     1.040421   \n",
       "min       1.000000    -4.321335     0.050000    -8.092731    -0.072301   \n",
       "25%      36.000000    -0.654522     1.600000    89.000000     0.880000   \n",
       "50%      54.000000     0.265128     2.000000   106.000000     0.986321   \n",
       "75%      67.000000     0.906752     2.372831   124.000000     1.080000   \n",
       "max      94.000000    55.000000    55.000000   430.000000    55.000000   \n",
       "\n",
       "            fnlwgt  education-num  hours-per-week          FTI   birth_year  \\\n",
       "count  2800.000000    2800.000000     2800.000000  2800.000000  2800.000000   \n",
       "mean    395.158707      10.096429       38.177696   110.394128  1964.846568   \n",
       "std      93.751805       2.576446       11.320362    32.458201    40.771833   \n",
       "min      55.000000       1.000000        1.000000    -2.302819    55.000000   \n",
       "25%     338.579230       9.000000       35.000000    93.000000  1950.000000   \n",
       "50%     402.288698      10.000000       40.000000   108.000000  1963.000000   \n",
       "75%     447.824789      12.000000       40.000000   123.000000  1981.000000   \n",
       "max     703.319089      55.000000       85.000000   395.000000  2017.000000   \n",
       "\n",
       "       birth_month  \n",
       "count  2800.000000  \n",
       "mean      6.660382  \n",
       "std       8.610909  \n",
       "min    -200.097275  \n",
       "25%       3.000000  \n",
       "50%       7.000000  \n",
       "75%      10.000000  \n",
       "max     277.332909  "
      ]
     },
     "execution_count": 46,
     "metadata": {},
     "output_type": "execute_result"
    }
   ],
   "source": [
    "linreg.describe()"
   ]
  },
  {
   "cell_type": "code",
   "execution_count": 47,
   "metadata": {},
   "outputs": [
    {
     "ename": "TypeError",
     "evalue": "'<' not supported between instances of 'str' and 'int'",
     "output_type": "error",
     "traceback": [
      "\u001b[1;31m---------------------------------------------------------------------------\u001b[0m",
      "\u001b[1;31mTypeError\u001b[0m                                 Traceback (most recent call last)",
      "\u001b[1;32m<ipython-input-47-951b46d856a3>\u001b[0m in \u001b[0;36m<module>\u001b[1;34m()\u001b[0m\n\u001b[0;32m      2\u001b[0m     \u001b[1;32mfor\u001b[0m \u001b[0mcolumn2\u001b[0m \u001b[1;32min\u001b[0m \u001b[0mtrain_data\u001b[0m\u001b[1;33m.\u001b[0m\u001b[0mcolumns\u001b[0m\u001b[1;33m[\u001b[0m\u001b[0mtrain_data\u001b[0m\u001b[1;33m.\u001b[0m\u001b[0mdtypes\u001b[0m \u001b[1;33m==\u001b[0m \u001b[0mnp\u001b[0m\u001b[1;33m.\u001b[0m\u001b[0mobject\u001b[0m\u001b[1;33m]\u001b[0m\u001b[1;33m:\u001b[0m\u001b[1;33m\u001b[0m\u001b[0m\n\u001b[0;32m      3\u001b[0m         \u001b[1;32mif\u001b[0m \u001b[0mtrain_data\u001b[0m\u001b[1;33m[\u001b[0m\u001b[0mcolumn\u001b[0m\u001b[1;33m]\u001b[0m\u001b[1;33m.\u001b[0m\u001b[0munique\u001b[0m\u001b[1;33m(\u001b[0m\u001b[1;33m)\u001b[0m\u001b[1;33m.\u001b[0m\u001b[0msize\u001b[0m \u001b[1;33m<\u001b[0m \u001b[1;36m4\u001b[0m \u001b[1;32mand\u001b[0m \u001b[0mtrain_data\u001b[0m\u001b[1;33m[\u001b[0m\u001b[0mcolumn2\u001b[0m\u001b[1;33m]\u001b[0m\u001b[1;33m.\u001b[0m\u001b[0munique\u001b[0m\u001b[1;33m(\u001b[0m\u001b[1;33m)\u001b[0m\u001b[1;33m.\u001b[0m\u001b[0msize\u001b[0m \u001b[1;33m<\u001b[0m \u001b[1;36m4\u001b[0m \u001b[1;32mand\u001b[0m \u001b[0mcolumn\u001b[0m \u001b[1;33m!=\u001b[0m \u001b[0mcolumn2\u001b[0m\u001b[1;33m:\u001b[0m\u001b[1;33m\u001b[0m\u001b[0m\n\u001b[1;32m----> 4\u001b[1;33m             \u001b[0mctab\u001b[0m \u001b[1;33m=\u001b[0m \u001b[0mpd\u001b[0m\u001b[1;33m.\u001b[0m\u001b[0mcrosstab\u001b[0m\u001b[1;33m(\u001b[0m\u001b[0mindex\u001b[0m\u001b[1;33m=\u001b[0m\u001b[0mtrain_data\u001b[0m\u001b[1;33m[\u001b[0m\u001b[0mcolumn\u001b[0m\u001b[1;33m]\u001b[0m\u001b[1;33m,\u001b[0m \u001b[0mcolumns\u001b[0m\u001b[1;33m=\u001b[0m\u001b[0mtrain_data\u001b[0m\u001b[1;33m[\u001b[0m\u001b[0mcolumn2\u001b[0m\u001b[1;33m]\u001b[0m\u001b[1;33m,\u001b[0m \u001b[0mnormalize\u001b[0m\u001b[1;33m=\u001b[0m\u001b[1;34m'index'\u001b[0m\u001b[1;33m)\u001b[0m\u001b[1;33m\u001b[0m\u001b[0m\n\u001b[0m\u001b[0;32m      5\u001b[0m             \u001b[0mnon_uniform\u001b[0m \u001b[1;33m=\u001b[0m \u001b[1;32mFalse\u001b[0m\u001b[1;33m\u001b[0m\u001b[0m\n\u001b[0;32m      6\u001b[0m             \u001b[1;32mfor\u001b[0m \u001b[0mcol\u001b[0m \u001b[1;32min\u001b[0m \u001b[0mctab\u001b[0m\u001b[1;33m.\u001b[0m\u001b[0mcolumns\u001b[0m\u001b[1;33m:\u001b[0m\u001b[1;33m\u001b[0m\u001b[0m\n",
      "\u001b[1;32mC:\\Anaconda3\\lib\\site-packages\\pandas\\core\\reshape\\pivot.py\u001b[0m in \u001b[0;36mcrosstab\u001b[1;34m(index, columns, values, rownames, colnames, aggfunc, margins, margins_name, dropna, normalize)\u001b[0m\n\u001b[0;32m    464\u001b[0m     table = df.pivot_table('__dummy__', index=rownames, columns=colnames,\n\u001b[0;32m    465\u001b[0m                            \u001b[0mmargins\u001b[0m\u001b[1;33m=\u001b[0m\u001b[0mmargins\u001b[0m\u001b[1;33m,\u001b[0m \u001b[0mmargins_name\u001b[0m\u001b[1;33m=\u001b[0m\u001b[0mmargins_name\u001b[0m\u001b[1;33m,\u001b[0m\u001b[1;33m\u001b[0m\u001b[0m\n\u001b[1;32m--> 466\u001b[1;33m                            dropna=dropna, **kwargs)\n\u001b[0m\u001b[0;32m    467\u001b[0m \u001b[1;33m\u001b[0m\u001b[0m\n\u001b[0;32m    468\u001b[0m     \u001b[1;31m# Post-process\u001b[0m\u001b[1;33m\u001b[0m\u001b[1;33m\u001b[0m\u001b[0m\n",
      "\u001b[1;32mC:\\Anaconda3\\lib\\site-packages\\pandas\\core\\frame.py\u001b[0m in \u001b[0;36mpivot_table\u001b[1;34m(self, values, index, columns, aggfunc, fill_value, margins, dropna, margins_name)\u001b[0m\n\u001b[0;32m   4466\u001b[0m                            \u001b[0maggfunc\u001b[0m\u001b[1;33m=\u001b[0m\u001b[0maggfunc\u001b[0m\u001b[1;33m,\u001b[0m \u001b[0mfill_value\u001b[0m\u001b[1;33m=\u001b[0m\u001b[0mfill_value\u001b[0m\u001b[1;33m,\u001b[0m\u001b[1;33m\u001b[0m\u001b[0m\n\u001b[0;32m   4467\u001b[0m                            \u001b[0mmargins\u001b[0m\u001b[1;33m=\u001b[0m\u001b[0mmargins\u001b[0m\u001b[1;33m,\u001b[0m \u001b[0mdropna\u001b[0m\u001b[1;33m=\u001b[0m\u001b[0mdropna\u001b[0m\u001b[1;33m,\u001b[0m\u001b[1;33m\u001b[0m\u001b[0m\n\u001b[1;32m-> 4468\u001b[1;33m                            margins_name=margins_name)\n\u001b[0m\u001b[0;32m   4469\u001b[0m \u001b[1;33m\u001b[0m\u001b[0m\n\u001b[0;32m   4470\u001b[0m     \u001b[1;32mdef\u001b[0m \u001b[0mstack\u001b[0m\u001b[1;33m(\u001b[0m\u001b[0mself\u001b[0m\u001b[1;33m,\u001b[0m \u001b[0mlevel\u001b[0m\u001b[1;33m=\u001b[0m\u001b[1;33m-\u001b[0m\u001b[1;36m1\u001b[0m\u001b[1;33m,\u001b[0m \u001b[0mdropna\u001b[0m\u001b[1;33m=\u001b[0m\u001b[1;32mTrue\u001b[0m\u001b[1;33m)\u001b[0m\u001b[1;33m:\u001b[0m\u001b[1;33m\u001b[0m\u001b[0m\n",
      "\u001b[1;32mC:\\Anaconda3\\lib\\site-packages\\pandas\\core\\reshape\\pivot.py\u001b[0m in \u001b[0;36mpivot_table\u001b[1;34m(data, values, index, columns, aggfunc, fill_value, margins, dropna, margins_name)\u001b[0m\n\u001b[0;32m    114\u001b[0m \u001b[1;33m\u001b[0m\u001b[0m\n\u001b[0;32m    115\u001b[0m     \u001b[1;32mif\u001b[0m \u001b[0misinstance\u001b[0m\u001b[1;33m(\u001b[0m\u001b[0mtable\u001b[0m\u001b[1;33m,\u001b[0m \u001b[0mABCDataFrame\u001b[0m\u001b[1;33m)\u001b[0m\u001b[1;33m:\u001b[0m\u001b[1;33m\u001b[0m\u001b[0m\n\u001b[1;32m--> 116\u001b[1;33m         \u001b[0mtable\u001b[0m \u001b[1;33m=\u001b[0m \u001b[0mtable\u001b[0m\u001b[1;33m.\u001b[0m\u001b[0msort_index\u001b[0m\u001b[1;33m(\u001b[0m\u001b[0maxis\u001b[0m\u001b[1;33m=\u001b[0m\u001b[1;36m1\u001b[0m\u001b[1;33m)\u001b[0m\u001b[1;33m\u001b[0m\u001b[0m\n\u001b[0m\u001b[0;32m    117\u001b[0m \u001b[1;33m\u001b[0m\u001b[0m\n\u001b[0;32m    118\u001b[0m     \u001b[1;32mif\u001b[0m \u001b[0mfill_value\u001b[0m \u001b[1;32mis\u001b[0m \u001b[1;32mnot\u001b[0m \u001b[1;32mNone\u001b[0m\u001b[1;33m:\u001b[0m\u001b[1;33m\u001b[0m\u001b[0m\n",
      "\u001b[1;32mC:\\Anaconda3\\lib\\site-packages\\pandas\\core\\frame.py\u001b[0m in \u001b[0;36msort_index\u001b[1;34m(self, axis, level, ascending, inplace, kind, na_position, sort_remaining, by)\u001b[0m\n\u001b[0;32m   3675\u001b[0m             \u001b[1;31m# make sure that the axis is lexsorted to start\u001b[0m\u001b[1;33m\u001b[0m\u001b[1;33m\u001b[0m\u001b[0m\n\u001b[0;32m   3676\u001b[0m             \u001b[1;31m# if not we need to reconstruct to get the correct indexer\u001b[0m\u001b[1;33m\u001b[0m\u001b[1;33m\u001b[0m\u001b[0m\n\u001b[1;32m-> 3677\u001b[1;33m             \u001b[0mlabels\u001b[0m \u001b[1;33m=\u001b[0m \u001b[0mlabels\u001b[0m\u001b[1;33m.\u001b[0m\u001b[0m_sort_levels_monotonic\u001b[0m\u001b[1;33m(\u001b[0m\u001b[1;33m)\u001b[0m\u001b[1;33m\u001b[0m\u001b[0m\n\u001b[0m\u001b[0;32m   3678\u001b[0m             indexer = lexsort_indexer(labels._get_labels_for_sorting(),\n\u001b[0;32m   3679\u001b[0m                                       \u001b[0morders\u001b[0m\u001b[1;33m=\u001b[0m\u001b[0mascending\u001b[0m\u001b[1;33m,\u001b[0m\u001b[1;33m\u001b[0m\u001b[0m\n",
      "\u001b[1;32mC:\\Anaconda3\\lib\\site-packages\\pandas\\core\\indexes\\multi.py\u001b[0m in \u001b[0;36m_sort_levels_monotonic\u001b[1;34m(self)\u001b[0m\n\u001b[0;32m   1289\u001b[0m \u001b[1;33m\u001b[0m\u001b[0m\n\u001b[0;32m   1290\u001b[0m             \u001b[1;31m# indexer to reorder the levels\u001b[0m\u001b[1;33m\u001b[0m\u001b[1;33m\u001b[0m\u001b[0m\n\u001b[1;32m-> 1291\u001b[1;33m             \u001b[0mindexer\u001b[0m \u001b[1;33m=\u001b[0m \u001b[0mlev\u001b[0m\u001b[1;33m.\u001b[0m\u001b[0margsort\u001b[0m\u001b[1;33m(\u001b[0m\u001b[1;33m)\u001b[0m\u001b[1;33m\u001b[0m\u001b[0m\n\u001b[0m\u001b[0;32m   1292\u001b[0m             \u001b[0mlev\u001b[0m \u001b[1;33m=\u001b[0m \u001b[0mlev\u001b[0m\u001b[1;33m.\u001b[0m\u001b[0mtake\u001b[0m\u001b[1;33m(\u001b[0m\u001b[0mindexer\u001b[0m\u001b[1;33m)\u001b[0m\u001b[1;33m\u001b[0m\u001b[0m\n\u001b[0;32m   1293\u001b[0m \u001b[1;33m\u001b[0m\u001b[0m\n",
      "\u001b[1;32mC:\\Anaconda3\\lib\\site-packages\\pandas\\core\\indexes\\base.py\u001b[0m in \u001b[0;36margsort\u001b[1;34m(self, *args, **kwargs)\u001b[0m\n\u001b[0;32m   2149\u001b[0m         \u001b[1;32mif\u001b[0m \u001b[0mresult\u001b[0m \u001b[1;32mis\u001b[0m \u001b[1;32mNone\u001b[0m\u001b[1;33m:\u001b[0m\u001b[1;33m\u001b[0m\u001b[0m\n\u001b[0;32m   2150\u001b[0m             \u001b[0mresult\u001b[0m \u001b[1;33m=\u001b[0m \u001b[0mnp\u001b[0m\u001b[1;33m.\u001b[0m\u001b[0marray\u001b[0m\u001b[1;33m(\u001b[0m\u001b[0mself\u001b[0m\u001b[1;33m)\u001b[0m\u001b[1;33m\u001b[0m\u001b[0m\n\u001b[1;32m-> 2151\u001b[1;33m         \u001b[1;32mreturn\u001b[0m \u001b[0mresult\u001b[0m\u001b[1;33m.\u001b[0m\u001b[0margsort\u001b[0m\u001b[1;33m(\u001b[0m\u001b[1;33m*\u001b[0m\u001b[0margs\u001b[0m\u001b[1;33m,\u001b[0m \u001b[1;33m**\u001b[0m\u001b[0mkwargs\u001b[0m\u001b[1;33m)\u001b[0m\u001b[1;33m\u001b[0m\u001b[0m\n\u001b[0m\u001b[0;32m   2152\u001b[0m \u001b[1;33m\u001b[0m\u001b[0m\n\u001b[0;32m   2153\u001b[0m     \u001b[1;32mdef\u001b[0m \u001b[0m__add__\u001b[0m\u001b[1;33m(\u001b[0m\u001b[0mself\u001b[0m\u001b[1;33m,\u001b[0m \u001b[0mother\u001b[0m\u001b[1;33m)\u001b[0m\u001b[1;33m:\u001b[0m\u001b[1;33m\u001b[0m\u001b[0m\n",
      "\u001b[1;31mTypeError\u001b[0m: '<' not supported between instances of 'str' and 'int'"
     ]
    }
   ],
   "source": [
    "for column in train_data.columns[train_data.dtypes == np.object]:\n",
    "    for column2 in train_data.columns[train_data.dtypes == np.object]:\n",
    "        if train_data[column].unique().size < 4 and train_data[column2].unique().size < 4 and column != column2:\n",
    "            ctab = pd.crosstab(index=train_data[column], columns=train_data[column2], normalize='index')\n",
    "            non_uniform = False\n",
    "            for col in ctab.columns:\n",
    "                vals = [ctab[col][a] for a in range(ctab.shape[0])]\n",
    "                for i in range(len(vals)):\n",
    "                    if vals[i] == 1:\n",
    "                        print(column,\":\", ctab.index[i], '=> ', column2,\":\", col)\n",
    "                        "
   ]
  },
  {
   "cell_type": "markdown",
   "metadata": {},
   "source": [
    "translator = {}\n",
    "\n",
    "for col in train_data.columns[train_data.dtypes == np.object]:\n",
    "    translator[col] = {}\n",
    "    un = train_data[col].unique()\n",
    "    for i in range(len(un)):\n",
    "        translator[col][un[i]] = i\n",
    "\n",
    "def translate(data, attr):\n",
    "    trans = data[attr]\n",
    "    for i in range(len(trans)):\n",
    "        trans[i] = translator[attr][trans[i]]\n",
    "    \n",
    "    return trans\n"
   ]
  },
  {
   "cell_type": "markdown",
   "metadata": {},
   "source": [
    "allNumeric = train_data\n",
    "\n",
    "for col in train_data.columns[train_data.dtypes == np.object]:\n",
    "    allNumeric[col] = translate(train_data, col)"
   ]
  },
  {
   "cell_type": "code",
   "execution_count": null,
   "metadata": {},
   "outputs": [],
   "source": [
    "for column in train_data.columns:\n",
    "    b = train_data[column].isnull()\n",
    "    c = b[b == True].count()\n",
    "    if c != 0:\n",
    "        print(column, \": \", c)"
   ]
  },
  {
   "cell_type": "code",
   "execution_count": null,
   "metadata": {},
   "outputs": [],
   "source": []
  },
  {
   "cell_type": "code",
   "execution_count": null,
   "metadata": {},
   "outputs": [],
   "source": []
  }
 ],
 "metadata": {
  "kernelspec": {
   "display_name": "Python 3",
   "language": "python",
   "name": "python3"
  },
  "language_info": {
   "codemirror_mode": {
    "name": "ipython",
    "version": 3
   },
   "file_extension": ".py",
   "mimetype": "text/x-python",
   "name": "python",
   "nbconvert_exporter": "python",
   "pygments_lexer": "ipython3",
   "version": "3.6.4"
  }
 },
 "nbformat": 4,
 "nbformat_minor": 2
}
