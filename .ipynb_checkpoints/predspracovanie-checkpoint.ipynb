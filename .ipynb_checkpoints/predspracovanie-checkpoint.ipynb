{
 "cells": [
  {
   "cell_type": "markdown",
   "metadata": {},
   "source": [
    "# Predspracovanie údajov\n",
    "### Projekt z predmetu Inteligentná analýza údajov\n",
    "#### Martin L. Zachar, Štefan Šebeň"
   ]
  },
  {
   "cell_type": "code",
   "execution_count": 1,
   "metadata": {},
   "outputs": [],
   "source": [
    "import pandas as pd\n",
    "import numpy as np\n",
    "import random as rnd\n",
    "import seaborn\n",
    "import scipy.stats as stats\n",
    "import matplotlib.pyplot as plt\n",
    "%matplotlib inline\n",
    "import re\n",
    "\n",
    "\n",
    "\n",
    "pd.set_option('display.max_columns', 50)"
   ]
  },
  {
   "cell_type": "code",
   "execution_count": 2,
   "metadata": {
    "scrolled": false
   },
   "outputs": [
    {
     "data": {
      "text/html": [
       "<div>\n",
       "<style scoped>\n",
       "    .dataframe tbody tr th:only-of-type {\n",
       "        vertical-align: middle;\n",
       "    }\n",
       "\n",
       "    .dataframe tbody tr th {\n",
       "        vertical-align: top;\n",
       "    }\n",
       "\n",
       "    .dataframe thead th {\n",
       "        text-align: right;\n",
       "    }\n",
       "</style>\n",
       "<table border=\"1\" class=\"dataframe\">\n",
       "  <thead>\n",
       "    <tr style=\"text-align: right;\">\n",
       "      <th></th>\n",
       "      <th>age</th>\n",
       "      <th>on thyroxine</th>\n",
       "      <th>query on thyroxine</th>\n",
       "      <th>pregnant</th>\n",
       "      <th>thyroid surgery</th>\n",
       "      <th>I131 treatment</th>\n",
       "      <th>lithium</th>\n",
       "      <th>goitre</th>\n",
       "      <th>tumor</th>\n",
       "      <th>hypopituitary</th>\n",
       "      <th>TSH</th>\n",
       "      <th>T3 measured</th>\n",
       "      <th>T3</th>\n",
       "      <th>TT4</th>\n",
       "      <th>T4U</th>\n",
       "      <th>FTI measured</th>\n",
       "      <th>TBG measured</th>\n",
       "      <th>TBG</th>\n",
       "      <th>referral source</th>\n",
       "      <th>workclass</th>\n",
       "      <th>fnlwgt</th>\n",
       "      <th>education</th>\n",
       "      <th>education-num</th>\n",
       "      <th>marital-status</th>\n",
       "      <th>occupation</th>\n",
       "      <th>relationship</th>\n",
       "      <th>race</th>\n",
       "      <th>capital-gain</th>\n",
       "      <th>capital-loss</th>\n",
       "      <th>hours-per-week</th>\n",
       "      <th>native-country</th>\n",
       "      <th>date_of_birth</th>\n",
       "      <th>TSH measured</th>\n",
       "      <th>sex</th>\n",
       "      <th>query hyperthyroid</th>\n",
       "      <th>TT4 measured</th>\n",
       "      <th>on antithyroid medication</th>\n",
       "      <th>FTI</th>\n",
       "      <th>sick</th>\n",
       "      <th>T4U measured</th>\n",
       "      <th>psych</th>\n",
       "      <th>query hypothyroid</th>\n",
       "      <th>test</th>\n",
       "      <th>testID</th>\n",
       "    </tr>\n",
       "    <tr>\n",
       "      <th>id</th>\n",
       "      <th></th>\n",
       "      <th></th>\n",
       "      <th></th>\n",
       "      <th></th>\n",
       "      <th></th>\n",
       "      <th></th>\n",
       "      <th></th>\n",
       "      <th></th>\n",
       "      <th></th>\n",
       "      <th></th>\n",
       "      <th></th>\n",
       "      <th></th>\n",
       "      <th></th>\n",
       "      <th></th>\n",
       "      <th></th>\n",
       "      <th></th>\n",
       "      <th></th>\n",
       "      <th></th>\n",
       "      <th></th>\n",
       "      <th></th>\n",
       "      <th></th>\n",
       "      <th></th>\n",
       "      <th></th>\n",
       "      <th></th>\n",
       "      <th></th>\n",
       "      <th></th>\n",
       "      <th></th>\n",
       "      <th></th>\n",
       "      <th></th>\n",
       "      <th></th>\n",
       "      <th></th>\n",
       "      <th></th>\n",
       "      <th></th>\n",
       "      <th></th>\n",
       "      <th></th>\n",
       "      <th></th>\n",
       "      <th></th>\n",
       "      <th></th>\n",
       "      <th></th>\n",
       "      <th></th>\n",
       "      <th></th>\n",
       "      <th></th>\n",
       "      <th></th>\n",
       "      <th></th>\n",
       "    </tr>\n",
       "  </thead>\n",
       "  <tbody>\n",
       "    <tr>\n",
       "      <th>0</th>\n",
       "      <td>82.0</td>\n",
       "      <td>f</td>\n",
       "      <td>f</td>\n",
       "      <td>f</td>\n",
       "      <td>f</td>\n",
       "      <td>f</td>\n",
       "      <td>f</td>\n",
       "      <td>f</td>\n",
       "      <td>f</td>\n",
       "      <td>f</td>\n",
       "      <td>2.2</td>\n",
       "      <td>t</td>\n",
       "      <td>1.0</td>\n",
       "      <td>68.0</td>\n",
       "      <td>0.77</td>\n",
       "      <td>t</td>\n",
       "      <td>f</td>\n",
       "      <td>NaN</td>\n",
       "      <td>SVI</td>\n",
       "      <td>Local-gov</td>\n",
       "      <td>141649</td>\n",
       "      <td>Assoc-voc</td>\n",
       "      <td>11</td>\n",
       "      <td>Married-civ-spouse</td>\n",
       "      <td>Protective-serv</td>\n",
       "      <td>Husband</td>\n",
       "      <td>White</td>\n",
       "      <td>0</td>\n",
       "      <td>0</td>\n",
       "      <td>40</td>\n",
       "      <td>United-States</td>\n",
       "      <td>1935-05-20 00:00:00</td>\n",
       "      <td>t</td>\n",
       "      <td>M</td>\n",
       "      <td>f</td>\n",
       "      <td>t</td>\n",
       "      <td>f</td>\n",
       "      <td>88.0</td>\n",
       "      <td>f</td>\n",
       "      <td>t</td>\n",
       "      <td>f</td>\n",
       "      <td>f</td>\n",
       "      <td>negative</td>\n",
       "      <td>991</td>\n",
       "    </tr>\n",
       "    <tr>\n",
       "      <th>1</th>\n",
       "      <td>50.0</td>\n",
       "      <td>f</td>\n",
       "      <td>f</td>\n",
       "      <td>f</td>\n",
       "      <td>t</td>\n",
       "      <td>f</td>\n",
       "      <td>f</td>\n",
       "      <td>f</td>\n",
       "      <td>f</td>\n",
       "      <td>f</td>\n",
       "      <td>76.0</td>\n",
       "      <td>t</td>\n",
       "      <td>0.5</td>\n",
       "      <td>22.0</td>\n",
       "      <td>1.12</td>\n",
       "      <td>t</td>\n",
       "      <td>f</td>\n",
       "      <td>NaN</td>\n",
       "      <td>other</td>\n",
       "      <td>Local-gov</td>\n",
       "      <td>177599</td>\n",
       "      <td>Bachelors</td>\n",
       "      <td>13</td>\n",
       "      <td>Divorced</td>\n",
       "      <td>Prof-specialty</td>\n",
       "      <td>Unmarried</td>\n",
       "      <td>White</td>\n",
       "      <td>0</td>\n",
       "      <td>0</td>\n",
       "      <td>35</td>\n",
       "      <td>United-States</td>\n",
       "      <td>67-08-03</td>\n",
       "      <td>t</td>\n",
       "      <td>F</td>\n",
       "      <td>f</td>\n",
       "      <td>t</td>\n",
       "      <td>f</td>\n",
       "      <td>19.0</td>\n",
       "      <td>f</td>\n",
       "      <td>t</td>\n",
       "      <td>f</td>\n",
       "      <td>f</td>\n",
       "      <td>negative</td>\n",
       "      <td>1685</td>\n",
       "    </tr>\n",
       "    <tr>\n",
       "      <th>2</th>\n",
       "      <td>41.0</td>\n",
       "      <td>f</td>\n",
       "      <td>f</td>\n",
       "      <td>f</td>\n",
       "      <td>f</td>\n",
       "      <td>f</td>\n",
       "      <td>f</td>\n",
       "      <td>f</td>\n",
       "      <td>f</td>\n",
       "      <td>f</td>\n",
       "      <td>NaN</td>\n",
       "      <td>t</td>\n",
       "      <td>2.0</td>\n",
       "      <td>99.0</td>\n",
       "      <td>0.96</td>\n",
       "      <td>t</td>\n",
       "      <td>f</td>\n",
       "      <td>NaN</td>\n",
       "      <td>other</td>\n",
       "      <td>Self-emp-not-inc</td>\n",
       "      <td>102631</td>\n",
       "      <td>Some-college</td>\n",
       "      <td>10</td>\n",
       "      <td>Widowed</td>\n",
       "      <td>Farming-fishing</td>\n",
       "      <td>Unmarried</td>\n",
       "      <td>White</td>\n",
       "      <td>0</td>\n",
       "      <td>0</td>\n",
       "      <td>50</td>\n",
       "      <td>United-States</td>\n",
       "      <td>1976-05-02</td>\n",
       "      <td>f</td>\n",
       "      <td>F</td>\n",
       "      <td>f</td>\n",
       "      <td>t</td>\n",
       "      <td>f</td>\n",
       "      <td>104.0</td>\n",
       "      <td>f</td>\n",
       "      <td>t</td>\n",
       "      <td>f</td>\n",
       "      <td>f</td>\n",
       "      <td>negative</td>\n",
       "      <td>3504</td>\n",
       "    </tr>\n",
       "    <tr>\n",
       "      <th>3</th>\n",
       "      <td>73.0</td>\n",
       "      <td>f</td>\n",
       "      <td>f</td>\n",
       "      <td>f</td>\n",
       "      <td>f</td>\n",
       "      <td>f</td>\n",
       "      <td>f</td>\n",
       "      <td>f</td>\n",
       "      <td>f</td>\n",
       "      <td>f</td>\n",
       "      <td>0.7</td>\n",
       "      <td>t</td>\n",
       "      <td>2.0</td>\n",
       "      <td>116.0</td>\n",
       "      <td>0.99</td>\n",
       "      <td>t</td>\n",
       "      <td>f</td>\n",
       "      <td>NaN</td>\n",
       "      <td>other</td>\n",
       "      <td>private</td>\n",
       "      <td>272338</td>\n",
       "      <td>HS-grad</td>\n",
       "      <td>9</td>\n",
       "      <td>Married-civ-spouse</td>\n",
       "      <td>Adm-clerical</td>\n",
       "      <td>Wife</td>\n",
       "      <td>White</td>\n",
       "      <td>0</td>\n",
       "      <td>0</td>\n",
       "      <td>25</td>\n",
       "      <td>United-States</td>\n",
       "      <td>44-10-08</td>\n",
       "      <td>t</td>\n",
       "      <td>F</td>\n",
       "      <td>f</td>\n",
       "      <td>t</td>\n",
       "      <td>f</td>\n",
       "      <td>117.0</td>\n",
       "      <td>f</td>\n",
       "      <td>t</td>\n",
       "      <td>f</td>\n",
       "      <td>f</td>\n",
       "      <td>negative</td>\n",
       "      <td>1942</td>\n",
       "    </tr>\n",
       "    <tr>\n",
       "      <th>4</th>\n",
       "      <td>64.0</td>\n",
       "      <td>f</td>\n",
       "      <td>f</td>\n",
       "      <td>f</td>\n",
       "      <td>f</td>\n",
       "      <td>f</td>\n",
       "      <td>f</td>\n",
       "      <td>f</td>\n",
       "      <td>f</td>\n",
       "      <td>f</td>\n",
       "      <td>2.0</td>\n",
       "      <td>t</td>\n",
       "      <td>1.8</td>\n",
       "      <td>80.0</td>\n",
       "      <td>0.91</td>\n",
       "      <td>t</td>\n",
       "      <td>f</td>\n",
       "      <td>NaN</td>\n",
       "      <td>SVHC</td>\n",
       "      <td>Self-emp-inc</td>\n",
       "      <td>368825</td>\n",
       "      <td>Some-college</td>\n",
       "      <td>10</td>\n",
       "      <td>Married-civ-spouse</td>\n",
       "      <td>Sales</td>\n",
       "      <td>Husband</td>\n",
       "      <td>White</td>\n",
       "      <td>0</td>\n",
       "      <td>0</td>\n",
       "      <td>60</td>\n",
       "      <td>United-States</td>\n",
       "      <td>1953-05-01</td>\n",
       "      <td>t</td>\n",
       "      <td>M</td>\n",
       "      <td>f</td>\n",
       "      <td>t</td>\n",
       "      <td>f</td>\n",
       "      <td>88.0</td>\n",
       "      <td>f</td>\n",
       "      <td>t</td>\n",
       "      <td>f</td>\n",
       "      <td>f</td>\n",
       "      <td>negative</td>\n",
       "      <td>2009</td>\n",
       "    </tr>\n",
       "  </tbody>\n",
       "</table>\n",
       "</div>"
      ],
      "text/plain": [
       "     age on thyroxine query on thyroxine pregnant thyroid surgery  \\\n",
       "id                                                                  \n",
       "0   82.0            f                  f        f               f   \n",
       "1   50.0            f                  f        f               t   \n",
       "2   41.0            f                  f        f               f   \n",
       "3   73.0            f                  f        f               f   \n",
       "4   64.0            f                  f        f               f   \n",
       "\n",
       "   I131 treatment lithium goitre tumor hypopituitary   TSH T3 measured   T3  \\\n",
       "id                                                                            \n",
       "0               f       f      f     f             f   2.2           t  1.0   \n",
       "1               f       f      f     f             f  76.0           t  0.5   \n",
       "2               f       f      f     f             f   NaN           t  2.0   \n",
       "3               f       f      f     f             f   0.7           t  2.0   \n",
       "4               f       f      f     f             f   2.0           t  1.8   \n",
       "\n",
       "      TT4   T4U FTI measured TBG measured  TBG referral source  \\\n",
       "id                                                               \n",
       "0    68.0  0.77            t            f  NaN             SVI   \n",
       "1    22.0  1.12            t            f  NaN           other   \n",
       "2    99.0  0.96            t            f  NaN           other   \n",
       "3   116.0  0.99            t            f  NaN           other   \n",
       "4    80.0  0.91            t            f  NaN            SVHC   \n",
       "\n",
       "            workclass  fnlwgt      education  education-num  \\\n",
       "id                                                            \n",
       "0           Local-gov  141649      Assoc-voc             11   \n",
       "1           Local-gov  177599      Bachelors             13   \n",
       "2    Self-emp-not-inc  102631   Some-college             10   \n",
       "3             private  272338        HS-grad              9   \n",
       "4        Self-emp-inc  368825   Some-college             10   \n",
       "\n",
       "         marital-status        occupation relationship    race  capital-gain  \\\n",
       "id                                                                             \n",
       "0    Married-civ-spouse   Protective-serv      Husband   White             0   \n",
       "1              Divorced    Prof-specialty    Unmarried   White             0   \n",
       "2               Widowed   Farming-fishing    Unmarried   White             0   \n",
       "3    Married-civ-spouse      Adm-clerical         Wife   White             0   \n",
       "4    Married-civ-spouse             Sales      Husband   White             0   \n",
       "\n",
       "    capital-loss  hours-per-week  native-country        date_of_birth  \\\n",
       "id                                                                      \n",
       "0              0              40   United-States  1935-05-20 00:00:00   \n",
       "1              0              35   United-States             67-08-03   \n",
       "2              0              50   United-States           1976-05-02   \n",
       "3              0              25   United-States             44-10-08   \n",
       "4              0              60   United-States           1953-05-01   \n",
       "\n",
       "   TSH measured sex query hyperthyroid TT4 measured on antithyroid medication  \\\n",
       "id                                                                              \n",
       "0             t   M                  f            t                         f   \n",
       "1             t   F                  f            t                         f   \n",
       "2             f   F                  f            t                         f   \n",
       "3             t   F                  f            t                         f   \n",
       "4             t   M                  f            t                         f   \n",
       "\n",
       "      FTI sick T4U measured psych query hypothyroid      test  testID  \n",
       "id                                                                     \n",
       "0    88.0    f            t     f                 f  negative     991  \n",
       "1    19.0    f            t     f                 f  negative    1685  \n",
       "2   104.0    f            t     f                 f  negative    3504  \n",
       "3   117.0    f            t     f                 f  negative    1942  \n",
       "4    88.0    f            t     f                 f  negative    2009  "
      ]
     },
     "execution_count": 2,
     "metadata": {},
     "output_type": "execute_result"
    }
   ],
   "source": [
    "train_data = pd.read_csv('data/explorovane.csv', index_col='id')\n",
    "train_data.head()"
   ]
  },
  {
   "cell_type": "markdown",
   "metadata": {},
   "source": [
    "Zrušíme stĺpce, ktoré neprispejú ku klasifikácii."
   ]
  },
  {
   "cell_type": "code",
   "execution_count": 3,
   "metadata": {},
   "outputs": [],
   "source": [
    "train_data = train_data.drop(['TBG measured', 'TBG', 'education', 'testID'], axis=1)"
   ]
  },
  {
   "cell_type": "code",
   "execution_count": 4,
   "metadata": {},
   "outputs": [
    {
     "name": "stdout",
     "output_type": "stream",
     "text": [
      "Neidentifikovatelne:  5\n",
      "Rok bez uvodnych cisel:  189\n",
      "Vymeneny rok a den:  180\n",
      "Zly mesiac:  0\n",
      "S casom dna:  382\n"
     ]
    }
   ],
   "source": [
    "dates = train_data['date_of_birth'].dropna()\n",
    "dates = list(map(lambda s: re.split(' |-|/|:', s) ,dates))\n",
    "\n",
    "print(\"Neidentifikovatelne: \", len(list(filter(lambda d: int(d[0]) <= 31 and int(d[2]) <= 31, dates))))\n",
    "print(\"Rok bez uvodnych cisel: \", len(list(filter(lambda d: int(d[0]) < 1900 and int(d[0]) > 31 and int(d[2]) <= 31, dates))))\n",
    "print(\"Vymeneny rok a den: \", len(list(filter(lambda d: int(d[0]) <= 31 and int(d[2]) > 1900, dates))))\n",
    "print(\"Zly mesiac: \", len(list(filter(lambda d: int(d[1]) > 12, dates))))\n",
    "print(\"S casom dna: \", len(list(filter(lambda d: len(d) > 3, dates))))        "
   ]
  },
  {
   "cell_type": "markdown",
   "metadata": {},
   "source": [
    "Pridáme nové stĺpce pre rok a mesiac. Istá sezónnosť v rámci mesiacov roka nemusí byť nutne vylúčená (vplyvy počasia a podnebia apod.), podobne mohol mať teoreticky vplyv aj rok narodenia."
   ]
  },
  {
   "cell_type": "code",
   "execution_count": 5,
   "metadata": {},
   "outputs": [],
   "source": [
    "train_data['birth_year'] = np.nan\n",
    "train_data['birth_month'] = np.nan"
   ]
  },
  {
   "cell_type": "code",
   "execution_count": 6,
   "metadata": {
    "scrolled": false
   },
   "outputs": [
    {
     "data": {
      "text/html": [
       "<div>\n",
       "<style scoped>\n",
       "    .dataframe tbody tr th:only-of-type {\n",
       "        vertical-align: middle;\n",
       "    }\n",
       "\n",
       "    .dataframe tbody tr th {\n",
       "        vertical-align: top;\n",
       "    }\n",
       "\n",
       "    .dataframe thead th {\n",
       "        text-align: right;\n",
       "    }\n",
       "</style>\n",
       "<table border=\"1\" class=\"dataframe\">\n",
       "  <thead>\n",
       "    <tr style=\"text-align: right;\">\n",
       "      <th></th>\n",
       "      <th>age</th>\n",
       "      <th>on thyroxine</th>\n",
       "      <th>query on thyroxine</th>\n",
       "      <th>pregnant</th>\n",
       "      <th>thyroid surgery</th>\n",
       "      <th>I131 treatment</th>\n",
       "      <th>lithium</th>\n",
       "      <th>goitre</th>\n",
       "      <th>tumor</th>\n",
       "      <th>hypopituitary</th>\n",
       "      <th>TSH</th>\n",
       "      <th>T3 measured</th>\n",
       "      <th>T3</th>\n",
       "      <th>TT4</th>\n",
       "      <th>T4U</th>\n",
       "      <th>FTI measured</th>\n",
       "      <th>referral source</th>\n",
       "      <th>workclass</th>\n",
       "      <th>fnlwgt</th>\n",
       "      <th>education-num</th>\n",
       "      <th>marital-status</th>\n",
       "      <th>occupation</th>\n",
       "      <th>relationship</th>\n",
       "      <th>race</th>\n",
       "      <th>capital-gain</th>\n",
       "      <th>capital-loss</th>\n",
       "      <th>hours-per-week</th>\n",
       "      <th>native-country</th>\n",
       "      <th>date_of_birth</th>\n",
       "      <th>TSH measured</th>\n",
       "      <th>sex</th>\n",
       "      <th>query hyperthyroid</th>\n",
       "      <th>TT4 measured</th>\n",
       "      <th>on antithyroid medication</th>\n",
       "      <th>FTI</th>\n",
       "      <th>sick</th>\n",
       "      <th>T4U measured</th>\n",
       "      <th>psych</th>\n",
       "      <th>query hypothyroid</th>\n",
       "      <th>test</th>\n",
       "      <th>birth_year</th>\n",
       "      <th>birth_month</th>\n",
       "    </tr>\n",
       "    <tr>\n",
       "      <th>id</th>\n",
       "      <th></th>\n",
       "      <th></th>\n",
       "      <th></th>\n",
       "      <th></th>\n",
       "      <th></th>\n",
       "      <th></th>\n",
       "      <th></th>\n",
       "      <th></th>\n",
       "      <th></th>\n",
       "      <th></th>\n",
       "      <th></th>\n",
       "      <th></th>\n",
       "      <th></th>\n",
       "      <th></th>\n",
       "      <th></th>\n",
       "      <th></th>\n",
       "      <th></th>\n",
       "      <th></th>\n",
       "      <th></th>\n",
       "      <th></th>\n",
       "      <th></th>\n",
       "      <th></th>\n",
       "      <th></th>\n",
       "      <th></th>\n",
       "      <th></th>\n",
       "      <th></th>\n",
       "      <th></th>\n",
       "      <th></th>\n",
       "      <th></th>\n",
       "      <th></th>\n",
       "      <th></th>\n",
       "      <th></th>\n",
       "      <th></th>\n",
       "      <th></th>\n",
       "      <th></th>\n",
       "      <th></th>\n",
       "      <th></th>\n",
       "      <th></th>\n",
       "      <th></th>\n",
       "      <th></th>\n",
       "      <th></th>\n",
       "      <th></th>\n",
       "    </tr>\n",
       "  </thead>\n",
       "  <tbody>\n",
       "    <tr>\n",
       "      <th>0</th>\n",
       "      <td>82.0</td>\n",
       "      <td>f</td>\n",
       "      <td>f</td>\n",
       "      <td>f</td>\n",
       "      <td>f</td>\n",
       "      <td>f</td>\n",
       "      <td>f</td>\n",
       "      <td>f</td>\n",
       "      <td>f</td>\n",
       "      <td>f</td>\n",
       "      <td>2.2</td>\n",
       "      <td>t</td>\n",
       "      <td>1.0</td>\n",
       "      <td>68.0</td>\n",
       "      <td>0.77</td>\n",
       "      <td>t</td>\n",
       "      <td>SVI</td>\n",
       "      <td>Local-gov</td>\n",
       "      <td>141649</td>\n",
       "      <td>11</td>\n",
       "      <td>Married-civ-spouse</td>\n",
       "      <td>Protective-serv</td>\n",
       "      <td>Husband</td>\n",
       "      <td>White</td>\n",
       "      <td>0</td>\n",
       "      <td>0</td>\n",
       "      <td>40</td>\n",
       "      <td>United-States</td>\n",
       "      <td>1935-05-20 00:00:00</td>\n",
       "      <td>t</td>\n",
       "      <td>M</td>\n",
       "      <td>f</td>\n",
       "      <td>t</td>\n",
       "      <td>f</td>\n",
       "      <td>88.0</td>\n",
       "      <td>f</td>\n",
       "      <td>t</td>\n",
       "      <td>f</td>\n",
       "      <td>f</td>\n",
       "      <td>negative</td>\n",
       "      <td>1935.0</td>\n",
       "      <td>5.0</td>\n",
       "    </tr>\n",
       "    <tr>\n",
       "      <th>1</th>\n",
       "      <td>50.0</td>\n",
       "      <td>f</td>\n",
       "      <td>f</td>\n",
       "      <td>f</td>\n",
       "      <td>t</td>\n",
       "      <td>f</td>\n",
       "      <td>f</td>\n",
       "      <td>f</td>\n",
       "      <td>f</td>\n",
       "      <td>f</td>\n",
       "      <td>76.0</td>\n",
       "      <td>t</td>\n",
       "      <td>0.5</td>\n",
       "      <td>22.0</td>\n",
       "      <td>1.12</td>\n",
       "      <td>t</td>\n",
       "      <td>other</td>\n",
       "      <td>Local-gov</td>\n",
       "      <td>177599</td>\n",
       "      <td>13</td>\n",
       "      <td>Divorced</td>\n",
       "      <td>Prof-specialty</td>\n",
       "      <td>Unmarried</td>\n",
       "      <td>White</td>\n",
       "      <td>0</td>\n",
       "      <td>0</td>\n",
       "      <td>35</td>\n",
       "      <td>United-States</td>\n",
       "      <td>67-08-03</td>\n",
       "      <td>t</td>\n",
       "      <td>F</td>\n",
       "      <td>f</td>\n",
       "      <td>t</td>\n",
       "      <td>f</td>\n",
       "      <td>19.0</td>\n",
       "      <td>f</td>\n",
       "      <td>t</td>\n",
       "      <td>f</td>\n",
       "      <td>f</td>\n",
       "      <td>negative</td>\n",
       "      <td>1967.0</td>\n",
       "      <td>8.0</td>\n",
       "    </tr>\n",
       "    <tr>\n",
       "      <th>2</th>\n",
       "      <td>41.0</td>\n",
       "      <td>f</td>\n",
       "      <td>f</td>\n",
       "      <td>f</td>\n",
       "      <td>f</td>\n",
       "      <td>f</td>\n",
       "      <td>f</td>\n",
       "      <td>f</td>\n",
       "      <td>f</td>\n",
       "      <td>f</td>\n",
       "      <td>NaN</td>\n",
       "      <td>t</td>\n",
       "      <td>2.0</td>\n",
       "      <td>99.0</td>\n",
       "      <td>0.96</td>\n",
       "      <td>t</td>\n",
       "      <td>other</td>\n",
       "      <td>Self-emp-not-inc</td>\n",
       "      <td>102631</td>\n",
       "      <td>10</td>\n",
       "      <td>Widowed</td>\n",
       "      <td>Farming-fishing</td>\n",
       "      <td>Unmarried</td>\n",
       "      <td>White</td>\n",
       "      <td>0</td>\n",
       "      <td>0</td>\n",
       "      <td>50</td>\n",
       "      <td>United-States</td>\n",
       "      <td>1976-05-02</td>\n",
       "      <td>f</td>\n",
       "      <td>F</td>\n",
       "      <td>f</td>\n",
       "      <td>t</td>\n",
       "      <td>f</td>\n",
       "      <td>104.0</td>\n",
       "      <td>f</td>\n",
       "      <td>t</td>\n",
       "      <td>f</td>\n",
       "      <td>f</td>\n",
       "      <td>negative</td>\n",
       "      <td>1976.0</td>\n",
       "      <td>5.0</td>\n",
       "    </tr>\n",
       "    <tr>\n",
       "      <th>3</th>\n",
       "      <td>73.0</td>\n",
       "      <td>f</td>\n",
       "      <td>f</td>\n",
       "      <td>f</td>\n",
       "      <td>f</td>\n",
       "      <td>f</td>\n",
       "      <td>f</td>\n",
       "      <td>f</td>\n",
       "      <td>f</td>\n",
       "      <td>f</td>\n",
       "      <td>0.7</td>\n",
       "      <td>t</td>\n",
       "      <td>2.0</td>\n",
       "      <td>116.0</td>\n",
       "      <td>0.99</td>\n",
       "      <td>t</td>\n",
       "      <td>other</td>\n",
       "      <td>private</td>\n",
       "      <td>272338</td>\n",
       "      <td>9</td>\n",
       "      <td>Married-civ-spouse</td>\n",
       "      <td>Adm-clerical</td>\n",
       "      <td>Wife</td>\n",
       "      <td>White</td>\n",
       "      <td>0</td>\n",
       "      <td>0</td>\n",
       "      <td>25</td>\n",
       "      <td>United-States</td>\n",
       "      <td>44-10-08</td>\n",
       "      <td>t</td>\n",
       "      <td>F</td>\n",
       "      <td>f</td>\n",
       "      <td>t</td>\n",
       "      <td>f</td>\n",
       "      <td>117.0</td>\n",
       "      <td>f</td>\n",
       "      <td>t</td>\n",
       "      <td>f</td>\n",
       "      <td>f</td>\n",
       "      <td>negative</td>\n",
       "      <td>1944.0</td>\n",
       "      <td>10.0</td>\n",
       "    </tr>\n",
       "    <tr>\n",
       "      <th>4</th>\n",
       "      <td>64.0</td>\n",
       "      <td>f</td>\n",
       "      <td>f</td>\n",
       "      <td>f</td>\n",
       "      <td>f</td>\n",
       "      <td>f</td>\n",
       "      <td>f</td>\n",
       "      <td>f</td>\n",
       "      <td>f</td>\n",
       "      <td>f</td>\n",
       "      <td>2.0</td>\n",
       "      <td>t</td>\n",
       "      <td>1.8</td>\n",
       "      <td>80.0</td>\n",
       "      <td>0.91</td>\n",
       "      <td>t</td>\n",
       "      <td>SVHC</td>\n",
       "      <td>Self-emp-inc</td>\n",
       "      <td>368825</td>\n",
       "      <td>10</td>\n",
       "      <td>Married-civ-spouse</td>\n",
       "      <td>Sales</td>\n",
       "      <td>Husband</td>\n",
       "      <td>White</td>\n",
       "      <td>0</td>\n",
       "      <td>0</td>\n",
       "      <td>60</td>\n",
       "      <td>United-States</td>\n",
       "      <td>1953-05-01</td>\n",
       "      <td>t</td>\n",
       "      <td>M</td>\n",
       "      <td>f</td>\n",
       "      <td>t</td>\n",
       "      <td>f</td>\n",
       "      <td>88.0</td>\n",
       "      <td>f</td>\n",
       "      <td>t</td>\n",
       "      <td>f</td>\n",
       "      <td>f</td>\n",
       "      <td>negative</td>\n",
       "      <td>1953.0</td>\n",
       "      <td>5.0</td>\n",
       "    </tr>\n",
       "  </tbody>\n",
       "</table>\n",
       "</div>"
      ],
      "text/plain": [
       "     age on thyroxine query on thyroxine pregnant thyroid surgery  \\\n",
       "id                                                                  \n",
       "0   82.0            f                  f        f               f   \n",
       "1   50.0            f                  f        f               t   \n",
       "2   41.0            f                  f        f               f   \n",
       "3   73.0            f                  f        f               f   \n",
       "4   64.0            f                  f        f               f   \n",
       "\n",
       "   I131 treatment lithium goitre tumor hypopituitary   TSH T3 measured   T3  \\\n",
       "id                                                                            \n",
       "0               f       f      f     f             f   2.2           t  1.0   \n",
       "1               f       f      f     f             f  76.0           t  0.5   \n",
       "2               f       f      f     f             f   NaN           t  2.0   \n",
       "3               f       f      f     f             f   0.7           t  2.0   \n",
       "4               f       f      f     f             f   2.0           t  1.8   \n",
       "\n",
       "      TT4   T4U FTI measured referral source          workclass  fnlwgt  \\\n",
       "id                                                                        \n",
       "0    68.0  0.77            t             SVI          Local-gov  141649   \n",
       "1    22.0  1.12            t           other          Local-gov  177599   \n",
       "2    99.0  0.96            t           other   Self-emp-not-inc  102631   \n",
       "3   116.0  0.99            t           other            private  272338   \n",
       "4    80.0  0.91            t            SVHC       Self-emp-inc  368825   \n",
       "\n",
       "    education-num       marital-status        occupation relationship    race  \\\n",
       "id                                                                              \n",
       "0              11   Married-civ-spouse   Protective-serv      Husband   White   \n",
       "1              13             Divorced    Prof-specialty    Unmarried   White   \n",
       "2              10              Widowed   Farming-fishing    Unmarried   White   \n",
       "3               9   Married-civ-spouse      Adm-clerical         Wife   White   \n",
       "4              10   Married-civ-spouse             Sales      Husband   White   \n",
       "\n",
       "    capital-gain  capital-loss  hours-per-week  native-country  \\\n",
       "id                                                               \n",
       "0              0             0              40   United-States   \n",
       "1              0             0              35   United-States   \n",
       "2              0             0              50   United-States   \n",
       "3              0             0              25   United-States   \n",
       "4              0             0              60   United-States   \n",
       "\n",
       "          date_of_birth TSH measured sex query hyperthyroid TT4 measured  \\\n",
       "id                                                                         \n",
       "0   1935-05-20 00:00:00            t   M                  f            t   \n",
       "1              67-08-03            t   F                  f            t   \n",
       "2            1976-05-02            f   F                  f            t   \n",
       "3              44-10-08            t   F                  f            t   \n",
       "4            1953-05-01            t   M                  f            t   \n",
       "\n",
       "   on antithyroid medication    FTI sick T4U measured psych query hypothyroid  \\\n",
       "id                                                                              \n",
       "0                          f   88.0    f            t     f                 f   \n",
       "1                          f   19.0    f            t     f                 f   \n",
       "2                          f  104.0    f            t     f                 f   \n",
       "3                          f  117.0    f            t     f                 f   \n",
       "4                          f   88.0    f            t     f                 f   \n",
       "\n",
       "        test  birth_year  birth_month  \n",
       "id                                     \n",
       "0   negative      1935.0          5.0  \n",
       "1   negative      1967.0          8.0  \n",
       "2   negative      1976.0          5.0  \n",
       "3   negative      1944.0         10.0  \n",
       "4   negative      1953.0          5.0  "
      ]
     },
     "execution_count": 6,
     "metadata": {},
     "output_type": "execute_result"
    }
   ],
   "source": [
    "for i in range(train_data.shape[0]-1):\n",
    "    if (pd.isna(train_data.loc[i]['date_of_birth'])):\n",
    "        continue\n",
    "    date = list(map(int, re.split(' |-|/|:', train_data.iloc[i]['date_of_birth'])))\n",
    "    if date[0] <= 31 and date[2] <= 31:\n",
    "        continue\n",
    "    elif date[0] <= 31 and date[2] > 31:\n",
    "        b = date[2]\n",
    "        date[2] = date[0]\n",
    "        date[0] = b\n",
    "    if date[0] < 1900:\n",
    "        if int(str(date[0])[-2:]) < 18:\n",
    "            date[0] = date[0] + 2000 - int(str(date[0])[:-2] if str(date[0])[:-2] != '' else 0) * 100\n",
    "        else:\n",
    "            date[0] = date[0] + 1900 - int(str(date[0])[:-2] if str(date[0])[:-2] != '' else 0) * 100\n",
    "    if len(date) > 3:\n",
    "        date = date[:3]\n",
    "    train_data.loc[i, 'birth_year'] = date[0]\n",
    "    train_data.loc[i, 'birth_month'] = date[1]\n",
    "    \n",
    "train_data.head()"
   ]
  },
  {
   "cell_type": "code",
   "execution_count": 7,
   "metadata": {},
   "outputs": [],
   "source": [
    "train_data = train_data.drop(['date_of_birth'], axis=1)"
   ]
  },
  {
   "cell_type": "markdown",
   "metadata": {},
   "source": [
    "Overíme si, či sa nám správne podarilo opraviť všetky hodnoty."
   ]
  },
  {
   "cell_type": "code",
   "execution_count": 8,
   "metadata": {},
   "outputs": [
    {
     "data": {
      "text/plain": [
       "<matplotlib.figure.Figure at 0x15347346e80>"
      ]
     },
     "execution_count": 8,
     "metadata": {},
     "output_type": "execute_result"
    },
    {
     "data": {
      "image/png": "[encoded data removed]",
      "text/plain": [
       "<matplotlib.figure.Figure at 0x15346fda390>"
      ]
     },
     "metadata": {},
     "output_type": "display_data"
    },
    {
     "data": {
      "image/png": "[encoded data removed]",
      "text/plain": [
       "<matplotlib.figure.Figure at 0x15346fb2780>"
      ]
     },
     "metadata": {},
     "output_type": "display_data"
    },
    {
     "data": {
      "text/plain": [
       "<matplotlib.figure.Figure at 0x15347346e80>"
      ]
     },
     "metadata": {},
     "output_type": "display_data"
    }
   ],
   "source": [
    "pd.Series(train_data['birth_year']).hist(bins=50).set_title(\"birth_year\")\n",
    "plt.figure()\n",
    "pd.Series(train_data['birth_month']).hist(bins=50).set_title(\"birth_month\")\n",
    "plt.figure()"
   ]
  },
  {
   "cell_type": "markdown",
   "metadata": {},
   "source": [
    "Zlúčime rozdielne zapísané hodnoty atribútov s totožným významom."
   ]
  },
  {
   "cell_type": "code",
   "execution_count": 9,
   "metadata": {},
   "outputs": [],
   "source": [
    "for i in range(train_data.shape[0]):\n",
    "    if train_data.loc[i, 'on thyroxine'] == 'FALSE' or train_data.loc[i, 'on thyroxine'] == 'F':\n",
    "        train_data.loc[i, 'on thyroxine'] = 'f'\n",
    "    elif train_data.loc[i, 'on thyroxine'] == 'TRUE' or train_data.loc[i, 'on thyroxine'] == 'T':\n",
    "        train_data.loc[i, 'on thyroxine'] = 't'\n",
    "    \n",
    "    for col in train_data.columns[train_data.dtypes == np.object]:\n",
    "        if pd.notna(train_data.loc[i, col]):\n",
    "            train_data.loc[i, col] = train_data.loc[i, col].lower().strip()"
   ]
  },
  {
   "cell_type": "code",
   "execution_count": 10,
   "metadata": {},
   "outputs": [
    {
     "name": "stdout",
     "output_type": "stream",
     "text": [
      "f    2470\n",
      "t     330\n",
      "Name: on thyroxine, dtype: int64\n",
      "\n",
      "f    2760\n",
      "t      40\n",
      "Name: query on thyroxine, dtype: int64\n",
      "\n",
      "f    2759\n",
      "t      41\n",
      "Name: pregnant, dtype: int64\n",
      "\n",
      "f    2761\n",
      "t      39\n",
      "Name: thyroid surgery, dtype: int64\n",
      "\n",
      "f    2752\n",
      "t      48\n",
      "Name: I131 treatment, dtype: int64\n",
      "\n",
      "f    2786\n",
      "t      14\n",
      "Name: lithium, dtype: int64\n",
      "\n",
      "f    2775\n",
      "t      25\n",
      "Name: goitre, dtype: int64\n",
      "\n",
      "f    2729\n",
      "t      71\n",
      "Name: tumor, dtype: int64\n",
      "\n",
      "f    2799\n",
      "t       1\n",
      "Name: hypopituitary, dtype: int64\n",
      "\n",
      "t    2215\n",
      "f     585\n",
      "Name: T3 measured, dtype: int64\n",
      "\n",
      "t    2505\n",
      "f     295\n",
      "Name: FTI measured, dtype: int64\n",
      "\n",
      "other    1632\n",
      "svi       771\n",
      "svhc      275\n",
      "stmw       91\n",
      "svhd       31\n",
      "Name: referral source, dtype: int64\n",
      "\n",
      "private             1974\n",
      "local-gov            212\n",
      "self-emp-not-inc     178\n",
      "?                    169\n",
      "state-gov            123\n",
      "federal-gov           75\n",
      "self-emp-inc          69\n",
      "Name: workclass, dtype: int64\n",
      "\n",
      "never-married            1118\n",
      "married-civ-spouse        853\n",
      "divorced                  489\n",
      "widowed                   167\n",
      "separated                 118\n",
      "married-spouse-absent      53\n",
      "married-af-spouse           2\n",
      "Name: marital-status, dtype: int64\n",
      "\n",
      "adm-clerical         449\n",
      "other-service        374\n",
      "prof-specialty       326\n",
      "exec-managerial      311\n",
      "sales                302\n",
      "?                    169\n",
      "machine-op-inspct    165\n",
      "craft-repair         164\n",
      "transport-moving      83\n",
      "tech-support          74\n",
      "handlers-cleaners     64\n",
      "farming-fishing       58\n",
      "adm_clerical          52\n",
      "other_service         41\n",
      "prof_specialty        29\n",
      "exec_managerial       25\n",
      "priv-house-serv       24\n",
      "protective-serv       23\n",
      "craft_repair          21\n",
      "tech_support          12\n",
      "machine_op_inspct      9\n",
      "transport_moving       6\n",
      "handlers_cleaners      6\n",
      "protective_serv        6\n",
      "priv_house_serv        4\n",
      "farming_fishing        3\n",
      "Name: occupation, dtype: int64\n",
      "\n",
      "not-in-family     899\n",
      "husband           541\n",
      "own-child         492\n",
      "unmarried         481\n",
      "wife              284\n",
      "other-relative    103\n",
      "Name: relationship, dtype: int64\n",
      "\n",
      "white                 2318\n",
      "black                  330\n",
      "asian-pac-islander      91\n",
      "other                   33\n",
      "amer-indian-eskimo      28\n",
      "Name: race, dtype: int64\n",
      "\n",
      "united-states         2493\n",
      "?                       60\n",
      "mexico                  47\n",
      "philippines             17\n",
      "jamaica                 12\n",
      "cuba                    12\n",
      "puerto-rico             11\n",
      "canada                  11\n",
      "guatemala               10\n",
      "vietnam                  8\n",
      "dominican-republic       8\n",
      "germany                  8\n",
      "china                    7\n",
      "el-salvador              7\n",
      "columbia                 7\n",
      "south                    7\n",
      "england                  6\n",
      "india                    6\n",
      "poland                   5\n",
      "haiti                    5\n",
      "japan                    5\n",
      "ireland                  5\n",
      "portugal                 5\n",
      "ecuador                  4\n",
      "thailand                 4\n",
      "greece                   4\n",
      "france                   3\n",
      "italy                    3\n",
      "peru                     3\n",
      "trinadad&tobago          3\n",
      "laos                     3\n",
      "taiwan                   2\n",
      "nicaragua                2\n",
      "scotland                 2\n",
      "hungary                  2\n",
      "cambodia                 1\n",
      "iran                     1\n",
      "hong                     1\n",
      "Name: native-country, dtype: int64\n",
      "\n",
      "t    2516\n",
      "f     284\n",
      "Name: TSH measured, dtype: int64\n",
      "\n",
      "f    1830\n",
      "m     860\n",
      "?     110\n",
      "Name: sex, dtype: int64\n",
      "\n",
      "f    2627\n",
      "t     173\n",
      "Name: query hyperthyroid, dtype: int64\n",
      "\n",
      "t    2616\n",
      "f     184\n",
      "Name: TT4 measured, dtype: int64\n",
      "\n",
      "f    2766\n",
      "t      34\n",
      "Name: on antithyroid medication, dtype: int64\n",
      "\n",
      "f    2690\n",
      "t     110\n",
      "Name: sick, dtype: int64\n",
      "\n",
      "t    2503\n",
      "f     297\n",
      "Name: T4U measured, dtype: int64\n",
      "\n",
      "f    2665\n",
      "t     135\n",
      "Name: psych, dtype: int64\n",
      "\n",
      "f    2637\n",
      "t     163\n",
      "Name: query hypothyroid, dtype: int64\n",
      "\n",
      "negative      2755\n",
      "discordant      45\n",
      "Name: test, dtype: int64\n",
      "\n"
     ]
    }
   ],
   "source": [
    "for column in train_data.columns[train_data.dtypes == np.object]:\n",
    "    if train_data[column].unique().size < 50:\n",
    "        print(train_data[column].value_counts())\n",
    "        print()"
   ]
  },
  {
   "cell_type": "markdown",
   "metadata": {},
   "source": [
    "Pripravili sme si funkciu na nahradzovanie stĺpca datasetu jeho trnasformáciu pomocou box-cox algoritmu. Táto funckia počíta s tým, že stĺpec môže obsahovať ešte neznáme hodnoty. Urobili sme tomu tak preto, aby sme nemusili dopĺňať neznáme hodnoty ešte predtým, než nahradíme odľahlé hodnoty, ktoré môžu ovplyvniť nahradzované hodnoty."
   ]
  },
  {
   "cell_type": "code",
   "execution_count": 11,
   "metadata": {},
   "outputs": [],
   "source": [
    "from scipy.stats import boxcox\n",
    "from functools import reduce\n",
    "\n",
    "def replaceWithBC(data, attr):\n",
    "    bc, att = boxcox(data[attr].dropna())\n",
    "    i2 = 0\n",
    "    for i in range(data.shape[0]):\n",
    "        if pd.notna(data.loc[i, attr]):\n",
    "            data.loc[i, attr] = bc[i2]\n",
    "            i2 = i2 + 1\n",
    "    data.rename(index=str, columns={attr: attr + \"_(box_cox)\"})\n",
    "            \n",
    "def replaceOutliers(data, attr, thrshl, new):\n",
    "    for i in range(data.shape[0]):\n",
    "        if thrshl(data.loc[i, attr]):\n",
    "            data.loc[i, attr] = new\n",
    "            \n",
    "def replaceOutliersD(data, attr, thrshl, new):\n",
    "    for i in range(data.shape[0]):\n",
    "        if thrshl(data.loc[i, attr]):\n",
    "            data.loc[i, attr] = new(data.loc[i])"
   ]
  },
  {
   "cell_type": "markdown",
   "metadata": {},
   "source": [
    "Pripravili sme si slovník do ktorého sa zapíše unikátnosť hodnôt jednotlivých atribútov. Toto budeme využívať pri dodatočnej identifikácii outlierov..."
   ]
  },
  {
   "cell_type": "code",
   "execution_count": 12,
   "metadata": {},
   "outputs": [],
   "source": [
    "uniquenesstable = {}\n",
    "def updateUniquenesstable():\n",
    "    for column in train_data.columns[train_data.dtypes == np.object]:\n",
    "        unique = train_data[column].unique()\n",
    "        uniquenesstable[column] = {}\n",
    "        for u in unique:\n",
    "            uniquenesstable[column][u] = len(train_data[train_data[column] == u][column]) / len(train_data[column])\n",
    "        uniquenesstable[column]['expected'] = 1 / len(unique)\n",
    "\n",
    "    for column in train_data.columns:\n",
    "        if np.issubdtype(train_data[column].dtype, np.number):\n",
    "            uniquenesstable[column] = {}\n",
    "            uniquenesstable[column]['mean'] = train_data[column].mean()\n",
    "            uniquenesstable[column]['median'] = train_data[column].median()\n",
    "            uniquenesstable[column]['std'] = train_data[column].std()\n",
    "            \n",
    "updateUniquenesstable()"
   ]
  },
  {
   "cell_type": "markdown",
   "metadata": {},
   "source": [
    "... a taktiež aj funkciu, ktorá tieto unikátne hodnoty vypíše."
   ]
  },
  {
   "cell_type": "code",
   "execution_count": 13,
   "metadata": {},
   "outputs": [],
   "source": [
    "def printUnique(data, attr, f):\n",
    "    outs = data[f(data[attr])]\n",
    "    c = 0\n",
    "    for i in range(outs.shape[0]):\n",
    "        un = False\n",
    "        for col in data.columns:\n",
    "            out = outs.iloc[i]\n",
    "            if not pd.isna(out[col]):\n",
    "                if np.issubdtype(train_data[col].dtype, np.number):\n",
    "                    if out[col] < uniquenesstable[col]['mean'] - uniquenesstable[col]['std'] or out[col] > uniquenesstable[col]['mean'] + uniquenesstable[col]['std']:\n",
    "                        print(i, attr, out[attr], col, out[col], uniquenesstable[col]['mean'])\n",
    "                        un = True\n",
    "                    elif out[col] < uniquenesstable[col]['median'] - uniquenesstable[col]['std'] or out[col] > uniquenesstable[col]['median'] + uniquenesstable[col]['std']:\n",
    "                        print(i, attr, out[attr], col, out[col], uniquenesstable[col]['median'])\n",
    "                        un = True\n",
    "                else:\n",
    "                    if uniquenesstable[col][out[col]] < uniquenesstable[col]['expected'] / 2:\n",
    "                        print(i, attr, out[attr], col, out[col], uniquenesstable[col][out[col]], uniquenesstable[col]['expected'])\n",
    "                        un = True\n",
    "        if (un):\n",
    "            c = c + 1\n",
    "    print(\"Unikátnych\", c, \"z\", outs.shape[0])"
   ]
  },
  {
   "cell_type": "markdown",
   "metadata": {},
   "source": [
    "Pomôžeme si aj korelačnou tabuľkou, ktorú sme prevzali z prechádzajúceho dokumentu."
   ]
  },
  {
   "cell_type": "code",
   "execution_count": 14,
   "metadata": {},
   "outputs": [
    {
     "name": "stdout",
     "output_type": "stream",
     "text": [
      "age - T3  correlation:  -0.24237972891474738\n",
      "age - birth_year  correlation:  -0.9211649983991632\n",
      "TSH - TT4  correlation:  -0.2685525331664122\n",
      "TSH - FTI  correlation:  -0.291188373868199\n",
      "T3 - TT4  correlation:  0.5660571765652239\n",
      "T3 - T4U  correlation:  0.46343405909602275\n",
      "T3 - FTI  correlation:  0.3510133883173405\n",
      "T3 - birth_year  correlation:  0.2686637335777969\n",
      "TT4 - T4U  correlation:  0.4339389434445414\n",
      "TT4 - FTI  correlation:  0.798007458309882\n"
     ]
    },
    {
     "data": {
      "text/plain": [
       "<matplotlib.axes._subplots.AxesSubplot at 0x15347e811d0>"
      ]
     },
     "execution_count": 14,
     "metadata": {},
     "output_type": "execute_result"
    },
    {
     "data": {
      "image/png": "[encoded data removed]",
      "text/plain": [
       "<matplotlib.figure.Figure at 0x15346fb2fd0>"
      ]
     },
     "metadata": {},
     "output_type": "display_data"
    }
   ],
   "source": [
    "for i in range(train_data.shape[1]):\n",
    "    if np.issubdtype(train_data[train_data.columns[i]].dtype, np.number):\n",
    "        for i2 in range(i, train_data.shape[1]):\n",
    "            if np.issubdtype(train_data[train_data.columns[i2]].dtype, np.number):\n",
    "                corr = train_data[train_data.columns[i]].corr(train_data[train_data.columns[i2]])\n",
    "                if (corr > 0.2 or corr < -0.2) and train_data.columns[i] != train_data.columns[i2]:\n",
    "                    print(train_data.columns[i], \"-\", train_data.columns[i2], \" correlation: \", train_data[train_data.columns[i]].corr(train_data[train_data.columns[i2]]))\n",
    "\n",
    "corr = train_data.corr()\n",
    "seaborn.heatmap(abs(corr), \n",
    "            xticklabels=corr.columns.values,\n",
    "            yticklabels=corr.columns.values)"
   ]
  },
  {
   "cell_type": "markdown",
   "metadata": {},
   "source": [
    "TSH malo distribúciu hodnôt pomerne značne roztiahnutú do jednej strany, avšak boli možné pozorovať náznaky toho, že sa snaží mať normálnu distribúciu. Použijeme teda box-cox, aby sme sa pokúsili túto normálnu distriúciu dosiahnúť. \n",
    "\n",
    "Po úprave pomocou box-cox algoritmu sú viditeľne hodnoty koncentrovanejšie ako pri neupravovnom atribúte a aj symetrickejšie. Je však možné aj vidieť, že úplná normálna distribúcia dosiahnutá nebola a stále sú hodnoty na ľavej strane od vrcholu distribúcie viac hustejšie naukladané ako na pravej strane, čomu bolo rovnako aj pri pôvodnej distribúcii. Nahradíme teda atribút TSH jeho box-cox verziou a atribút aj patrične premenujeme."
   ]
  },
  {
   "cell_type": "code",
   "execution_count": 15,
   "metadata": {},
   "outputs": [
    {
     "name": "stdout",
     "output_type": "stream",
     "text": [
      "Skewness TSH orig:  14.824564019675963\n",
      "Skewness TSH box-cox:  0.05058391985348052\n",
      "Kurtosis TSH orig:  284.54408349616324\n",
      "Kurtosis TSH box-cox:  1.2940121811098484\n"
     ]
    }
   ],
   "source": [
    "bc, att = boxcox(train_data['TSH'].dropna())\n",
    "print(\"Skewness TSH orig: \", stats.skew(train_data['TSH'].dropna()))\n",
    "print(\"Skewness TSH box-cox: \", stats.skew(bc))\n",
    "print(\"Kurtosis TSH orig: \", stats.kurtosis(train_data['TSH'].dropna()))\n",
    "print(\"Kurtosis TSH box-cox: \", stats.kurtosis(bc))"
   ]
  },
  {
   "cell_type": "code",
   "execution_count": 16,
   "metadata": {},
   "outputs": [
    {
     "data": {
      "image/png": "[encoded data removed]",
      "text/plain": [
       "<matplotlib.figure.Figure at 0x153479ebe10>"
      ]
     },
     "metadata": {},
     "output_type": "display_data"
    },
    {
     "data": {
      "image/png": "[encoded data removed]",
      "text/plain": [
       "<matplotlib.figure.Figure at 0x153479eb668>"
      ]
     },
     "metadata": {},
     "output_type": "display_data"
    },
    {
     "data": {
      "image/png": "[encoded data removed]",
      "text/plain": [
       "<matplotlib.figure.Figure at 0x15348009fd0>"
      ]
     },
     "metadata": {},
     "output_type": "display_data"
    },
    {
     "data": {
      "text/plain": [
       "<matplotlib.figure.Figure at 0x153480b2668>"
      ]
     },
     "metadata": {},
     "output_type": "display_data"
    }
   ],
   "source": [
    "pd.Series(train_data['TSH']).hist(bins=50).set_title(\"TSH\")\n",
    "plt.figure()\n",
    "replaceWithBC(train_data, 'TSH')\n",
    "pd.Series(train_data['TSH']).hist(bins=50).set_title(\"TSH (boxcox)\")\n",
    "plt.figure()\n",
    "pd.Series(train_data['TSH']).plot(kind='box')\n",
    "plt.figure()\n",
    "\n",
    "updateUniquenesstable()"
   ]
  },
  {
   "cell_type": "markdown",
   "metadata": {},
   "source": [
    "Vidíme, že subjekty s nameraným vysokým TSH majú zároveň aj pomerne nízke FTI a TT4, čo je možné povšimnúť si aj v korelačnej tabuľke. Keby sme teda tieto domnelo vychýlené hodnoty upravili či odstránili, mohli by sme oslabiť koreláciu týchto atribútov. Nebudeme teda považovať žiadne hodnoty TSH za vychýlené."
   ]
  },
  {
   "cell_type": "code",
   "execution_count": 17,
   "metadata": {},
   "outputs": [
    {
     "name": "stdout",
     "output_type": "stream",
     "text": [
      "0 TSH 7.970062271875442 age 18.0 51.79356887653831\n",
      "0 TSH 7.970062271875442 on thyroxine t 0.11785714285714285 0.5\n",
      "0 TSH 7.970062271875442 TSH 7.970062271875442 0.12403982275038332\n",
      "0 TSH 7.970062271875442 T3 measured f 0.20892857142857144 0.5\n",
      "0 TSH 7.970062271875442 T4U 1.3 0.9979121054734323\n",
      "0 TSH 7.970062271875442 workclass federal-gov 0.026785714285714284 0.14285714285714285\n",
      "0 TSH 7.970062271875442 relationship other-relative 0.03678571428571428 0.16666666666666666\n",
      "0 TSH 7.970062271875442 FTI 34.0 110.78798403193613\n",
      "0 TSH 7.970062271875442 birth_year 1999.0 1965.5130683852487\n",
      "0 TSH 7.970062271875442 birth_month 11.0 6.538847117794486\n",
      "1 TSH 7.949412739416855 age 2.0 51.79356887653831\n",
      "1 TSH 7.949412739416855 TSH 7.949412739416855 0.12403982275038332\n",
      "1 TSH 7.949412739416855 TT4 34.0 108.99039115646256\n",
      "1 TSH 7.949412739416855 referral source stmw 0.0325 0.2\n",
      "1 TSH 7.949412739416855 marital-status married-spouse-absent 0.01892857142857143 0.14285714285714285\n",
      "1 TSH 7.949412739416855 native-country columbia 0.0025 0.02631578947368421\n",
      "1 TSH 7.949412739416855 sex ? 0.039285714285714285 0.3333333333333333\n",
      "1 TSH 7.949412739416855 FTI 29.0 110.78798403193613\n",
      "1 TSH 7.949412739416855 birth_year 2015.0 1965.5130683852487\n",
      "1 TSH 7.949412739416855 birth_month 12.0 6.538847117794486\n",
      "2 TSH 7.935511758389984 age 25.0 51.79356887653831\n",
      "2 TSH 7.935511758389984 TSH 7.935511758389984 0.12403982275038332\n",
      "2 TSH 7.935511758389984 T3 0.7 2.024966139954856\n",
      "2 TSH 7.935511758389984 TT4 21.0 108.99039115646256\n",
      "2 TSH 7.935511758389984 workclass ? 0.06035714285714286 0.14285714285714285\n",
      "2 TSH 7.935511758389984 marital-status widowed 0.05964285714285714 0.14285714285714285\n",
      "2 TSH 7.935511758389984 capital-loss 2206 75.96035714285715\n",
      "2 TSH 7.935511758389984 hours-per-week 10 38.33642857142857\n",
      "2 TSH 7.935511758389984 FTI 19.0 110.78798403193613\n",
      "2 TSH 7.935511758389984 birth_year 1992.0 1965.5130683852487\n",
      "Unikátnych 3 z 3\n"
     ]
    }
   ],
   "source": [
    "printUnique(train_data, 'TSH', lambda x: x > 7.9)"
   ]
  },
  {
   "cell_type": "markdown",
   "metadata": {},
   "source": [
    "T3 nebudeme nahradzovať s box-cox, k normalizácii jeho distribúcie by to výrazne neprispelo. Overíme si však, či podozrivá hodnota nad 10 nie je vychýlenou hodnotou."
   ]
  },
  {
   "cell_type": "code",
   "execution_count": 18,
   "metadata": {},
   "outputs": [
    {
     "data": {
      "text/plain": [
       "<matplotlib.figure.Figure at 0x15347071cc0>"
      ]
     },
     "execution_count": 18,
     "metadata": {},
     "output_type": "execute_result"
    },
    {
     "data": {
      "image/png": "[encoded data removed]",
      "text/plain": [
       "<matplotlib.figure.Figure at 0x15347ff41d0>"
      ]
     },
     "metadata": {},
     "output_type": "display_data"
    },
    {
     "data": {
      "image/png": "[encoded data removed]",
      "text/plain": [
       "<matplotlib.figure.Figure at 0x15347ff48d0>"
      ]
     },
     "metadata": {},
     "output_type": "display_data"
    },
    {
     "data": {
      "text/plain": [
       "<matplotlib.figure.Figure at 0x15347071cc0>"
      ]
     },
     "metadata": {},
     "output_type": "display_data"
    }
   ],
   "source": [
    "pd.Series(train_data['T3']).hist(bins=50).set_title(\"T3\")\n",
    "plt.figure()\n",
    "pd.Series(train_data['T3']).plot(kind='box')\n",
    "plt.figure()"
   ]
  },
  {
   "cell_type": "markdown",
   "metadata": {},
   "source": [
    "Vskutku sa zdá, že táto hodnota môže byť valídna, vzhľadom na extrémne hodnoty namerané i u ostatných atribútov. Zistenie potvrdzuje i korelačná tabuľka. Nebudeme s ňou manipulovať z rovnakých dôvodov, ako sme uviedli pri TSH."
   ]
  },
  {
   "cell_type": "code",
   "execution_count": 19,
   "metadata": {},
   "outputs": [
    {
     "name": "stdout",
     "output_type": "stream",
     "text": [
      "0 T3 10.6 age 77.0 51.79356887653831\n",
      "0 T3 10.6 TSH -3.568818698884796 0.12403982275038332\n",
      "0 T3 10.6 T3 10.6 2.024966139954856\n",
      "0 T3 10.6 TT4 226.0 108.99039115646256\n",
      "0 T3 10.6 T4U 0.65 0.9979121054734323\n",
      "0 T3 10.6 FTI 349.0 110.78798403193613\n",
      "0 T3 10.6 birth_year 1940.0 1965.5130683852487\n",
      "Unikátnych 1 z 1\n"
     ]
    }
   ],
   "source": [
    "printUnique(train_data, 'T3', lambda x: x > 10)"
   ]
  },
  {
   "cell_type": "markdown",
   "metadata": {},
   "source": [
    "Nezdá sa, že by distribúciu TT4 bolo nutné upravovať. Overíme si odľahlé hodnoty nad 400."
   ]
  },
  {
   "cell_type": "code",
   "execution_count": 20,
   "metadata": {
    "scrolled": false
   },
   "outputs": [
    {
     "data": {
      "text/plain": [
       "<matplotlib.figure.Figure at 0x15347322f98>"
      ]
     },
     "execution_count": 20,
     "metadata": {},
     "output_type": "execute_result"
    },
    {
     "data": {
      "image/png": "[encoded data removed]",
      "text/plain": [
       "<matplotlib.figure.Figure at 0x1534736d198>"
      ]
     },
     "metadata": {},
     "output_type": "display_data"
    },
    {
     "data": {
      "image/png": "[encoded data removed]",
      "text/plain": [
       "<matplotlib.figure.Figure at 0x153474525c0>"
      ]
     },
     "metadata": {},
     "output_type": "display_data"
    },
    {
     "data": {
      "text/plain": [
       "<matplotlib.figure.Figure at 0x15347322f98>"
      ]
     },
     "metadata": {},
     "output_type": "display_data"
    }
   ],
   "source": [
    "pd.Series(train_data['TT4']).hist(bins=50).set_title(\"TT4\")\n",
    "plt.figure()\n",
    "pd.Series(train_data['TT4']).plot(kind='box')\n",
    "plt.figure()"
   ]
  },
  {
   "cell_type": "markdown",
   "metadata": {},
   "source": [
    "Ani tieto hodnoty nie sú samé, ktoré sa zdajú byť odľahlé. Je teda pravdepodobnejšie, že sú valídne. Korelačná tabuľka tvrdí to isté."
   ]
  },
  {
   "cell_type": "code",
   "execution_count": 21,
   "metadata": {},
   "outputs": [
    {
     "name": "stdout",
     "output_type": "stream",
     "text": [
      "0 TT4 430.0 pregnant t 0.014642857142857143 0.5\n",
      "0 TT4 430.0 TSH -1.5104393060023016 0.3410268735877535\n",
      "0 TT4 430.0 T3 measured f 0.20892857142857144 0.5\n",
      "0 TT4 430.0 TT4 430.0 108.99039115646256\n",
      "0 TT4 430.0 referral source stmw 0.0325 0.2\n",
      "0 TT4 430.0 fnlwgt 46401 185980.77535714285\n",
      "0 TT4 430.0 query hyperthyroid t 0.061785714285714284 0.5\n",
      "0 TT4 430.0 FTI 395.0 110.78798403193613\n",
      "1 TT4 430.0 TSH -1.7605906784915695 0.12403982275038332\n",
      "1 TT4 430.0 T3 7.3 2.024966139954856\n",
      "1 TT4 430.0 TT4 430.0 108.99039115646256\n",
      "1 TT4 430.0 referral source stmw 0.0325 0.2\n",
      "1 TT4 430.0 query hyperthyroid t 0.061785714285714284 0.5\n",
      "1 TT4 430.0 FTI 395.0 110.78798403193613\n",
      "Unikátnych 2 z 2\n"
     ]
    }
   ],
   "source": [
    "printUnique(train_data, 'TT4', lambda x: x > 400)"
   ]
  },
  {
   "cell_type": "markdown",
   "metadata": {},
   "source": [
    "Pri T4U sa nenachádza hodnota, ktorú by sme vizuálne zhodnotili za odľahlú, distribúcia je pomerne súvislá, upravovať ju nebudeme."
   ]
  },
  {
   "cell_type": "code",
   "execution_count": 22,
   "metadata": {},
   "outputs": [
    {
     "data": {
      "text/plain": [
       "<matplotlib.figure.Figure at 0x153482d4fd0>"
      ]
     },
     "execution_count": 22,
     "metadata": {},
     "output_type": "execute_result"
    },
    {
     "data": {
      "image/png": "[encoded data removed]",
      "text/plain": [
       "<matplotlib.figure.Figure at 0x1534733b978>"
      ]
     },
     "metadata": {},
     "output_type": "display_data"
    },
    {
     "data": {
      "image/png": "[encoded data removed]",
      "text/plain": [
       "<matplotlib.figure.Figure at 0x15348067fd0>"
      ]
     },
     "metadata": {},
     "output_type": "display_data"
    },
    {
     "data": {
      "text/plain": [
       "<matplotlib.figure.Figure at 0x153482d4fd0>"
      ]
     },
     "metadata": {},
     "output_type": "display_data"
    }
   ],
   "source": [
    "pd.Series(train_data['T4U']).hist(bins=50).set_title(\"T4U\")\n",
    "plt.figure()\n",
    "pd.Series(train_data['T4U']).plot(kind='box')\n",
    "plt.figure()"
   ]
  },
  {
   "cell_type": "markdown",
   "metadata": {},
   "source": [
    "Pri FTI by sa použitím box-cox taktiež distribúcia priveľmi nepopravila bližšie k normálnej. Vyskúšame, či hodnoty nad 270 nie sú odľahlé."
   ]
  },
  {
   "cell_type": "code",
   "execution_count": 23,
   "metadata": {},
   "outputs": [
    {
     "data": {
      "text/plain": [
       "<matplotlib.figure.Figure at 0x153493f2748>"
      ]
     },
     "execution_count": 23,
     "metadata": {},
     "output_type": "execute_result"
    },
    {
     "data": {
      "image/png": "[encoded data removed]",
      "text/plain": [
       "<matplotlib.figure.Figure at 0x153482a3320>"
      ]
     },
     "metadata": {},
     "output_type": "display_data"
    },
    {
     "data": {
      "image/png": "[encoded data removed]",
      "text/plain": [
       "<matplotlib.figure.Figure at 0x153482b8da0>"
      ]
     },
     "metadata": {},
     "output_type": "display_data"
    },
    {
     "data": {
      "text/plain": [
       "<matplotlib.figure.Figure at 0x153493f2748>"
      ]
     },
     "metadata": {},
     "output_type": "display_data"
    }
   ],
   "source": [
    "pd.Series(train_data['FTI']).hist(bins=50).set_title(\"FTI\")\n",
    "plt.figure()\n",
    "pd.Series(train_data['FTI']).plot(kind='box')\n",
    "plt.figure()"
   ]
  },
  {
   "cell_type": "markdown",
   "metadata": {},
   "source": [
    "Aj u FTI je možné pozorovať, že zdanlivo odľahlé hodnoty sa konzistentne upravujú podľa zistených korelácií. Nebudeme ich meniť."
   ]
  },
  {
   "cell_type": "code",
   "execution_count": 24,
   "metadata": {
    "scrolled": true
   },
   "outputs": [
    {
     "name": "stdout",
     "output_type": "stream",
     "text": [
      "0 FTI 274.0 TSH -3.854253878097603 0.12403982275038332\n",
      "0 FTI 274.0 T3 5.5 2.024966139954856\n",
      "0 FTI 274.0 TT4 219.0 108.99039115646256\n",
      "0 FTI 274.0 T4U 0.8 0.9979121054734323\n",
      "0 FTI 274.0 workclass state-gov 0.04392857142857143 0.14285714285714285\n",
      "0 FTI 274.0 fnlwgt 19395 185980.77535714285\n",
      "0 FTI 274.0 query hyperthyroid t 0.061785714285714284 0.5\n",
      "0 FTI 274.0 FTI 274.0 110.78798403193613\n",
      "1 FTI 395.0 pregnant t 0.014642857142857143 0.5\n",
      "1 FTI 395.0 TSH -1.5104393060023016 0.3410268735877535\n",
      "1 FTI 395.0 T3 measured f 0.20892857142857144 0.5\n",
      "1 FTI 395.0 TT4 430.0 108.99039115646256\n",
      "1 FTI 395.0 referral source stmw 0.0325 0.2\n",
      "1 FTI 395.0 fnlwgt 46401 185980.77535714285\n",
      "1 FTI 395.0 query hyperthyroid t 0.061785714285714284 0.5\n",
      "1 FTI 395.0 FTI 395.0 110.78798403193613\n",
      "2 FTI 349.0 age 77.0 51.79356887653831\n",
      "2 FTI 349.0 TSH -3.568818698884796 0.12403982275038332\n",
      "2 FTI 349.0 T3 10.6 2.024966139954856\n",
      "2 FTI 349.0 TT4 226.0 108.99039115646256\n",
      "2 FTI 349.0 T4U 0.65 0.9979121054734323\n",
      "2 FTI 349.0 FTI 349.0 110.78798403193613\n",
      "2 FTI 349.0 birth_year 1940.0 1965.5130683852487\n",
      "3 FTI 281.0 age 27.0 51.79356887653831\n",
      "3 FTI 281.0 TSH -3.3606286693069016 0.12403982275038332\n",
      "3 FTI 281.0 T3 5.3 2.024966139954856\n",
      "3 FTI 281.0 TT4 272.0 108.99039115646256\n",
      "3 FTI 281.0 workclass state-gov 0.04392857142857143 0.14285714285714285\n",
      "3 FTI 281.0 FTI 281.0 110.78798403193613\n",
      "3 FTI 281.0 birth_year 1990.0 1965.5130683852487\n",
      "4 FTI 362.0 age 33.0 54.0\n",
      "4 FTI 362.0 TSH -3.568818698884796 0.12403982275038332\n",
      "4 FTI 362.0 T3 5.0 2.024966139954856\n",
      "4 FTI 362.0 T4U 0.67 0.9979121054734323\n",
      "4 FTI 362.0 capital-loss 1887 75.96035714285715\n",
      "4 FTI 362.0 sex ? 0.039285714285714285 0.3333333333333333\n",
      "4 FTI 362.0 query hyperthyroid t 0.061785714285714284 0.5\n",
      "4 FTI 362.0 FTI 362.0 110.78798403193613\n",
      "4 FTI 362.0 birth_year 1985.0 1965.5130683852487\n",
      "4 FTI 362.0 birth_month 3.0 6.538847117794486\n",
      "5 FTI 395.0 TSH -1.7605906784915695 0.12403982275038332\n",
      "5 FTI 395.0 T3 7.3 2.024966139954856\n",
      "5 FTI 395.0 TT4 430.0 108.99039115646256\n",
      "5 FTI 395.0 referral source stmw 0.0325 0.2\n",
      "5 FTI 395.0 query hyperthyroid t 0.061785714285714284 0.5\n",
      "5 FTI 395.0 FTI 395.0 110.78798403193613\n",
      "6 FTI 312.0 age 15.0 51.79356887653831\n",
      "6 FTI 312.0 TSH -3.568818698884796 0.12403982275038332\n",
      "6 FTI 312.0 T3 6.0 2.024966139954856\n",
      "6 FTI 312.0 TT4 250.0 108.99039115646256\n",
      "6 FTI 312.0 T4U 0.8 0.9979121054734323\n",
      "6 FTI 312.0 workclass self-emp-not-inc 0.06357142857142857 0.14285714285714285\n",
      "6 FTI 312.0 hours-per-week 60 38.33642857142857\n",
      "6 FTI 312.0 FTI 312.0 110.78798403193613\n",
      "6 FTI 312.0 birth_year 2002.0 1965.5130683852487\n",
      "6 FTI 312.0 birth_month 3.0 6.538847117794486\n",
      "Unikátnych 7 z 7\n"
     ]
    }
   ],
   "source": [
    "printUnique(train_data, 'FTI', lambda x: x > 270)"
   ]
  },
  {
   "cell_type": "markdown",
   "metadata": {},
   "source": [
    "Distribúcia atribútu fnlwgt pôsobí \"useknuto\" a na jednej strane rozťahane. Pokúsime sa ju znormalizovať pomocou box-cox algoritmu.\n",
    "\n",
    "Použitie box-cox viditeľne pomohlo zosymetrizovať distribúciu atribútu fnlwgt, podobne však ako u TSH sa nepodarilo dosiahnúť úplnú symetricitu, či normálne rozdelenie. Hodnoty sú však aj značne koncentrovanejšie a keďže hodnoty atribútu fnlwgt ani nemajú nejakú výraznú výpovednú hodnotu, nebude škodiť, keď fnwgt nahradíme box-cox verziou. \n",
    "\n",
    "Bližšie sa pozrieme na hodnoty s váhou vyššou ako 720."
   ]
  },
  {
   "cell_type": "code",
   "execution_count": 25,
   "metadata": {},
   "outputs": [
    {
     "name": "stdout",
     "output_type": "stream",
     "text": [
      "Skewness fnlwgt orig:  1.4582578636301344\n",
      "Skewness fnlwgt box-cox:  0.05058391985348052\n",
      "Kurtosis fnlwgt orig:  5.76294202332816\n",
      "Kurtosis fnlwgt box-cox:  1.2940121811098484\n"
     ]
    }
   ],
   "source": [
    "print(\"Skewness fnlwgt orig: \", stats.skew(train_data['fnlwgt'].dropna()))\n",
    "print(\"Skewness fnlwgt box-cox: \", stats.skew(bc))\n",
    "print(\"Kurtosis fnlwgt orig: \", stats.kurtosis(train_data['fnlwgt'].dropna()))\n",
    "print(\"Kurtosis fnlwgt box-cox: \", stats.kurtosis(bc))"
   ]
  },
  {
   "cell_type": "code",
   "execution_count": 26,
   "metadata": {},
   "outputs": [
    {
     "data": {
      "image/png": "[encoded data removed]",
      "text/plain": [
       "<matplotlib.figure.Figure at 0x15349466358>"
      ]
     },
     "metadata": {},
     "output_type": "display_data"
    },
    {
     "data": {
      "image/png": "[encoded data removed]",
      "text/plain": [
       "<matplotlib.figure.Figure at 0x15349466518>"
      ]
     },
     "metadata": {},
     "output_type": "display_data"
    },
    {
     "data": {
      "image/png": "[encoded data removed]",
      "text/plain": [
       "<matplotlib.figure.Figure at 0x153494cdcf8>"
      ]
     },
     "metadata": {},
     "output_type": "display_data"
    },
    {
     "data": {
      "text/plain": [
       "<matplotlib.figure.Figure at 0x15349633eb8>"
      ]
     },
     "metadata": {},
     "output_type": "display_data"
    }
   ],
   "source": [
    "pd.Series(train_data['fnlwgt']).hist(bins=50).set_title(\"fnlwgt\")\n",
    "plt.figure()\n",
    "replaceWithBC(train_data, 'fnlwgt')\n",
    "pd.Series(train_data['fnlwgt']).hist(bins=50).set_title(\"fnlwgt (boxcox)\")\n",
    "plt.figure()\n",
    "pd.Series(train_data['fnlwgt']).plot(kind='box')\n",
    "plt.figure()\n",
    "\n",
    "updateUniquenesstable()"
   ]
  },
  {
   "cell_type": "markdown",
   "metadata": {},
   "source": [
    "I keď takmer každá z týchto vysokých hodnôt fnlwgt má nejaký iný atribút pomerne unikátny, nie je tu vidieť nijaká konzistencia, t.j. že niektorý z iných atribútov je pri každej z týchto hodnôt atribútu fnlwgt výnimočný. Odpovedá to zisteniam z prieskumnej analýzy, kde sme zistili najviac chabú súvislosť s atribptmi race, occupation a marital-status, pričom ani tieto nefigurujú vo vyššom počte v nižšie uvedenom výpise unikátnosti hodnôt. \n",
    "\n",
    "Všetko toto spolu značí, že s vysokou pravdepodobnosťou možno upraviť tieto odľahlé hodnoty bez výrazného dopadu na prípadné korelácie tohto atribútu s inými. Použijeme pritom stratégiu nahradzovaním 95-percentným kvartilom, keďže táto sa nám zdá byť sympatickejšia voči odstraňovaniu. Odstránenie by však taktiež nebolo veľkým krokom vedľa, pretože žiadne z uvedených pozorovaní nie je oslňujúco unikátne svojimi hodnotami a ani nesúvisí s atribútom, voči ktorému budeme klasifikovať."
   ]
  },
  {
   "cell_type": "code",
   "execution_count": 27,
   "metadata": {},
   "outputs": [
    {
     "name": "stdout",
     "output_type": "stream",
     "text": [
      "0 fnlwgt 745.5596830514392 T3 measured f 0.20892857142857144 0.5\n",
      "0 fnlwgt 745.5596830514392 fnlwgt 745.5596830514392 395.8140939185308\n",
      "0 fnlwgt 745.5596830514392 FTI 73.0 110.78798403193613\n",
      "0 fnlwgt 745.5596830514392 query hypothyroid t 0.05821428571428571 0.5\n",
      "1 fnlwgt 740.520637388126 age 74.0 51.79356887653831\n",
      "1 fnlwgt 740.520637388126 T4U 0.8 0.9979121054734323\n",
      "1 fnlwgt 740.520637388126 fnlwgt 740.520637388126 395.8140939185308\n",
      "1 fnlwgt 740.520637388126 FTI 152.0 110.78798403193613\n",
      "1 fnlwgt 740.520637388126 birth_year 1943.0 1965.5130683852487\n",
      "2 fnlwgt 744.158996157952 T3 measured f 0.20892857142857144 0.5\n",
      "2 fnlwgt 744.158996157952 FTI measured f 0.10535714285714286 0.5\n",
      "2 fnlwgt 744.158996157952 fnlwgt 744.158996157952 395.8140939185308\n",
      "2 fnlwgt 744.158996157952 hours-per-week 15 38.33642857142857\n",
      "2 fnlwgt 744.158996157952 TSH measured f 0.10142857142857142 0.5\n",
      "2 fnlwgt 744.158996157952 TT4 measured f 0.06571428571428571 0.5\n",
      "2 fnlwgt 744.158996157952 T4U measured f 0.10607142857142857 0.5\n",
      "2 fnlwgt 744.158996157952 birth_month 2.0 6.538847117794486\n",
      "3 fnlwgt 818.1331435430884 on thyroxine t 0.11785714285714285 0.5\n",
      "3 fnlwgt 818.1331435430884 I131 treatment t 0.017142857142857144 0.5\n",
      "3 fnlwgt 818.1331435430884 workclass federal-gov 0.026785714285714284 0.14285714285714285\n",
      "3 fnlwgt 818.1331435430884 fnlwgt 818.1331435430884 395.8140939185308\n",
      "3 fnlwgt 818.1331435430884 marital-status separated 0.04214285714285714 0.14285714285714285\n",
      "3 fnlwgt 818.1331435430884 capital-gain 6497 0.0\n",
      "3 fnlwgt 818.1331435430884 hours-per-week 56 38.33642857142857\n",
      "4 fnlwgt 877.7297823415848 T4U 0.77 0.9979121054734323\n",
      "4 fnlwgt 877.7297823415848 workclass self-emp-inc 0.024642857142857143 0.14285714285714285\n",
      "4 fnlwgt 877.7297823415848 fnlwgt 877.7297823415848 395.8140939185308\n",
      "4 fnlwgt 877.7297823415848 hours-per-week 60 38.33642857142857\n",
      "5 fnlwgt 745.7855577602261 fnlwgt 745.7855577602261 395.8140939185308\n",
      "5 fnlwgt 745.7855577602261 birth_month 12.0 6.538847117794486\n",
      "6 fnlwgt 744.1380954035731 fnlwgt 744.1380954035731 395.8140939185308\n",
      "6 fnlwgt 744.1380954035731 occupation protective-serv 0.008214285714285714 0.038461538461538464\n",
      "6 fnlwgt 744.1380954035731 query hypothyroid t 0.05821428571428571 0.5\n",
      "Unikátnych 7 z 7\n"
     ]
    }
   ],
   "source": [
    "printUnique(train_data, 'fnlwgt', lambda x: x > 720)"
   ]
  },
  {
   "cell_type": "code",
   "execution_count": 28,
   "metadata": {},
   "outputs": [
    {
     "data": {
      "text/plain": [
       "<matplotlib.figure.Figure at 0x153495cc0b8>"
      ]
     },
     "execution_count": 28,
     "metadata": {},
     "output_type": "execute_result"
    },
    {
     "data": {
      "image/png": "[encoded data removed]",
      "text/plain": [
       "<matplotlib.figure.Figure at 0x153495275c0>"
      ]
     },
     "metadata": {},
     "output_type": "display_data"
    },
    {
     "data": {
      "text/plain": [
       "<matplotlib.figure.Figure at 0x153495cc0b8>"
      ]
     },
     "metadata": {},
     "output_type": "display_data"
    }
   ],
   "source": [
    "replaceOutliers(train_data, 'fnlwgt', lambda a: a > 720, np.percentile(train_data['fnlwgt'], 95))\n",
    "\n",
    "pd.Series(train_data['fnlwgt']).hist(bins=50).set_title(\"fnlwgt\")\n",
    "plt.figure()"
   ]
  },
  {
   "cell_type": "markdown",
   "metadata": {},
   "source": [
    "Pri hourse-per-week sa pozrieme na subjekty na ostrovčeku s viac ako 95 hodinami za týždeň. Podozrivé sa môžu síce zdať už aj hodnoty nad 60, alebo pod 10, avšak iba tieto hodnoty nad 95 sú výzarne odtrhnuté od ostatných a od chvostov distribúcie."
   ]
  },
  {
   "cell_type": "code",
   "execution_count": 29,
   "metadata": {},
   "outputs": [
    {
     "data": {
      "text/plain": [
       "<matplotlib.figure.Figure at 0x153473225c0>"
      ]
     },
     "execution_count": 29,
     "metadata": {},
     "output_type": "execute_result"
    },
    {
     "data": {
      "image/png": "[encoded data removed]",
      "text/plain": [
       "<matplotlib.figure.Figure at 0x1534947af98>"
      ]
     },
     "metadata": {},
     "output_type": "display_data"
    },
    {
     "data": {
      "image/png": "[encoded data removed]",
      "text/plain": [
       "<matplotlib.figure.Figure at 0x1534947a518>"
      ]
     },
     "metadata": {},
     "output_type": "display_data"
    },
    {
     "data": {
      "text/plain": [
       "<matplotlib.figure.Figure at 0x153473225c0>"
      ]
     },
     "metadata": {},
     "output_type": "display_data"
    }
   ],
   "source": [
    "pd.Series(train_data['hours-per-week']).hist(bins=50).set_title(\"hours-per-week\")\n",
    "plt.figure()\n",
    "pd.Series(train_data['hours-per-week']).plot(kind='box')\n",
    "plt.figure()"
   ]
  },
  {
   "cell_type": "markdown",
   "metadata": {},
   "source": [
    "Pri vysokých hodnotách počtu hodín za týždeň sa jedná prevažne o samozamestaných ľudí, pričom niektorí majú podozrivo vysoký vek vzhľadom na počet odpracovaných hodín. Niektorí majú aj odchýlené niektoré medicínske merania, sú však odchýlené nekonzistentne, takže sa o súvis nejedná - žiaden ani nebol odhalený pri prieskumnej analýze.\n",
    "\n",
    "Týchto jedenásť hodnôt nahradíme teda 95-percentilom. Opäť, ako pri atribúte fnlwgt, nie je tu žiadna hodnota, ktorá by mala výsledok testu (atribút voči ktorému budeme klasifikovať) nezhodný (tá vzácnejšia hodnota klasifikovaného atribútu), avšak tri či štyry z týchto pozorovaní majú pomerne vysoké namerané hodnoty niektorých z medicínskych meraní, takže by ich možno bolo škoda stratiť odstránením týchto subjektov z dátového súboru."
   ]
  },
  {
   "cell_type": "code",
   "execution_count": 30,
   "metadata": {},
   "outputs": [
    {
     "name": "stdout",
     "output_type": "stream",
     "text": [
      "0 hours-per-week 99 T3 measured f 0.20892857142857144 0.5\n",
      "0 hours-per-week 99 hours-per-week 99 38.33642857142857\n",
      "0 hours-per-week 99 birth_year 1990.0 1965.5130683852487\n",
      "0 hours-per-week 99 birth_month 2.0 6.538847117794486\n",
      "1 hours-per-week 98 workclass self-emp-not-inc 0.06357142857142857 0.14285714285714285\n",
      "1 hours-per-week 98 fnlwgt 507.3428746196795 395.8140939185308\n",
      "1 hours-per-week 98 hours-per-week 98 38.33642857142857\n",
      "2 hours-per-week 99 on thyroxine t 0.11785714285714285 0.5\n",
      "2 hours-per-week 99 workclass federal-gov 0.026785714285714284 0.14285714285714285\n",
      "2 hours-per-week 99 fnlwgt 535.2953540287214 395.8140939185308\n",
      "2 hours-per-week 99 hours-per-week 99 38.33642857142857\n",
      "2 hours-per-week 99 birth_month 3.0 6.538847117794486\n",
      "3 hours-per-week 99 TSH -2.1035561988941174 0.12403982275038332\n",
      "3 hours-per-week 99 T3 measured f 0.20892857142857144 0.5\n",
      "3 hours-per-week 99 TT4 62.0 108.99039115646256\n",
      "3 hours-per-week 99 fnlwgt 537.4541713946792 395.8140939185308\n",
      "3 hours-per-week 99 capital-loss 2415 75.96035714285715\n",
      "3 hours-per-week 99 hours-per-week 99 38.33642857142857\n",
      "3 hours-per-week 99 FTI 66.0 110.78798403193613\n",
      "4 hours-per-week 99 age 18.0 51.79356887653831\n",
      "4 hours-per-week 99 workclass self-emp-not-inc 0.06357142857142857 0.14285714285714285\n",
      "4 hours-per-week 99 education-num 1000 4.150714285714286\n",
      "4 hours-per-week 99 hours-per-week 99 38.33642857142857\n",
      "4 hours-per-week 99 FTI 72.0 110.78798403193613\n",
      "4 hours-per-week 99 birth_year 1999.0 1965.5130683852487\n",
      "5 hours-per-week 98 workclass self-emp-not-inc 0.06357142857142857 0.14285714285714285\n",
      "5 hours-per-week 98 hours-per-week 98 38.33642857142857\n",
      "5 hours-per-week 98 FTI 149.0 110.78798403193613\n",
      "6 hours-per-week 99 FTI measured f 0.10535714285714286 0.5\n",
      "6 hours-per-week 99 fnlwgt 195.65881328753588 395.8140939185308\n",
      "6 hours-per-week 99 hours-per-week 99 38.33642857142857\n",
      "6 hours-per-week 99 TSH measured f 0.10142857142857142 0.5\n",
      "6 hours-per-week 99 query hyperthyroid t 0.061785714285714284 0.5\n",
      "6 hours-per-week 99 TT4 measured f 0.06571428571428571 0.5\n",
      "6 hours-per-week 99 T4U measured f 0.10607142857142857 0.5\n",
      "6 hours-per-week 99 birth_month 1.0 6.538847117794486\n",
      "7 hours-per-week 99 age 20.0 51.79356887653831\n",
      "7 hours-per-week 99 TT4 63.0 108.99039115646256\n",
      "7 hours-per-week 99 workclass self-emp-not-inc 0.06357142857142857 0.14285714285714285\n",
      "7 hours-per-week 99 relationship other-relative 0.03678571428571428 0.16666666666666666\n",
      "7 hours-per-week 99 hours-per-week 99 38.33642857142857\n",
      "7 hours-per-week 99 FTI 63.0 110.78798403193613\n",
      "7 hours-per-week 99 birth_year 1997.0 1965.5130683852487\n",
      "8 hours-per-week 99 TSH -1.5104393060023016 0.3410268735877535\n",
      "8 hours-per-week 99 T3 3.6 2.024966139954856\n",
      "8 hours-per-week 99 TT4 301.0 108.99039115646256\n",
      "8 hours-per-week 99 T4U 1.75 0.9979121054734323\n",
      "8 hours-per-week 99 hours-per-week 99 38.33642857142857\n",
      "8 hours-per-week 99 FTI 172.0 110.78798403193613\n",
      "8 hours-per-week 99 birth_month 1.0 6.538847117794486\n",
      "9 hours-per-week 99 on thyroxine t 0.11785714285714285 0.5\n",
      "9 hours-per-week 99 marital-status widowed 0.05964285714285714 0.14285714285714285\n",
      "9 hours-per-week 99 hours-per-week 99 38.33642857142857\n",
      "9 hours-per-week 99 FTI 163.0 110.78798403193613\n",
      "10 hours-per-week 99 age 30.0 51.79356887653831\n",
      "10 hours-per-week 99 tumor t 0.025357142857142856 0.5\n",
      "10 hours-per-week 99 workclass ? 0.06035714285714286 0.14285714285714285\n",
      "10 hours-per-week 99 fnlwgt 197.39855066631657 395.8140939185308\n",
      "10 hours-per-week 99 race asian-pac-islander 0.0325 0.2\n",
      "10 hours-per-week 99 hours-per-week 99 38.33642857142857\n",
      "10 hours-per-week 99 birth_year 1987.0 1965.5130683852487\n",
      "Unikátnych 11 z 11\n"
     ]
    }
   ],
   "source": [
    "printUnique(train_data, 'hours-per-week', lambda x: x > 85)"
   ]
  },
  {
   "cell_type": "code",
   "execution_count": 31,
   "metadata": {},
   "outputs": [
    {
     "data": {
      "text/plain": [
       "<matplotlib.figure.Figure at 0x153479e1e80>"
      ]
     },
     "execution_count": 31,
     "metadata": {},
     "output_type": "execute_result"
    },
    {
     "data": {
      "image/png": "[encoded data removed]",
      "text/plain": [
       "<matplotlib.figure.Figure at 0x1534733bdd8>"
      ]
     },
     "metadata": {},
     "output_type": "display_data"
    },
    {
     "data": {
      "text/plain": [
       "<matplotlib.figure.Figure at 0x153479e1e80>"
      ]
     },
     "metadata": {},
     "output_type": "display_data"
    }
   ],
   "source": [
    "replaceOutliers(train_data, 'hours-per-week', lambda a: a > 95, np.percentile(train_data['hours-per-week'], 95))\n",
    "\n",
    "pd.Series(train_data['hours-per-week']).hist(bins=50).set_title(\"hours-per-week\")\n",
    "plt.figure()"
   ]
  },
  {
   "cell_type": "markdown",
   "metadata": {},
   "source": [
    "Vek s hodnotou 455 rokov je bezpochyby odľahlou hodnotou uvažujúc, že nie je možné sa takého vysokého veku dožiť. Preskúmanie unikátnych hodnôt tohto pozorovania ukázalo, že sa nelíši ničím inakším zvláštnym len samotným vekom. Pri troche nápaditosti si možno domyslieť, že sa vzhľadom na rok narodenia 1962 pozorovania má jednať o vek 55 rokov, takže je túto odľahlú hodnotu ľahké opraviť. V tomto prípade by však ani odstránenie pozorovania neuškodilo, kedže neobsahuje unikátne hodnoty."
   ]
  },
  {
   "cell_type": "code",
   "execution_count": 32,
   "metadata": {},
   "outputs": [
    {
     "name": "stdout",
     "output_type": "stream",
     "text": [
      "0 age 455.0 age 455.0 51.79356887653831\n",
      "0 age 455.0 workclass state-gov 0.04392857142857143 0.14285714285714285\n",
      "0 age 455.0 birth_month 12.0 6.538847117794486\n",
      "Unikátnych 1 z 1\n"
     ]
    }
   ],
   "source": [
    "printUnique(train_data, 'age', lambda x: x == 455)"
   ]
  },
  {
   "cell_type": "code",
   "execution_count": 33,
   "metadata": {},
   "outputs": [
    {
     "data": {
      "text/plain": [
       "<matplotlib.figure.Figure at 0x1534733bf60>"
      ]
     },
     "execution_count": 33,
     "metadata": {},
     "output_type": "execute_result"
    },
    {
     "data": {
      "image/png": "[encoded data removed]",
      "text/plain": [
       "<matplotlib.figure.Figure at 0x15347f49c88>"
      ]
     },
     "metadata": {},
     "output_type": "display_data"
    },
    {
     "data": {
      "image/png": "[encoded data removed]",
      "text/plain": [
       "<matplotlib.figure.Figure at 0x15347f49c50>"
      ]
     },
     "metadata": {},
     "output_type": "display_data"
    },
    {
     "data": {
      "text/plain": [
       "<matplotlib.figure.Figure at 0x1534733bf60>"
      ]
     },
     "metadata": {},
     "output_type": "display_data"
    }
   ],
   "source": [
    "replaceOutliersD(train_data, 'age', lambda a: a > 100, lambda a: 2017 - a.birth_year)\n",
    "pd.Series(train_data['age']).hist(bins=50).set_title(\"age\")\n",
    "plt.figure()\n",
    "pd.Series(train_data['age']).plot(kind='box')\n",
    "plt.figure()"
   ]
  },
  {
   "cell_type": "markdown",
   "metadata": {},
   "source": [
    "Keďže už máme dátum a mesiac narodenia v číselnej podobe a v atribúte vek sme odstránili odľahlú hodnotu, môžeme si overiť aj to, či sa merania odkazujú na rovnaký dátum."
   ]
  },
  {
   "cell_type": "code",
   "execution_count": 34,
   "metadata": {},
   "outputs": [
    {
     "data": {
      "text/plain": [
       "<matplotlib.figure.Figure at 0x153495ae978>"
      ]
     },
     "execution_count": 34,
     "metadata": {},
     "output_type": "execute_result"
    },
    {
     "data": {
      "image/png": "[encoded data removed]",
      "text/plain": [
       "<matplotlib.figure.Figure at 0x15347edd400>"
      ]
     },
     "metadata": {},
     "output_type": "display_data"
    },
    {
     "data": {
      "text/plain": [
       "<matplotlib.figure.Figure at 0x153495ae978>"
      ]
     },
     "metadata": {},
     "output_type": "display_data"
    }
   ],
   "source": [
    "currDate = train_data.birth_year + (train_data.birth_month / 12) + train_data.age\n",
    "\n",
    "pd.Series(currDate).hist(bins=50).set_title(\"Dátum merania\")\n",
    "plt.figure()"
   ]
  },
  {
   "cell_type": "markdown",
   "metadata": {},
   "source": [
    "Zjednotíme rozličné hodnoty edukačného čísla s rovnakým významom. Edukačné číslo budeme používať namiesto samotného kategorického atribútu \"education\", ktorý sme odstránili."
   ]
  },
  {
   "cell_type": "code",
   "execution_count": 35,
   "metadata": {},
   "outputs": [],
   "source": [
    "for i in range (len(train_data['education-num'])):\n",
    "    if train_data.loc[i, 'education-num'] < 0:\n",
    "        train_data.loc[i, 'education-num'] *= -1\n",
    "    if train_data.loc[i, 'education-num'] >= 100:\n",
    "        train_data.loc[i, 'education-num'] = train_data.loc[i, 'education-num']/100"
   ]
  },
  {
   "cell_type": "code",
   "execution_count": 36,
   "metadata": {},
   "outputs": [
    {
     "data": {
      "text/plain": [
       "<matplotlib.figure.Figure at 0x153496639e8>"
      ]
     },
     "execution_count": 36,
     "metadata": {},
     "output_type": "execute_result"
    },
    {
     "data": {
      "image/png": "[encoded data removed]",
      "text/plain": [
       "<matplotlib.figure.Figure at 0x15349663b38>"
      ]
     },
     "metadata": {},
     "output_type": "display_data"
    },
    {
     "data": {
      "text/plain": [
       "<matplotlib.figure.Figure at 0x153496639e8>"
      ]
     },
     "metadata": {},
     "output_type": "display_data"
    }
   ],
   "source": [
    "pd.Series(train_data['education-num']).hist(bins=50).set_title(\"education-num\")\n",
    "plt.figure()"
   ]
  },
  {
   "cell_type": "markdown",
   "metadata": {},
   "source": [
    "Atribúty capital-gain a capital-loss mali distribúciu, ktorú nebolo možné napraviť do normálnej distribúcie a ani ju prehlásiť za nejakú inú, známu distribúciu. Taktiež viac ako 90 percent hodnôt týchto číslených atribútov nadobúdalo hodnotu 0, žo značí že buď nebola hodnota meraná, alebo pozorovania ani žiadnú takú aktivitu, ktorá by viedla k zmene ich kapitálu nevykazovali. Keďže v takejto podobe nemajú tieto atribúty žiaden pozorovateľný vplyv na ostatné hodnoty dátového súboru, rozhodli sme sa pokúsiť ešte tento atribút upraviť na atribút kategorický, ktorý by nadobúdal tri hodnoty, vyjadrujúce či doľlo k prírastku, úbytku kapirálu, alebo sa kapitál nezmenil. Je možné, že u takto zlúčených hodnotách bude možno nejaký súvis s hodnotami ostatnými atribútov pozorovať."
   ]
  },
  {
   "cell_type": "code",
   "execution_count": 37,
   "metadata": {},
   "outputs": [],
   "source": [
    "train_data['yield'] = np.nan\n",
    "for i in range(train_data.shape[0]):\n",
    "    yld = train_data.loc[i,'capital-gain'] - train_data.loc[i, 'capital-loss']\n",
    "    if (yld == 0):\n",
    "        train_data.loc[i, 'yield'] = 'none'\n",
    "    elif (yld < 0):\n",
    "        train_data.loc[i, 'yield'] = 'loss'\n",
    "    else:\n",
    "        train_data.loc[i, 'yield'] = 'gain'"
   ]
  },
  {
   "cell_type": "code",
   "execution_count": 38,
   "metadata": {},
   "outputs": [],
   "source": [
    "train_data = train_data.drop(['capital-gain', 'capital-loss'], axis=1)"
   ]
  },
  {
   "cell_type": "code",
   "execution_count": 39,
   "metadata": {},
   "outputs": [
    {
     "data": {
      "text/plain": [
       "<matplotlib.figure.Figure at 0x15349689f98>"
      ]
     },
     "execution_count": 39,
     "metadata": {},
     "output_type": "execute_result"
    },
    {
     "data": {
      "image/png": "[encoded data removed]",
      "text/plain": [
       "<matplotlib.figure.Figure at 0x15349689be0>"
      ]
     },
     "metadata": {},
     "output_type": "display_data"
    },
    {
     "data": {
      "text/plain": [
       "<matplotlib.figure.Figure at 0x15349689f98>"
      ]
     },
     "metadata": {},
     "output_type": "display_data"
    }
   ],
   "source": [
    "pd.Series(train_data['yield']).hist(bins=50).set_title(\"yield\")\n",
    "plt.figure()"
   ]
  },
  {
   "cell_type": "code",
   "execution_count": 40,
   "metadata": {},
   "outputs": [
    {
     "data": {
      "text/html": [
       "<div>\n",
       "<style scoped>\n",
       "    .dataframe tbody tr th:only-of-type {\n",
       "        vertical-align: middle;\n",
       "    }\n",
       "\n",
       "    .dataframe tbody tr th {\n",
       "        vertical-align: top;\n",
       "    }\n",
       "\n",
       "    .dataframe thead th {\n",
       "        text-align: right;\n",
       "    }\n",
       "</style>\n",
       "<table border=\"1\" class=\"dataframe\">\n",
       "  <thead>\n",
       "    <tr style=\"text-align: right;\">\n",
       "      <th></th>\n",
       "      <th>age</th>\n",
       "      <th>on thyroxine</th>\n",
       "      <th>query on thyroxine</th>\n",
       "      <th>pregnant</th>\n",
       "      <th>thyroid surgery</th>\n",
       "      <th>I131 treatment</th>\n",
       "      <th>lithium</th>\n",
       "      <th>goitre</th>\n",
       "      <th>tumor</th>\n",
       "      <th>hypopituitary</th>\n",
       "      <th>TSH</th>\n",
       "      <th>T3 measured</th>\n",
       "      <th>T3</th>\n",
       "      <th>TT4</th>\n",
       "      <th>T4U</th>\n",
       "      <th>FTI measured</th>\n",
       "      <th>referral source</th>\n",
       "      <th>workclass</th>\n",
       "      <th>fnlwgt</th>\n",
       "      <th>education-num</th>\n",
       "      <th>marital-status</th>\n",
       "      <th>occupation</th>\n",
       "      <th>relationship</th>\n",
       "      <th>race</th>\n",
       "      <th>hours-per-week</th>\n",
       "      <th>native-country</th>\n",
       "      <th>TSH measured</th>\n",
       "      <th>sex</th>\n",
       "      <th>query hyperthyroid</th>\n",
       "      <th>TT4 measured</th>\n",
       "      <th>on antithyroid medication</th>\n",
       "      <th>FTI</th>\n",
       "      <th>sick</th>\n",
       "      <th>T4U measured</th>\n",
       "      <th>psych</th>\n",
       "      <th>query hypothyroid</th>\n",
       "      <th>test</th>\n",
       "      <th>birth_year</th>\n",
       "      <th>birth_month</th>\n",
       "      <th>yield</th>\n",
       "    </tr>\n",
       "    <tr>\n",
       "      <th>id</th>\n",
       "      <th></th>\n",
       "      <th></th>\n",
       "      <th></th>\n",
       "      <th></th>\n",
       "      <th></th>\n",
       "      <th></th>\n",
       "      <th></th>\n",
       "      <th></th>\n",
       "      <th></th>\n",
       "      <th></th>\n",
       "      <th></th>\n",
       "      <th></th>\n",
       "      <th></th>\n",
       "      <th></th>\n",
       "      <th></th>\n",
       "      <th></th>\n",
       "      <th></th>\n",
       "      <th></th>\n",
       "      <th></th>\n",
       "      <th></th>\n",
       "      <th></th>\n",
       "      <th></th>\n",
       "      <th></th>\n",
       "      <th></th>\n",
       "      <th></th>\n",
       "      <th></th>\n",
       "      <th></th>\n",
       "      <th></th>\n",
       "      <th></th>\n",
       "      <th></th>\n",
       "      <th></th>\n",
       "      <th></th>\n",
       "      <th></th>\n",
       "      <th></th>\n",
       "      <th></th>\n",
       "      <th></th>\n",
       "      <th></th>\n",
       "      <th></th>\n",
       "      <th></th>\n",
       "      <th></th>\n",
       "    </tr>\n",
       "  </thead>\n",
       "  <tbody>\n",
       "    <tr>\n",
       "      <th>0</th>\n",
       "      <td>82.0</td>\n",
       "      <td>f</td>\n",
       "      <td>f</td>\n",
       "      <td>f</td>\n",
       "      <td>f</td>\n",
       "      <td>f</td>\n",
       "      <td>f</td>\n",
       "      <td>f</td>\n",
       "      <td>f</td>\n",
       "      <td>f</td>\n",
       "      <td>0.813772</td>\n",
       "      <td>t</td>\n",
       "      <td>1.0</td>\n",
       "      <td>68.0</td>\n",
       "      <td>0.77</td>\n",
       "      <td>t</td>\n",
       "      <td>svi</td>\n",
       "      <td>local-gov</td>\n",
       "      <td>365.447207</td>\n",
       "      <td>11.0</td>\n",
       "      <td>married-civ-spouse</td>\n",
       "      <td>protective-serv</td>\n",
       "      <td>husband</td>\n",
       "      <td>white</td>\n",
       "      <td>40.0</td>\n",
       "      <td>united-states</td>\n",
       "      <td>t</td>\n",
       "      <td>m</td>\n",
       "      <td>f</td>\n",
       "      <td>t</td>\n",
       "      <td>f</td>\n",
       "      <td>88.0</td>\n",
       "      <td>f</td>\n",
       "      <td>t</td>\n",
       "      <td>f</td>\n",
       "      <td>f</td>\n",
       "      <td>negative</td>\n",
       "      <td>1935.0</td>\n",
       "      <td>5.0</td>\n",
       "      <td>none</td>\n",
       "    </tr>\n",
       "    <tr>\n",
       "      <th>1</th>\n",
       "      <td>50.0</td>\n",
       "      <td>f</td>\n",
       "      <td>f</td>\n",
       "      <td>f</td>\n",
       "      <td>t</td>\n",
       "      <td>f</td>\n",
       "      <td>f</td>\n",
       "      <td>f</td>\n",
       "      <td>f</td>\n",
       "      <td>f</td>\n",
       "      <td>5.172593</td>\n",
       "      <td>t</td>\n",
       "      <td>0.5</td>\n",
       "      <td>22.0</td>\n",
       "      <td>1.12</td>\n",
       "      <td>t</td>\n",
       "      <td>other</td>\n",
       "      <td>local-gov</td>\n",
       "      <td>402.661130</td>\n",
       "      <td>13.0</td>\n",
       "      <td>divorced</td>\n",
       "      <td>prof-specialty</td>\n",
       "      <td>unmarried</td>\n",
       "      <td>white</td>\n",
       "      <td>35.0</td>\n",
       "      <td>united-states</td>\n",
       "      <td>t</td>\n",
       "      <td>f</td>\n",
       "      <td>f</td>\n",
       "      <td>t</td>\n",
       "      <td>f</td>\n",
       "      <td>19.0</td>\n",
       "      <td>f</td>\n",
       "      <td>t</td>\n",
       "      <td>f</td>\n",
       "      <td>f</td>\n",
       "      <td>negative</td>\n",
       "      <td>1967.0</td>\n",
       "      <td>8.0</td>\n",
       "      <td>none</td>\n",
       "    </tr>\n",
       "    <tr>\n",
       "      <th>2</th>\n",
       "      <td>41.0</td>\n",
       "      <td>f</td>\n",
       "      <td>f</td>\n",
       "      <td>f</td>\n",
       "      <td>f</td>\n",
       "      <td>f</td>\n",
       "      <td>f</td>\n",
       "      <td>f</td>\n",
       "      <td>f</td>\n",
       "      <td>f</td>\n",
       "      <td>NaN</td>\n",
       "      <td>t</td>\n",
       "      <td>2.0</td>\n",
       "      <td>99.0</td>\n",
       "      <td>0.96</td>\n",
       "      <td>t</td>\n",
       "      <td>other</td>\n",
       "      <td>self-emp-not-inc</td>\n",
       "      <td>318.259586</td>\n",
       "      <td>10.0</td>\n",
       "      <td>widowed</td>\n",
       "      <td>farming-fishing</td>\n",
       "      <td>unmarried</td>\n",
       "      <td>white</td>\n",
       "      <td>50.0</td>\n",
       "      <td>united-states</td>\n",
       "      <td>f</td>\n",
       "      <td>f</td>\n",
       "      <td>f</td>\n",
       "      <td>t</td>\n",
       "      <td>f</td>\n",
       "      <td>104.0</td>\n",
       "      <td>f</td>\n",
       "      <td>t</td>\n",
       "      <td>f</td>\n",
       "      <td>f</td>\n",
       "      <td>negative</td>\n",
       "      <td>1976.0</td>\n",
       "      <td>5.0</td>\n",
       "      <td>none</td>\n",
       "    </tr>\n",
       "    <tr>\n",
       "      <th>3</th>\n",
       "      <td>73.0</td>\n",
       "      <td>f</td>\n",
       "      <td>f</td>\n",
       "      <td>f</td>\n",
       "      <td>f</td>\n",
       "      <td>f</td>\n",
       "      <td>f</td>\n",
       "      <td>f</td>\n",
       "      <td>f</td>\n",
       "      <td>f</td>\n",
       "      <td>-0.351650</td>\n",
       "      <td>t</td>\n",
       "      <td>2.0</td>\n",
       "      <td>116.0</td>\n",
       "      <td>0.99</td>\n",
       "      <td>t</td>\n",
       "      <td>other</td>\n",
       "      <td>private</td>\n",
       "      <td>483.595580</td>\n",
       "      <td>9.0</td>\n",
       "      <td>married-civ-spouse</td>\n",
       "      <td>adm-clerical</td>\n",
       "      <td>wife</td>\n",
       "      <td>white</td>\n",
       "      <td>25.0</td>\n",
       "      <td>united-states</td>\n",
       "      <td>t</td>\n",
       "      <td>f</td>\n",
       "      <td>f</td>\n",
       "      <td>t</td>\n",
       "      <td>f</td>\n",
       "      <td>117.0</td>\n",
       "      <td>f</td>\n",
       "      <td>t</td>\n",
       "      <td>f</td>\n",
       "      <td>f</td>\n",
       "      <td>negative</td>\n",
       "      <td>1944.0</td>\n",
       "      <td>10.0</td>\n",
       "      <td>none</td>\n",
       "    </tr>\n",
       "    <tr>\n",
       "      <th>4</th>\n",
       "      <td>64.0</td>\n",
       "      <td>f</td>\n",
       "      <td>f</td>\n",
       "      <td>f</td>\n",
       "      <td>f</td>\n",
       "      <td>f</td>\n",
       "      <td>f</td>\n",
       "      <td>f</td>\n",
       "      <td>f</td>\n",
       "      <td>f</td>\n",
       "      <td>0.712661</td>\n",
       "      <td>t</td>\n",
       "      <td>1.8</td>\n",
       "      <td>80.0</td>\n",
       "      <td>0.91</td>\n",
       "      <td>t</td>\n",
       "      <td>svhc</td>\n",
       "      <td>self-emp-inc</td>\n",
       "      <td>550.637942</td>\n",
       "      <td>10.0</td>\n",
       "      <td>married-civ-spouse</td>\n",
       "      <td>sales</td>\n",
       "      <td>husband</td>\n",
       "      <td>white</td>\n",
       "      <td>60.0</td>\n",
       "      <td>united-states</td>\n",
       "      <td>t</td>\n",
       "      <td>m</td>\n",
       "      <td>f</td>\n",
       "      <td>t</td>\n",
       "      <td>f</td>\n",
       "      <td>88.0</td>\n",
       "      <td>f</td>\n",
       "      <td>t</td>\n",
       "      <td>f</td>\n",
       "      <td>f</td>\n",
       "      <td>negative</td>\n",
       "      <td>1953.0</td>\n",
       "      <td>5.0</td>\n",
       "      <td>none</td>\n",
       "    </tr>\n",
       "  </tbody>\n",
       "</table>\n",
       "</div>"
      ],
      "text/plain": [
       "     age on thyroxine query on thyroxine pregnant thyroid surgery  \\\n",
       "id                                                                  \n",
       "0   82.0            f                  f        f               f   \n",
       "1   50.0            f                  f        f               t   \n",
       "2   41.0            f                  f        f               f   \n",
       "3   73.0            f                  f        f               f   \n",
       "4   64.0            f                  f        f               f   \n",
       "\n",
       "   I131 treatment lithium goitre tumor hypopituitary       TSH T3 measured  \\\n",
       "id                                                                           \n",
       "0               f       f      f     f             f  0.813772           t   \n",
       "1               f       f      f     f             f  5.172593           t   \n",
       "2               f       f      f     f             f       NaN           t   \n",
       "3               f       f      f     f             f -0.351650           t   \n",
       "4               f       f      f     f             f  0.712661           t   \n",
       "\n",
       "     T3    TT4   T4U FTI measured referral source         workclass  \\\n",
       "id                                                                    \n",
       "0   1.0   68.0  0.77            t             svi         local-gov   \n",
       "1   0.5   22.0  1.12            t           other         local-gov   \n",
       "2   2.0   99.0  0.96            t           other  self-emp-not-inc   \n",
       "3   2.0  116.0  0.99            t           other           private   \n",
       "4   1.8   80.0  0.91            t            svhc      self-emp-inc   \n",
       "\n",
       "        fnlwgt  education-num      marital-status       occupation  \\\n",
       "id                                                                   \n",
       "0   365.447207           11.0  married-civ-spouse  protective-serv   \n",
       "1   402.661130           13.0            divorced   prof-specialty   \n",
       "2   318.259586           10.0             widowed  farming-fishing   \n",
       "3   483.595580            9.0  married-civ-spouse     adm-clerical   \n",
       "4   550.637942           10.0  married-civ-spouse            sales   \n",
       "\n",
       "   relationship   race  hours-per-week native-country TSH measured sex  \\\n",
       "id                                                                       \n",
       "0       husband  white            40.0  united-states            t   m   \n",
       "1     unmarried  white            35.0  united-states            t   f   \n",
       "2     unmarried  white            50.0  united-states            f   f   \n",
       "3          wife  white            25.0  united-states            t   f   \n",
       "4       husband  white            60.0  united-states            t   m   \n",
       "\n",
       "   query hyperthyroid TT4 measured on antithyroid medication    FTI sick  \\\n",
       "id                                                                         \n",
       "0                   f            t                         f   88.0    f   \n",
       "1                   f            t                         f   19.0    f   \n",
       "2                   f            t                         f  104.0    f   \n",
       "3                   f            t                         f  117.0    f   \n",
       "4                   f            t                         f   88.0    f   \n",
       "\n",
       "   T4U measured psych query hypothyroid      test  birth_year  birth_month  \\\n",
       "id                                                                           \n",
       "0             t     f                 f  negative      1935.0          5.0   \n",
       "1             t     f                 f  negative      1967.0          8.0   \n",
       "2             t     f                 f  negative      1976.0          5.0   \n",
       "3             t     f                 f  negative      1944.0         10.0   \n",
       "4             t     f                 f  negative      1953.0          5.0   \n",
       "\n",
       "   yield  \n",
       "id        \n",
       "0   none  \n",
       "1   none  \n",
       "2   none  \n",
       "3   none  \n",
       "4   none  "
      ]
     },
     "execution_count": 40,
     "metadata": {},
     "output_type": "execute_result"
    }
   ],
   "source": [
    "train_data.head()"
   ]
  },
  {
   "cell_type": "markdown",
   "metadata": {},
   "source": [
    "Neznáme hodnoty číselných atribútov sa pokúsime nahradiť priemerom, respektíve mediánom hodnôt daného atribútu."
   ]
  },
  {
   "cell_type": "code",
   "execution_count": 41,
   "metadata": {},
   "outputs": [],
   "source": [
    "import math\n",
    "\n",
    "mean_med = train_data.copy()\n",
    "\n",
    "for column in mean_med.columns:\n",
    "    if np.issubdtype(mean_med[column].dtype, np.number):\n",
    "        if mean_med[column].std() / mean_med[column].mean() <= 1:\n",
    "            mean = mean_med[column].mean()\n",
    "            for i in range(len(mean_med[column])):\n",
    "                if (np.isnan(mean_med.loc[i, column])):\n",
    "                    mean_med.loc[i, column] = mean\n",
    "        else:\n",
    "            median = mean_med[column].median()\n",
    "            for i in range(len(mean_med[column])):\n",
    "                if (np.isnan(mean_med.loc[i, column])):\n",
    "                    mean_med.loc[i, column] = median\n",
    "\n",
    "for i in range(mean_med.shape[0]):\n",
    "    mean_med.loc[i, 'birth_year'] = math.ceil(mean_med.loc[i, 'birth_year'])\n",
    "    mean_med.loc[i, 'birth_month'] = math.ceil(mean_med.loc[i, 'birth_month'])"
   ]
  },
  {
   "cell_type": "markdown",
   "metadata": {},
   "source": [
    "O to isté sa pokúsime aj využitím lineárnej regresie. Budeme pri tom ale musieť použiť pre necieľové stĺpce aj neznáme hodnoty nahradené priemerom/mediánom vo vyššej bunke, pretože regresia nedokáže pracovať s neznámymi hodnotami a niektoré pozorovania v dátovom súbore obsahujú viac neznámych pozorovaní. Nahradenie týchto priemerom/mediánom sa nám zdalo ako to najmenej poškodzujúce výsledok regresie.\n",
    "\n",
    "Je možné si povšimnúť, že lineárny model sa najlepšie natrénoval pre atribúty vek, TT4, T4U, FTI a rok narodenia, pri mesiaci narodenia sa ešte drží na ako-takej úrovni, ale pre TSH, T3, fnlwgt, hours-per-week a education-num je už presnosť značne nízka a lineárna predikcia pre ne je prakticky nepoužiteľná."
   ]
  },
  {
   "cell_type": "code",
   "execution_count": 42,
   "metadata": {},
   "outputs": [
    {
     "name": "stdout",
     "output_type": "stream",
     "text": [
      "Presnosť pre age : 0.999769113089382\n",
      "Presnosť pre TSH : 0.2314239087770078\n",
      "Presnosť pre T3 : 0.40842545442540434\n",
      "Presnosť pre TT4 : 0.9793108148787192\n",
      "Presnosť pre T4U : 0.8817502118448384\n",
      "Presnosť pre fnlwgt : -0.001526671395414514\n",
      "Presnosť pre education-num : -0.018059907929330432\n",
      "Presnosť pre hours-per-week : 0.0203361899957345\n",
      "Presnosť pre FTI : 0.9593896630706096\n",
      "Presnosť pre birth_year : 0.9997679780774568\n",
      "Presnosť pre birth_month : 0.5194258092458068\n"
     ]
    }
   ],
   "source": [
    "import sklearn.linear_model\n",
    "import sklearn.model_selection\n",
    "\n",
    "linreg = train_data.copy()\n",
    "numericOnly = pd.DataFrame()\n",
    "scores = {}\n",
    "\n",
    "for col in train_data.columns:\n",
    "    if np.issubdtype(train_data[col].dtype, np.number):\n",
    "        numericOnly[col] = train_data[col].dropna()\n",
    "\n",
    "for col in train_data.columns:\n",
    "    if np.issubdtype(train_data[col].dtype, np.number):\n",
    "        numericOnly = numericOnly.dropna()\n",
    "        X = numericOnly\n",
    "        y = numericOnly[col]\n",
    "        X = X.drop(col, axis=1)\n",
    "        \n",
    "        X_train, X_test, y_train, y_test = sklearn.model_selection.train_test_split(X, y, test_size=0.2)\n",
    "        \n",
    "        reg = sklearn.linear_model.LinearRegression()\n",
    "        reg.fit(X_train, y_train)\n",
    "        print(\"Presnosť pre\", col, \":\", reg.score(X_test, y_test))\n",
    "        \n",
    "        scores[col] = reg.score(X_test, y_test)\n",
    "        \n",
    "        notknown = pd.DataFrame()\n",
    "        for col2 in train_data.columns:\n",
    "            if np.issubdtype(train_data[col2].dtype, np.number):\n",
    "                #kvôli neznámym hodnotam v necieľových stĺpcoch musíme použiť odhad neznámych dohnôt priemerom/mediánom\n",
    "                notknown[col2] = mean_med[col2]\n",
    "            if col2 == col:\n",
    "                #iba pre cieľový stĺpec vyberáme dáta z pôvodného súboru, kde sú stále aj neznáme hodnoty\n",
    "                notknown[col2] = train_data[col2]\n",
    "        \n",
    "        notknown = notknown[pd.isna(notknown[col])]\n",
    "        if (notknown.shape[0] == 0):\n",
    "            continue\n",
    "            \n",
    "        X = notknown\n",
    "        y = notknown[col]\n",
    "        X = X.drop(col, axis=1)\n",
    "                \n",
    "        y = reg.predict(X)\n",
    "        \n",
    "        #postupne dopĺňame neznáme hodnoty hodnotami odhadovanými lineárnou regresiou\n",
    "        i2 = 0\n",
    "        for i in range(linreg.shape[0]):\n",
    "            if (pd.isna(linreg.loc[i, col])):\n",
    "                linreg.loc[i, col] = y[i2]\n",
    "                i2 = i2 + 1\n",
    "\n",
    "for i in range(mean_med.shape[0]):\n",
    "    linreg.loc[i, 'birth_year'] = math.ceil(linreg.loc[i, 'birth_year'])\n",
    "    linreg.loc[i, 'birth_month'] = math.ceil(linreg.loc[i, 'birth_month'])"
   ]
  },
  {
   "cell_type": "markdown",
   "metadata": {},
   "source": [
    "Odhady zistené pomocou priemeru/mediánu a lineárnou regresiou si navzájom porovnáme. "
   ]
  },
  {
   "cell_type": "markdown",
   "metadata": {},
   "source": [
    "Je možné pozorovať, že nahradzovanie priemerom/mediánom pri atribútoch, ktoré dosahovali viac neznámych hodnôt výrazne navyšovalo počet hodnôt uprostred distribúcie atribútu - čo sa dalo očakávať - pričom lineárna regresia pri atribútoch vek a T3 lepšie udržala po oprave pôvodnú distribúciu hodnôt. V prípadoch TSH, TT4, T4U a FTI boli výsledky oboch týchto metód z hľadiska distribúcie hodnôt podobne odlišné, snáď s miernou favorizáciou lineárnej regresie a pri atribútoch fnlwgt, education-num, hrous-per-week mesiac a rok narodenia boli distribúcie vizuálne totožné, čo bolo zapríčinené nízkym počtom chýbajúcich hodnôt pri týchto atribútoch."
   ]
  },
  {
   "cell_type": "code",
   "execution_count": 43,
   "metadata": {},
   "outputs": [
    {
     "name": "stderr",
     "output_type": "stream",
     "text": [
      "C:\\Anaconda3\\lib\\site-packages\\matplotlib\\pyplot.py:528: RuntimeWarning: More than 20 figures have been opened. Figures created through the pyplot interface (`matplotlib.pyplot.figure`) are retained until explicitly closed and may consume too much memory. (To control this warning, see the rcParam `figure.max_open_warning`).\n",
      "  max_open_warning, RuntimeWarning)\n"
     ]
    },
    {
     "data": {
      "image/png": "[encoded data removed]",
      "text/plain": [
       "<matplotlib.figure.Figure at 0x153473ae2b0>"
      ]
     },
     "metadata": {},
     "output_type": "display_data"
    },
    {
     "data": {
      "image/png": "[encoded data removed]",
      "text/plain": [
       "<matplotlib.figure.Figure at 0x15347f31898>"
      ]
     },
     "metadata": {},
     "output_type": "display_data"
    },
    {
     "data": {
      "image/png": "[encoded data removed]",
      "text/plain": [
       "<matplotlib.figure.Figure at 0x1534733b5c0>"
      ]
     },
     "metadata": {},
     "output_type": "display_data"
    },
    {
     "data": {
      "image/png": "[encoded data removed]",
      "text/plain": [
       "<matplotlib.figure.Figure at 0x153483307f0>"
      ]
     },
     "metadata": {},
     "output_type": "display_data"
    },
    {
     "data": {
      "image/png": "[encoded data removed]",
      "text/plain": [
       "<matplotlib.figure.Figure at 0x153495137b8>"
      ]
     },
     "metadata": {},
     "output_type": "display_data"
    },
    {
     "data": {
      "image/png": "[encoded data removed]",
      "text/plain": [
       "<matplotlib.figure.Figure at 0x153495cc208>"
      ]
     },
     "metadata": {},
     "output_type": "display_data"
    },
    {
     "data": {
      "image/png": "[encoded data removed]",
      "text/plain": [
       "<matplotlib.figure.Figure at 0x1534837df28>"
      ]
     },
     "metadata": {},
     "output_type": "display_data"
    },
    {
     "data": {
      "image/png": "[encoded data removed]",
      "text/plain": [
       "<matplotlib.figure.Figure at 0x15349646358>"
      ]
     },
     "metadata": {},
     "output_type": "display_data"
    },
    {
     "data": {
      "image/png": "[encoded data removed]",
      "text/plain": [
       "<matplotlib.figure.Figure at 0x1534959aef0>"
      ]
     },
     "metadata": {},
     "output_type": "display_data"
    },
    {
     "data": {
      "image/png": "[encoded data removed]",
      "text/plain": [
       "<matplotlib.figure.Figure at 0x15349622470>"
      ]
     },
     "metadata": {},
     "output_type": "display_data"
    },
    {
     "data": {
      "image/png": "[encoded data removed]",
      "text/plain": [
       "<matplotlib.figure.Figure at 0x153497efe80>"
      ]
     },
     "metadata": {},
     "output_type": "display_data"
    },
    {
     "data": {
      "image/png": "[encoded data removed]",
      "text/plain": [
       "<matplotlib.figure.Figure at 0x15349899e10>"
      ]
     },
     "metadata": {},
     "output_type": "display_data"
    },
    {
     "data": {
      "image/png": "[encoded data removed]",
      "text/plain": [
       "<matplotlib.figure.Figure at 0x1534986c4a8>"
      ]
     },
     "metadata": {},
     "output_type": "display_data"
    },
    {
     "data": {
      "image/png": "[encoded data removed]",
      "text/plain": [
       "<matplotlib.figure.Figure at 0x153499f45f8>"
      ]
     },
     "metadata": {},
     "output_type": "display_data"
    },
    {
     "data": {
      "image/png": "[encoded data removed]",
      "text/plain": [
       "<matplotlib.figure.Figure at 0x15349a9d6d8>"
      ]
     },
     "metadata": {},
     "output_type": "display_data"
    },
    {
     "data": {
      "image/png": "[encoded data removed]",
      "text/plain": [
       "<matplotlib.figure.Figure at 0x15349b51160>"
      ]
     },
     "metadata": {},
     "output_type": "display_data"
    },
    {
     "data": {
      "image/png": "[encoded data removed]",
      "text/plain": [
       "<matplotlib.figure.Figure at 0x15349bf82b0>"
      ]
     },
     "metadata": {},
     "output_type": "display_data"
    },
    {
     "data": {
      "image/png": "[encoded data removed]",
      "text/plain": [
       "<matplotlib.figure.Figure at 0x15349c9fcc0>"
      ]
     },
     "metadata": {},
     "output_type": "display_data"
    },
    {
     "data": {
      "image/png": "[encoded data removed]",
      "text/plain": [
       "<matplotlib.figure.Figure at 0x15349d49ac8>"
      ]
     },
     "metadata": {},
     "output_type": "display_data"
    },
    {
     "data": {
      "image/png": "[encoded data removed]",
      "text/plain": [
       "<matplotlib.figure.Figure at 0x15348168048>"
      ]
     },
     "metadata": {},
     "output_type": "display_data"
    },
    {
     "data": {
      "image/png": "[encoded data removed]",
      "text/plain": [
       "<matplotlib.figure.Figure at 0x15349e9b550>"
      ]
     },
     "metadata": {},
     "output_type": "display_data"
    },
    {
     "data": {
      "image/png": "[encoded data removed]",
      "text/plain": [
       "<matplotlib.figure.Figure at 0x15349f45978>"
      ]
     },
     "metadata": {},
     "output_type": "display_data"
    },
    {
     "data": {
      "image/png": "[encoded data removed]",
      "text/plain": [
       "<matplotlib.figure.Figure at 0x15349ff9208>"
      ]
     },
     "metadata": {},
     "output_type": "display_data"
    },
    {
     "data": {
      "image/png": "[encoded data removed]",
      "text/plain": [
       "<matplotlib.figure.Figure at 0x1534a0a5128>"
      ]
     },
     "metadata": {},
     "output_type": "display_data"
    },
    {
     "data": {
      "image/png": "[encoded data removed]",
      "text/plain": [
       "<matplotlib.figure.Figure at 0x1534a14ca90>"
      ]
     },
     "metadata": {},
     "output_type": "display_data"
    },
    {
     "data": {
      "image/png": "[encoded data removed]",
      "text/plain": [
       "<matplotlib.figure.Figure at 0x1534a1f89b0>"
      ]
     },
     "metadata": {},
     "output_type": "display_data"
    },
    {
     "data": {
      "image/png": "[encoded data removed]",
      "text/plain": [
       "<matplotlib.figure.Figure at 0x1534a2a0da0>"
      ]
     },
     "metadata": {},
     "output_type": "display_data"
    },
    {
     "data": {
      "image/png": "[encoded data removed]",
      "text/plain": [
       "<matplotlib.figure.Figure at 0x1534a355748>"
      ]
     },
     "metadata": {},
     "output_type": "display_data"
    },
    {
     "data": {
      "image/png": "[encoded data removed]",
      "text/plain": [
       "<matplotlib.figure.Figure at 0x1534a3fdb38>"
      ]
     },
     "metadata": {},
     "output_type": "display_data"
    },
    {
     "data": {
      "image/png": "[encoded data removed]",
      "text/plain": [
       "<matplotlib.figure.Figure at 0x1534a4b13c8>"
      ]
     },
     "metadata": {},
     "output_type": "display_data"
    },
    {
     "data": {
      "image/png": "[encoded data removed]",
      "text/plain": [
       "<matplotlib.figure.Figure at 0x1534a55b390>"
      ]
     },
     "metadata": {},
     "output_type": "display_data"
    },
    {
     "data": {
      "image/png": "[encoded data removed]",
      "text/plain": [
       "<matplotlib.figure.Figure at 0x1534a60a240>"
      ]
     },
     "metadata": {},
     "output_type": "display_data"
    },
    {
     "data": {
      "image/png": "[encoded data removed]",
      "text/plain": [
       "<matplotlib.figure.Figure at 0x1534a6aeb70>"
      ]
     },
     "metadata": {},
     "output_type": "display_data"
    },
    {
     "data": {
      "text/plain": [
       "<matplotlib.figure.Figure at 0x1534a759f98>"
      ]
     },
     "metadata": {},
     "output_type": "display_data"
    }
   ],
   "source": [
    "for col in train_data.columns:\n",
    "    if np.issubdtype(train_data[col].dtype, np.number):\n",
    "        mn, mx= train_data[col].min(), train_data[col].max()\n",
    "        pd.Series(train_data[col]).hist(bins=50, range=(mn, mx)).set_title(col + \" (orig)\")\n",
    "        plt.figure()\n",
    "        pd.Series(mean_med[col]).hist(bins=50, range=(mn, mx)).set_title(col + \" (priemer/medián)\")\n",
    "        plt.figure()\n",
    "        pd.Series(linreg[col]).hist(bins=50, range=(mn, mx)).set_title(col + \" (lineárna regresia)\")\n",
    "        plt.figure()"
   ]
  },
  {
   "cell_type": "markdown",
   "metadata": {},
   "source": [
    "Čo sa týka deskriptívnych mierok, tak minimá a maximá atribútov boli zachované pri oboch metódach. Pri atribútoch vek, T3, TT4 a T4U, FTI rok a mesiac narodenia priemer/medián zachoval priemer atribútu, v prípade TSH ho posunul o dve jednotky, avšak vždy v týchto znížil štandardnú odchýľku, čo sa dalo očakávať, keďže viac hodnôt je koncentrovaných uprostred distribúcie. Medián sa pri priemere/mediáne zachoval pri TSH, čo naznačuje, že pri TSH sa použilo nahradzovanie mediánom a nie priemerom. Sústredenie viacerých hodnôt doprostred distribúcie atribútov malo za následok aj to, že sa v prípade atribútov vek, TSH, T3, TT4, T4U a FTI zmenšilo medzikvaritovlé rozpätie a až na TSH sa posunul medián.\n",
    "\n",
    "Lineárna regresia pri atribútoch vek, TSH, T3, TT4, T4U, FTI rok a mesiac narodenia zmenila priemer a štandardnú odchýľku atribútov, pričom pri veku, mesiaci a roku narodenia ju zvyšovala, pri TSH, T3, TT4, T4U a FTI ju znižovala. Pri veku bolo medzikvaritlové rozpätie a medián zachované, pri ostatných, ak sa zmenilo, tak sa zužovalo. Medián bol zachovaný ešte aj pri T3 a mesiaci a roku narodenia."
   ]
  },
  {
   "cell_type": "code",
   "execution_count": 44,
   "metadata": {},
   "outputs": [
    {
     "data": {
      "text/html": [
       "<div>\n",
       "<style scoped>\n",
       "    .dataframe tbody tr th:only-of-type {\n",
       "        vertical-align: middle;\n",
       "    }\n",
       "\n",
       "    .dataframe tbody tr th {\n",
       "        vertical-align: top;\n",
       "    }\n",
       "\n",
       "    .dataframe thead th {\n",
       "        text-align: right;\n",
       "    }\n",
       "</style>\n",
       "<table border=\"1\" class=\"dataframe\">\n",
       "  <thead>\n",
       "    <tr style=\"text-align: right;\">\n",
       "      <th></th>\n",
       "      <th>age</th>\n",
       "      <th>TSH</th>\n",
       "      <th>T3</th>\n",
       "      <th>TT4</th>\n",
       "      <th>T4U</th>\n",
       "      <th>fnlwgt</th>\n",
       "      <th>education-num</th>\n",
       "      <th>hours-per-week</th>\n",
       "      <th>FTI</th>\n",
       "      <th>birth_year</th>\n",
       "      <th>birth_month</th>\n",
       "    </tr>\n",
       "  </thead>\n",
       "  <tbody>\n",
       "    <tr>\n",
       "      <th>count</th>\n",
       "      <td>2519.000000</td>\n",
       "      <td>2516.000000</td>\n",
       "      <td>2215.000000</td>\n",
       "      <td>2352.000000</td>\n",
       "      <td>2503.000000</td>\n",
       "      <td>2800.000000</td>\n",
       "      <td>2800.000000</td>\n",
       "      <td>2800.000000</td>\n",
       "      <td>2505.000000</td>\n",
       "      <td>2793.000000</td>\n",
       "      <td>2793.000000</td>\n",
       "    </tr>\n",
       "    <tr>\n",
       "      <th>mean</th>\n",
       "      <td>51.634776</td>\n",
       "      <td>0.124040</td>\n",
       "      <td>2.024966</td>\n",
       "      <td>108.990391</td>\n",
       "      <td>0.997912</td>\n",
       "      <td>395.250981</td>\n",
       "      <td>10.080714</td>\n",
       "      <td>38.172339</td>\n",
       "      <td>110.787984</td>\n",
       "      <td>1965.513068</td>\n",
       "      <td>6.538847</td>\n",
       "    </tr>\n",
       "    <tr>\n",
       "      <th>std</th>\n",
       "      <td>18.903753</td>\n",
       "      <td>1.770825</td>\n",
       "      <td>0.824600</td>\n",
       "      <td>35.622745</td>\n",
       "      <td>0.194390</td>\n",
       "      <td>93.543804</td>\n",
       "      <td>2.432641</td>\n",
       "      <td>11.315947</td>\n",
       "      <td>32.883986</td>\n",
       "      <td>18.916569</td>\n",
       "      <td>3.475561</td>\n",
       "    </tr>\n",
       "    <tr>\n",
       "      <th>min</th>\n",
       "      <td>1.000000</td>\n",
       "      <td>-4.321335</td>\n",
       "      <td>0.050000</td>\n",
       "      <td>2.000000</td>\n",
       "      <td>0.310000</td>\n",
       "      <td>155.276000</td>\n",
       "      <td>1.000000</td>\n",
       "      <td>1.000000</td>\n",
       "      <td>2.000000</td>\n",
       "      <td>1923.000000</td>\n",
       "      <td>1.000000</td>\n",
       "    </tr>\n",
       "    <tr>\n",
       "      <th>25%</th>\n",
       "      <td>36.000000</td>\n",
       "      <td>-0.794684</td>\n",
       "      <td>1.600000</td>\n",
       "      <td>88.000000</td>\n",
       "      <td>0.880000</td>\n",
       "      <td>338.579230</td>\n",
       "      <td>9.000000</td>\n",
       "      <td>35.000000</td>\n",
       "      <td>93.000000</td>\n",
       "      <td>1950.000000</td>\n",
       "      <td>3.000000</td>\n",
       "    </tr>\n",
       "    <tr>\n",
       "      <th>50%</th>\n",
       "      <td>54.000000</td>\n",
       "      <td>0.341027</td>\n",
       "      <td>2.000000</td>\n",
       "      <td>104.000000</td>\n",
       "      <td>0.980000</td>\n",
       "      <td>402.288698</td>\n",
       "      <td>10.000000</td>\n",
       "      <td>40.000000</td>\n",
       "      <td>107.000000</td>\n",
       "      <td>1963.000000</td>\n",
       "      <td>7.000000</td>\n",
       "    </tr>\n",
       "    <tr>\n",
       "      <th>75%</th>\n",
       "      <td>67.000000</td>\n",
       "      <td>0.992857</td>\n",
       "      <td>2.400000</td>\n",
       "      <td>125.000000</td>\n",
       "      <td>1.080000</td>\n",
       "      <td>447.824789</td>\n",
       "      <td>12.000000</td>\n",
       "      <td>40.000000</td>\n",
       "      <td>124.000000</td>\n",
       "      <td>1981.000000</td>\n",
       "      <td>10.000000</td>\n",
       "    </tr>\n",
       "    <tr>\n",
       "      <th>max</th>\n",
       "      <td>94.000000</td>\n",
       "      <td>7.970062</td>\n",
       "      <td>10.600000</td>\n",
       "      <td>430.000000</td>\n",
       "      <td>2.120000</td>\n",
       "      <td>703.319089</td>\n",
       "      <td>16.000000</td>\n",
       "      <td>85.000000</td>\n",
       "      <td>395.000000</td>\n",
       "      <td>2017.000000</td>\n",
       "      <td>12.000000</td>\n",
       "    </tr>\n",
       "  </tbody>\n",
       "</table>\n",
       "</div>"
      ],
      "text/plain": [
       "               age          TSH           T3          TT4          T4U  \\\n",
       "count  2519.000000  2516.000000  2215.000000  2352.000000  2503.000000   \n",
       "mean     51.634776     0.124040     2.024966   108.990391     0.997912   \n",
       "std      18.903753     1.770825     0.824600    35.622745     0.194390   \n",
       "min       1.000000    -4.321335     0.050000     2.000000     0.310000   \n",
       "25%      36.000000    -0.794684     1.600000    88.000000     0.880000   \n",
       "50%      54.000000     0.341027     2.000000   104.000000     0.980000   \n",
       "75%      67.000000     0.992857     2.400000   125.000000     1.080000   \n",
       "max      94.000000     7.970062    10.600000   430.000000     2.120000   \n",
       "\n",
       "            fnlwgt  education-num  hours-per-week          FTI   birth_year  \\\n",
       "count  2800.000000    2800.000000     2800.000000  2505.000000  2793.000000   \n",
       "mean    395.250981      10.080714       38.172339   110.787984  1965.513068   \n",
       "std      93.543804       2.432641       11.315947    32.883986    18.916569   \n",
       "min     155.276000       1.000000        1.000000     2.000000  1923.000000   \n",
       "25%     338.579230       9.000000       35.000000    93.000000  1950.000000   \n",
       "50%     402.288698      10.000000       40.000000   107.000000  1963.000000   \n",
       "75%     447.824789      12.000000       40.000000   124.000000  1981.000000   \n",
       "max     703.319089      16.000000       85.000000   395.000000  2017.000000   \n",
       "\n",
       "       birth_month  \n",
       "count  2793.000000  \n",
       "mean      6.538847  \n",
       "std       3.475561  \n",
       "min       1.000000  \n",
       "25%       3.000000  \n",
       "50%       7.000000  \n",
       "75%      10.000000  \n",
       "max      12.000000  "
      ]
     },
     "execution_count": 44,
     "metadata": {},
     "output_type": "execute_result"
    }
   ],
   "source": [
    "train_data.describe()"
   ]
  },
  {
   "cell_type": "code",
   "execution_count": 45,
   "metadata": {},
   "outputs": [
    {
     "data": {
      "text/html": [
       "<div>\n",
       "<style scoped>\n",
       "    .dataframe tbody tr th:only-of-type {\n",
       "        vertical-align: middle;\n",
       "    }\n",
       "\n",
       "    .dataframe tbody tr th {\n",
       "        vertical-align: top;\n",
       "    }\n",
       "\n",
       "    .dataframe thead th {\n",
       "        text-align: right;\n",
       "    }\n",
       "</style>\n",
       "<table border=\"1\" class=\"dataframe\">\n",
       "  <thead>\n",
       "    <tr style=\"text-align: right;\">\n",
       "      <th></th>\n",
       "      <th>age</th>\n",
       "      <th>TSH</th>\n",
       "      <th>T3</th>\n",
       "      <th>TT4</th>\n",
       "      <th>T4U</th>\n",
       "      <th>fnlwgt</th>\n",
       "      <th>education-num</th>\n",
       "      <th>hours-per-week</th>\n",
       "      <th>FTI</th>\n",
       "      <th>birth_year</th>\n",
       "      <th>birth_month</th>\n",
       "    </tr>\n",
       "  </thead>\n",
       "  <tbody>\n",
       "    <tr>\n",
       "      <th>count</th>\n",
       "      <td>2800.000000</td>\n",
       "      <td>2800.000000</td>\n",
       "      <td>2800.000000</td>\n",
       "      <td>2800.000000</td>\n",
       "      <td>2800.000000</td>\n",
       "      <td>2800.000000</td>\n",
       "      <td>2800.000000</td>\n",
       "      <td>2800.000000</td>\n",
       "      <td>2800.000000</td>\n",
       "      <td>2800.000000</td>\n",
       "      <td>2800.000000</td>\n",
       "    </tr>\n",
       "    <tr>\n",
       "      <th>mean</th>\n",
       "      <td>51.634776</td>\n",
       "      <td>0.146049</td>\n",
       "      <td>2.024966</td>\n",
       "      <td>108.990391</td>\n",
       "      <td>0.997912</td>\n",
       "      <td>395.250981</td>\n",
       "      <td>10.080714</td>\n",
       "      <td>38.172339</td>\n",
       "      <td>110.787984</td>\n",
       "      <td>1965.514286</td>\n",
       "      <td>6.540000</td>\n",
       "    </tr>\n",
       "    <tr>\n",
       "      <th>std</th>\n",
       "      <td>17.929758</td>\n",
       "      <td>1.679863</td>\n",
       "      <td>0.733383</td>\n",
       "      <td>32.647674</td>\n",
       "      <td>0.183788</td>\n",
       "      <td>93.543804</td>\n",
       "      <td>2.432641</td>\n",
       "      <td>11.315947</td>\n",
       "      <td>31.102848</td>\n",
       "      <td>18.892916</td>\n",
       "      <td>3.471289</td>\n",
       "    </tr>\n",
       "    <tr>\n",
       "      <th>min</th>\n",
       "      <td>1.000000</td>\n",
       "      <td>-4.321335</td>\n",
       "      <td>0.050000</td>\n",
       "      <td>2.000000</td>\n",
       "      <td>0.310000</td>\n",
       "      <td>155.276000</td>\n",
       "      <td>1.000000</td>\n",
       "      <td>1.000000</td>\n",
       "      <td>2.000000</td>\n",
       "      <td>1923.000000</td>\n",
       "      <td>1.000000</td>\n",
       "    </tr>\n",
       "    <tr>\n",
       "      <th>25%</th>\n",
       "      <td>38.000000</td>\n",
       "      <td>-0.504593</td>\n",
       "      <td>1.700000</td>\n",
       "      <td>91.000000</td>\n",
       "      <td>0.890000</td>\n",
       "      <td>338.579230</td>\n",
       "      <td>9.000000</td>\n",
       "      <td>35.000000</td>\n",
       "      <td>95.000000</td>\n",
       "      <td>1950.000000</td>\n",
       "      <td>3.000000</td>\n",
       "    </tr>\n",
       "    <tr>\n",
       "      <th>50%</th>\n",
       "      <td>51.634776</td>\n",
       "      <td>0.341027</td>\n",
       "      <td>2.024966</td>\n",
       "      <td>108.990391</td>\n",
       "      <td>0.997912</td>\n",
       "      <td>402.288698</td>\n",
       "      <td>10.000000</td>\n",
       "      <td>40.000000</td>\n",
       "      <td>110.000000</td>\n",
       "      <td>1963.000000</td>\n",
       "      <td>7.000000</td>\n",
       "    </tr>\n",
       "    <tr>\n",
       "      <th>75%</th>\n",
       "      <td>65.000000</td>\n",
       "      <td>0.906752</td>\n",
       "      <td>2.300000</td>\n",
       "      <td>120.000000</td>\n",
       "      <td>1.070000</td>\n",
       "      <td>447.824789</td>\n",
       "      <td>12.000000</td>\n",
       "      <td>40.000000</td>\n",
       "      <td>122.000000</td>\n",
       "      <td>1981.000000</td>\n",
       "      <td>10.000000</td>\n",
       "    </tr>\n",
       "    <tr>\n",
       "      <th>max</th>\n",
       "      <td>94.000000</td>\n",
       "      <td>7.970062</td>\n",
       "      <td>10.600000</td>\n",
       "      <td>430.000000</td>\n",
       "      <td>2.120000</td>\n",
       "      <td>703.319089</td>\n",
       "      <td>16.000000</td>\n",
       "      <td>85.000000</td>\n",
       "      <td>395.000000</td>\n",
       "      <td>2017.000000</td>\n",
       "      <td>12.000000</td>\n",
       "    </tr>\n",
       "  </tbody>\n",
       "</table>\n",
       "</div>"
      ],
      "text/plain": [
       "               age          TSH           T3          TT4          T4U  \\\n",
       "count  2800.000000  2800.000000  2800.000000  2800.000000  2800.000000   \n",
       "mean     51.634776     0.146049     2.024966   108.990391     0.997912   \n",
       "std      17.929758     1.679863     0.733383    32.647674     0.183788   \n",
       "min       1.000000    -4.321335     0.050000     2.000000     0.310000   \n",
       "25%      38.000000    -0.504593     1.700000    91.000000     0.890000   \n",
       "50%      51.634776     0.341027     2.024966   108.990391     0.997912   \n",
       "75%      65.000000     0.906752     2.300000   120.000000     1.070000   \n",
       "max      94.000000     7.970062    10.600000   430.000000     2.120000   \n",
       "\n",
       "            fnlwgt  education-num  hours-per-week          FTI   birth_year  \\\n",
       "count  2800.000000    2800.000000     2800.000000  2800.000000  2800.000000   \n",
       "mean    395.250981      10.080714       38.172339   110.787984  1965.514286   \n",
       "std      93.543804       2.432641       11.315947    31.102848    18.892916   \n",
       "min     155.276000       1.000000        1.000000     2.000000  1923.000000   \n",
       "25%     338.579230       9.000000       35.000000    95.000000  1950.000000   \n",
       "50%     402.288698      10.000000       40.000000   110.000000  1963.000000   \n",
       "75%     447.824789      12.000000       40.000000   122.000000  1981.000000   \n",
       "max     703.319089      16.000000       85.000000   395.000000  2017.000000   \n",
       "\n",
       "       birth_month  \n",
       "count  2800.000000  \n",
       "mean      6.540000  \n",
       "std       3.471289  \n",
       "min       1.000000  \n",
       "25%       3.000000  \n",
       "50%       7.000000  \n",
       "75%      10.000000  \n",
       "max      12.000000  "
      ]
     },
     "execution_count": 45,
     "metadata": {},
     "output_type": "execute_result"
    }
   ],
   "source": [
    "mean_med.describe()"
   ]
  },
  {
   "cell_type": "code",
   "execution_count": 46,
   "metadata": {},
   "outputs": [
    {
     "data": {
      "text/html": [
       "<div>\n",
       "<style scoped>\n",
       "    .dataframe tbody tr th:only-of-type {\n",
       "        vertical-align: middle;\n",
       "    }\n",
       "\n",
       "    .dataframe tbody tr th {\n",
       "        vertical-align: top;\n",
       "    }\n",
       "\n",
       "    .dataframe thead th {\n",
       "        text-align: right;\n",
       "    }\n",
       "</style>\n",
       "<table border=\"1\" class=\"dataframe\">\n",
       "  <thead>\n",
       "    <tr style=\"text-align: right;\">\n",
       "      <th></th>\n",
       "      <th>age</th>\n",
       "      <th>TSH</th>\n",
       "      <th>T3</th>\n",
       "      <th>TT4</th>\n",
       "      <th>T4U</th>\n",
       "      <th>fnlwgt</th>\n",
       "      <th>education-num</th>\n",
       "      <th>hours-per-week</th>\n",
       "      <th>FTI</th>\n",
       "      <th>birth_year</th>\n",
       "      <th>birth_month</th>\n",
       "    </tr>\n",
       "  </thead>\n",
       "  <tbody>\n",
       "    <tr>\n",
       "      <th>count</th>\n",
       "      <td>2800.000000</td>\n",
       "      <td>2800.000000</td>\n",
       "      <td>2800.000000</td>\n",
       "      <td>2800.000000</td>\n",
       "      <td>2800.000000</td>\n",
       "      <td>2800.000000</td>\n",
       "      <td>2800.000000</td>\n",
       "      <td>2800.000000</td>\n",
       "      <td>2800.000000</td>\n",
       "      <td>2800.000000</td>\n",
       "      <td>2800.000000</td>\n",
       "    </tr>\n",
       "    <tr>\n",
       "      <th>mean</th>\n",
       "      <td>51.700353</td>\n",
       "      <td>0.116256</td>\n",
       "      <td>2.034637</td>\n",
       "      <td>109.099878</td>\n",
       "      <td>0.995108</td>\n",
       "      <td>395.250981</td>\n",
       "      <td>10.080714</td>\n",
       "      <td>38.172339</td>\n",
       "      <td>110.429562</td>\n",
       "      <td>1965.530714</td>\n",
       "      <td>6.628571</td>\n",
       "    </tr>\n",
       "    <tr>\n",
       "      <th>std</th>\n",
       "      <td>18.956502</td>\n",
       "      <td>1.707874</td>\n",
       "      <td>0.765195</td>\n",
       "      <td>34.218996</td>\n",
       "      <td>0.191479</td>\n",
       "      <td>93.543804</td>\n",
       "      <td>2.432641</td>\n",
       "      <td>11.315947</td>\n",
       "      <td>31.710992</td>\n",
       "      <td>18.938472</td>\n",
       "      <td>8.463648</td>\n",
       "    </tr>\n",
       "    <tr>\n",
       "      <th>min</th>\n",
       "      <td>1.000000</td>\n",
       "      <td>-4.321335</td>\n",
       "      <td>0.050000</td>\n",
       "      <td>2.000000</td>\n",
       "      <td>0.102989</td>\n",
       "      <td>155.276000</td>\n",
       "      <td>1.000000</td>\n",
       "      <td>1.000000</td>\n",
       "      <td>2.000000</td>\n",
       "      <td>1923.000000</td>\n",
       "      <td>-206.000000</td>\n",
       "    </tr>\n",
       "    <tr>\n",
       "      <th>25%</th>\n",
       "      <td>36.000000</td>\n",
       "      <td>-0.674339</td>\n",
       "      <td>1.600000</td>\n",
       "      <td>89.000000</td>\n",
       "      <td>0.880000</td>\n",
       "      <td>338.579230</td>\n",
       "      <td>9.000000</td>\n",
       "      <td>35.000000</td>\n",
       "      <td>94.000000</td>\n",
       "      <td>1950.000000</td>\n",
       "      <td>3.000000</td>\n",
       "    </tr>\n",
       "    <tr>\n",
       "      <th>50%</th>\n",
       "      <td>54.000000</td>\n",
       "      <td>0.265128</td>\n",
       "      <td>2.000000</td>\n",
       "      <td>107.000000</td>\n",
       "      <td>0.990000</td>\n",
       "      <td>402.288698</td>\n",
       "      <td>10.000000</td>\n",
       "      <td>40.000000</td>\n",
       "      <td>108.000000</td>\n",
       "      <td>1963.000000</td>\n",
       "      <td>7.000000</td>\n",
       "    </tr>\n",
       "    <tr>\n",
       "      <th>75%</th>\n",
       "      <td>67.000000</td>\n",
       "      <td>0.906752</td>\n",
       "      <td>2.332405</td>\n",
       "      <td>123.000000</td>\n",
       "      <td>1.070000</td>\n",
       "      <td>447.824789</td>\n",
       "      <td>12.000000</td>\n",
       "      <td>40.000000</td>\n",
       "      <td>122.249157</td>\n",
       "      <td>1981.000000</td>\n",
       "      <td>10.000000</td>\n",
       "    </tr>\n",
       "    <tr>\n",
       "      <th>max</th>\n",
       "      <td>94.000000</td>\n",
       "      <td>7.970062</td>\n",
       "      <td>10.600000</td>\n",
       "      <td>430.000000</td>\n",
       "      <td>2.120000</td>\n",
       "      <td>703.319089</td>\n",
       "      <td>16.000000</td>\n",
       "      <td>85.000000</td>\n",
       "      <td>395.000000</td>\n",
       "      <td>2017.000000</td>\n",
       "      <td>270.000000</td>\n",
       "    </tr>\n",
       "  </tbody>\n",
       "</table>\n",
       "</div>"
      ],
      "text/plain": [
       "               age          TSH           T3          TT4          T4U  \\\n",
       "count  2800.000000  2800.000000  2800.000000  2800.000000  2800.000000   \n",
       "mean     51.700353     0.116256     2.034637   109.099878     0.995108   \n",
       "std      18.956502     1.707874     0.765195    34.218996     0.191479   \n",
       "min       1.000000    -4.321335     0.050000     2.000000     0.102989   \n",
       "25%      36.000000    -0.674339     1.600000    89.000000     0.880000   \n",
       "50%      54.000000     0.265128     2.000000   107.000000     0.990000   \n",
       "75%      67.000000     0.906752     2.332405   123.000000     1.070000   \n",
       "max      94.000000     7.970062    10.600000   430.000000     2.120000   \n",
       "\n",
       "            fnlwgt  education-num  hours-per-week          FTI   birth_year  \\\n",
       "count  2800.000000    2800.000000     2800.000000  2800.000000  2800.000000   \n",
       "mean    395.250981      10.080714       38.172339   110.429562  1965.530714   \n",
       "std      93.543804       2.432641       11.315947    31.710992    18.938472   \n",
       "min     155.276000       1.000000        1.000000     2.000000  1923.000000   \n",
       "25%     338.579230       9.000000       35.000000    94.000000  1950.000000   \n",
       "50%     402.288698      10.000000       40.000000   108.000000  1963.000000   \n",
       "75%     447.824789      12.000000       40.000000   122.249157  1981.000000   \n",
       "max     703.319089      16.000000       85.000000   395.000000  2017.000000   \n",
       "\n",
       "       birth_month  \n",
       "count  2800.000000  \n",
       "mean      6.628571  \n",
       "std       8.463648  \n",
       "min    -206.000000  \n",
       "25%       3.000000  \n",
       "50%       7.000000  \n",
       "75%      10.000000  \n",
       "max     270.000000  "
      ]
     },
     "execution_count": 46,
     "metadata": {},
     "output_type": "execute_result"
    }
   ],
   "source": [
    "linreg.describe()"
   ]
  },
  {
   "cell_type": "markdown",
   "metadata": {},
   "source": [
    "Korelácie medzi vekom a T3, TSH a T3, T3 a T4U, T3 a rokom narodenia sa pri oboch metódach znižovali, pri lineárnej regresii viac ako pri priemere/mediáne.\n",
    "\n",
    "Korelácie medzi vekom a rokom narodenia, TSH a TT4, TSH a FTI, T3 a TT4, T3 a FTI lepšie zachovala lineárna regresia, priemer/medián ju narušil a znížil o 5 percent.\n",
    "\n",
    "Korelácie medzi TT4 a T4U, TT4 a FTI sa pri metóde priemeru/mediánu znižovali, pri lineárnej regresii zvyšovali, menej sa vychýlila pritom lienárna regresia."
   ]
  },
  {
   "cell_type": "code",
   "execution_count": 47,
   "metadata": {},
   "outputs": [
    {
     "name": "stdout",
     "output_type": "stream",
     "text": [
      "age - T3  correlation:  -0.26830163198714446\n",
      "age - birth_year  correlation:  -0.9997542996642313\n",
      "TSH - T3  correlation:  -0.31807469887551226\n",
      "TSH - TT4  correlation:  -0.4457643114340478\n",
      "TSH - FTI  correlation:  -0.5175766755548099\n",
      "T3 - TT4  correlation:  0.5660571765652239\n",
      "T3 - T4U  correlation:  0.46343405909602275\n",
      "T3 - FTI  correlation:  0.3510133883173405\n",
      "T3 - birth_year  correlation:  0.2686637335777969\n",
      "TT4 - T4U  correlation:  0.4339389434445414\n",
      "TT4 - FTI  correlation:  0.798007458309882\n"
     ]
    }
   ],
   "source": [
    "for i in range(train_data.shape[1]):\n",
    "    if np.issubdtype(train_data[train_data.columns[i]].dtype, np.number):\n",
    "        for i2 in range(i, train_data.shape[1]):\n",
    "            if np.issubdtype(train_data[train_data.columns[i2]].dtype, np.number):\n",
    "                corr = train_data[train_data.columns[i]].corr(train_data[train_data.columns[i2]])\n",
    "                if (corr > 0.2 or corr < -0.2) and train_data.columns[i] != train_data.columns[i2]:\n",
    "                    print(train_data.columns[i], \"-\", train_data.columns[i2], \" correlation: \", train_data[train_data.columns[i]].corr(train_data[train_data.columns[i2]]))"
   ]
  },
  {
   "cell_type": "code",
   "execution_count": 48,
   "metadata": {},
   "outputs": [
    {
     "name": "stdout",
     "output_type": "stream",
     "text": [
      "age - T3  correlation:  -0.227330804431043\n",
      "age - birth_year  correlation:  -0.9428729603963131\n",
      "TSH - T3  correlation:  -0.2824584252547181\n",
      "TSH - TT4  correlation:  -0.4076004430889365\n",
      "TSH - FTI  correlation:  -0.491088965761994\n",
      "T3 - TT4  correlation:  0.49427897434188856\n",
      "T3 - T4U  correlation:  0.421284351818439\n",
      "T3 - FTI  correlation:  0.31144164682364106\n",
      "T3 - birth_year  correlation:  0.23774312243471335\n",
      "TT4 - T4U  correlation:  0.40388588092642685\n",
      "TT4 - FTI  correlation:  0.7423305678200679\n"
     ]
    }
   ],
   "source": [
    "for i in range(mean_med.shape[1]):\n",
    "    if np.issubdtype(mean_med[mean_med.columns[i]].dtype, np.number):\n",
    "        for i2 in range(i, mean_med.shape[1]):\n",
    "            if np.issubdtype(mean_med[mean_med.columns[i2]].dtype, np.number):\n",
    "                corr = mean_med[mean_med.columns[i]].corr(mean_med[mean_med.columns[i2]])\n",
    "                if (corr > 0.2 or corr < -0.2) and mean_med.columns[i] != mean_med.columns[i2]:\n",
    "                    print(mean_med.columns[i], \"-\", mean_med.columns[i2], \" correlation: \", mean_med[mean_med.columns[i]].corr(mean_med[mean_med.columns[i2]]))"
   ]
  },
  {
   "cell_type": "code",
   "execution_count": 49,
   "metadata": {
    "scrolled": true
   },
   "outputs": [
    {
     "name": "stdout",
     "output_type": "stream",
     "text": [
      "age - T3  correlation:  -0.26295575692869394\n",
      "age - birth_year  correlation:  -0.9997666326414965\n",
      "TSH - T3  correlation:  -0.31905041268200485\n",
      "TSH - TT4  correlation:  -0.44151172319377896\n",
      "TSH - FTI  correlation:  -0.5084587026455293\n",
      "T3 - TT4  correlation:  0.5880504865662054\n",
      "T3 - T4U  correlation:  0.4513605605208633\n",
      "T3 - FTI  correlation:  0.3650836204163808\n",
      "T3 - birth_year  correlation:  0.2629375367122217\n",
      "TT4 - T4U  correlation:  0.4587430487707161\n",
      "TT4 - FTI  correlation:  0.8052847450996369\n"
     ]
    }
   ],
   "source": [
    "for i in range(linreg.shape[1]):\n",
    "    if np.issubdtype(linreg[linreg.columns[i]].dtype, np.number):\n",
    "        for i2 in range(i, linreg.shape[1]):\n",
    "            if np.issubdtype(linreg[linreg.columns[i2]].dtype, np.number):\n",
    "                corr = linreg[linreg.columns[i]].corr(linreg[linreg.columns[i2]])\n",
    "                if (corr > 0.2 or corr < -0.2) and linreg.columns[i] != linreg.columns[i2]:\n",
    "                    print(linreg.columns[i], \"-\", linreg.columns[i2], \" correlation: \", linreg[linreg.columns[i]].corr(linreg[linreg.columns[i2]]))"
   ]
  },
  {
   "cell_type": "markdown",
   "metadata": {},
   "source": [
    "Naším cieľom pri rozhodovaní, ktorú z metód odhadovania neznámych hodnôt použijime pre dané atribúty bolo predovšetkým čo najlepšie zachovanie pôvodnej distribúcie daných atribútov, pretože sme predpokladali, že ak neznáme hodnoty atribútov predstavujú len istú vzorku z tohto dátového súboru, mala by byť distribúcia hodnôt a všetky výnimočnosti dátového súboru zachovávané aj v tejto menšej mierke približne v rovnakom tvare a zastúpení. Toto sme stavali samozrejme na predpoklade, že sa nejednalo o dáta, ktoré nosili oproti pôvodnému dátovému súboru isté špecifiká.\n",
    "\n",
    "Každopádne rozhodli sme sa použiť stratégie nahradzovania neznámych hodnôt následovne: pri atribútoch vek, TT4, T4U, FTI a roku narodenia, kde lineárna regresia dosahovala vysokú presnosť použijeme lineárnu regresiu, pre ostatné použijeme priemer/medián, keďže sa nám zdá v prípade mylne odhadnutej chýbajúcej honoty menej deštruktívne ju nahradiť priemerom či mediánom, ako ju umiestniť na nejaké špecifické miesto v distribúcii daného atribútu a tým aj túto distribúciu potencionálne ovplyvniť.\n",
    "\n",
    "Netvrdíme, že takýto postup bude bezchybný, alebo dokonca ten najlepší, aký sa núka, a preto si ponecháme dátové súbory s oboma stratégiami pre prípadné neskoršie overenie, ktoré nahradzovanie bolo pre klasifikáciu skutočne najlepšie."
   ]
  },
  {
   "cell_type": "code",
   "execution_count": 50,
   "metadata": {},
   "outputs": [],
   "source": [
    "raw_data = train_data.copy()\n",
    "\n",
    "for col in train_data.columns:\n",
    "    if np.issubdtype(train_data[col].dtype, np.number):\n",
    "        if scores[col] > 0.75:\n",
    "            train_data[col] = linreg[col]\n",
    "        else:\n",
    "            train_data[col] = mean_med[col]"
   ]
  },
  {
   "cell_type": "markdown",
   "metadata": {},
   "source": [
    "Chýbajúce hodnoty kategorických atribútov sme sa rozhodli nahradzovať pomocou algoritmu k-najbližších susedov. Alternatívou k tomuto prístupu by mohlo byť náhodné doplnenie na základe početnosti výskytu jednotlivých hodnôt pre daný kategorický atribút, ale je zrejmé, že takáto stratégia by nebola optimálna, pretože by nebrala v úvahu prípadné prepojenia medzi niektorými atribútmi (napríklad by mohol pre tehotný subjekt doplniť, že je mužom).\n",
    "\n",
    "Ešte pred realizáciou samotného algoritmu vymeníme všetky otázniky v kategorických atribútoch značiace neznáme hodnoty za NaN hodnoty, ktoré vie rozoznať knižnica pandas."
   ]
  },
  {
   "cell_type": "code",
   "execution_count": 52,
   "metadata": {},
   "outputs": [],
   "source": [
    "for col in train_data.columns[train_data.dtypes == np.object]:\n",
    "    for i in range(train_data.shape[0]):\n",
    "        if train_data.loc[i, col] == '?':\n",
    "            train_data.loc[i, col] = np.nan"
   ]
  },
  {
   "cell_type": "markdown",
   "metadata": {},
   "source": [
    "Keďže algoritmus KNN vie pracovať len s číslami, musíme najprv zakódovať hodnoty kategorických atribútov do číselných hodnôt. Robíme to jednoduchou technikou nahradzovania za číslo, ktoré označuje poradie hodnoty v zozname unikátnych hodnôt. Kategorické atribúty sú tak transformované na číselné.\n",
    "\n",
    "Uvedomujeme si, že tento prístup nemusí byť optimálny a že z istého hľadiska sa zdá byť lepšie použitie One Hot Encoding. Skúšali sme aj toto, avšak pri jeho použití vznikli dva zásadné problémy. Jednak, že ak atribút nadobúdal vysoké množstvo unikátnych hodnôt (narpíklad atribút occupation), tak OHE vyprodukovala vysoké množstvo stĺpcov, čo okrem iného aj výrazne spomaľovalo beh KNN algoritmu. Iste, toto by sa dalo odstrániť zlúčením viacerých unikátnych hodnôt do jednej. predovšetkým tých, ktoré sú menej časté (napríklad do hodnota \"ostatné\"), neodstránilo by to ale druhý problém a to ten, že nie je pri OHE zaručené, že NaN hodnoty budú nahradené.\n",
    "\n",
    "V bunke nižišie sme si pripravili prekladač, ktorý vie prekladať tieto zakódované a dekódované hodnoty."
   ]
  },
  {
   "cell_type": "code",
   "execution_count": 78,
   "metadata": {
    "scrolled": true
   },
   "outputs": [],
   "source": [
    "translator = {}\n",
    "translatorRev = {}\n",
    "\n",
    "for col in train_data.columns[train_data.dtypes == np.object]:\n",
    "    translator[col] = {}\n",
    "    translatorRev[col] = {}\n",
    "    un = train_data[col].unique()\n",
    "    for i in range(len(un)):\n",
    "        translator[col][un[i]] = i\n",
    "        translatorRev[col][i] = un[i]\n",
    "\n",
    "def translateToNumeric(data, attr):\n",
    "    trans = data[attr].copy()\n",
    "    for i in range(len(trans)):\n",
    "        if (pd.notna(trans[i])):\n",
    "            trans[i] = translator[attr][trans[i]]\n",
    "    \n",
    "    return trans\n",
    "\n",
    "def translateFromNumeric(val, attr):\n",
    "    return translatorRev[attr][val]"
   ]
  },
  {
   "cell_type": "markdown",
   "metadata": {},
   "source": [
    "Pomocou kódovacej funkcie sme si vytvorili kópiu dátového súboru, kde sú všetky atribúty výlučne číselné."
   ]
  },
  {
   "cell_type": "code",
   "execution_count": 79,
   "metadata": {},
   "outputs": [],
   "source": [
    "allNumeric = train_data.copy()\n",
    "for col in train_data.columns[train_data.dtypes == np.object]:\n",
    "    allNumeric[col] = translateToNumeric(train_data, col)"
   ]
  },
  {
   "cell_type": "code",
   "execution_count": null,
   "metadata": {},
   "outputs": [],
   "source": [
    "A následne sme pomocou algoritmu KNN podoplňali chýbajúce hodnoty kategorických atribútov."
   ]
  },
  {
   "cell_type": "code",
   "execution_count": 80,
   "metadata": {},
   "outputs": [
    {
     "name": "stdout",
     "output_type": "stream",
     "text": [
      "Presnosť pre on thyroxine : 0.8709677419354839\n",
      "Presnosť pre query on thyroxine : 0.9798387096774194\n",
      "Presnosť pre pregnant : 0.9798387096774194\n",
      "Presnosť pre thyroid surgery : 0.9979838709677419\n",
      "Presnosť pre I131 treatment : 0.9838709677419355\n",
      "Presnosť pre lithium : 0.9899193548387096\n",
      "Presnosť pre goitre : 0.9838709677419355\n",
      "Presnosť pre tumor : 0.9657258064516129\n",
      "Presnosť pre hypopituitary : 1.0\n",
      "Presnosť pre T3 measured : 0.8044354838709677\n",
      "Presnosť pre FTI measured : 0.8608870967741935\n",
      "Presnosť pre referral source : 0.5645161290322581\n",
      "Presnosť pre workclass : 0.7540322580645161\n",
      "Presnosť pre marital-status : 0.4334677419354839\n",
      "Presnosť pre occupation : 0.16733870967741934\n",
      "Presnosť pre relationship : 0.28830645161290325\n",
      "Presnosť pre race : 0.8366935483870968\n",
      "Presnosť pre native-country : 0.9274193548387096\n",
      "Presnosť pre TSH measured : 0.8931451612903226\n",
      "Presnosť pre sex : 0.6895161290322581\n",
      "Presnosť pre query hyperthyroid : 0.9375\n",
      "Presnosť pre TT4 measured : 0.9637096774193549\n",
      "Presnosť pre on antithyroid medication : 0.9858870967741935\n",
      "Presnosť pre sick : 0.9717741935483871\n",
      "Presnosť pre T4U measured : 0.8830645161290323\n",
      "Presnosť pre psych : 0.9556451612903226\n",
      "Presnosť pre query hypothyroid : 0.9637096774193549\n",
      "Presnosť pre test : 0.9818548387096774\n",
      "Presnosť pre yield : 0.875\n"
     ]
    }
   ],
   "source": [
    "from sklearn import neighbors\n",
    "\n",
    "knr = train_data.copy()\n",
    "\n",
    "for col in train_data.columns[train_data.dtypes == np.object]:\n",
    "    X = allNumeric.copy()\n",
    "    \n",
    "    NanColumns = []\n",
    "    for col2 in X.columns:\n",
    "        if X[pd.isna(X[col2])].shape[0] > 0 and col != col2:\n",
    "            NanColumns.append(col2)\n",
    "            \n",
    "    X = X.dropna()\n",
    "    X = X.drop(NanColumns, axis=1)\n",
    "            \n",
    "    y = X[col].copy().astype('int')\n",
    "    X = X.drop(col, axis=1)\n",
    "    \n",
    "    X_train, X_test, y_train, y_test = sklearn.model_selection.train_test_split(X, y, test_size=0.2)\n",
    "        \n",
    "    clf = neighbors.KNeighborsClassifier(20, weights='uniform')\n",
    "    clf.fit(X_train, y_train)\n",
    "    print(\"Presnosť pre\", col, \":\", clf.score(X_test, y_test))\n",
    "        \n",
    "    clf.fit(X, y)\n",
    "        \n",
    "    notknown = allNumeric.copy()\n",
    "    notknown = notknown[pd.isna(notknown[col])]\n",
    "    if (notknown.shape[0] == 0):\n",
    "            continue\n",
    "    \n",
    "    \n",
    "    X = notknown.drop(NanColumns, axis=1)\n",
    "    y = notknown[col]\n",
    "    X = X.drop(col, axis=1)\n",
    "                \n",
    "    y = clf.predict(X)\n",
    "        \n",
    "    #postupne dopĺňame neznáme hodnoty hodnotami odhadovanými lineárnou regresiou\n",
    "    i2 = 0\n",
    "    for i in range(knr.shape[0]):\n",
    "        if (pd.isna(knr.loc[i, col])):\n",
    "            knr.loc[i, col] = translateFromNumeric(y[i2], col)\n",
    "            i2 = i2 + 1"
   ]
  },
  {
   "cell_type": "code",
   "execution_count": 82,
   "metadata": {},
   "outputs": [
    {
     "name": "stdout",
     "output_type": "stream",
     "text": [
      "f    2470\n",
      "t     330\n",
      "Name: on thyroxine, dtype: int64\n",
      "\n",
      "f    2760\n",
      "t      40\n",
      "Name: query on thyroxine, dtype: int64\n",
      "\n",
      "f    2759\n",
      "t      41\n",
      "Name: pregnant, dtype: int64\n",
      "\n",
      "f    2761\n",
      "t      39\n",
      "Name: thyroid surgery, dtype: int64\n",
      "\n",
      "f    2752\n",
      "t      48\n",
      "Name: I131 treatment, dtype: int64\n",
      "\n",
      "f    2786\n",
      "t      14\n",
      "Name: lithium, dtype: int64\n",
      "\n",
      "f    2775\n",
      "t      25\n",
      "Name: goitre, dtype: int64\n",
      "\n",
      "f    2729\n",
      "t      71\n",
      "Name: tumor, dtype: int64\n",
      "\n",
      "f    2799\n",
      "t       1\n",
      "Name: hypopituitary, dtype: int64\n",
      "\n",
      "t    2215\n",
      "f     585\n",
      "Name: T3 measured, dtype: int64\n",
      "\n",
      "t    2505\n",
      "f     295\n",
      "Name: FTI measured, dtype: int64\n",
      "\n",
      "other    1632\n",
      "svi       771\n",
      "svhc      275\n",
      "stmw       91\n",
      "svhd       31\n",
      "Name: referral source, dtype: int64\n",
      "\n",
      "private             2143\n",
      "local-gov            212\n",
      "self-emp-not-inc     178\n",
      "state-gov            123\n",
      "federal-gov           75\n",
      "self-emp-inc          69\n",
      "Name: workclass, dtype: int64\n",
      "\n",
      "never-married            1118\n",
      "married-civ-spouse        853\n",
      "divorced                  489\n",
      "widowed                   167\n",
      "separated                 118\n",
      "married-spouse-absent      53\n",
      "married-af-spouse           2\n",
      "Name: marital-status, dtype: int64\n",
      "\n",
      "adm-clerical         504\n",
      "other-service        427\n",
      "prof-specialty       343\n",
      "exec-managerial      328\n",
      "sales                323\n",
      "machine-op-inspct    168\n",
      "craft-repair         166\n",
      "transport-moving      84\n",
      "tech-support          74\n",
      "handlers-cleaners     64\n",
      "farming-fishing       58\n",
      "adm_clerical          52\n",
      "other_service         41\n",
      "prof_specialty        29\n",
      "exec_managerial       25\n",
      "priv-house-serv       24\n",
      "protective-serv       23\n",
      "craft_repair          21\n",
      "tech_support          12\n",
      "machine_op_inspct      9\n",
      "transport_moving       6\n",
      "handlers_cleaners      6\n",
      "protective_serv        6\n",
      "priv_house_serv        4\n",
      "farming_fishing        3\n",
      "Name: occupation, dtype: int64\n",
      "\n",
      "not-in-family     899\n",
      "husband           541\n",
      "own-child         492\n",
      "unmarried         481\n",
      "wife              284\n",
      "other-relative    103\n",
      "Name: relationship, dtype: int64\n",
      "\n",
      "white                 2318\n",
      "black                  330\n",
      "asian-pac-islander      91\n",
      "other                   33\n",
      "amer-indian-eskimo      28\n",
      "Name: race, dtype: int64\n",
      "\n",
      "united-states         2553\n",
      "mexico                  47\n",
      "philippines             17\n",
      "jamaica                 12\n",
      "cuba                    12\n",
      "canada                  11\n",
      "puerto-rico             11\n",
      "guatemala               10\n",
      "germany                  8\n",
      "dominican-republic       8\n",
      "vietnam                  8\n",
      "china                    7\n",
      "columbia                 7\n",
      "el-salvador              7\n",
      "south                    7\n",
      "india                    6\n",
      "england                  6\n",
      "portugal                 5\n",
      "japan                    5\n",
      "ireland                  5\n",
      "poland                   5\n",
      "haiti                    5\n",
      "ecuador                  4\n",
      "greece                   4\n",
      "thailand                 4\n",
      "france                   3\n",
      "italy                    3\n",
      "peru                     3\n",
      "trinadad&tobago          3\n",
      "laos                     3\n",
      "taiwan                   2\n",
      "nicaragua                2\n",
      "scotland                 2\n",
      "hungary                  2\n",
      "cambodia                 1\n",
      "hong                     1\n",
      "iran                     1\n",
      "Name: native-country, dtype: int64\n",
      "\n",
      "t    2516\n",
      "f     284\n",
      "Name: TSH measured, dtype: int64\n",
      "\n",
      "f    1923\n",
      "m     877\n",
      "Name: sex, dtype: int64\n",
      "\n",
      "f    2627\n",
      "t     173\n",
      "Name: query hyperthyroid, dtype: int64\n",
      "\n",
      "t    2616\n",
      "f     184\n",
      "Name: TT4 measured, dtype: int64\n",
      "\n",
      "f    2766\n",
      "t      34\n",
      "Name: on antithyroid medication, dtype: int64\n",
      "\n",
      "f    2690\n",
      "t     110\n",
      "Name: sick, dtype: int64\n",
      "\n",
      "t    2503\n",
      "f     297\n",
      "Name: T4U measured, dtype: int64\n",
      "\n",
      "f    2665\n",
      "t     135\n",
      "Name: psych, dtype: int64\n",
      "\n",
      "f    2637\n",
      "t     163\n",
      "Name: query hypothyroid, dtype: int64\n",
      "\n",
      "negative      2755\n",
      "discordant      45\n",
      "Name: test, dtype: int64\n",
      "\n",
      "none    2482\n",
      "gain     200\n",
      "loss     118\n",
      "Name: yield, dtype: int64\n",
      "\n"
     ]
    }
   ],
   "source": [
    "for column in knr.columns[knr.dtypes == np.object]:\n",
    "    if knr[column].unique().size < 50:\n",
    "        print(knr[column].value_counts())\n",
    "        print()"
   ]
  },
  {
   "cell_type": "code",
   "execution_count": 83,
   "metadata": {},
   "outputs": [],
   "source": [
    "train_data = knr"
   ]
  },
  {
   "cell_type": "code",
   "execution_count": null,
   "metadata": {},
   "outputs": [],
   "source": []
  },
  {
   "cell_type": "code",
   "execution_count": 92,
   "metadata": {},
   "outputs": [],
   "source": [
    "# %load predspracovanie_skript.py\n",
    "import pandas as pd\n",
    "import numpy as np\n",
    "import random as rnd\n",
    "import seaborn\n",
    "import scipy.stats as stats\n",
    "import matplotlib.pyplot as plt\n",
    "%matplotlib inline\n",
    "import re\n",
    "\n",
    "from scipy.stats import boxcox\n",
    "from functools import reduce\n",
    "\n",
    "def replaceWithBC(data, attr):\n",
    "    bc, att = boxcox(data[attr].dropna())\n",
    "    i2 = 0\n",
    "    for i in range(data.shape[0]):\n",
    "        if pd.notna(data.loc[i, attr]):\n",
    "            data.loc[i, attr] = bc[i2]\n",
    "            i2 = i2 + 1\n",
    "    data.rename(index=str, columns={attr: attr + \"_(box_cox)\"})\n",
    "            \n",
    "def replaceOutliers(data, attr, thrshl, new):\n",
    "    for i in range(data.shape[0]):\n",
    "        if thrshl(data.loc[i, attr]):\n",
    "            data.loc[i, attr] = new\n",
    "            \n",
    "def replaceOutliersD(data, attr, thrshl, new):\n",
    "    for i in range(data.shape[0]):\n",
    "        if thrshl(data.loc[i, attr]):\n",
    "            data.loc[i, attr] = new(data.loc[i])\n",
    "\n",
    "\n",
    "def preprocess(filepath):\n",
    "    #1 nacitanie\n",
    "    train_data = pd.DataFrame()\n",
    "    train_data = pd.read_csv(filepath)\n",
    "\n",
    "    #2 nahradenie indexu\n",
    "    train_data = train_data.set_index('Unnamed: 0')\n",
    "    train_data.index.names = ['id']\n",
    "\n",
    "    #3 rozvinutie stplcov\n",
    "    import json\n",
    "    raw = train_data.loc[1, 'medical_info']\n",
    "    raw = raw.replace(\"'\", '\"')\n",
    "    data = json.loads(raw)\n",
    "\n",
    "    #pridanie stlpcov\n",
    "    for k in data.keys():\n",
    "        train_data[k] = np.nan\n",
    "\n",
    "    #naplnenie zaznamov hodnotami z medical_info\n",
    "    for i in range(train_data.shape[0]):\n",
    "        raw = train_data['medical_info'][i]\n",
    "        raw = raw.replace(\"'\", '\"')\n",
    "        data = json.loads(raw)\n",
    "        for att in data.keys():\n",
    "            train_data.loc[i, att] = data[att]\n",
    "        \n",
    "    #odstranenie nepotrebneho stlpca\n",
    "    train_data = train_data.drop(columns=['medical_info'])\n",
    "\n",
    "    #4 ciselne FTI\n",
    "    train_data['FTI'] = pd.to_numeric(train_data['FTI'], errors='coerce')\n",
    "\n",
    "    #5 ciselne TBG\n",
    "    train_data['TBG'] = pd.to_numeric(train_data['TBG'], errors='coerce')\n",
    "\n",
    "    #6 rozvinutie vysledku testu\n",
    "    for i in range(train_data.shape[0]):\n",
    "        train_data.loc[i, 'test'], train_data.loc[i, 'testID'] = str(train_data['class'][i]).split(\".|\")\n",
    "\n",
    "    train_data = train_data.drop(columns=['class'])\n",
    "\n",
    "    #7 zahodenie nepotrebnych stlpcov\n",
    "    train_data = train_data.drop(['TBG measured', 'TBG', 'education', 'testID'], axis=1)\n",
    "\n",
    "    #8 rozvinutie datumu narodenia\n",
    "    train_data['birth_year'] = np.nan\n",
    "    train_data['birth_month'] = np.nan\n",
    "    \n",
    "    for i in range(train_data.shape[0]-1):\n",
    "        if (pd.isna(train_data.loc[i]['date_of_birth'])):\n",
    "            continue\n",
    "        date = list(map(int, re.split(' |-|/|:', train_data.iloc[i]['date_of_birth'])))\n",
    "        if date[0] <= 31 and date[2] <= 31:\n",
    "            continue\n",
    "        elif date[0] <= 31 and date[2] > 31:\n",
    "            b = date[2]\n",
    "            date[2] = date[0]\n",
    "            date[0] = b\n",
    "        if date[0] < 1900:\n",
    "            if int(str(date[0])[-2:]) < 18:\n",
    "                date[0] = date[0] + 2000 - int(str(date[0])[:-2] if str(date[0])[:-2] != '' else 0) * 100\n",
    "            else:\n",
    "                date[0] = date[0] + 1900 - int(str(date[0])[:-2] if str(date[0])[:-2] != '' else 0) * 100\n",
    "        if len(date) > 3:\n",
    "            date = date[:3]\n",
    "        train_data.loc[i, 'birth_year'] = date[0]\n",
    "        train_data.loc[i, 'birth_month'] = date[1]\n",
    "\n",
    "    #9 zlucenie hodnot\n",
    "    for i in range(train_data.shape[0]):\n",
    "        if train_data.loc[i, 'on thyroxine'] == 'FALSE' or train_data.loc[i, 'on thyroxine'] == 'F':\n",
    "            train_data.loc[i, 'on thyroxine'] = 'f'\n",
    "        elif train_data.loc[i, 'on thyroxine'] == 'TRUE' or train_data.loc[i, 'on thyroxine'] == 'T':\n",
    "            train_data.loc[i, 'on thyroxine'] = 't'\n",
    "        \n",
    "        for col in train_data.columns[train_data.dtypes == np.object]:\n",
    "            if pd.notna(train_data.loc[i, col]):\n",
    "                train_data.loc[i, col] = train_data.loc[i, col].lower().strip()\n",
    "\n",
    "        \n",
    "    #10 nahrada za box-cox\n",
    "    replaceWithBC(train_data, 'TSH')\n",
    "    replaceWithBC(train_data, 'fnlwgt')\n",
    "\n",
    "    #11 odstranenie odlahlych hodnot\n",
    "    replaceOutliers(train_data, 'fnlwgt', lambda a: a > 720, np.percentile(train_data['fnlwgt'], 95))\n",
    "    replaceOutliers(train_data, 'hours-per-week', lambda a: a > 95, np.percentile(train_data['hours-per-week'], 95))\n",
    "    replaceOutliersD(train_data, 'age', lambda a: a > 100, lambda a: 2017 - a.birth_year)\n",
    "    \n",
    "    #12 zlucenie education-num\n",
    "    for i in range(len(train_data['education-num'])):\n",
    "        if train_data.loc[i, 'education-num'] < 0:\n",
    "            train_data.loc[i, 'education-num'] *= -1\n",
    "        if train_data.loc[i, 'education-num'] >= 100:\n",
    "            train_data.loc[i, 'education-num'] = train_data.loc[i, 'education-num']/100\n",
    "        \n",
    "    #13 kategorizacia kapitalu\n",
    "    train_data['yield'] = np.nan\n",
    "    for i in range(train_data.shape[0]):\n",
    "        yld = train_data.loc[i,'capital-gain'] - train_data.loc[i, 'capital-loss']\n",
    "        if (yld == 0):\n",
    "            train_data.loc[i, 'yield'] = 'none'\n",
    "        elif (yld < 0):\n",
    "            train_data.loc[i, 'yield'] = 'loss'\n",
    "        else:\n",
    "            train_data.loc[i, 'yield'] = 'gain'\n",
    "\n",
    "    train_data = train_data.drop(['capital-gain', 'capital-loss'], axis=1)\n",
    "\n",
    "    #14 nahradzovanie priemerom\n",
    "    import math\n",
    "\n",
    "    mean_med = train_data.copy()\n",
    "\n",
    "    for column in mean_med.columns:\n",
    "        if np.issubdtype(mean_med[column].dtype, np.number):\n",
    "            if mean_med[column].std() / mean_med[column].mean() <= 1:\n",
    "                mean = mean_med[column].mean()\n",
    "                for i in range(len(mean_med[column])):\n",
    "                    if (np.isnan(mean_med.loc[i, column])):\n",
    "                        mean_med.loc[i, column] = mean\n",
    "            else:\n",
    "                median = mean_med[column].median()\n",
    "                for i in range(len(mean_med[column])):\n",
    "                    if (np.isnan(mean_med.loc[i, column])):\n",
    "                        mean_med.loc[i, column] = median\n",
    "\n",
    "    for i in range(mean_med.shape[0]):\n",
    "        mean_med.loc[i, 'birth_year'] = math.ceil(mean_med.loc[i, 'birth_year'])\n",
    "        mean_med.loc[i, 'birth_month'] = math.ceil(mean_med.loc[i, 'birth_month'])\n",
    "\n",
    "    #15 nahradzovanie regresiou\n",
    "    import sklearn.linear_model\n",
    "    import sklearn.model_selection\n",
    "\n",
    "    linreg = train_data.copy()\n",
    "    numericOnly = pd.DataFrame()\n",
    "    scores = {}\n",
    "\n",
    "    for col in train_data.columns:\n",
    "        if np.issubdtype(train_data[col].dtype, np.number):\n",
    "            numericOnly[col] = train_data[col].dropna()\n",
    "\n",
    "    for col in train_data.columns:\n",
    "        if np.issubdtype(train_data[col].dtype, np.number):\n",
    "            numericOnly = numericOnly.dropna()\n",
    "            X = numericOnly\n",
    "            y = numericOnly[col]\n",
    "            X = X.drop(col, axis=1)\n",
    "            \n",
    "            X_train, X_test, y_train, y_test = sklearn.model_selection.train_test_split(X, y, test_size=0.2)\n",
    "            \n",
    "            reg = sklearn.linear_model.LinearRegression()\n",
    "            reg.fit(X_train, y_train)\n",
    "            print(\"Presnosť pre\", col, \":\", reg.score(X_test, y_test))\n",
    "            \n",
    "            scores[col] = reg.score(X_test, y_test)\n",
    "            \n",
    "            notknown = pd.DataFrame()\n",
    "            for col2 in train_data.columns:\n",
    "                if np.issubdtype(train_data[col2].dtype, np.number):\n",
    "                    #kvôli neznámym hodnotam v necieľových stĺpcoch musíme použiť odhad neznámych dohnôt priemerom/mediánom\n",
    "                    notknown[col2] = mean_med[col2]\n",
    "                if col2 == col:\n",
    "                    #iba pre cieľový stĺpec vyberáme dáta z pôvodného súboru, kde sú stále aj neznáme hodnoty\n",
    "                    notknown[col2] = train_data[col2]\n",
    "            \n",
    "            notknown = notknown[pd.isna(notknown[col])]\n",
    "            if (notknown.shape[0] == 0):\n",
    "                continue\n",
    "                \n",
    "            X = notknown\n",
    "            y = notknown[col]\n",
    "            X = X.drop(col, axis=1)\n",
    "                    \n",
    "            y = reg.predict(X)\n",
    "            \n",
    "            #postupne dopĺňame neznáme hodnoty hodnotami odhadovanými lineárnou regresiou\n",
    "            i2 = 0\n",
    "            for i in range(linreg.shape[0]):\n",
    "                if (pd.isna(linreg.loc[i, col])):\n",
    "                    linreg.loc[i, col] = y[i2]\n",
    "                    i2 = i2 + 1\n",
    "\n",
    "    for i in range(mean_med.shape[0]):\n",
    "        linreg.loc[i, 'birth_year'] = math.ceil(linreg.loc[i, 'birth_year'])\n",
    "        linreg.loc[i, 'birth_month'] = math.ceil(linreg.loc[i, 'birth_month'])\n",
    "\n",
    "    #16 nahradenie priemerom/medianom a regresiou\n",
    "    raw_data = train_data.copy()\n",
    "\n",
    "    for col in train_data.columns:\n",
    "        if np.issubdtype(train_data[col].dtype, np.number):\n",
    "            if scores[col] > 0.75:\n",
    "                train_data[col] = linreg[col]\n",
    "            else:\n",
    "                train_data[col] = mean_med[col]\n",
    "\n",
    "    #17 nahradenie ? za NaN\n",
    "    for col in train_data.columns[train_data.dtypes == np.object]:\n",
    "        for i in range(train_data.shape[0]):\n",
    "            if train_data.loc[i, col] == '?':\n",
    "                train_data.loc[i, col] = np.nan\n",
    "\n",
    "    #18 preklad kategorickych do ciselnych\n",
    "    translator = {}\n",
    "    translatorRev = {}\n",
    "\n",
    "    for col in train_data.columns[train_data.dtypes == np.object]:\n",
    "        translator[col] = {}\n",
    "        translatorRev[col] = {}\n",
    "        un = train_data[col].unique()\n",
    "        for i in range(len(un)):\n",
    "            translator[col][un[i]] = i\n",
    "            translatorRev[col][i] = un[i]\n",
    "\n",
    "    def translateToNumeric(data, attr):\n",
    "        trans = data[attr].copy()\n",
    "        for i in range(len(trans)):\n",
    "            if (pd.notna(trans[i])):\n",
    "                trans[i] = translator[attr][trans[i]]\n",
    "        \n",
    "        return trans\n",
    "\n",
    "    def translateFromNumeric(val, attr):\n",
    "        return translatorRev[attr][val]\n",
    "\n",
    "    allNumeric = train_data.copy()\n",
    "    for col in train_data.columns[train_data.dtypes == np.object]:\n",
    "        allNumeric[col] = translateToNumeric(train_data, col)\n",
    "\n",
    "    #19 nahradzovanie KNN\n",
    "    from sklearn import neighbors\n",
    "\n",
    "    knr = train_data.copy()\n",
    "\n",
    "    for col in train_data.columns[train_data.dtypes == np.object]:\n",
    "        X = allNumeric.copy()\n",
    "        \n",
    "        NanColumns = []\n",
    "        for col2 in X.columns:\n",
    "            if X[pd.isna(X[col2])].shape[0] > 0 and col != col2:\n",
    "                NanColumns.append(col2)\n",
    "                \n",
    "        X = X.dropna()\n",
    "        X = X.drop(NanColumns, axis=1)\n",
    "                \n",
    "        y = X[col].copy().astype('int')\n",
    "        X = X.drop(col, axis=1)\n",
    "        \n",
    "        X_train, X_test, y_train, y_test = sklearn.model_selection.train_test_split(X, y, test_size=0.2)\n",
    "            \n",
    "        clf = neighbors.KNeighborsClassifier(20, weights='uniform')\n",
    "        clf.fit(X_train, y_train)\n",
    "        print(\"Presnosť pre\", col, \":\", clf.score(X_test, y_test))\n",
    "            \n",
    "        clf.fit(X, y)\n",
    "            \n",
    "        notknown = allNumeric.copy()\n",
    "        notknown = notknown[pd.isna(notknown[col])]\n",
    "        if (notknown.shape[0] == 0):\n",
    "                continue\n",
    "        \n",
    "        \n",
    "        X = notknown.drop(NanColumns, axis=1)\n",
    "        y = notknown[col]\n",
    "        X = X.drop(col, axis=1)\n",
    "                    \n",
    "        y = clf.predict(X)\n",
    "            \n",
    "        #postupne dopĺňame neznáme hodnoty hodnotami odhadovanými lineárnou regresiou\n",
    "        i2 = 0\n",
    "        for i in range(knr.shape[0]):\n",
    "            if (pd.isna(knr.loc[i, col])):\n",
    "                knr.loc[i, col] = translateFromNumeric(y[i2], col)\n",
    "                i2 = i2 + 1\n",
    "\n",
    "    train_data = knr\n",
    "\n",
    "    return train_data\n"
   ]
  },
  {
   "cell_type": "code",
   "execution_count": 93,
   "metadata": {},
   "outputs": [
    {
     "name": "stdout",
     "output_type": "stream",
     "text": [
      "Presnosť pre age : 0.9997777025407567\n",
      "Presnosť pre TSH : 0.3137683416493674\n",
      "Presnosť pre T3 : 0.13337045202744902\n",
      "Presnosť pre T4U : 0.30701621477287844\n",
      "Presnosť pre fnlwgt : -0.07071991656192345\n",
      "Presnosť pre education-num : -0.0013445784380978765\n",
      "Presnosť pre hours-per-week : 0.027109115987465682\n",
      "Presnosť pre FTI : 0.17001968620788332\n",
      "Presnosť pre birth_year : 0.9997414043840528\n",
      "Presnosť pre birth_month : 0.5597474730373233\n",
      "Presnosť pre on thyroxine : 0.847682119205298\n",
      "Presnosť pre query on thyroxine : 0.9867549668874173\n",
      "Presnosť pre pregnant : 0.9801324503311258\n",
      "Presnosť pre thyroid surgery : 0.9867549668874173\n",
      "Presnosť pre I131 treatment : 0.9867549668874173\n",
      "Presnosť pre lithium : 0.9933774834437086\n",
      "Presnosť pre goitre : 0.9867549668874173\n",
      "Presnosť pre tumor : 0.9867549668874173\n",
      "Presnosť pre hypopituitary : 1.0\n",
      "Presnosť pre T3 measured : 0.8675496688741722\n",
      "Presnosť pre TT4 : 0.0\n",
      "Presnosť pre FTI measured : 0.9602649006622517\n",
      "Presnosť pre referral source : 0.609271523178808\n",
      "Presnosť pre workclass : 0.7748344370860927\n",
      "Presnosť pre marital-status : 0.423841059602649\n",
      "Presnosť pre occupation : 0.19205298013245034\n",
      "Presnosť pre relationship : 0.39072847682119205\n",
      "Presnosť pre race : 0.7880794701986755\n",
      "Presnosť pre native-country : 0.9006622516556292\n",
      "Presnosť pre date_of_birth : 0.0\n",
      "Presnosť pre TSH measured : 0.9470198675496688\n",
      "Presnosť pre sex : 0.7483443708609272\n",
      "Presnosť pre query hyperthyroid : 0.9602649006622517\n",
      "Presnosť pre TT4 measured : 1.0\n",
      "Presnosť pre on antithyroid medication : 1.0\n",
      "Presnosť pre sick : 0.9536423841059603\n",
      "Presnosť pre T4U measured : 0.9735099337748344\n",
      "Presnosť pre psych : 0.9337748344370861\n",
      "Presnosť pre query hypothyroid : 0.9403973509933775\n",
      "Presnosť pre test : 0.9801324503311258\n",
      "Presnosť pre yield : 0.8543046357615894\n"
     ]
    }
   ],
   "source": [
    "test_data = preprocess('data/test.csv')"
   ]
  },
  {
   "cell_type": "code",
   "execution_count": 94,
   "metadata": {},
   "outputs": [
    {
     "data": {
      "text/plain": [
       "id\n",
       "0     -2.796620\n",
       "1      6.186675\n",
       "2     -0.554843\n",
       "3      0.849233\n",
       "4      0.893515\n",
       "5     -1.815925\n",
       "6      0.263970\n",
       "7      0.263970\n",
       "8      0.537222\n",
       "9      0.893515\n",
       "10    -1.550743\n",
       "11     0.893515\n",
       "12     0.183096\n",
       "13     0.263970\n",
       "14     2.337631\n",
       "15    -0.504812\n",
       "16     0.183096\n",
       "17     0.183096\n",
       "18     1.431908\n",
       "19     1.127130\n",
       "20    -1.342598\n",
       "21     1.692482\n",
       "22     1.692482\n",
       "23    -0.150296\n",
       "24     0.095521\n",
       "25    -2.637312\n",
       "26    -0.662922\n",
       "27     4.859919\n",
       "28     0.409308\n",
       "29     0.704428\n",
       "         ...   \n",
       "942   -1.550743\n",
       "943   -2.183710\n",
       "944   -1.550743\n",
       "945    2.807648\n",
       "946    0.754872\n",
       "947    0.409308\n",
       "948    0.263970\n",
       "949   -4.696627\n",
       "950    1.289934\n",
       "951    0.095521\n",
       "952    1.227653\n",
       "953    1.016524\n",
       "954    1.127130\n",
       "955    0.409308\n",
       "956    2.724018\n",
       "957   -0.105103\n",
       "958    0.000000\n",
       "959    1.955595\n",
       "960   -1.550743\n",
       "961    0.537222\n",
       "962   -0.396775\n",
       "963   -0.644094\n",
       "964    0.263970\n",
       "965   -0.805522\n",
       "966    0.704428\n",
       "967    0.263970\n",
       "968    0.263970\n",
       "969    1.581451\n",
       "970    1.921528\n",
       "971   -1.170922\n",
       "Name: TSH, Length: 972, dtype: float64"
      ]
     },
     "execution_count": 94,
     "metadata": {},
     "output_type": "execute_result"
    }
   ],
   "source": []
  },
  {
   "cell_type": "code",
   "execution_count": 51,
   "metadata": {},
   "outputs": [
    {
     "name": "stdout",
     "output_type": "stream",
     "text": [
      "on thyroxine : t =>  hypopituitary : f\n",
      "query on thyroxine : t =>  I131 treatment : f\n",
      "query on thyroxine : t =>  lithium : f\n",
      "query on thyroxine : f =>  hypopituitary : f\n",
      "query on thyroxine : t =>  TT4 measured : t\n",
      "query on thyroxine : t =>  on antithyroid medication : f\n",
      "query on thyroxine : t =>  psych : f\n",
      "query on thyroxine : t =>  query hypothyroid : f\n",
      "query on thyroxine : t =>  test : negative\n",
      "pregnant : t =>  thyroid surgery : f\n",
      "pregnant : t =>  I131 treatment : f\n",
      "pregnant : t =>  lithium : f\n",
      "pregnant : t =>  goitre : f\n",
      "pregnant : t =>  hypopituitary : f\n",
      "pregnant : t =>  FTI measured : t\n",
      "pregnant : t =>  TT4 measured : t\n",
      "pregnant : t =>  sick : f\n",
      "pregnant : t =>  T4U measured : t\n",
      "pregnant : t =>  test : negative\n",
      "thyroid surgery : t =>  pregnant : f\n",
      "thyroid surgery : t =>  I131 treatment : f\n",
      "thyroid surgery : t =>  lithium : f\n",
      "thyroid surgery : t =>  goitre : f\n",
      "thyroid surgery : t =>  hypopituitary : f\n",
      "thyroid surgery : t =>  TSH measured : t\n",
      "thyroid surgery : t =>  TT4 measured : t\n",
      "thyroid surgery : t =>  on antithyroid medication : f\n",
      "thyroid surgery : t =>  sick : f\n",
      "thyroid surgery : t =>  psych : f\n",
      "thyroid surgery : t =>  test : negative\n",
      "I131 treatment : t =>  query on thyroxine : f\n",
      "I131 treatment : t =>  pregnant : f\n",
      "I131 treatment : t =>  thyroid surgery : f\n",
      "I131 treatment : t =>  lithium : f\n",
      "I131 treatment : t =>  goitre : f\n",
      "I131 treatment : t =>  tumor : f\n",
      "I131 treatment : t =>  hypopituitary : f\n",
      "I131 treatment : t =>  TSH measured : t\n",
      "I131 treatment : t =>  TT4 measured : t\n",
      "I131 treatment : t =>  sick : f\n",
      "I131 treatment : t =>  psych : f\n",
      "I131 treatment : t =>  test : negative\n",
      "lithium : t =>  query on thyroxine : f\n",
      "lithium : t =>  pregnant : f\n",
      "lithium : t =>  thyroid surgery : f\n",
      "lithium : t =>  I131 treatment : f\n",
      "lithium : t =>  goitre : f\n",
      "lithium : t =>  tumor : f\n",
      "lithium : t =>  hypopituitary : f\n",
      "lithium : t =>  FTI measured : t\n",
      "lithium : t =>  TSH measured : t\n",
      "lithium : t =>  TT4 measured : t\n",
      "lithium : t =>  on antithyroid medication : f\n",
      "lithium : t =>  sick : f\n",
      "lithium : t =>  T4U measured : t\n",
      "lithium : t =>  query hypothyroid : f\n",
      "lithium : t =>  test : negative\n",
      "lithium : t =>  yield : none\n",
      "goitre : t =>  pregnant : f\n",
      "goitre : t =>  thyroid surgery : f\n",
      "goitre : t =>  I131 treatment : f\n",
      "goitre : t =>  lithium : f\n",
      "goitre : t =>  tumor : f\n",
      "goitre : t =>  hypopituitary : f\n",
      "goitre : t =>  query hyperthyroid : f\n",
      "goitre : t =>  on antithyroid medication : f\n",
      "goitre : t =>  sick : f\n",
      "goitre : t =>  query hypothyroid : f\n",
      "goitre : t =>  test : negative\n",
      "goitre : t =>  yield : none\n",
      "tumor : t =>  I131 treatment : f\n",
      "tumor : t =>  lithium : f\n",
      "tumor : t =>  goitre : f\n",
      "tumor : t =>  hypopituitary : f\n",
      "tumor : t =>  on antithyroid medication : f\n",
      "tumor : t =>  query hypothyroid : f\n",
      "tumor : t =>  test : negative\n",
      "hypopituitary : t =>  on thyroxine : f\n",
      "hypopituitary : t =>  query on thyroxine : t\n",
      "hypopituitary : t =>  pregnant : f\n",
      "hypopituitary : t =>  thyroid surgery : f\n",
      "hypopituitary : t =>  I131 treatment : f\n",
      "hypopituitary : t =>  lithium : f\n",
      "hypopituitary : t =>  goitre : f\n",
      "hypopituitary : t =>  tumor : f\n",
      "hypopituitary : t =>  T3 measured : t\n",
      "hypopituitary : t =>  FTI measured : t\n",
      "hypopituitary : t =>  TSH measured : t\n",
      "hypopituitary : t =>  sex : m\n",
      "hypopituitary : t =>  query hyperthyroid : f\n",
      "hypopituitary : t =>  TT4 measured : t\n",
      "hypopituitary : t =>  on antithyroid medication : f\n",
      "hypopituitary : t =>  sick : f\n",
      "hypopituitary : t =>  T4U measured : t\n",
      "hypopituitary : t =>  psych : f\n",
      "hypopituitary : t =>  query hypothyroid : f\n",
      "hypopituitary : t =>  test : negative\n",
      "hypopituitary : t =>  yield : none\n",
      "T3 measured : f =>  hypopituitary : f\n",
      "FTI measured : f =>  pregnant : f\n",
      "FTI measured : f =>  lithium : f\n",
      "FTI measured : f =>  hypopituitary : f\n",
      "FTI measured : f =>  T4U measured : f\n",
      "TSH measured : f =>  thyroid surgery : f\n",
      "TSH measured : f =>  I131 treatment : f\n",
      "TSH measured : f =>  lithium : f\n",
      "TSH measured : f =>  hypopituitary : f\n",
      "TSH measured : f =>  psych : f\n",
      "TSH measured : f =>  test : negative\n",
      "sex : ? =>  query on thyroxine : f\n",
      "sex : m =>  pregnant : f\n",
      "sex : ? =>  thyroid surgery : f\n",
      "sex : ? =>  lithium : f\n",
      "sex : ? =>  goitre : f\n",
      "sex : ? =>  hypopituitary : f\n",
      "sex : f =>  hypopituitary : f\n",
      "sex : ? =>  on antithyroid medication : f\n",
      "query hyperthyroid : t =>  goitre : f\n",
      "query hyperthyroid : t =>  hypopituitary : f\n",
      "query hyperthyroid : t =>  psych : f\n",
      "TT4 measured : f =>  query on thyroxine : f\n",
      "TT4 measured : f =>  pregnant : f\n",
      "TT4 measured : f =>  thyroid surgery : f\n",
      "TT4 measured : f =>  I131 treatment : f\n",
      "TT4 measured : f =>  lithium : f\n",
      "TT4 measured : f =>  hypopituitary : f\n",
      "TT4 measured : f =>  psych : f\n",
      "TT4 measured : f =>  test : negative\n",
      "on antithyroid medication : t =>  query on thyroxine : f\n",
      "on antithyroid medication : t =>  thyroid surgery : f\n",
      "on antithyroid medication : t =>  lithium : f\n",
      "on antithyroid medication : t =>  goitre : f\n",
      "on antithyroid medication : t =>  tumor : f\n",
      "on antithyroid medication : t =>  hypopituitary : f\n",
      "on antithyroid medication : t =>  sick : f\n",
      "on antithyroid medication : t =>  psych : f\n",
      "on antithyroid medication : t =>  test : negative\n",
      "sick : t =>  pregnant : f\n",
      "sick : t =>  thyroid surgery : f\n",
      "sick : t =>  I131 treatment : f\n",
      "sick : t =>  lithium : f\n",
      "sick : t =>  goitre : f\n",
      "sick : t =>  hypopituitary : f\n",
      "sick : t =>  on antithyroid medication : f\n",
      "sick : t =>  test : negative\n",
      "T4U measured : f =>  pregnant : f\n",
      "T4U measured : f =>  lithium : f\n",
      "T4U measured : f =>  hypopituitary : f\n",
      "T4U measured : t =>  FTI measured : t\n",
      "psych : t =>  query on thyroxine : f\n",
      "psych : t =>  thyroid surgery : f\n",
      "psych : t =>  I131 treatment : f\n",
      "psych : t =>  hypopituitary : f\n",
      "psych : t =>  TSH measured : t\n",
      "psych : t =>  query hyperthyroid : f\n",
      "psych : t =>  TT4 measured : t\n",
      "psych : t =>  on antithyroid medication : f\n",
      "query hypothyroid : t =>  query on thyroxine : f\n",
      "query hypothyroid : t =>  lithium : f\n",
      "query hypothyroid : t =>  goitre : f\n",
      "query hypothyroid : t =>  tumor : f\n",
      "query hypothyroid : t =>  hypopituitary : f\n",
      "test : discordant =>  query on thyroxine : f\n",
      "test : discordant =>  pregnant : f\n",
      "test : discordant =>  thyroid surgery : f\n",
      "test : discordant =>  I131 treatment : f\n",
      "test : discordant =>  lithium : f\n",
      "test : discordant =>  goitre : f\n",
      "test : discordant =>  tumor : f\n",
      "test : discordant =>  hypopituitary : f\n",
      "test : discordant =>  TSH measured : t\n",
      "test : discordant =>  TT4 measured : t\n",
      "test : discordant =>  on antithyroid medication : f\n",
      "test : discordant =>  sick : f\n",
      "yield : loss =>  pregnant : f\n",
      "yield : loss =>  thyroid surgery : f\n",
      "yield : gain =>  lithium : f\n",
      "yield : loss =>  lithium : f\n",
      "yield : gain =>  goitre : f\n",
      "yield : loss =>  goitre : f\n",
      "yield : loss =>  tumor : f\n",
      "yield : gain =>  hypopituitary : f\n",
      "yield : loss =>  hypopituitary : f\n",
      "yield : loss =>  on antithyroid medication : f\n"
     ]
    }
   ],
   "source": [
    "for column in train_data.columns[train_data.dtypes == np.object]:\n",
    "    for column2 in train_data.columns[train_data.dtypes == np.object]:\n",
    "        if train_data[column].unique().size < 4 and train_data[column2].unique().size < 4 and column != column2:\n",
    "            ctab = pd.crosstab(index=train_data[column], columns=train_data[column2], normalize='index')\n",
    "            non_uniform = False\n",
    "            for col in ctab.columns:\n",
    "                vals = [ctab[col][a] for a in range(ctab.shape[0])]\n",
    "                for i in range(len(vals)):\n",
    "                    if vals[i] == 1:\n",
    "                        print(column,\":\", ctab.index[i], '=> ', column2,\":\", col)\n",
    "                        "
   ]
  },
  {
   "cell_type": "markdown",
   "metadata": {},
   "source": [
    "\n",
    "TSH > : pregnancy: t\n",
    "TSH > : test: discordnant"
   ]
  },
  {
   "cell_type": "code",
   "execution_count": 61,
   "metadata": {},
   "outputs": [
    {
     "name": "stdout",
     "output_type": "stream",
     "text": [
      "age - T3  correlation:  -0.23759622820777374\n",
      "age - birth_year  correlation:  -0.9997666326414965\n",
      "TSH - T3  correlation:  -0.2824584252547181\n",
      "TSH - TT4  correlation:  -0.4291833961511919\n",
      "TSH - FTI  correlation:  -0.5003205690820943\n",
      "T3 - TT4  correlation:  0.5155749162780211\n",
      "T3 - T4U  correlation:  0.4116043764657349\n",
      "T3 - FTI  correlation:  0.3102557931742341\n",
      "T3 - birth_year  correlation:  0.23756544799200635\n",
      "TT4 - T4U  correlation:  0.4587430487707161\n",
      "TT4 - FTI  correlation:  0.8052847450996369\n"
     ]
    },
    {
     "data": {
      "text/plain": [
       "<matplotlib.axes._subplots.AxesSubplot at 0x1534cd784a8>"
      ]
     },
     "execution_count": 61,
     "metadata": {},
     "output_type": "execute_result"
    },
    {
     "data": {
      "image/png": "[encoded data removed]",
      "text/plain": [
       "<matplotlib.figure.Figure at 0x1534a70ccf8>"
      ]
     },
     "metadata": {},
     "output_type": "display_data"
    }
   ],
   "source": [
    "for i in range(train_data.shape[1]):\n",
    "    if np.issubdtype(train_data[train_data.columns[i]].dtype, np.number):\n",
    "        for i2 in range(i, train_data.shape[1]):\n",
    "            if np.issubdtype(train_data[train_data.columns[i2]].dtype, np.number):\n",
    "                corr = train_data[train_data.columns[i]].corr(train_data[train_data.columns[i2]])\n",
    "                if (corr > 0.2 or corr < -0.2) and train_data.columns[i] != train_data.columns[i2]:\n",
    "                    print(train_data.columns[i], \"-\", train_data.columns[i2], \" correlation: \", train_data[train_data.columns[i]].corr(train_data[train_data.columns[i2]]))\n",
    "\n",
    "corr = train_data.corr()\n",
    "seaborn.heatmap(abs(corr), \n",
    "            xticklabels=corr.columns.values,\n",
    "            yticklabels=corr.columns.values)"
   ]
  }
 ],
 "metadata": {
  "kernelspec": {
   "display_name": "Python 3",
   "language": "python",
   "name": "python3"
  },
  "language_info": {
   "codemirror_mode": {
    "name": "ipython",
    "version": 3
   },
   "file_extension": ".py",
   "mimetype": "text/x-python",
   "name": "python",
   "nbconvert_exporter": "python",
   "pygments_lexer": "ipython3",
   "version": "3.6.4"
  }
 },
 "nbformat": 4,
 "nbformat_minor": 2
}
