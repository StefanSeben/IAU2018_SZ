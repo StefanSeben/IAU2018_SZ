{
 "cells": [
  {
   "cell_type": "code",
   "execution_count": 17,
   "metadata": {},
   "outputs": [],
   "source": [
    "# data analysis and wrangling\n",
    "import pandas as pd\n",
    "import numpy as np\n",
    "import random as rnd\n",
    "\n",
    "# visualization\n",
    "import seaborn as sns\n",
    "import matplotlib.pyplot as plt\n",
    "%matplotlib inline"
   ]
  },
  {
   "cell_type": "code",
   "execution_count": 18,
   "metadata": {},
   "outputs": [
    {
     "data": {
      "text/html": [
       "<div>\n",
       "<style scoped>\n",
       "    .dataframe tbody tr th:only-of-type {\n",
       "        vertical-align: middle;\n",
       "    }\n",
       "\n",
       "    .dataframe tbody tr th {\n",
       "        vertical-align: top;\n",
       "    }\n",
       "\n",
       "    .dataframe thead th {\n",
       "        text-align: right;\n",
       "    }\n",
       "</style>\n",
       "<table border=\"1\" class=\"dataframe\">\n",
       "  <thead>\n",
       "    <tr style=\"text-align: right;\">\n",
       "      <th></th>\n",
       "      <th>Unnamed: 0</th>\n",
       "      <th>age</th>\n",
       "      <th>on thyroxine</th>\n",
       "      <th>query on thyroxine</th>\n",
       "      <th>pregnant</th>\n",
       "      <th>thyroid surgery</th>\n",
       "      <th>I131 treatment</th>\n",
       "      <th>lithium</th>\n",
       "      <th>goitre</th>\n",
       "      <th>tumor</th>\n",
       "      <th>...</th>\n",
       "      <th>marital-status</th>\n",
       "      <th>occupation</th>\n",
       "      <th>relationship</th>\n",
       "      <th>race</th>\n",
       "      <th>capital-gain</th>\n",
       "      <th>capital-loss</th>\n",
       "      <th>hours-per-week</th>\n",
       "      <th>native-country</th>\n",
       "      <th>date_of_birth</th>\n",
       "      <th>medical_info</th>\n",
       "    </tr>\n",
       "  </thead>\n",
       "  <tbody>\n",
       "    <tr>\n",
       "      <th>0</th>\n",
       "      <td>0</td>\n",
       "      <td>82.0</td>\n",
       "      <td>f</td>\n",
       "      <td>f</td>\n",
       "      <td>f</td>\n",
       "      <td>f</td>\n",
       "      <td>f</td>\n",
       "      <td>f</td>\n",
       "      <td>f</td>\n",
       "      <td>f</td>\n",
       "      <td>...</td>\n",
       "      <td>Married-civ-spouse</td>\n",
       "      <td>Protective-serv</td>\n",
       "      <td>Husband</td>\n",
       "      <td>White</td>\n",
       "      <td>0</td>\n",
       "      <td>0</td>\n",
       "      <td>40</td>\n",
       "      <td>United-States</td>\n",
       "      <td>1935-05-20 00:00:00</td>\n",
       "      <td>{'TSH measured':'t','sex':'M','query hyperthyr...</td>\n",
       "    </tr>\n",
       "    <tr>\n",
       "      <th>1</th>\n",
       "      <td>1</td>\n",
       "      <td>50.0</td>\n",
       "      <td>f</td>\n",
       "      <td>f</td>\n",
       "      <td>f</td>\n",
       "      <td>t</td>\n",
       "      <td>f</td>\n",
       "      <td>f</td>\n",
       "      <td>f</td>\n",
       "      <td>f</td>\n",
       "      <td>...</td>\n",
       "      <td>Divorced</td>\n",
       "      <td>Prof-specialty</td>\n",
       "      <td>Unmarried</td>\n",
       "      <td>White</td>\n",
       "      <td>0</td>\n",
       "      <td>0</td>\n",
       "      <td>35</td>\n",
       "      <td>United-States</td>\n",
       "      <td>67-08-03</td>\n",
       "      <td>{'TSH measured':'t','sex':'F','query hyperthyr...</td>\n",
       "    </tr>\n",
       "    <tr>\n",
       "      <th>2</th>\n",
       "      <td>2</td>\n",
       "      <td>41.0</td>\n",
       "      <td>f</td>\n",
       "      <td>f</td>\n",
       "      <td>f</td>\n",
       "      <td>f</td>\n",
       "      <td>f</td>\n",
       "      <td>f</td>\n",
       "      <td>f</td>\n",
       "      <td>f</td>\n",
       "      <td>...</td>\n",
       "      <td>Widowed</td>\n",
       "      <td>Farming-fishing</td>\n",
       "      <td>Unmarried</td>\n",
       "      <td>White</td>\n",
       "      <td>0</td>\n",
       "      <td>0</td>\n",
       "      <td>50</td>\n",
       "      <td>United-States</td>\n",
       "      <td>1976-05-02</td>\n",
       "      <td>{'TSH measured':'f','sex':'F','query hyperthyr...</td>\n",
       "    </tr>\n",
       "    <tr>\n",
       "      <th>3</th>\n",
       "      <td>3</td>\n",
       "      <td>73.0</td>\n",
       "      <td>f</td>\n",
       "      <td>f</td>\n",
       "      <td>f</td>\n",
       "      <td>f</td>\n",
       "      <td>f</td>\n",
       "      <td>f</td>\n",
       "      <td>f</td>\n",
       "      <td>f</td>\n",
       "      <td>...</td>\n",
       "      <td>Married-civ-spouse</td>\n",
       "      <td>Adm-clerical</td>\n",
       "      <td>Wife</td>\n",
       "      <td>White</td>\n",
       "      <td>0</td>\n",
       "      <td>0</td>\n",
       "      <td>25</td>\n",
       "      <td>United-States</td>\n",
       "      <td>44-10-08</td>\n",
       "      <td>{'TSH measured':'t','sex':'F','query hyperthyr...</td>\n",
       "    </tr>\n",
       "    <tr>\n",
       "      <th>4</th>\n",
       "      <td>4</td>\n",
       "      <td>64.0</td>\n",
       "      <td>f</td>\n",
       "      <td>f</td>\n",
       "      <td>f</td>\n",
       "      <td>f</td>\n",
       "      <td>f</td>\n",
       "      <td>f</td>\n",
       "      <td>f</td>\n",
       "      <td>f</td>\n",
       "      <td>...</td>\n",
       "      <td>Married-civ-spouse</td>\n",
       "      <td>Sales</td>\n",
       "      <td>Husband</td>\n",
       "      <td>White</td>\n",
       "      <td>0</td>\n",
       "      <td>0</td>\n",
       "      <td>60</td>\n",
       "      <td>United-States</td>\n",
       "      <td>1953-05-01</td>\n",
       "      <td>{'TSH measured':'t','sex':'M','query hyperthyr...</td>\n",
       "    </tr>\n",
       "  </tbody>\n",
       "</table>\n",
       "<p>5 rows × 35 columns</p>\n",
       "</div>"
      ],
      "text/plain": [
       "   Unnamed: 0   age on thyroxine query on thyroxine pregnant thyroid surgery  \\\n",
       "0           0  82.0            f                  f        f               f   \n",
       "1           1  50.0            f                  f        f               t   \n",
       "2           2  41.0            f                  f        f               f   \n",
       "3           3  73.0            f                  f        f               f   \n",
       "4           4  64.0            f                  f        f               f   \n",
       "\n",
       "  I131 treatment lithium goitre tumor  \\\n",
       "0              f       f      f     f   \n",
       "1              f       f      f     f   \n",
       "2              f       f      f     f   \n",
       "3              f       f      f     f   \n",
       "4              f       f      f     f   \n",
       "\n",
       "                         ...                               marital-status  \\\n",
       "0                        ...                           Married-civ-spouse   \n",
       "1                        ...                                     Divorced   \n",
       "2                        ...                                      Widowed   \n",
       "3                        ...                           Married-civ-spouse   \n",
       "4                        ...                           Married-civ-spouse   \n",
       "\n",
       "         occupation relationship    race capital-gain  capital-loss  \\\n",
       "0   Protective-serv      Husband   White            0             0   \n",
       "1    Prof-specialty    Unmarried   White            0             0   \n",
       "2   Farming-fishing    Unmarried   White            0             0   \n",
       "3      Adm-clerical         Wife   White            0             0   \n",
       "4             Sales      Husband   White            0             0   \n",
       "\n",
       "  hours-per-week  native-country        date_of_birth  \\\n",
       "0             40   United-States  1935-05-20 00:00:00   \n",
       "1             35   United-States             67-08-03   \n",
       "2             50   United-States           1976-05-02   \n",
       "3             25   United-States             44-10-08   \n",
       "4             60   United-States           1953-05-01   \n",
       "\n",
       "                                        medical_info  \n",
       "0  {'TSH measured':'t','sex':'M','query hyperthyr...  \n",
       "1  {'TSH measured':'t','sex':'F','query hyperthyr...  \n",
       "2  {'TSH measured':'f','sex':'F','query hyperthyr...  \n",
       "3  {'TSH measured':'t','sex':'F','query hyperthyr...  \n",
       "4  {'TSH measured':'t','sex':'M','query hyperthyr...  \n",
       "\n",
       "[5 rows x 35 columns]"
      ]
     },
     "execution_count": 18,
     "metadata": {},
     "output_type": "execute_result"
    }
   ],
   "source": [
    "train_data = pd.read_csv('data/train.csv')\n",
    "train_data.head()"
   ]
  },
  {
   "cell_type": "code",
   "execution_count": null,
   "metadata": {},
   "outputs": [],
   "source": [
    "train_data[train_data.duplicated(subset='Unnamed: 0')].size"
   ]
  },
  {
   "cell_type": "code",
   "execution_count": 19,
   "metadata": {},
   "outputs": [
    {
     "data": {
      "text/html": [
       "<div>\n",
       "<style scoped>\n",
       "    .dataframe tbody tr th:only-of-type {\n",
       "        vertical-align: middle;\n",
       "    }\n",
       "\n",
       "    .dataframe tbody tr th {\n",
       "        vertical-align: top;\n",
       "    }\n",
       "\n",
       "    .dataframe thead th {\n",
       "        text-align: right;\n",
       "    }\n",
       "</style>\n",
       "<table border=\"1\" class=\"dataframe\">\n",
       "  <thead>\n",
       "    <tr style=\"text-align: right;\">\n",
       "      <th>id</th>\n",
       "      <th>age</th>\n",
       "      <th>on thyroxine</th>\n",
       "      <th>query on thyroxine</th>\n",
       "      <th>pregnant</th>\n",
       "      <th>thyroid surgery</th>\n",
       "      <th>I131 treatment</th>\n",
       "      <th>lithium</th>\n",
       "      <th>goitre</th>\n",
       "      <th>tumor</th>\n",
       "      <th>hypopituitary</th>\n",
       "      <th>...</th>\n",
       "      <th>marital-status</th>\n",
       "      <th>occupation</th>\n",
       "      <th>relationship</th>\n",
       "      <th>race</th>\n",
       "      <th>capital-gain</th>\n",
       "      <th>capital-loss</th>\n",
       "      <th>hours-per-week</th>\n",
       "      <th>native-country</th>\n",
       "      <th>date_of_birth</th>\n",
       "      <th>medical_info</th>\n",
       "    </tr>\n",
       "    <tr>\n",
       "      <th>id</th>\n",
       "      <th></th>\n",
       "      <th></th>\n",
       "      <th></th>\n",
       "      <th></th>\n",
       "      <th></th>\n",
       "      <th></th>\n",
       "      <th></th>\n",
       "      <th></th>\n",
       "      <th></th>\n",
       "      <th></th>\n",
       "      <th></th>\n",
       "      <th></th>\n",
       "      <th></th>\n",
       "      <th></th>\n",
       "      <th></th>\n",
       "      <th></th>\n",
       "      <th></th>\n",
       "      <th></th>\n",
       "      <th></th>\n",
       "      <th></th>\n",
       "      <th></th>\n",
       "    </tr>\n",
       "  </thead>\n",
       "  <tbody>\n",
       "    <tr>\n",
       "      <th>0</th>\n",
       "      <td>82.0</td>\n",
       "      <td>f</td>\n",
       "      <td>f</td>\n",
       "      <td>f</td>\n",
       "      <td>f</td>\n",
       "      <td>f</td>\n",
       "      <td>f</td>\n",
       "      <td>f</td>\n",
       "      <td>f</td>\n",
       "      <td>f</td>\n",
       "      <td>...</td>\n",
       "      <td>Married-civ-spouse</td>\n",
       "      <td>Protective-serv</td>\n",
       "      <td>Husband</td>\n",
       "      <td>White</td>\n",
       "      <td>0</td>\n",
       "      <td>0</td>\n",
       "      <td>40</td>\n",
       "      <td>United-States</td>\n",
       "      <td>1935-05-20 00:00:00</td>\n",
       "      <td>{'TSH measured':'t','sex':'M','query hyperthyr...</td>\n",
       "    </tr>\n",
       "    <tr>\n",
       "      <th>1</th>\n",
       "      <td>50.0</td>\n",
       "      <td>f</td>\n",
       "      <td>f</td>\n",
       "      <td>f</td>\n",
       "      <td>t</td>\n",
       "      <td>f</td>\n",
       "      <td>f</td>\n",
       "      <td>f</td>\n",
       "      <td>f</td>\n",
       "      <td>f</td>\n",
       "      <td>...</td>\n",
       "      <td>Divorced</td>\n",
       "      <td>Prof-specialty</td>\n",
       "      <td>Unmarried</td>\n",
       "      <td>White</td>\n",
       "      <td>0</td>\n",
       "      <td>0</td>\n",
       "      <td>35</td>\n",
       "      <td>United-States</td>\n",
       "      <td>67-08-03</td>\n",
       "      <td>{'TSH measured':'t','sex':'F','query hyperthyr...</td>\n",
       "    </tr>\n",
       "    <tr>\n",
       "      <th>2</th>\n",
       "      <td>41.0</td>\n",
       "      <td>f</td>\n",
       "      <td>f</td>\n",
       "      <td>f</td>\n",
       "      <td>f</td>\n",
       "      <td>f</td>\n",
       "      <td>f</td>\n",
       "      <td>f</td>\n",
       "      <td>f</td>\n",
       "      <td>f</td>\n",
       "      <td>...</td>\n",
       "      <td>Widowed</td>\n",
       "      <td>Farming-fishing</td>\n",
       "      <td>Unmarried</td>\n",
       "      <td>White</td>\n",
       "      <td>0</td>\n",
       "      <td>0</td>\n",
       "      <td>50</td>\n",
       "      <td>United-States</td>\n",
       "      <td>1976-05-02</td>\n",
       "      <td>{'TSH measured':'f','sex':'F','query hyperthyr...</td>\n",
       "    </tr>\n",
       "    <tr>\n",
       "      <th>3</th>\n",
       "      <td>73.0</td>\n",
       "      <td>f</td>\n",
       "      <td>f</td>\n",
       "      <td>f</td>\n",
       "      <td>f</td>\n",
       "      <td>f</td>\n",
       "      <td>f</td>\n",
       "      <td>f</td>\n",
       "      <td>f</td>\n",
       "      <td>f</td>\n",
       "      <td>...</td>\n",
       "      <td>Married-civ-spouse</td>\n",
       "      <td>Adm-clerical</td>\n",
       "      <td>Wife</td>\n",
       "      <td>White</td>\n",
       "      <td>0</td>\n",
       "      <td>0</td>\n",
       "      <td>25</td>\n",
       "      <td>United-States</td>\n",
       "      <td>44-10-08</td>\n",
       "      <td>{'TSH measured':'t','sex':'F','query hyperthyr...</td>\n",
       "    </tr>\n",
       "    <tr>\n",
       "      <th>4</th>\n",
       "      <td>64.0</td>\n",
       "      <td>f</td>\n",
       "      <td>f</td>\n",
       "      <td>f</td>\n",
       "      <td>f</td>\n",
       "      <td>f</td>\n",
       "      <td>f</td>\n",
       "      <td>f</td>\n",
       "      <td>f</td>\n",
       "      <td>f</td>\n",
       "      <td>...</td>\n",
       "      <td>Married-civ-spouse</td>\n",
       "      <td>Sales</td>\n",
       "      <td>Husband</td>\n",
       "      <td>White</td>\n",
       "      <td>0</td>\n",
       "      <td>0</td>\n",
       "      <td>60</td>\n",
       "      <td>United-States</td>\n",
       "      <td>1953-05-01</td>\n",
       "      <td>{'TSH measured':'t','sex':'M','query hyperthyr...</td>\n",
       "    </tr>\n",
       "  </tbody>\n",
       "</table>\n",
       "<p>5 rows × 34 columns</p>\n",
       "</div>"
      ],
      "text/plain": [
       "id   age on thyroxine query on thyroxine pregnant thyroid surgery  \\\n",
       "id                                                                  \n",
       "0   82.0            f                  f        f               f   \n",
       "1   50.0            f                  f        f               t   \n",
       "2   41.0            f                  f        f               f   \n",
       "3   73.0            f                  f        f               f   \n",
       "4   64.0            f                  f        f               f   \n",
       "\n",
       "id I131 treatment lithium goitre tumor hypopituitary  \\\n",
       "id                                                     \n",
       "0               f       f      f     f             f   \n",
       "1               f       f      f     f             f   \n",
       "2               f       f      f     f             f   \n",
       "3               f       f      f     f             f   \n",
       "4               f       f      f     f             f   \n",
       "\n",
       "id                        ...                               marital-status  \\\n",
       "id                        ...                                                \n",
       "0                         ...                           Married-civ-spouse   \n",
       "1                         ...                                     Divorced   \n",
       "2                         ...                                      Widowed   \n",
       "3                         ...                           Married-civ-spouse   \n",
       "4                         ...                           Married-civ-spouse   \n",
       "\n",
       "id        occupation  relationship    race  capital-gain capital-loss  \\\n",
       "id                                                                      \n",
       "0    Protective-serv       Husband   White             0            0   \n",
       "1     Prof-specialty     Unmarried   White             0            0   \n",
       "2    Farming-fishing     Unmarried   White             0            0   \n",
       "3       Adm-clerical          Wife   White             0            0   \n",
       "4              Sales       Husband   White             0            0   \n",
       "\n",
       "id hours-per-week  native-country        date_of_birth  \\\n",
       "id                                                       \n",
       "0              40   United-States  1935-05-20 00:00:00   \n",
       "1              35   United-States             67-08-03   \n",
       "2              50   United-States           1976-05-02   \n",
       "3              25   United-States             44-10-08   \n",
       "4              60   United-States           1953-05-01   \n",
       "\n",
       "id                                       medical_info  \n",
       "id                                                     \n",
       "0   {'TSH measured':'t','sex':'M','query hyperthyr...  \n",
       "1   {'TSH measured':'t','sex':'F','query hyperthyr...  \n",
       "2   {'TSH measured':'f','sex':'F','query hyperthyr...  \n",
       "3   {'TSH measured':'t','sex':'F','query hyperthyr...  \n",
       "4   {'TSH measured':'t','sex':'M','query hyperthyr...  \n",
       "\n",
       "[5 rows x 34 columns]"
      ]
     },
     "execution_count": 19,
     "metadata": {},
     "output_type": "execute_result"
    }
   ],
   "source": [
    "train_data = train_data.set_index('Unnamed: 0')\n",
    "train_data.columns.names = ['id']\n",
    "train_data.index.names = ['id']\n",
    "train_data.head()"
   ]
  },
  {
   "cell_type": "code",
   "execution_count": 306,
   "metadata": {},
   "outputs": [
    {
     "data": {
      "text/plain": [
       "(2800, 34)"
      ]
     },
     "execution_count": 306,
     "metadata": {},
     "output_type": "execute_result"
    }
   ],
   "source": [
    "train_data.shape"
   ]
  },
  {
   "cell_type": "code",
   "execution_count": 307,
   "metadata": {},
   "outputs": [
    {
     "name": "stdout",
     "output_type": "stream",
     "text": [
      "<class 'pandas.core.frame.DataFrame'>\n",
      "Int64Index: 2800 entries, 0 to 2799\n",
      "Data columns (total 34 columns):\n",
      "age                   2519 non-null float64\n",
      "on thyroxine          2800 non-null object\n",
      "query on thyroxine    2800 non-null object\n",
      "pregnant              2800 non-null object\n",
      "thyroid surgery       2800 non-null object\n",
      "I131 treatment        2800 non-null object\n",
      "lithium               2800 non-null object\n",
      "goitre                2800 non-null object\n",
      "tumor                 2800 non-null object\n",
      "hypopituitary         2800 non-null object\n",
      "TSH                   2516 non-null float64\n",
      "T3 measured           2800 non-null object\n",
      "T3                    2215 non-null float64\n",
      "TT4                   2451 non-null object\n",
      "T4U                   2503 non-null float64\n",
      "FTI measured          2800 non-null object\n",
      "TBG measured          2800 non-null object\n",
      "TBG                   2800 non-null object\n",
      "referral source       2800 non-null object\n",
      "class                 2800 non-null object\n",
      "workclass             2800 non-null object\n",
      "fnlwgt                2800 non-null int64\n",
      "education             2800 non-null object\n",
      "education-num         2800 non-null int64\n",
      "marital-status        2800 non-null object\n",
      "occupation            2800 non-null object\n",
      "relationship          2800 non-null object\n",
      "race                  2800 non-null object\n",
      "capital-gain          2800 non-null int64\n",
      "capital-loss          2800 non-null int64\n",
      "hours-per-week        2800 non-null int64\n",
      "native-country        2800 non-null object\n",
      "date_of_birth         2799 non-null object\n",
      "medical_info          2800 non-null object\n",
      "dtypes: float64(4), int64(5), object(25)\n",
      "memory usage: 765.6+ KB\n"
     ]
    }
   ],
   "source": [
    "train_data.info()"
   ]
  },
  {
   "cell_type": "code",
   "execution_count": 309,
   "metadata": {},
   "outputs": [
    {
     "data": {
      "text/html": [
       "<div>\n",
       "<style scoped>\n",
       "    .dataframe tbody tr th:only-of-type {\n",
       "        vertical-align: middle;\n",
       "    }\n",
       "\n",
       "    .dataframe tbody tr th {\n",
       "        vertical-align: top;\n",
       "    }\n",
       "\n",
       "    .dataframe thead th {\n",
       "        text-align: right;\n",
       "    }\n",
       "</style>\n",
       "<table border=\"1\" class=\"dataframe\">\n",
       "  <thead>\n",
       "    <tr style=\"text-align: right;\">\n",
       "      <th>id</th>\n",
       "      <th>on thyroxine</th>\n",
       "      <th>query on thyroxine</th>\n",
       "      <th>pregnant</th>\n",
       "      <th>thyroid surgery</th>\n",
       "      <th>I131 treatment</th>\n",
       "      <th>lithium</th>\n",
       "      <th>goitre</th>\n",
       "      <th>tumor</th>\n",
       "      <th>hypopituitary</th>\n",
       "      <th>T3 measured</th>\n",
       "      <th>...</th>\n",
       "      <th>class</th>\n",
       "      <th>workclass</th>\n",
       "      <th>education</th>\n",
       "      <th>marital-status</th>\n",
       "      <th>occupation</th>\n",
       "      <th>relationship</th>\n",
       "      <th>race</th>\n",
       "      <th>native-country</th>\n",
       "      <th>date_of_birth</th>\n",
       "      <th>medical_info</th>\n",
       "    </tr>\n",
       "  </thead>\n",
       "  <tbody>\n",
       "    <tr>\n",
       "      <th>count</th>\n",
       "      <td>2800</td>\n",
       "      <td>2800</td>\n",
       "      <td>2800</td>\n",
       "      <td>2800</td>\n",
       "      <td>2800</td>\n",
       "      <td>2800</td>\n",
       "      <td>2800</td>\n",
       "      <td>2800</td>\n",
       "      <td>2800</td>\n",
       "      <td>2800</td>\n",
       "      <td>...</td>\n",
       "      <td>2800</td>\n",
       "      <td>2800</td>\n",
       "      <td>2800</td>\n",
       "      <td>2800</td>\n",
       "      <td>2800</td>\n",
       "      <td>2800</td>\n",
       "      <td>2800</td>\n",
       "      <td>2800</td>\n",
       "      <td>2799</td>\n",
       "      <td>2800</td>\n",
       "    </tr>\n",
       "    <tr>\n",
       "      <th>unique</th>\n",
       "      <td>6</td>\n",
       "      <td>2</td>\n",
       "      <td>2</td>\n",
       "      <td>2</td>\n",
       "      <td>2</td>\n",
       "      <td>2</td>\n",
       "      <td>2</td>\n",
       "      <td>2</td>\n",
       "      <td>2</td>\n",
       "      <td>2</td>\n",
       "      <td>...</td>\n",
       "      <td>2800</td>\n",
       "      <td>14</td>\n",
       "      <td>16</td>\n",
       "      <td>7</td>\n",
       "      <td>26</td>\n",
       "      <td>6</td>\n",
       "      <td>5</td>\n",
       "      <td>38</td>\n",
       "      <td>2721</td>\n",
       "      <td>871</td>\n",
       "    </tr>\n",
       "    <tr>\n",
       "      <th>top</th>\n",
       "      <td>f</td>\n",
       "      <td>f</td>\n",
       "      <td>f</td>\n",
       "      <td>f</td>\n",
       "      <td>f</td>\n",
       "      <td>f</td>\n",
       "      <td>f</td>\n",
       "      <td>f</td>\n",
       "      <td>f</td>\n",
       "      <td>t</td>\n",
       "      <td>...</td>\n",
       "      <td>negative.|3050</td>\n",
       "      <td>Private</td>\n",
       "      <td>HS-grad</td>\n",
       "      <td>Never-married</td>\n",
       "      <td>Adm-clerical</td>\n",
       "      <td>Not-in-family</td>\n",
       "      <td>White</td>\n",
       "      <td>United-States</td>\n",
       "      <td>1953-02-28</td>\n",
       "      <td>{'TSH measured':'f','sex':'F','query hyperthyr...</td>\n",
       "    </tr>\n",
       "    <tr>\n",
       "      <th>freq</th>\n",
       "      <td>2223</td>\n",
       "      <td>2760</td>\n",
       "      <td>2759</td>\n",
       "      <td>2761</td>\n",
       "      <td>2752</td>\n",
       "      <td>2786</td>\n",
       "      <td>2775</td>\n",
       "      <td>2729</td>\n",
       "      <td>2799</td>\n",
       "      <td>2215</td>\n",
       "      <td>...</td>\n",
       "      <td>1</td>\n",
       "      <td>1774</td>\n",
       "      <td>879</td>\n",
       "      <td>1118</td>\n",
       "      <td>449</td>\n",
       "      <td>899</td>\n",
       "      <td>2318</td>\n",
       "      <td>2493</td>\n",
       "      <td>3</td>\n",
       "      <td>104</td>\n",
       "    </tr>\n",
       "  </tbody>\n",
       "</table>\n",
       "<p>4 rows × 25 columns</p>\n",
       "</div>"
      ],
      "text/plain": [
       "id     on thyroxine query on thyroxine pregnant thyroid surgery  \\\n",
       "count          2800               2800     2800            2800   \n",
       "unique            6                  2        2               2   \n",
       "top               f                  f        f               f   \n",
       "freq           2223               2760     2759            2761   \n",
       "\n",
       "id     I131 treatment lithium goitre tumor hypopituitary T3 measured  \\\n",
       "count            2800    2800   2800  2800          2800        2800   \n",
       "unique              2       2      2     2             2           2   \n",
       "top                 f       f      f     f             f           t   \n",
       "freq             2752    2786   2775  2729          2799        2215   \n",
       "\n",
       "id                            ...                                   class  \\\n",
       "count                         ...                                    2800   \n",
       "unique                        ...                                    2800   \n",
       "top                           ...                          negative.|3050   \n",
       "freq                          ...                                       1   \n",
       "\n",
       "id     workclass education  marital-status     occupation    relationship  \\\n",
       "count       2800      2800            2800           2800            2800   \n",
       "unique        14        16               7             26               6   \n",
       "top      Private   HS-grad   Never-married   Adm-clerical   Not-in-family   \n",
       "freq        1774       879            1118            449             899   \n",
       "\n",
       "id        race  native-country date_of_birth  \\\n",
       "count     2800            2800          2799   \n",
       "unique       5              38          2721   \n",
       "top      White   United-States    1953-02-28   \n",
       "freq      2318            2493             3   \n",
       "\n",
       "id                                           medical_info  \n",
       "count                                                2800  \n",
       "unique                                                871  \n",
       "top     {'TSH measured':'f','sex':'F','query hyperthyr...  \n",
       "freq                                                  104  \n",
       "\n",
       "[4 rows x 25 columns]"
      ]
     },
     "execution_count": 309,
     "metadata": {},
     "output_type": "execute_result"
    }
   ],
   "source": [
    "train_data.describe(include=['O'])"
   ]
  },
  {
   "cell_type": "code",
   "execution_count": 267,
   "metadata": {},
   "outputs": [
    {
     "name": "stdout",
     "output_type": "stream",
     "text": [
      "on thyroxine :\n",
      "   |f\n",
      "   |F\n",
      "   |FALSE\n",
      "   |t\n",
      "   |TRUE\n",
      "   |T\n",
      "\n",
      "query on thyroxine :\n",
      "   |f\n",
      "   |t\n",
      "\n",
      "pregnant :\n",
      "   |f\n",
      "   |t\n",
      "\n",
      "thyroid surgery :\n",
      "   |f\n",
      "   |t\n",
      "\n",
      "I131 treatment :\n",
      "   |f\n",
      "   |t\n",
      "\n",
      "lithium :\n",
      "   |f\n",
      "   |t\n",
      "\n",
      "goitre :\n",
      "   |f\n",
      "   |t\n",
      "\n",
      "tumor :\n",
      "   |f\n",
      "   |t\n",
      "\n",
      "hypopituitary :\n",
      "   |f\n",
      "   |t\n",
      "\n",
      "T3 measured :\n",
      "   |t\n",
      "   |f\n",
      "\n",
      "FTI measured :\n",
      "   |t\n",
      "   |f\n",
      "\n",
      "TBG measured :\n",
      "   |f\n",
      "\n",
      "TBG :\n",
      "   |?\n",
      "\n",
      "referral source :\n",
      "   |SVI\n",
      "   |other\n",
      "   |SVHC\n",
      "   |STMW\n",
      "   |SVHD\n",
      "\n",
      "workclass :\n",
      "   | Local-gov\n",
      "   | Self-emp-not-inc\n",
      "   |private\n",
      "   | Self-emp-inc\n",
      "   | Private\n",
      "   | ?\n",
      "   | State-gov\n",
      "   |federal-gov\n",
      "   |local-gov\n",
      "   | Federal-gov\n",
      "   |self-emp-not-inc\n",
      "   |?\n",
      "   |self-emp-inc\n",
      "   |state-gov\n",
      "\n",
      "education :\n",
      "   | Assoc-voc\n",
      "   | Bachelors\n",
      "   | Some-college\n",
      "   | HS-grad\n",
      "   | 11th\n",
      "   | Assoc-acdm\n",
      "   | 12th\n",
      "   | 10th\n",
      "   | Masters\n",
      "   | 9th\n",
      "   | 7th-8th\n",
      "   | Preschool\n",
      "   | Prof-school\n",
      "   | 1st-4th\n",
      "   | Doctorate\n",
      "   | 5th-6th\n",
      "\n",
      "marital-status :\n",
      "   | Married-civ-spouse\n",
      "   | Divorced\n",
      "   | Widowed\n",
      "   | Never-married\n",
      "   | Separated\n",
      "   | Married-spouse-absent\n",
      "   | Married-AF-spouse\n",
      "\n",
      "occupation :\n",
      "   | Protective-serv\n",
      "   | Prof-specialty\n",
      "   | Farming-fishing\n",
      "   | Adm-clerical\n",
      "   | Sales\n",
      "   | Other-service\n",
      "   | Exec-managerial\n",
      "   | Craft-repair\n",
      "   | ?\n",
      "   | Machine-op-inspct\n",
      "   | Transport-moving\n",
      "   | Tech-support\n",
      "   | Handlers-cleaners\n",
      "   | Machine_op_inspct\n",
      "   | Prof_specialty\n",
      "   | Tech_support\n",
      "   | Other_service\n",
      "   | Priv-house-serv\n",
      "   | Craft_repair\n",
      "   | Adm_clerical\n",
      "   | Exec_managerial\n",
      "   | Priv_house_serv\n",
      "   | Protective_serv\n",
      "   | Transport_moving\n",
      "   | Handlers_cleaners\n",
      "   | Farming_fishing\n",
      "\n",
      "relationship :\n",
      "   | Husband\n",
      "   | Unmarried\n",
      "   | Wife\n",
      "   | Other-relative\n",
      "   | Not-in-family\n",
      "   | Own-child\n",
      "\n",
      "race :\n",
      "   | White\n",
      "   | Black\n",
      "   | Amer-Indian-Eskimo\n",
      "   | Asian-Pac-Islander\n",
      "   | Other\n",
      "\n",
      "native-country :\n",
      "   | United-States\n",
      "   | ?\n",
      "   | Germany\n",
      "   | Mexico\n",
      "   | China\n",
      "   | Canada\n",
      "   | Haiti\n",
      "   | Vietnam\n",
      "   | Puerto-Rico\n",
      "   | Guatemala\n",
      "   | France\n",
      "   | Scotland\n",
      "   | Peru\n",
      "   | India\n",
      "   | Portugal\n",
      "   | Ireland\n",
      "   | Cambodia\n",
      "   | Poland\n",
      "   | Trinadad&Tobago\n",
      "   | Laos\n",
      "   | El-Salvador\n",
      "   | Thailand\n",
      "   | Philippines\n",
      "   | South\n",
      "   | Jamaica\n",
      "   | Japan\n",
      "   | Cuba\n",
      "   | Columbia\n",
      "   | Iran\n",
      "   | England\n",
      "   | Ecuador\n",
      "   | Greece\n",
      "   | Hong\n",
      "   | Nicaragua\n",
      "   | Dominican-Republic\n",
      "   | Italy\n",
      "   | Taiwan\n",
      "   | Hungary\n",
      "\n"
     ]
    }
   ],
   "source": [
    "for column in train_data.columns[train_data.dtypes == np.object]:\n",
    "    if train_data[column].unique().size < 50:\n",
    "        print(column, ':')\n",
    "        for val in train_data[column].unique():\n",
    "            print ('   |' + val)\n",
    "        print()"
   ]
  },
  {
   "cell_type": "code",
   "execution_count": 268,
   "metadata": {},
   "outputs": [],
   "source": [
    "def diffcount(str1, str2):\n",
    "    return sum(1 for a, b in zip(str1, str2) if a != b)\n"
   ]
  },
  {
   "cell_type": "code",
   "execution_count": 310,
   "metadata": {},
   "outputs": [
    {
     "data": {
      "text/plain": [
       "\"{'TSH measured':'t','sex':'M','query hyperthyroid':'f','TT4 measured':'t','on antithyroid medication':'f','FTI':'88','sick':'f','T4U measured':'t','psych':'f','query hypothyroid':'f'}\""
      ]
     },
     "execution_count": 310,
     "metadata": {},
     "output_type": "execute_result"
    }
   ],
   "source": [
    "train_data['medical_info'][0]"
   ]
  },
  {
   "cell_type": "code",
   "execution_count": 21,
   "metadata": {},
   "outputs": [
    {
     "data": {
      "text/html": [
       "<div>\n",
       "<style scoped>\n",
       "    .dataframe tbody tr th:only-of-type {\n",
       "        vertical-align: middle;\n",
       "    }\n",
       "\n",
       "    .dataframe tbody tr th {\n",
       "        vertical-align: top;\n",
       "    }\n",
       "\n",
       "    .dataframe thead th {\n",
       "        text-align: right;\n",
       "    }\n",
       "</style>\n",
       "<table border=\"1\" class=\"dataframe\">\n",
       "  <thead>\n",
       "    <tr style=\"text-align: right;\">\n",
       "      <th>id</th>\n",
       "      <th>age</th>\n",
       "      <th>TSH</th>\n",
       "      <th>T3</th>\n",
       "      <th>T4U</th>\n",
       "      <th>fnlwgt</th>\n",
       "      <th>education-num</th>\n",
       "      <th>capital-gain</th>\n",
       "      <th>capital-loss</th>\n",
       "      <th>hours-per-week</th>\n",
       "    </tr>\n",
       "  </thead>\n",
       "  <tbody>\n",
       "    <tr>\n",
       "      <th>count</th>\n",
       "      <td>2519.000000</td>\n",
       "      <td>2516.000000</td>\n",
       "      <td>2215.000000</td>\n",
       "      <td>2503.000000</td>\n",
       "      <td>2.800000e+03</td>\n",
       "      <td>2800.000000</td>\n",
       "      <td>2800.000000</td>\n",
       "      <td>2800.000000</td>\n",
       "      <td>2800.000000</td>\n",
       "    </tr>\n",
       "    <tr>\n",
       "      <th>mean</th>\n",
       "      <td>51.793569</td>\n",
       "      <td>4.672150</td>\n",
       "      <td>2.024966</td>\n",
       "      <td>0.997912</td>\n",
       "      <td>1.859808e+05</td>\n",
       "      <td>4.150714</td>\n",
       "      <td>789.960714</td>\n",
       "      <td>75.960357</td>\n",
       "      <td>38.336429</td>\n",
       "    </tr>\n",
       "    <tr>\n",
       "      <th>std</th>\n",
       "      <td>20.541137</td>\n",
       "      <td>21.449453</td>\n",
       "      <td>0.824600</td>\n",
       "      <td>0.194390</td>\n",
       "      <td>1.009371e+05</td>\n",
       "      <td>327.452340</td>\n",
       "      <td>5813.819092</td>\n",
       "      <td>374.218100</td>\n",
       "      <td>11.877622</td>\n",
       "    </tr>\n",
       "    <tr>\n",
       "      <th>min</th>\n",
       "      <td>1.000000</td>\n",
       "      <td>0.005000</td>\n",
       "      <td>0.050000</td>\n",
       "      <td>0.310000</td>\n",
       "      <td>1.939500e+04</td>\n",
       "      <td>-1600.000000</td>\n",
       "      <td>0.000000</td>\n",
       "      <td>0.000000</td>\n",
       "      <td>1.000000</td>\n",
       "    </tr>\n",
       "    <tr>\n",
       "      <th>25%</th>\n",
       "      <td>36.000000</td>\n",
       "      <td>0.440000</td>\n",
       "      <td>1.600000</td>\n",
       "      <td>0.880000</td>\n",
       "      <td>1.185510e+05</td>\n",
       "      <td>9.000000</td>\n",
       "      <td>0.000000</td>\n",
       "      <td>0.000000</td>\n",
       "      <td>35.000000</td>\n",
       "    </tr>\n",
       "    <tr>\n",
       "      <th>50%</th>\n",
       "      <td>54.000000</td>\n",
       "      <td>1.400000</td>\n",
       "      <td>2.000000</td>\n",
       "      <td>0.980000</td>\n",
       "      <td>1.772160e+05</td>\n",
       "      <td>10.000000</td>\n",
       "      <td>0.000000</td>\n",
       "      <td>0.000000</td>\n",
       "      <td>40.000000</td>\n",
       "    </tr>\n",
       "    <tr>\n",
       "      <th>75%</th>\n",
       "      <td>67.000000</td>\n",
       "      <td>2.600000</td>\n",
       "      <td>2.400000</td>\n",
       "      <td>1.080000</td>\n",
       "      <td>2.276065e+05</td>\n",
       "      <td>13.000000</td>\n",
       "      <td>0.000000</td>\n",
       "      <td>0.000000</td>\n",
       "      <td>40.000000</td>\n",
       "    </tr>\n",
       "    <tr>\n",
       "      <th>max</th>\n",
       "      <td>455.000000</td>\n",
       "      <td>478.000000</td>\n",
       "      <td>10.600000</td>\n",
       "      <td>2.120000</td>\n",
       "      <td>1.097453e+06</td>\n",
       "      <td>1500.000000</td>\n",
       "      <td>99999.000000</td>\n",
       "      <td>3683.000000</td>\n",
       "      <td>99.000000</td>\n",
       "    </tr>\n",
       "  </tbody>\n",
       "</table>\n",
       "</div>"
      ],
      "text/plain": [
       "id             age          TSH           T3          T4U        fnlwgt  \\\n",
       "count  2519.000000  2516.000000  2215.000000  2503.000000  2.800000e+03   \n",
       "mean     51.793569     4.672150     2.024966     0.997912  1.859808e+05   \n",
       "std      20.541137    21.449453     0.824600     0.194390  1.009371e+05   \n",
       "min       1.000000     0.005000     0.050000     0.310000  1.939500e+04   \n",
       "25%      36.000000     0.440000     1.600000     0.880000  1.185510e+05   \n",
       "50%      54.000000     1.400000     2.000000     0.980000  1.772160e+05   \n",
       "75%      67.000000     2.600000     2.400000     1.080000  2.276065e+05   \n",
       "max     455.000000   478.000000    10.600000     2.120000  1.097453e+06   \n",
       "\n",
       "id     education-num  capital-gain  capital-loss  hours-per-week  \n",
       "count    2800.000000   2800.000000   2800.000000     2800.000000  \n",
       "mean        4.150714    789.960714     75.960357       38.336429  \n",
       "std       327.452340   5813.819092    374.218100       11.877622  \n",
       "min     -1600.000000      0.000000      0.000000        1.000000  \n",
       "25%         9.000000      0.000000      0.000000       35.000000  \n",
       "50%        10.000000      0.000000      0.000000       40.000000  \n",
       "75%        13.000000      0.000000      0.000000       40.000000  \n",
       "max      1500.000000  99999.000000   3683.000000       99.000000  "
      ]
     },
     "execution_count": 21,
     "metadata": {},
     "output_type": "execute_result"
    }
   ],
   "source": [
    "train_data.describe()"
   ]
  },
  {
   "cell_type": "code",
   "execution_count": 84,
   "metadata": {},
   "outputs": [
    {
     "data": {
      "text/plain": [
       "<matplotlib.axes._subplots.AxesSubplot at 0x1e3d57705c0>"
      ]
     },
     "execution_count": 84,
     "metadata": {},
     "output_type": "execute_result"
    },
    {
     "data": {
      "image/png": "[encoded data removed]",
      "text/plain": [
       "<matplotlib.figure.Figure at 0x1e3d36d5d68>"
      ]
     },
     "metadata": {},
     "output_type": "display_data"
    },
    {
     "data": {
      "image/png": "[encoded data removed]",
      "text/plain": [
       "<matplotlib.figure.Figure at 0x1e3d36a12e8>"
      ]
     },
     "metadata": {},
     "output_type": "display_data"
    },
    {
     "data": {
      "image/png": "[encoded data removed]",
      "text/plain": [
       "<matplotlib.figure.Figure at 0x1e3d1a0f7f0>"
      ]
     },
     "metadata": {},
     "output_type": "display_data"
    }
   ],
   "source": [
    "train_data['age'].plot.box()\n",
    "plt.figure();\n",
    "train_data['age'].hist(bins=100)\n",
    "plt.figure();\n",
    "train_data['age'].hist(bins=100, range=(0,100))"
   ]
  },
  {
   "cell_type": "code",
   "execution_count": 92,
   "metadata": {},
   "outputs": [
    {
     "data": {
      "text/plain": [
       "<matplotlib.axes._subplots.AxesSubplot at 0x1e3d473a780>"
      ]
     },
     "execution_count": 92,
     "metadata": {},
     "output_type": "execute_result"
    },
    {
     "data": {
      "image/png": "[encoded data removed]",
      "text/plain": [
       "<matplotlib.figure.Figure at 0x1e3d3dc07f0>"
      ]
     },
     "metadata": {},
     "output_type": "display_data"
    },
    {
     "data": {
      "image/png": "[encoded data removed]",
      "text/plain": [
       "<matplotlib.figure.Figure at 0x1e3d40c1e80>"
      ]
     },
     "metadata": {},
     "output_type": "display_data"
    },
    {
     "data": {
      "image/png": "[encoded data removed]",
      "text/plain": [
       "<matplotlib.figure.Figure at 0x1e3d5a34358>"
      ]
     },
     "metadata": {},
     "output_type": "display_data"
    }
   ],
   "source": [
    "train_data['TSH'].plot.box()\n",
    "plt.figure();\n",
    "train_data['TSH'].hist(bins=100)\n",
    "plt.figure();\n",
    "train_data['TSH'].hist(bins=100, range=(0, 50.0))"
   ]
  },
  {
   "cell_type": "code",
   "execution_count": 94,
   "metadata": {},
   "outputs": [
    {
     "data": {
      "image/png": "[encoded data removed]",
      "text/plain": [
       "<matplotlib.figure.Figure at 0x1e3d608e048>"
      ]
     },
     "metadata": {},
     "output_type": "display_data"
    },
    {
     "data": {
      "image/png": "[encoded data removed]",
      "text/plain": [
       "<matplotlib.figure.Figure at 0x1e3d608eba8>"
      ]
     },
     "metadata": {},
     "output_type": "display_data"
    },
    {
     "data": {
      "text/plain": [
       "<matplotlib.figure.Figure at 0x1e3cf81b7f0>"
      ]
     },
     "metadata": {},
     "output_type": "display_data"
    }
   ],
   "source": [
    "train_data['T3'].plot.box()\n",
    "plt.figure();\n",
    "train_data['T3'].hist(bins=100)\n",
    "plt.figure();"
   ]
  },
  {
   "cell_type": "code",
   "execution_count": 93,
   "metadata": {},
   "outputs": [
    {
     "data": {
      "image/png": "[encoded data removed]",
      "text/plain": [
       "<matplotlib.figure.Figure at 0x1e3d6592940>"
      ]
     },
     "metadata": {},
     "output_type": "display_data"
    },
    {
     "data": {
      "image/png": "[encoded data removed]",
      "text/plain": [
       "<matplotlib.figure.Figure at 0x1e3d6598550>"
      ]
     },
     "metadata": {},
     "output_type": "display_data"
    },
    {
     "data": {
      "text/plain": [
       "<matplotlib.figure.Figure at 0x1e3d59c3860>"
      ]
     },
     "metadata": {},
     "output_type": "display_data"
    }
   ],
   "source": [
    "train_data['T4U'].plot.box()\n",
    "plt.figure();\n",
    "train_data['T4U'].hist(bins=100)\n",
    "plt.figure();"
   ]
  },
  {
   "cell_type": "code",
   "execution_count": 95,
   "metadata": {},
   "outputs": [
    {
     "data": {
      "image/png": "[encoded data removed]",
      "text/plain": [
       "<matplotlib.figure.Figure at 0x1e3d2002f60>"
      ]
     },
     "metadata": {},
     "output_type": "display_data"
    },
    {
     "data": {
      "image/png": "[encoded data removed]",
      "text/plain": [
       "<matplotlib.figure.Figure at 0x1e3d1f90f28>"
      ]
     },
     "metadata": {},
     "output_type": "display_data"
    },
    {
     "data": {
      "text/plain": [
       "<matplotlib.figure.Figure at 0x1e3d1f6c7b8>"
      ]
     },
     "metadata": {},
     "output_type": "display_data"
    }
   ],
   "source": [
    "train_data['fnlwgt'].plot.box()\n",
    "plt.figure();\n",
    "train_data['fnlwgt'].hist(bins=100)\n",
    "plt.figure();"
   ]
  },
  {
   "cell_type": "code",
   "execution_count": 98,
   "metadata": {},
   "outputs": [
    {
     "data": {
      "text/plain": [
       "<matplotlib.axes._subplots.AxesSubplot at 0x1e3cfc7a9b0>"
      ]
     },
     "execution_count": 98,
     "metadata": {},
     "output_type": "execute_result"
    },
    {
     "data": {
      "image/png": "[encoded data removed]",
      "text/plain": [
       "<matplotlib.figure.Figure at 0x1e3d46b4470>"
      ]
     },
     "metadata": {},
     "output_type": "display_data"
    },
    {
     "data": {
      "image/png": "[encoded data removed]",
      "text/plain": [
       "<matplotlib.figure.Figure at 0x1e3d1f901d0>"
      ]
     },
     "metadata": {},
     "output_type": "display_data"
    },
    {
     "data": {
      "image/png": "[encoded data removed]",
      "text/plain": [
       "<matplotlib.figure.Figure at 0x1e3d364c7f0>"
      ]
     },
     "metadata": {},
     "output_type": "display_data"
    }
   ],
   "source": [
    "train_data['education-num'].plot.box()\n",
    "plt.figure();\n",
    "train_data['education-num'].hist(bins=100)\n",
    "plt.figure();\n",
    "train_data['education-num'].hist(bins=100, range=(-5, 20))"
   ]
  },
  {
   "cell_type": "code",
   "execution_count": 103,
   "metadata": {},
   "outputs": [
    {
     "data": {
      "text/plain": [
       "<matplotlib.axes._subplots.AxesSubplot at 0x1e3d1cf96d8>"
      ]
     },
     "execution_count": 103,
     "metadata": {},
     "output_type": "execute_result"
    },
    {
     "data": {
      "image/png": "[encoded data removed]",
      "text/plain": [
       "<matplotlib.figure.Figure at 0x1e3d36a9f60>"
      ]
     },
     "metadata": {},
     "output_type": "display_data"
    },
    {
     "data": {
      "image/png": "[encoded data removed]",
      "text/plain": [
       "<matplotlib.figure.Figure at 0x1e3d1f79cf8>"
      ]
     },
     "metadata": {},
     "output_type": "display_data"
    },
    {
     "data": {
      "image/png": "[encoded data removed]",
      "text/plain": [
       "<matplotlib.figure.Figure at 0x1e3d36d2588>"
      ]
     },
     "metadata": {},
     "output_type": "display_data"
    }
   ],
   "source": [
    "train_data['capital-gain'].plot.box()\n",
    "plt.figure();\n",
    "train_data['capital-gain'].hist(bins=100)\n",
    "plt.figure();\n",
    "train_data['capital-gain'].hist(bins=100, range=(0, 20000))\n"
   ]
  },
  {
   "cell_type": "code",
   "execution_count": 106,
   "metadata": {},
   "outputs": [
    {
     "data": {
      "text/plain": [
       "<matplotlib.axes._subplots.AxesSubplot at 0x1e3d3644668>"
      ]
     },
     "execution_count": 106,
     "metadata": {},
     "output_type": "execute_result"
    },
    {
     "data": {
      "image/png": "[encoded data removed]",
      "text/plain": [
       "<matplotlib.figure.Figure at 0x1e3cfc8f6d8>"
      ]
     },
     "metadata": {},
     "output_type": "display_data"
    },
    {
     "data": {
      "image/png": "[encoded data removed]",
      "text/plain": [
       "<matplotlib.figure.Figure at 0x1e3d2243f28>"
      ]
     },
     "metadata": {},
     "output_type": "display_data"
    },
    {
     "data": {
      "image/png": "[encoded data removed]",
      "text/plain": [
       "<matplotlib.figure.Figure at 0x1e3d66e3240>"
      ]
     },
     "metadata": {},
     "output_type": "display_data"
    }
   ],
   "source": [
    "train_data['capital-loss'].plot.box()\n",
    "plt.figure();\n",
    "train_data['capital-loss'].hist(bins=100)\n",
    "plt.figure();\n",
    "train_data['capital-loss'].hist(bins=100, range=(0, 2500))"
   ]
  },
  {
   "cell_type": "code",
   "execution_count": 107,
   "metadata": {},
   "outputs": [
    {
     "data": {
      "text/plain": [
       "<matplotlib.axes._subplots.AxesSubplot at 0x1e3d14c8390>"
      ]
     },
     "execution_count": 107,
     "metadata": {},
     "output_type": "execute_result"
    },
    {
     "data": {
      "image/png": "[encoded data removed]",
      "text/plain": [
       "<matplotlib.figure.Figure at 0x1e3c3326470>"
      ]
     },
     "metadata": {},
     "output_type": "display_data"
    },
    {
     "data": {
      "image/png": "[encoded data removed]",
      "text/plain": [
       "<matplotlib.figure.Figure at 0x1e3d3ea2080>"
      ]
     },
     "metadata": {},
     "output_type": "display_data"
    }
   ],
   "source": [
    "train_data['hours-per-week'].plot.box()\n",
    "plt.figure();\n",
    "train_data['hours-per-week'].hist(bins=100)"
   ]
  },
  {
   "cell_type": "code",
   "execution_count": null,
   "metadata": {},
   "outputs": [],
   "source": []
  }
 ],
 "metadata": {
  "kernelspec": {
   "display_name": "Python 3",
   "language": "python",
   "name": "python3"
  },
  "language_info": {
   "codemirror_mode": {
    "name": "ipython",
    "version": 3
   },
   "file_extension": ".py",
   "mimetype": "text/x-python",
   "name": "python",
   "nbconvert_exporter": "python",
   "pygments_lexer": "ipython3",
   "version": "3.6.4"
  }
 },
 "nbformat": 4,
 "nbformat_minor": 2
}
